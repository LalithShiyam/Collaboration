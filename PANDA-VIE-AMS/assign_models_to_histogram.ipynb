{
 "cells": [
  {
   "cell_type": "code",
   "execution_count": 1,
   "metadata": {},
   "outputs": [],
   "source": [
    "# Import necessary libraries\n",
    "\n",
    "import SimpleITK as sitk\n",
    "import numpy as np\n",
    "%matplotlib widget\n",
    "import matplotlib.pyplot as plt\n",
    "from tqdm import tqdm\n",
    "import os \n",
    "import fnmatch\n",
    "from os import walk\n",
    "import glob as glob\n",
    "from natsort import natsorted\n",
    "import time as time\n",
    "from shutil import copyfile\n",
    "import shutil\n",
    "import numpy as np\n",
    "\n",
    "\n",
    "\n"
   ]
  },
  {
   "cell_type": "code",
   "execution_count": 2,
   "metadata": {},
   "outputs": [],
   "source": [
    "# Hard-coded variables \n",
    "\n",
    "nifti_path   =   '/Users/lalith/Downloads/Sent2Lalith/nifti/m000-101AB_FDGdyn_AC_ID_cleared/'\n",
    "nifti_files  =    glob.glob(os.path.join(nifti_path,'*.nii'))\n",
    "nifti_files  =    natsorted(nifti_files)\n",
    "threshold    =    4 #percent\n",
    "frames       =    list(range(1,len(nifti_files)))"
   ]
  },
  {
   "cell_type": "code",
   "execution_count": 3,
   "metadata": {},
   "outputs": [],
   "source": [
    "# Local functions\n",
    "\n",
    "# Find the area of the histogram\n",
    "\n",
    "def area_hist(img_vol):\n",
    "    x = np.ravel(img_vol)\n",
    "    values, bins, _ = plt.hist(x, range=[0.10*(max(x)), max(x)])\n",
    "    area = sum(np.diff(bins)*values)\n",
    "    return area"
   ]
  },
  {
   "cell_type": "code",
   "execution_count": 4,
   "metadata": {},
   "outputs": [
    {
     "data": {
      "application/vnd.jupyter.widget-view+json": {
       "model_id": "cb96b96100c449a088602e1c5a6a79e1",
       "version_major": 2,
       "version_minor": 0
      },
      "text/plain": [
       "Canvas(toolbar=Toolbar(toolitems=[('Home', 'Reset original view', 'home', 'home'), ('Back', 'Back to previous …"
      ]
     },
     "metadata": {},
     "output_type": "display_data"
    },
    {
     "data": {
      "application/vnd.jupyter.widget-view+json": {
       "model_id": "ba1b0ef5f4c642fc8ab7ca9b86a234d8",
       "version_major": 2,
       "version_minor": 0
      },
      "text/plain": [
       "Canvas(toolbar=Toolbar(toolitems=[('Home', 'Reset original view', 'home', 'home'), ('Back', 'Back to previous …"
      ]
     },
     "metadata": {},
     "output_type": "display_data"
    },
    {
     "name": "stderr",
     "output_type": "stream",
     "text": [
      "/Users/lalith/opt/anaconda3/lib/python3.7/site-packages/ipykernel_launcher.py:17: FutureWarning: Using a non-tuple sequence for multidimensional indexing is deprecated; use `arr[tuple(seq)]` instead of `arr[seq]`. In the future this will be interpreted as an array index, `arr[np.array(seq)]`, which will result either in an error or a different result.\n"
     ]
    },
    {
     "data": {
      "text/plain": [
       "Text(0, 0.5, 'Area-of-the-3D-histogram')"
      ]
     },
     "execution_count": 4,
     "metadata": {},
     "output_type": "execute_result"
    }
   ],
   "source": [
    "# Read the area of the histogram\n",
    "os.chdir(nifti_path)\n",
    "area_list=[];\n",
    "for x in (range(0,len(nifti_files))):\n",
    "    img_obj=sitk.ReadImage(nifti_files[x]);\n",
    "    img=sitk.GetArrayFromImage(img_obj);\n",
    "    area_hgram=area_hist(img);\n",
    "    area_list.append(area_hgram)\n",
    "area_list=area_list[1:] # removing the dynamic image\n",
    "ratio_ah_list=[];\n",
    "for y in (range(0,len(area_list))):\n",
    "    ratio=area_list[y]/area_list[len(area_list)-1]\n",
    "    ratio_ah_list.append(ratio*100)\n",
    "int_indices=[np.array(ratio_ah_list)>threshold];\n",
    "plt.close()\n",
    "plt.plot(frames,np.array(ratio_ah_list),label=\"PANDA unfriendly frames\")\n",
    "plt.plot(np.array(frames)[int_indices],np.array(ratio_ah_list)[int_indices],label=\"PANDA friendly frames\")\n",
    "plt.xlabel('Frames')\n",
    "plt.ylabel('Area-of-the-3D-histogram')"
   ]
  },
  {
   "cell_type": "code",
   "execution_count": null,
   "metadata": {},
   "outputs": [],
   "source": []
  }
 ],
 "metadata": {
  "kernelspec": {
   "display_name": "Python 3",
   "language": "python",
   "name": "python3"
  },
  "language_info": {
   "codemirror_mode": {
    "name": "ipython",
    "version": 3
   },
   "file_extension": ".py",
   "mimetype": "text/x-python",
   "name": "python",
   "nbconvert_exporter": "python",
   "pygments_lexer": "ipython3",
   "version": "3.7.4"
  }
 },
 "nbformat": 4,
 "nbformat_minor": 4
}
