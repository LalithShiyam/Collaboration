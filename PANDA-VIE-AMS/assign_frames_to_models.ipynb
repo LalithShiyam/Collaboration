{
 "cells": [
  {
   "cell_type": "code",
   "execution_count": null,
   "metadata": {},
   "outputs": [],
   "source": [
    "# Include necessary libraries \n",
    "\n",
    "\n",
    "import SimpleITK as sitk\n",
    "import numpy as np\n",
    "%matplotlib widget\n",
    "import matplotlib.pyplot as plt\n",
    "from tqdm import tqdm\n",
    "import os \n",
    "import fnmatch\n",
    "from os import walk\n",
    "import glob as glob\n",
    "from natsort import natsorted\n",
    "import time as time\n",
    "from shutil import copyfile\n",
    "import shutil\n",
    "import numpy as np\n",
    "\n",
    "\n"
   ]
  },
  {
   "cell_type": "code",
   "execution_count": 5,
   "metadata": {},
   "outputs": [],
   "source": [
    "# Hard-coded variables \n",
    "\n",
    "time_points          =   [8,18,23,28,35,45,55,90,150,210,270,375,525,750,1050,1500,2100,2550,2850,3150,3450] # philips AMS framing mid-times\n",
    "data_path            =   '/Users/lalith/Downloads/Sent2Lalith/nifti/' \n",
    "inference_path       =   '/Users/lalith/Downloads/Sent2Lalith/'\n",
    "indv_folders         =   glob.glob(os.path.join(data_path+'*'),recursive=True)\n",
    "indv_folders         =   natsorted(indv_folders)\n",
    "model_path           =   '/Users/lalith/Downloads/Sent2Lalith/models'\n",
    "sms_mdl_timestamps   =   np.array([150, 240, 450, 750, 1050, 1350, 1650, 1950]) # all corresponding to seconds\n",
    "sms_mdl_numbers      =   np.array([25,26,27,28,29,30,31,32])   \n",
    "gen_keyword          =   'gen_weights_frame_'\n",
    "panda_suffix         =   'PANDA'\n",
    "panda_src_dir        =   '/Users/lalith/Documents/GitHub/QIMP-tools/PANDA/3D GAN/'\n"
   ]
  },
  {
   "cell_type": "code",
   "execution_count": 6,
   "metadata": {},
   "outputs": [
    {
     "name": "stderr",
     "output_type": "stream",
     "text": [
      "100%|██████████| 8/8 [00:00<00:00, 13464.86it/s]\n",
      "100%|██████████| 21/21 [00:00<00:00, 27776.85it/s]\n"
     ]
    }
   ],
   "source": [
    "# Temporal match of siemens model with given time frames (in our case its philips).\n",
    "\n",
    "time_points          =   np.array(time_points)\n",
    "temporal_array       =   []\n",
    "\n",
    "\n",
    "for x in tqdm(range(0,len(sms_mdl_timestamps))):\n",
    "    difference       =   abs(time_points-sms_mdl_timestamps[x])\n",
    "    temporal_array.append(difference)\n",
    "\n",
    "temp_array           =   np.array(temporal_array)\n",
    "\n",
    "# Models correponding to the given time frames are identified here\n",
    "\n",
    "model_array          =   [];                  \n",
    "for x in tqdm(range(0,len(time_points))):\n",
    "    arr_int   = temp_array[:,x]\n",
    "    index_obj = np.where(arr_int == np.amin(arr_int))\n",
    "    min_index = index_obj[0]\n",
    "    model_array.append(min_index[0])\n"
   ]
  },
  {
   "cell_type": "code",
   "execution_count": 7,
   "metadata": {},
   "outputs": [
    {
     "name": "stderr",
     "output_type": "stream",
     "text": [
      "  0%|          | 0/10 [00:00<?, ?it/s]\n",
      "100%|██████████| 21/21 [00:00<00:00, 2644.74it/s]\n",
      "\n",
      "  0%|          | 0/21 [00:00<?, ?it/s]\u001b[A"
     ]
    },
    {
     "name": "stdout",
     "output_type": "stream",
     "text": [
      "Directory  panda  Created \n",
      "Using TensorFlow backend.\n",
      "2020-06-15 16:56:18.456296: I tensorflow/core/platform/cpu_feature_guard.cc:143] Your CPU supports instructions that this TensorFlow binary was not compiled to use: AVX2 FMA\n",
      "2020-06-15 16:56:18.481134: I tensorflow/compiler/xla/service/service.cc:168] XLA service 0x7fdda0ae91d0 initialized for platform Host (this does not guarantee that XLA will be used). Devices:\n",
      "2020-06-15 16:56:18.481152: I tensorflow/compiler/xla/service/service.cc:176]   StreamExecutor device (0): Host, Default Version\n",
      "/Users/lalith/opt/anaconda3/lib/python3.7/site-packages/keras/activations.py:235: UserWarning: Do not pass a layer instance (such as LeakyReLU) as the activation argument of another layer. Instead, advanced activation layers should be used just like any other layer in a model.\n",
      "  identifier=identifier.__class__.__name__))\n",
      "100%|█████████████████████████████████████████████| 3/3 [00:06<00:00,  2.29s/it]\n",
      "2020-06-15 16:56:27.324330: Evaluation complete\n",
      "2020-06-15 16:56:27.386456: Save evaluate label at /Users/lalith/Downloads/Sent2Lalith/nifti/m000-101AB_FDGdyn_AC_ID_cleared/panda/PANDA_8_m000-f0001-m000-101AB_FDGdyn_AC_ID_cleared.nii success\n"
     ]
    },
    {
     "name": "stderr",
     "output_type": "stream",
     "text": [
      "\n",
      "  5%|▍         | 1/21 [00:14<04:59, 14.98s/it]\u001b[A"
     ]
    },
    {
     "name": "stdout",
     "output_type": "stream",
     "text": [
      "Using TensorFlow backend.\n",
      "2020-06-15 16:56:32.395767: I tensorflow/core/platform/cpu_feature_guard.cc:143] Your CPU supports instructions that this TensorFlow binary was not compiled to use: AVX2 FMA\n",
      "2020-06-15 16:56:32.408341: I tensorflow/compiler/xla/service/service.cc:168] XLA service 0x7ff9828837f0 initialized for platform Host (this does not guarantee that XLA will be used). Devices:\n",
      "2020-06-15 16:56:32.408358: I tensorflow/compiler/xla/service/service.cc:176]   StreamExecutor device (0): Host, Default Version\n",
      "/Users/lalith/opt/anaconda3/lib/python3.7/site-packages/keras/activations.py:235: UserWarning: Do not pass a layer instance (such as LeakyReLU) as the activation argument of another layer. Instead, advanced activation layers should be used just like any other layer in a model.\n",
      "  identifier=identifier.__class__.__name__))\n",
      "100%|█████████████████████████████████████████████| 3/3 [00:05<00:00,  1.89s/it]\n",
      "2020-06-15 16:56:39.538780: Evaluation complete\n",
      "2020-06-15 16:56:39.585161: Save evaluate label at /Users/lalith/Downloads/Sent2Lalith/nifti/m000-101AB_FDGdyn_AC_ID_cleared/panda/PANDA_18_m000-f0002-m000-101AB_FDGdyn_AC_ID_cleared.nii success\n"
     ]
    },
    {
     "name": "stderr",
     "output_type": "stream",
     "text": [
      "\n",
      " 10%|▉         | 2/21 [00:27<04:28, 14.13s/it]\u001b[A"
     ]
    },
    {
     "name": "stdout",
     "output_type": "stream",
     "text": [
      "Using TensorFlow backend.\n",
      "2020-06-15 16:56:43.895709: I tensorflow/core/platform/cpu_feature_guard.cc:143] Your CPU supports instructions that this TensorFlow binary was not compiled to use: AVX2 FMA\n",
      "2020-06-15 16:56:43.906666: I tensorflow/compiler/xla/service/service.cc:168] XLA service 0x7fe75011c7f0 initialized for platform Host (this does not guarantee that XLA will be used). Devices:\n",
      "2020-06-15 16:56:43.906698: I tensorflow/compiler/xla/service/service.cc:176]   StreamExecutor device (0): Host, Default Version\n",
      "/Users/lalith/opt/anaconda3/lib/python3.7/site-packages/keras/activations.py:235: UserWarning: Do not pass a layer instance (such as LeakyReLU) as the activation argument of another layer. Instead, advanced activation layers should be used just like any other layer in a model.\n",
      "  identifier=identifier.__class__.__name__))\n",
      "100%|█████████████████████████████████████████████| 3/3 [00:06<00:00,  2.07s/it]\n",
      "2020-06-15 16:56:51.516345: Evaluation complete\n",
      "2020-06-15 16:56:51.566750: Save evaluate label at /Users/lalith/Downloads/Sent2Lalith/nifti/m000-101AB_FDGdyn_AC_ID_cleared/panda/PANDA_23_m000-f0003-m000-101AB_FDGdyn_AC_ID_cleared.nii success\n"
     ]
    },
    {
     "name": "stderr",
     "output_type": "stream",
     "text": [
      "\n",
      " 14%|█▍        | 3/21 [00:39<04:04, 13.56s/it]\u001b[A"
     ]
    },
    {
     "name": "stdout",
     "output_type": "stream",
     "text": [
      "Using TensorFlow backend.\n",
      "2020-06-15 16:56:56.305285: I tensorflow/core/platform/cpu_feature_guard.cc:143] Your CPU supports instructions that this TensorFlow binary was not compiled to use: AVX2 FMA\n",
      "2020-06-15 16:56:56.316846: I tensorflow/compiler/xla/service/service.cc:168] XLA service 0x7fca72cbcf70 initialized for platform Host (this does not guarantee that XLA will be used). Devices:\n",
      "2020-06-15 16:56:56.316865: I tensorflow/compiler/xla/service/service.cc:176]   StreamExecutor device (0): Host, Default Version\n",
      "/Users/lalith/opt/anaconda3/lib/python3.7/site-packages/keras/activations.py:235: UserWarning: Do not pass a layer instance (such as LeakyReLU) as the activation argument of another layer. Instead, advanced activation layers should be used just like any other layer in a model.\n",
      "  identifier=identifier.__class__.__name__))\n",
      "100%|█████████████████████████████████████████████| 3/3 [00:05<00:00,  1.94s/it]\n",
      "2020-06-15 16:57:03.542567: Evaluation complete\n",
      "2020-06-15 16:57:03.586009: Save evaluate label at /Users/lalith/Downloads/Sent2Lalith/nifti/m000-101AB_FDGdyn_AC_ID_cleared/panda/PANDA_28_m000-f0004-m000-101AB_FDGdyn_AC_ID_cleared.nii success\n"
     ]
    },
    {
     "name": "stderr",
     "output_type": "stream",
     "text": [
      "\n",
      " 19%|█▉        | 4/21 [00:51<03:41, 13.02s/it]\u001b[A"
     ]
    },
    {
     "name": "stdout",
     "output_type": "stream",
     "text": [
      "Using TensorFlow backend.\n",
      "2020-06-15 16:57:07.903178: I tensorflow/core/platform/cpu_feature_guard.cc:143] Your CPU supports instructions that this TensorFlow binary was not compiled to use: AVX2 FMA\n",
      "2020-06-15 16:57:07.915028: I tensorflow/compiler/xla/service/service.cc:168] XLA service 0x7fedd1827ff0 initialized for platform Host (this does not guarantee that XLA will be used). Devices:\n",
      "2020-06-15 16:57:07.915060: I tensorflow/compiler/xla/service/service.cc:176]   StreamExecutor device (0): Host, Default Version\n",
      "/Users/lalith/opt/anaconda3/lib/python3.7/site-packages/keras/activations.py:235: UserWarning: Do not pass a layer instance (such as LeakyReLU) as the activation argument of another layer. Instead, advanced activation layers should be used just like any other layer in a model.\n",
      "  identifier=identifier.__class__.__name__))\n",
      "100%|█████████████████████████████████████████████| 3/3 [00:06<00:00,  2.02s/it]\n",
      "2020-06-15 16:57:15.365514: Evaluation complete\n",
      "2020-06-15 16:57:15.414250: Save evaluate label at /Users/lalith/Downloads/Sent2Lalith/nifti/m000-101AB_FDGdyn_AC_ID_cleared/panda/PANDA_35_m000-f0005-m000-101AB_FDGdyn_AC_ID_cleared.nii success\n"
     ]
    },
    {
     "name": "stderr",
     "output_type": "stream",
     "text": [
      "\n",
      " 24%|██▍       | 5/21 [01:03<03:23, 12.69s/it]\u001b[A"
     ]
    },
    {
     "name": "stdout",
     "output_type": "stream",
     "text": [
      "Using TensorFlow backend.\n",
      "2020-06-15 16:57:19.987001: I tensorflow/core/platform/cpu_feature_guard.cc:143] Your CPU supports instructions that this TensorFlow binary was not compiled to use: AVX2 FMA\n",
      "2020-06-15 16:57:19.997617: I tensorflow/compiler/xla/service/service.cc:168] XLA service 0x7fc8eff5a3b0 initialized for platform Host (this does not guarantee that XLA will be used). Devices:\n",
      "2020-06-15 16:57:19.997634: I tensorflow/compiler/xla/service/service.cc:176]   StreamExecutor device (0): Host, Default Version\n",
      "/Users/lalith/opt/anaconda3/lib/python3.7/site-packages/keras/activations.py:235: UserWarning: Do not pass a layer instance (such as LeakyReLU) as the activation argument of another layer. Instead, advanced activation layers should be used just like any other layer in a model.\n",
      "  identifier=identifier.__class__.__name__))\n",
      "100%|█████████████████████████████████████████████| 3/3 [00:07<00:00,  2.58s/it]\n",
      "2020-06-15 16:57:29.162183: Evaluation complete\n",
      "2020-06-15 16:57:29.210585: Save evaluate label at /Users/lalith/Downloads/Sent2Lalith/nifti/m000-101AB_FDGdyn_AC_ID_cleared/panda/PANDA_45_m000-f0006-m000-101AB_FDGdyn_AC_ID_cleared.nii success\n"
     ]
    },
    {
     "name": "stderr",
     "output_type": "stream",
     "text": [
      "\n",
      " 29%|██▊       | 6/21 [01:16<03:15, 13.06s/it]\u001b[A"
     ]
    },
    {
     "name": "stdout",
     "output_type": "stream",
     "text": [
      "Using TensorFlow backend.\n",
      "2020-06-15 16:57:34.049485: I tensorflow/core/platform/cpu_feature_guard.cc:143] Your CPU supports instructions that this TensorFlow binary was not compiled to use: AVX2 FMA\n",
      "2020-06-15 16:57:34.060136: I tensorflow/compiler/xla/service/service.cc:168] XLA service 0x7f931ed60ac0 initialized for platform Host (this does not guarantee that XLA will be used). Devices:\n",
      "2020-06-15 16:57:34.060169: I tensorflow/compiler/xla/service/service.cc:176]   StreamExecutor device (0): Host, Default Version\n",
      "/Users/lalith/opt/anaconda3/lib/python3.7/site-packages/keras/activations.py:235: UserWarning: Do not pass a layer instance (such as LeakyReLU) as the activation argument of another layer. Instead, advanced activation layers should be used just like any other layer in a model.\n",
      "  identifier=identifier.__class__.__name__))\n",
      "100%|█████████████████████████████████████████████| 3/3 [00:06<00:00,  2.28s/it]\n",
      "2020-06-15 16:57:42.324591: Evaluation complete\n",
      "2020-06-15 16:57:42.375030: Save evaluate label at /Users/lalith/Downloads/Sent2Lalith/nifti/m000-101AB_FDGdyn_AC_ID_cleared/panda/PANDA_55_m000-f0007-m000-101AB_FDGdyn_AC_ID_cleared.nii success\n"
     ]
    },
    {
     "name": "stderr",
     "output_type": "stream",
     "text": [
      "\n",
      " 33%|███▎      | 7/21 [01:29<03:02, 13.02s/it]\u001b[A"
     ]
    },
    {
     "name": "stdout",
     "output_type": "stream",
     "text": [
      "Using TensorFlow backend.\n",
      "2020-06-15 16:57:46.672866: I tensorflow/core/platform/cpu_feature_guard.cc:143] Your CPU supports instructions that this TensorFlow binary was not compiled to use: AVX2 FMA\n",
      "2020-06-15 16:57:46.683106: I tensorflow/compiler/xla/service/service.cc:168] XLA service 0x7f8b14ff0bc0 initialized for platform Host (this does not guarantee that XLA will be used). Devices:\n",
      "2020-06-15 16:57:46.683157: I tensorflow/compiler/xla/service/service.cc:176]   StreamExecutor device (0): Host, Default Version\n",
      "/Users/lalith/opt/anaconda3/lib/python3.7/site-packages/keras/activations.py:235: UserWarning: Do not pass a layer instance (such as LeakyReLU) as the activation argument of another layer. Instead, advanced activation layers should be used just like any other layer in a model.\n",
      "  identifier=identifier.__class__.__name__))\n",
      "100%|█████████████████████████████████████████████| 3/3 [00:06<00:00,  2.05s/it]\n",
      "2020-06-15 16:57:54.257859: Evaluation complete\n",
      "2020-06-15 16:57:54.305320: Save evaluate label at /Users/lalith/Downloads/Sent2Lalith/nifti/m000-101AB_FDGdyn_AC_ID_cleared/panda/PANDA_90_m000-f0008-m000-101AB_FDGdyn_AC_ID_cleared.nii success\n"
     ]
    },
    {
     "name": "stderr",
     "output_type": "stream",
     "text": [
      "\n",
      " 38%|███▊      | 8/21 [01:41<02:45, 12.70s/it]\u001b[A"
     ]
    },
    {
     "name": "stdout",
     "output_type": "stream",
     "text": [
      "Using TensorFlow backend.\n",
      "2020-06-15 16:57:58.758373: I tensorflow/core/platform/cpu_feature_guard.cc:143] Your CPU supports instructions that this TensorFlow binary was not compiled to use: AVX2 FMA\n",
      "2020-06-15 16:57:58.769201: I tensorflow/compiler/xla/service/service.cc:168] XLA service 0x7f856366ffa0 initialized for platform Host (this does not guarantee that XLA will be used). Devices:\n",
      "2020-06-15 16:57:58.769233: I tensorflow/compiler/xla/service/service.cc:176]   StreamExecutor device (0): Host, Default Version\n",
      "/Users/lalith/opt/anaconda3/lib/python3.7/site-packages/keras/activations.py:235: UserWarning: Do not pass a layer instance (such as LeakyReLU) as the activation argument of another layer. Instead, advanced activation layers should be used just like any other layer in a model.\n",
      "  identifier=identifier.__class__.__name__))\n",
      "100%|█████████████████████████████████████████████| 3/3 [00:06<00:00,  2.20s/it]\n",
      "2020-06-15 16:58:06.773774: Evaluation complete\n",
      "2020-06-15 16:58:06.823026: Save evaluate label at /Users/lalith/Downloads/Sent2Lalith/nifti/m000-101AB_FDGdyn_AC_ID_cleared/panda/PANDA_150_m000-f0009-m000-101AB_FDGdyn_AC_ID_cleared.nii success\n"
     ]
    },
    {
     "name": "stderr",
     "output_type": "stream",
     "text": [
      "\n",
      " 43%|████▎     | 9/21 [01:54<02:31, 12.65s/it]\u001b[A"
     ]
    },
    {
     "name": "stdout",
     "output_type": "stream",
     "text": [
      "Using TensorFlow backend.\n",
      "2020-06-15 16:58:11.941312: I tensorflow/core/platform/cpu_feature_guard.cc:143] Your CPU supports instructions that this TensorFlow binary was not compiled to use: AVX2 FMA\n",
      "2020-06-15 16:58:11.963582: I tensorflow/compiler/xla/service/service.cc:168] XLA service 0x7fd886abbfd0 initialized for platform Host (this does not guarantee that XLA will be used). Devices:\n",
      "2020-06-15 16:58:11.963607: I tensorflow/compiler/xla/service/service.cc:176]   StreamExecutor device (0): Host, Default Version\n",
      "/Users/lalith/opt/anaconda3/lib/python3.7/site-packages/keras/activations.py:235: UserWarning: Do not pass a layer instance (such as LeakyReLU) as the activation argument of another layer. Instead, advanced activation layers should be used just like any other layer in a model.\n",
      "  identifier=identifier.__class__.__name__))\n",
      "100%|█████████████████████████████████████████████| 3/3 [00:08<00:00,  2.68s/it]\n",
      "2020-06-15 16:58:21.826821: Evaluation complete\n",
      "2020-06-15 16:58:21.874533: Save evaluate label at /Users/lalith/Downloads/Sent2Lalith/nifti/m000-101AB_FDGdyn_AC_ID_cleared/panda/PANDA_210_m000-f0010-m000-101AB_FDGdyn_AC_ID_cleared.nii success\n"
     ]
    },
    {
     "name": "stderr",
     "output_type": "stream",
     "text": [
      "\n",
      " 48%|████▊     | 10/21 [02:09<02:28, 13.46s/it]\u001b[A"
     ]
    },
    {
     "name": "stdout",
     "output_type": "stream",
     "text": [
      "Using TensorFlow backend.\n",
      "2020-06-15 16:58:27.494538: I tensorflow/core/platform/cpu_feature_guard.cc:143] Your CPU supports instructions that this TensorFlow binary was not compiled to use: AVX2 FMA\n",
      "2020-06-15 16:58:27.505765: I tensorflow/compiler/xla/service/service.cc:168] XLA service 0x7f83f189c460 initialized for platform Host (this does not guarantee that XLA will be used). Devices:\n",
      "2020-06-15 16:58:27.505812: I tensorflow/compiler/xla/service/service.cc:176]   StreamExecutor device (0): Host, Default Version\n",
      "/Users/lalith/opt/anaconda3/lib/python3.7/site-packages/keras/activations.py:235: UserWarning: Do not pass a layer instance (such as LeakyReLU) as the activation argument of another layer. Instead, advanced activation layers should be used just like any other layer in a model.\n",
      "  identifier=identifier.__class__.__name__))\n",
      "100%|█████████████████████████████████████████████| 3/3 [00:07<00:00,  2.47s/it]\n",
      "2020-06-15 16:58:36.574840: Evaluation complete\n",
      "2020-06-15 16:58:36.624665: Save evaluate label at /Users/lalith/Downloads/Sent2Lalith/nifti/m000-101AB_FDGdyn_AC_ID_cleared/panda/PANDA_270_m000-f0011-m000-101AB_FDGdyn_AC_ID_cleared.nii success\n"
     ]
    },
    {
     "name": "stderr",
     "output_type": "stream",
     "text": [
      "\n",
      " 52%|█████▏    | 11/21 [02:24<02:18, 13.84s/it]\u001b[A"
     ]
    },
    {
     "name": "stdout",
     "output_type": "stream",
     "text": [
      "Using TensorFlow backend.\n",
      "2020-06-15 16:58:42.111970: I tensorflow/core/platform/cpu_feature_guard.cc:143] Your CPU supports instructions that this TensorFlow binary was not compiled to use: AVX2 FMA\n",
      "2020-06-15 16:58:42.123618: I tensorflow/compiler/xla/service/service.cc:168] XLA service 0x7fc9fff9e010 initialized for platform Host (this does not guarantee that XLA will be used). Devices:\n",
      "2020-06-15 16:58:42.123636: I tensorflow/compiler/xla/service/service.cc:176]   StreamExecutor device (0): Host, Default Version\n",
      "/Users/lalith/opt/anaconda3/lib/python3.7/site-packages/keras/activations.py:235: UserWarning: Do not pass a layer instance (such as LeakyReLU) as the activation argument of another layer. Instead, advanced activation layers should be used just like any other layer in a model.\n",
      "  identifier=identifier.__class__.__name__))\n",
      "100%|█████████████████████████████████████████████| 3/3 [00:06<00:00,  2.18s/it]\n",
      "2020-06-15 16:58:50.094138: Evaluation complete\n",
      "2020-06-15 16:58:50.138525: Save evaluate label at /Users/lalith/Downloads/Sent2Lalith/nifti/m000-101AB_FDGdyn_AC_ID_cleared/panda/PANDA_375_m000-f0012-m000-101AB_FDGdyn_AC_ID_cleared.nii success\n"
     ]
    },
    {
     "name": "stderr",
     "output_type": "stream",
     "text": [
      "\n",
      " 57%|█████▋    | 12/21 [02:37<02:02, 13.66s/it]\u001b[A"
     ]
    },
    {
     "name": "stdout",
     "output_type": "stream",
     "text": [
      "Using TensorFlow backend.\n",
      "2020-06-15 16:58:54.590775: I tensorflow/core/platform/cpu_feature_guard.cc:143] Your CPU supports instructions that this TensorFlow binary was not compiled to use: AVX2 FMA\n",
      "2020-06-15 16:58:54.601319: I tensorflow/compiler/xla/service/service.cc:168] XLA service 0x7fb3393d31a0 initialized for platform Host (this does not guarantee that XLA will be used). Devices:\n",
      "2020-06-15 16:58:54.601351: I tensorflow/compiler/xla/service/service.cc:176]   StreamExecutor device (0): Host, Default Version\n",
      "/Users/lalith/opt/anaconda3/lib/python3.7/site-packages/keras/activations.py:235: UserWarning: Do not pass a layer instance (such as LeakyReLU) as the activation argument of another layer. Instead, advanced activation layers should be used just like any other layer in a model.\n",
      "  identifier=identifier.__class__.__name__))\n",
      "100%|█████████████████████████████████████████████| 3/3 [00:06<00:00,  2.06s/it]\n",
      "2020-06-15 16:59:02.120194: Evaluation complete\n",
      "2020-06-15 16:59:02.168461: Save evaluate label at /Users/lalith/Downloads/Sent2Lalith/nifti/m000-101AB_FDGdyn_AC_ID_cleared/panda/PANDA_525_m000-f0013-m000-101AB_FDGdyn_AC_ID_cleared.nii success\n"
     ]
    },
    {
     "name": "stderr",
     "output_type": "stream",
     "text": [
      "\n",
      " 62%|██████▏   | 13/21 [02:49<01:45, 13.16s/it]\u001b[A"
     ]
    },
    {
     "name": "stdout",
     "output_type": "stream",
     "text": [
      "Using TensorFlow backend.\n",
      "2020-06-15 16:59:06.605035: I tensorflow/core/platform/cpu_feature_guard.cc:143] Your CPU supports instructions that this TensorFlow binary was not compiled to use: AVX2 FMA\n",
      "2020-06-15 16:59:06.616492: I tensorflow/compiler/xla/service/service.cc:168] XLA service 0x7fdff2bab870 initialized for platform Host (this does not guarantee that XLA will be used). Devices:\n",
      "2020-06-15 16:59:06.616526: I tensorflow/compiler/xla/service/service.cc:176]   StreamExecutor device (0): Host, Default Version\n",
      "/Users/lalith/opt/anaconda3/lib/python3.7/site-packages/keras/activations.py:235: UserWarning: Do not pass a layer instance (such as LeakyReLU) as the activation argument of another layer. Instead, advanced activation layers should be used just like any other layer in a model.\n",
      "  identifier=identifier.__class__.__name__))\n",
      "100%|█████████████████████████████████████████████| 3/3 [00:06<00:00,  2.13s/it]\n",
      "2020-06-15 16:59:14.479002: Evaluation complete\n",
      "2020-06-15 16:59:14.526614: Save evaluate label at /Users/lalith/Downloads/Sent2Lalith/nifti/m000-101AB_FDGdyn_AC_ID_cleared/panda/PANDA_750_m000-f0014-m000-101AB_FDGdyn_AC_ID_cleared.nii success\n"
     ]
    },
    {
     "name": "stderr",
     "output_type": "stream",
     "text": [
      "\n",
      " 67%|██████▋   | 14/21 [03:02<01:30, 12.93s/it]\u001b[A"
     ]
    },
    {
     "name": "stdout",
     "output_type": "stream",
     "text": [
      "Using TensorFlow backend.\n",
      "2020-06-15 16:59:18.680988: I tensorflow/core/platform/cpu_feature_guard.cc:143] Your CPU supports instructions that this TensorFlow binary was not compiled to use: AVX2 FMA\n",
      "2020-06-15 16:59:18.691404: I tensorflow/compiler/xla/service/service.cc:168] XLA service 0x7fc433ecad90 initialized for platform Host (this does not guarantee that XLA will be used). Devices:\n",
      "2020-06-15 16:59:18.691423: I tensorflow/compiler/xla/service/service.cc:176]   StreamExecutor device (0): Host, Default Version\n",
      "/Users/lalith/opt/anaconda3/lib/python3.7/site-packages/keras/activations.py:235: UserWarning: Do not pass a layer instance (such as LeakyReLU) as the activation argument of another layer. Instead, advanced activation layers should be used just like any other layer in a model.\n",
      "  identifier=identifier.__class__.__name__))\n",
      "100%|█████████████████████████████████████████████| 3/3 [00:05<00:00,  1.68s/it]\n",
      "2020-06-15 16:59:25.194510: Evaluation complete\n",
      "2020-06-15 16:59:25.245460: Save evaluate label at /Users/lalith/Downloads/Sent2Lalith/nifti/m000-101AB_FDGdyn_AC_ID_cleared/panda/PANDA_1050_m000-f0015-m000-101AB_FDGdyn_AC_ID_cleared.nii success\n"
     ]
    },
    {
     "name": "stderr",
     "output_type": "stream",
     "text": [
      "\n",
      " 71%|███████▏  | 15/21 [03:12<01:13, 12.26s/it]\u001b[A"
     ]
    },
    {
     "name": "stdout",
     "output_type": "stream",
     "text": [
      "Using TensorFlow backend.\n",
      "2020-06-15 16:59:29.152126: I tensorflow/core/platform/cpu_feature_guard.cc:143] Your CPU supports instructions that this TensorFlow binary was not compiled to use: AVX2 FMA\n",
      "2020-06-15 16:59:29.163173: I tensorflow/compiler/xla/service/service.cc:168] XLA service 0x7fa6b01940a0 initialized for platform Host (this does not guarantee that XLA will be used). Devices:\n",
      "2020-06-15 16:59:29.163191: I tensorflow/compiler/xla/service/service.cc:176]   StreamExecutor device (0): Host, Default Version\n",
      "/Users/lalith/opt/anaconda3/lib/python3.7/site-packages/keras/activations.py:235: UserWarning: Do not pass a layer instance (such as LeakyReLU) as the activation argument of another layer. Instead, advanced activation layers should be used just like any other layer in a model.\n",
      "  identifier=identifier.__class__.__name__))\n",
      "100%|█████████████████████████████████████████████| 3/3 [00:10<00:00,  3.58s/it]\n",
      "2020-06-15 16:59:41.409722: Evaluation complete\n",
      "2020-06-15 16:59:41.457207: Save evaluate label at /Users/lalith/Downloads/Sent2Lalith/nifti/m000-101AB_FDGdyn_AC_ID_cleared/panda/PANDA_1500_m000-f0016-m000-101AB_FDGdyn_AC_ID_cleared.nii success\n"
     ]
    },
    {
     "name": "stderr",
     "output_type": "stream",
     "text": [
      "\n",
      " 76%|███████▌  | 16/21 [03:29<01:07, 13.53s/it]\u001b[A"
     ]
    },
    {
     "name": "stdout",
     "output_type": "stream",
     "text": [
      "Using TensorFlow backend.\n",
      "2020-06-15 16:59:46.496126: I tensorflow/core/platform/cpu_feature_guard.cc:143] Your CPU supports instructions that this TensorFlow binary was not compiled to use: AVX2 FMA\n",
      "2020-06-15 16:59:46.507232: I tensorflow/compiler/xla/service/service.cc:168] XLA service 0x7fc616033d00 initialized for platform Host (this does not guarantee that XLA will be used). Devices:\n",
      "2020-06-15 16:59:46.507268: I tensorflow/compiler/xla/service/service.cc:176]   StreamExecutor device (0): Host, Default Version\n",
      "/Users/lalith/opt/anaconda3/lib/python3.7/site-packages/keras/activations.py:235: UserWarning: Do not pass a layer instance (such as LeakyReLU) as the activation argument of another layer. Instead, advanced activation layers should be used just like any other layer in a model.\n",
      "  identifier=identifier.__class__.__name__))\n",
      "100%|█████████████████████████████████████████████| 3/3 [00:05<00:00,  1.91s/it]\n",
      "2020-06-15 16:59:53.701538: Evaluation complete\n",
      "2020-06-15 16:59:53.754609: Save evaluate label at /Users/lalith/Downloads/Sent2Lalith/nifti/m000-101AB_FDGdyn_AC_ID_cleared/panda/PANDA_2100_m000-f0017-m000-101AB_FDGdyn_AC_ID_cleared.nii success\n"
     ]
    },
    {
     "name": "stderr",
     "output_type": "stream",
     "text": [
      "\n",
      " 81%|████████  | 17/21 [03:41<00:52, 13.08s/it]\u001b[A"
     ]
    },
    {
     "name": "stdout",
     "output_type": "stream",
     "text": [
      "Using TensorFlow backend.\n",
      "2020-06-15 16:59:57.898136: I tensorflow/core/platform/cpu_feature_guard.cc:143] Your CPU supports instructions that this TensorFlow binary was not compiled to use: AVX2 FMA\n",
      "2020-06-15 16:59:57.910378: I tensorflow/compiler/xla/service/service.cc:168] XLA service 0x7fc2e3950610 initialized for platform Host (this does not guarantee that XLA will be used). Devices:\n",
      "2020-06-15 16:59:57.910397: I tensorflow/compiler/xla/service/service.cc:176]   StreamExecutor device (0): Host, Default Version\n",
      "/Users/lalith/opt/anaconda3/lib/python3.7/site-packages/keras/activations.py:235: UserWarning: Do not pass a layer instance (such as LeakyReLU) as the activation argument of another layer. Instead, advanced activation layers should be used just like any other layer in a model.\n",
      "  identifier=identifier.__class__.__name__))\n",
      "100%|█████████████████████████████████████████████| 3/3 [00:07<00:00,  2.46s/it]\n",
      "2020-06-15 17:00:06.717689: Evaluation complete\n",
      "2020-06-15 17:00:06.767699: Save evaluate label at /Users/lalith/Downloads/Sent2Lalith/nifti/m000-101AB_FDGdyn_AC_ID_cleared/panda/PANDA_2550_m000-f0018-m000-101AB_FDGdyn_AC_ID_cleared.nii success\n"
     ]
    },
    {
     "name": "stderr",
     "output_type": "stream",
     "text": [
      "\n",
      " 86%|████████▌ | 18/21 [03:54<00:39, 13.09s/it]\u001b[A"
     ]
    },
    {
     "name": "stdout",
     "output_type": "stream",
     "text": [
      "Using TensorFlow backend.\n",
      "2020-06-15 17:00:11.135127: I tensorflow/core/platform/cpu_feature_guard.cc:143] Your CPU supports instructions that this TensorFlow binary was not compiled to use: AVX2 FMA\n",
      "2020-06-15 17:00:11.146381: I tensorflow/compiler/xla/service/service.cc:168] XLA service 0x7fda7cb422d0 initialized for platform Host (this does not guarantee that XLA will be used). Devices:\n",
      "2020-06-15 17:00:11.146397: I tensorflow/compiler/xla/service/service.cc:176]   StreamExecutor device (0): Host, Default Version\n",
      "/Users/lalith/opt/anaconda3/lib/python3.7/site-packages/keras/activations.py:235: UserWarning: Do not pass a layer instance (such as LeakyReLU) as the activation argument of another layer. Instead, advanced activation layers should be used just like any other layer in a model.\n",
      "  identifier=identifier.__class__.__name__))\n",
      "100%|█████████████████████████████████████████████| 3/3 [00:07<00:00,  2.65s/it]\n",
      "2020-06-15 17:00:20.552851: Evaluation complete\n",
      "2020-06-15 17:00:20.597613: Save evaluate label at /Users/lalith/Downloads/Sent2Lalith/nifti/m000-101AB_FDGdyn_AC_ID_cleared/panda/PANDA_2850_m000-f0019-m000-101AB_FDGdyn_AC_ID_cleared.nii success\n"
     ]
    },
    {
     "name": "stderr",
     "output_type": "stream",
     "text": [
      "\n",
      " 90%|█████████ | 19/21 [04:08<00:26, 13.36s/it]\u001b[A"
     ]
    },
    {
     "name": "stdout",
     "output_type": "stream",
     "text": [
      "Using TensorFlow backend.\n",
      "2020-06-15 17:00:25.331577: I tensorflow/core/platform/cpu_feature_guard.cc:143] Your CPU supports instructions that this TensorFlow binary was not compiled to use: AVX2 FMA\n",
      "2020-06-15 17:00:25.341904: I tensorflow/compiler/xla/service/service.cc:168] XLA service 0x7ffa75a35f40 initialized for platform Host (this does not guarantee that XLA will be used). Devices:\n",
      "2020-06-15 17:00:25.341921: I tensorflow/compiler/xla/service/service.cc:176]   StreamExecutor device (0): Host, Default Version\n",
      "/Users/lalith/opt/anaconda3/lib/python3.7/site-packages/keras/activations.py:235: UserWarning: Do not pass a layer instance (such as LeakyReLU) as the activation argument of another layer. Instead, advanced activation layers should be used just like any other layer in a model.\n",
      "  identifier=identifier.__class__.__name__))\n",
      "100%|█████████████████████████████████████████████| 3/3 [00:07<00:00,  2.45s/it]\n",
      "2020-06-15 17:00:34.090781: Evaluation complete\n",
      "2020-06-15 17:00:34.140363: Save evaluate label at /Users/lalith/Downloads/Sent2Lalith/nifti/m000-101AB_FDGdyn_AC_ID_cleared/panda/PANDA_3150_m000-f0020-m000-101AB_FDGdyn_AC_ID_cleared.nii success\n"
     ]
    },
    {
     "name": "stderr",
     "output_type": "stream",
     "text": [
      "\n",
      " 95%|█████████▌| 20/21 [04:21<00:13, 13.34s/it]\u001b[A"
     ]
    },
    {
     "name": "stdout",
     "output_type": "stream",
     "text": [
      "Using TensorFlow backend.\n",
      "2020-06-15 17:00:38.198480: I tensorflow/core/platform/cpu_feature_guard.cc:143] Your CPU supports instructions that this TensorFlow binary was not compiled to use: AVX2 FMA\n",
      "2020-06-15 17:00:38.208739: I tensorflow/compiler/xla/service/service.cc:168] XLA service 0x7fdfb92e3b60 initialized for platform Host (this does not guarantee that XLA will be used). Devices:\n",
      "2020-06-15 17:00:38.208756: I tensorflow/compiler/xla/service/service.cc:176]   StreamExecutor device (0): Host, Default Version\n",
      "/Users/lalith/opt/anaconda3/lib/python3.7/site-packages/keras/activations.py:235: UserWarning: Do not pass a layer instance (such as LeakyReLU) as the activation argument of another layer. Instead, advanced activation layers should be used just like any other layer in a model.\n",
      "  identifier=identifier.__class__.__name__))\n",
      "100%|█████████████████████████████████████████████| 3/3 [00:06<00:00,  2.29s/it]\n",
      "2020-06-15 17:00:46.576799: Evaluation complete\n",
      "2020-06-15 17:00:46.624359: Save evaluate label at /Users/lalith/Downloads/Sent2Lalith/nifti/m000-101AB_FDGdyn_AC_ID_cleared/panda/PANDA_3450_m000-f0021-m000-101AB_FDGdyn_AC_ID_cleared.nii success\n"
     ]
    },
    {
     "name": "stderr",
     "output_type": "stream",
     "text": [
      "\n",
      "100%|██████████| 21/21 [04:34<00:00, 13.06s/it]\u001b[A\n",
      " 10%|█         | 1/10 [04:34<41:07, 274.20s/it]\n"
     ]
    },
    {
     "name": "stdout",
     "output_type": "stream",
     "text": [
      "Directory  panda  Created \n"
     ]
    },
    {
     "name": "stderr",
     "output_type": "stream",
     "text": [
      "100%|██████████| 21/21 [00:00<00:00, 3640.89it/s]\n",
      "\n",
      "  0%|          | 0/21 [00:00<?, ?it/s]\u001b[A"
     ]
    },
    {
     "name": "stdout",
     "output_type": "stream",
     "text": [
      "Using TensorFlow backend.\n",
      "2020-06-15 17:00:50.916627: I tensorflow/core/platform/cpu_feature_guard.cc:143] Your CPU supports instructions that this TensorFlow binary was not compiled to use: AVX2 FMA\n",
      "2020-06-15 17:00:50.927225: I tensorflow/compiler/xla/service/service.cc:168] XLA service 0x7f7f064f77a0 initialized for platform Host (this does not guarantee that XLA will be used). Devices:\n",
      "2020-06-15 17:00:50.927241: I tensorflow/compiler/xla/service/service.cc:176]   StreamExecutor device (0): Host, Default Version\n",
      "/Users/lalith/opt/anaconda3/lib/python3.7/site-packages/keras/activations.py:235: UserWarning: Do not pass a layer instance (such as LeakyReLU) as the activation argument of another layer. Instead, advanced activation layers should be used just like any other layer in a model.\n",
      "  identifier=identifier.__class__.__name__))\n",
      "100%|█████████████████████████████████████████████| 3/3 [00:05<00:00,  1.88s/it]\n",
      "2020-06-15 17:00:58.022099: Evaluation complete\n",
      "2020-06-15 17:00:58.068309: Save evaluate label at /Users/lalith/Downloads/Sent2Lalith/nifti/m000-102AC_FDG_AC_ID_cleared/panda/PANDA_8_m000-f0001-m000-102AC_FDG_AC_ID_cleared.nii success\n"
     ]
    },
    {
     "name": "stderr",
     "output_type": "stream",
     "text": [
      "\n",
      "  5%|▍         | 1/21 [00:11<03:47, 11.39s/it]\u001b[A"
     ]
    },
    {
     "name": "stdout",
     "output_type": "stream",
     "text": [
      "Using TensorFlow backend.\n",
      "2020-06-15 17:01:02.084778: I tensorflow/core/platform/cpu_feature_guard.cc:143] Your CPU supports instructions that this TensorFlow binary was not compiled to use: AVX2 FMA\n",
      "2020-06-15 17:01:02.095082: I tensorflow/compiler/xla/service/service.cc:168] XLA service 0x7f8f2a9f4ad0 initialized for platform Host (this does not guarantee that XLA will be used). Devices:\n",
      "2020-06-15 17:01:02.095098: I tensorflow/compiler/xla/service/service.cc:176]   StreamExecutor device (0): Host, Default Version\n",
      "/Users/lalith/opt/anaconda3/lib/python3.7/site-packages/keras/activations.py:235: UserWarning: Do not pass a layer instance (such as LeakyReLU) as the activation argument of another layer. Instead, advanced activation layers should be used just like any other layer in a model.\n",
      "  identifier=identifier.__class__.__name__))\n",
      "100%|█████████████████████████████████████████████| 3/3 [00:06<00:00,  2.11s/it]\n",
      "2020-06-15 17:01:09.802501: Evaluation complete\n",
      "2020-06-15 17:01:09.854433: Save evaluate label at /Users/lalith/Downloads/Sent2Lalith/nifti/m000-102AC_FDG_AC_ID_cleared/panda/PANDA_18_m000-f0002-m000-102AC_FDG_AC_ID_cleared.nii success\n"
     ]
    },
    {
     "name": "stderr",
     "output_type": "stream",
     "text": [
      "\n",
      " 10%|▉         | 2/21 [00:23<03:40, 11.58s/it]\u001b[A"
     ]
    },
    {
     "name": "stdout",
     "output_type": "stream",
     "text": [
      "Using TensorFlow backend.\n",
      "2020-06-15 17:01:14.416304: I tensorflow/core/platform/cpu_feature_guard.cc:143] Your CPU supports instructions that this TensorFlow binary was not compiled to use: AVX2 FMA\n",
      "2020-06-15 17:01:14.427469: I tensorflow/compiler/xla/service/service.cc:168] XLA service 0x7f8b17036050 initialized for platform Host (this does not guarantee that XLA will be used). Devices:\n",
      "2020-06-15 17:01:14.427484: I tensorflow/compiler/xla/service/service.cc:176]   StreamExecutor device (0): Host, Default Version\n",
      "/Users/lalith/opt/anaconda3/lib/python3.7/site-packages/keras/activations.py:235: UserWarning: Do not pass a layer instance (such as LeakyReLU) as the activation argument of another layer. Instead, advanced activation layers should be used just like any other layer in a model.\n",
      "  identifier=identifier.__class__.__name__))\n",
      "100%|█████████████████████████████████████████████| 3/3 [00:06<00:00,  2.23s/it]\n",
      "2020-06-15 17:01:22.531718: Evaluation complete\n",
      "2020-06-15 17:01:22.579077: Save evaluate label at /Users/lalith/Downloads/Sent2Lalith/nifti/m000-102AC_FDG_AC_ID_cleared/panda/PANDA_23_m000-f0003-m000-102AC_FDG_AC_ID_cleared.nii success\n"
     ]
    },
    {
     "name": "stderr",
     "output_type": "stream",
     "text": [
      "\n",
      " 14%|█▍        | 3/21 [00:35<03:33, 11.85s/it]\u001b[A"
     ]
    },
    {
     "name": "stdout",
     "output_type": "stream",
     "text": [
      "Using TensorFlow backend.\n",
      "2020-06-15 17:01:26.875468: I tensorflow/core/platform/cpu_feature_guard.cc:143] Your CPU supports instructions that this TensorFlow binary was not compiled to use: AVX2 FMA\n",
      "2020-06-15 17:01:26.886487: I tensorflow/compiler/xla/service/service.cc:168] XLA service 0x7ffb9da84ce0 initialized for platform Host (this does not guarantee that XLA will be used). Devices:\n",
      "2020-06-15 17:01:26.886502: I tensorflow/compiler/xla/service/service.cc:176]   StreamExecutor device (0): Host, Default Version\n",
      "/Users/lalith/opt/anaconda3/lib/python3.7/site-packages/keras/activations.py:235: UserWarning: Do not pass a layer instance (such as LeakyReLU) as the activation argument of another layer. Instead, advanced activation layers should be used just like any other layer in a model.\n",
      "  identifier=identifier.__class__.__name__))\n",
      "100%|█████████████████████████████████████████████| 3/3 [00:07<00:00,  2.46s/it]\n",
      "2020-06-15 17:01:35.647002: Evaluation complete\n",
      "2020-06-15 17:01:35.695245: Save evaluate label at /Users/lalith/Downloads/Sent2Lalith/nifti/m000-102AC_FDG_AC_ID_cleared/panda/PANDA_28_m000-f0004-m000-102AC_FDG_AC_ID_cleared.nii success\n"
     ]
    },
    {
     "name": "stderr",
     "output_type": "stream",
     "text": [
      "\n",
      " 19%|█▉        | 4/21 [00:49<03:28, 12.26s/it]\u001b[A"
     ]
    },
    {
     "name": "stdout",
     "output_type": "stream",
     "text": [
      "Using TensorFlow backend.\n",
      "2020-06-15 17:01:40.043336: I tensorflow/core/platform/cpu_feature_guard.cc:143] Your CPU supports instructions that this TensorFlow binary was not compiled to use: AVX2 FMA\n",
      "2020-06-15 17:01:40.055495: I tensorflow/compiler/xla/service/service.cc:168] XLA service 0x7fa489195050 initialized for platform Host (this does not guarantee that XLA will be used). Devices:\n",
      "2020-06-15 17:01:40.055514: I tensorflow/compiler/xla/service/service.cc:176]   StreamExecutor device (0): Host, Default Version\n",
      "/Users/lalith/opt/anaconda3/lib/python3.7/site-packages/keras/activations.py:235: UserWarning: Do not pass a layer instance (such as LeakyReLU) as the activation argument of another layer. Instead, advanced activation layers should be used just like any other layer in a model.\n",
      "  identifier=identifier.__class__.__name__))\n",
      "100%|█████████████████████████████████████████████| 3/3 [00:08<00:00,  2.94s/it]\n",
      "2020-06-15 17:01:50.267447: Evaluation complete\n",
      "2020-06-15 17:01:50.315839: Save evaluate label at /Users/lalith/Downloads/Sent2Lalith/nifti/m000-102AC_FDG_AC_ID_cleared/panda/PANDA_35_m000-f0005-m000-102AC_FDG_AC_ID_cleared.nii success\n"
     ]
    },
    {
     "name": "stderr",
     "output_type": "stream",
     "text": [
      "\n",
      " 24%|██▍       | 5/21 [01:03<03:28, 13.01s/it]\u001b[A"
     ]
    },
    {
     "name": "stdout",
     "output_type": "stream",
     "text": [
      "Using TensorFlow backend.\n",
      "2020-06-15 17:01:55.716907: I tensorflow/core/platform/cpu_feature_guard.cc:143] Your CPU supports instructions that this TensorFlow binary was not compiled to use: AVX2 FMA\n",
      "2020-06-15 17:01:55.727070: I tensorflow/compiler/xla/service/service.cc:168] XLA service 0x7fd86b7f77d0 initialized for platform Host (this does not guarantee that XLA will be used). Devices:\n",
      "2020-06-15 17:01:55.727087: I tensorflow/compiler/xla/service/service.cc:176]   StreamExecutor device (0): Host, Default Version\n",
      "/Users/lalith/opt/anaconda3/lib/python3.7/site-packages/keras/activations.py:235: UserWarning: Do not pass a layer instance (such as LeakyReLU) as the activation argument of another layer. Instead, advanced activation layers should be used just like any other layer in a model.\n",
      "  identifier=identifier.__class__.__name__))\n",
      "100%|█████████████████████████████████████████████| 3/3 [00:06<00:00,  2.18s/it]\n",
      "2020-06-15 17:02:03.631315: Evaluation complete\n",
      "2020-06-15 17:02:03.679871: Save evaluate label at /Users/lalith/Downloads/Sent2Lalith/nifti/m000-102AC_FDG_AC_ID_cleared/panda/PANDA_45_m000-f0006-m000-102AC_FDG_AC_ID_cleared.nii success\n"
     ]
    },
    {
     "name": "stderr",
     "output_type": "stream",
     "text": [
      "\n",
      " 29%|██▊       | 6/21 [01:16<03:15, 13.04s/it]\u001b[A"
     ]
    },
    {
     "name": "stdout",
     "output_type": "stream",
     "text": [
      "Using TensorFlow backend.\n",
      "2020-06-15 17:02:08.410606: I tensorflow/core/platform/cpu_feature_guard.cc:143] Your CPU supports instructions that this TensorFlow binary was not compiled to use: AVX2 FMA\n",
      "2020-06-15 17:02:08.424912: I tensorflow/compiler/xla/service/service.cc:168] XLA service 0x7f88494db090 initialized for platform Host (this does not guarantee that XLA will be used). Devices:\n",
      "2020-06-15 17:02:08.424942: I tensorflow/compiler/xla/service/service.cc:176]   StreamExecutor device (0): Host, Default Version\n",
      "/Users/lalith/opt/anaconda3/lib/python3.7/site-packages/keras/activations.py:235: UserWarning: Do not pass a layer instance (such as LeakyReLU) as the activation argument of another layer. Instead, advanced activation layers should be used just like any other layer in a model.\n",
      "  identifier=identifier.__class__.__name__))\n",
      "100%|█████████████████████████████████████████████| 3/3 [00:07<00:00,  2.57s/it]\n",
      "2020-06-15 17:02:17.583756: Evaluation complete\n",
      "2020-06-15 17:02:17.630008: Save evaluate label at /Users/lalith/Downloads/Sent2Lalith/nifti/m000-102AC_FDG_AC_ID_cleared/panda/PANDA_55_m000-f0007-m000-102AC_FDG_AC_ID_cleared.nii success\n"
     ]
    },
    {
     "name": "stderr",
     "output_type": "stream",
     "text": [
      "\n",
      " 33%|███▎      | 7/21 [01:31<03:07, 13.38s/it]\u001b[A"
     ]
    },
    {
     "name": "stdout",
     "output_type": "stream",
     "text": [
      "Using TensorFlow backend.\n",
      "2020-06-15 17:02:22.692917: I tensorflow/core/platform/cpu_feature_guard.cc:143] Your CPU supports instructions that this TensorFlow binary was not compiled to use: AVX2 FMA\n",
      "2020-06-15 17:02:22.705139: I tensorflow/compiler/xla/service/service.cc:168] XLA service 0x7fc6871a1910 initialized for platform Host (this does not guarantee that XLA will be used). Devices:\n",
      "2020-06-15 17:02:22.705171: I tensorflow/compiler/xla/service/service.cc:176]   StreamExecutor device (0): Host, Default Version\n",
      "/Users/lalith/opt/anaconda3/lib/python3.7/site-packages/keras/activations.py:235: UserWarning: Do not pass a layer instance (such as LeakyReLU) as the activation argument of another layer. Instead, advanced activation layers should be used just like any other layer in a model.\n",
      "  identifier=identifier.__class__.__name__))\n",
      "100%|█████████████████████████████████████████████| 3/3 [00:06<00:00,  2.32s/it]\n",
      "2020-06-15 17:02:31.179991: Evaluation complete\n",
      "2020-06-15 17:02:31.226829: Save evaluate label at /Users/lalith/Downloads/Sent2Lalith/nifti/m000-102AC_FDG_AC_ID_cleared/panda/PANDA_90_m000-f0008-m000-102AC_FDG_AC_ID_cleared.nii success\n"
     ]
    },
    {
     "name": "stderr",
     "output_type": "stream",
     "text": [
      "\n",
      " 38%|███▊      | 8/21 [01:44<02:54, 13.39s/it]\u001b[A"
     ]
    },
    {
     "name": "stdout",
     "output_type": "stream",
     "text": [
      "Using TensorFlow backend.\n",
      "2020-06-15 17:02:36.327737: I tensorflow/core/platform/cpu_feature_guard.cc:143] Your CPU supports instructions that this TensorFlow binary was not compiled to use: AVX2 FMA\n",
      "2020-06-15 17:02:36.339174: I tensorflow/compiler/xla/service/service.cc:168] XLA service 0x7fbbd8d1d1f0 initialized for platform Host (this does not guarantee that XLA will be used). Devices:\n",
      "2020-06-15 17:02:36.339207: I tensorflow/compiler/xla/service/service.cc:176]   StreamExecutor device (0): Host, Default Version\n",
      "/Users/lalith/opt/anaconda3/lib/python3.7/site-packages/keras/activations.py:235: UserWarning: Do not pass a layer instance (such as LeakyReLU) as the activation argument of another layer. Instead, advanced activation layers should be used just like any other layer in a model.\n",
      "  identifier=identifier.__class__.__name__))\n",
      "100%|█████████████████████████████████████████████| 3/3 [00:06<00:00,  2.19s/it]\n",
      "2020-06-15 17:02:44.290182: Evaluation complete\n",
      "2020-06-15 17:02:44.336149: Save evaluate label at /Users/lalith/Downloads/Sent2Lalith/nifti/m000-102AC_FDG_AC_ID_cleared/panda/PANDA_150_m000-f0009-m000-102AC_FDG_AC_ID_cleared.nii success\n"
     ]
    },
    {
     "name": "stderr",
     "output_type": "stream",
     "text": [
      "\n",
      " 43%|████▎     | 9/21 [01:57<02:39, 13.29s/it]\u001b[A"
     ]
    },
    {
     "name": "stdout",
     "output_type": "stream",
     "text": [
      "Using TensorFlow backend.\n",
      "2020-06-15 17:02:48.563558: I tensorflow/core/platform/cpu_feature_guard.cc:143] Your CPU supports instructions that this TensorFlow binary was not compiled to use: AVX2 FMA\n",
      "2020-06-15 17:02:48.573908: I tensorflow/compiler/xla/service/service.cc:168] XLA service 0x7fe6a9931350 initialized for platform Host (this does not guarantee that XLA will be used). Devices:\n",
      "2020-06-15 17:02:48.573959: I tensorflow/compiler/xla/service/service.cc:176]   StreamExecutor device (0): Host, Default Version\n",
      "/Users/lalith/opt/anaconda3/lib/python3.7/site-packages/keras/activations.py:235: UserWarning: Do not pass a layer instance (such as LeakyReLU) as the activation argument of another layer. Instead, advanced activation layers should be used just like any other layer in a model.\n",
      "  identifier=identifier.__class__.__name__))\n",
      "100%|█████████████████████████████████████████████| 3/3 [00:07<00:00,  2.34s/it]\n",
      "2020-06-15 17:02:57.046091: Evaluation complete\n",
      "2020-06-15 17:02:57.097718: Save evaluate label at /Users/lalith/Downloads/Sent2Lalith/nifti/m000-102AC_FDG_AC_ID_cleared/panda/PANDA_210_m000-f0010-m000-102AC_FDG_AC_ID_cleared.nii success\n"
     ]
    },
    {
     "name": "stderr",
     "output_type": "stream",
     "text": [
      "\n",
      " 48%|████▊     | 10/21 [02:10<02:25, 13.22s/it]\u001b[A"
     ]
    },
    {
     "name": "stdout",
     "output_type": "stream",
     "text": [
      "Using TensorFlow backend.\n",
      "2020-06-15 17:03:01.707728: I tensorflow/core/platform/cpu_feature_guard.cc:143] Your CPU supports instructions that this TensorFlow binary was not compiled to use: AVX2 FMA\n",
      "2020-06-15 17:03:01.719107: I tensorflow/compiler/xla/service/service.cc:168] XLA service 0x7fe1478d33e0 initialized for platform Host (this does not guarantee that XLA will be used). Devices:\n",
      "2020-06-15 17:03:01.719158: I tensorflow/compiler/xla/service/service.cc:176]   StreamExecutor device (0): Host, Default Version\n",
      "/Users/lalith/opt/anaconda3/lib/python3.7/site-packages/keras/activations.py:235: UserWarning: Do not pass a layer instance (such as LeakyReLU) as the activation argument of another layer. Instead, advanced activation layers should be used just like any other layer in a model.\n",
      "  identifier=identifier.__class__.__name__))\n",
      "100%|█████████████████████████████████████████████| 3/3 [00:06<00:00,  2.09s/it]\n",
      "2020-06-15 17:03:09.383667: Evaluation complete\n",
      "2020-06-15 17:03:09.432682: Save evaluate label at /Users/lalith/Downloads/Sent2Lalith/nifti/m000-102AC_FDG_AC_ID_cleared/panda/PANDA_270_m000-f0011-m000-102AC_FDG_AC_ID_cleared.nii success\n"
     ]
    },
    {
     "name": "stderr",
     "output_type": "stream",
     "text": [
      "\n",
      " 52%|█████▏    | 11/21 [02:22<02:08, 12.87s/it]\u001b[A"
     ]
    },
    {
     "name": "stdout",
     "output_type": "stream",
     "text": [
      "Using TensorFlow backend.\n",
      "2020-06-15 17:03:13.397774: I tensorflow/core/platform/cpu_feature_guard.cc:143] Your CPU supports instructions that this TensorFlow binary was not compiled to use: AVX2 FMA\n",
      "2020-06-15 17:03:13.408664: I tensorflow/compiler/xla/service/service.cc:168] XLA service 0x7f8250c305c0 initialized for platform Host (this does not guarantee that XLA will be used). Devices:\n",
      "2020-06-15 17:03:13.408679: I tensorflow/compiler/xla/service/service.cc:176]   StreamExecutor device (0): Host, Default Version\n",
      "/Users/lalith/opt/anaconda3/lib/python3.7/site-packages/keras/activations.py:235: UserWarning: Do not pass a layer instance (such as LeakyReLU) as the activation argument of another layer. Instead, advanced activation layers should be used just like any other layer in a model.\n",
      "  identifier=identifier.__class__.__name__))\n",
      "100%|█████████████████████████████████████████████| 3/3 [00:04<00:00,  1.62s/it]\n",
      "2020-06-15 17:03:19.691955: Evaluation complete\n",
      "2020-06-15 17:03:19.743867: Save evaluate label at /Users/lalith/Downloads/Sent2Lalith/nifti/m000-102AC_FDG_AC_ID_cleared/panda/PANDA_375_m000-f0012-m000-102AC_FDG_AC_ID_cleared.nii success\n"
     ]
    },
    {
     "name": "stderr",
     "output_type": "stream",
     "text": [
      "\n",
      " 57%|█████▋    | 12/21 [02:33<01:48, 12.10s/it]\u001b[A"
     ]
    },
    {
     "name": "stdout",
     "output_type": "stream",
     "text": [
      "Using TensorFlow backend.\n",
      "2020-06-15 17:03:23.623601: I tensorflow/core/platform/cpu_feature_guard.cc:143] Your CPU supports instructions that this TensorFlow binary was not compiled to use: AVX2 FMA\n",
      "2020-06-15 17:03:23.634388: I tensorflow/compiler/xla/service/service.cc:168] XLA service 0x7fadbdb08920 initialized for platform Host (this does not guarantee that XLA will be used). Devices:\n",
      "2020-06-15 17:03:23.634420: I tensorflow/compiler/xla/service/service.cc:176]   StreamExecutor device (0): Host, Default Version\n",
      "/Users/lalith/opt/anaconda3/lib/python3.7/site-packages/keras/activations.py:235: UserWarning: Do not pass a layer instance (such as LeakyReLU) as the activation argument of another layer. Instead, advanced activation layers should be used just like any other layer in a model.\n",
      "  identifier=identifier.__class__.__name__))\n",
      "100%|█████████████████████████████████████████████| 3/3 [00:06<00:00,  2.25s/it]\n",
      "2020-06-15 17:03:31.821825: Evaluation complete\n",
      "2020-06-15 17:03:31.867028: Save evaluate label at /Users/lalith/Downloads/Sent2Lalith/nifti/m000-102AC_FDG_AC_ID_cleared/panda/PANDA_525_m000-f0013-m000-102AC_FDG_AC_ID_cleared.nii success\n"
     ]
    },
    {
     "name": "stderr",
     "output_type": "stream",
     "text": [
      "\n",
      " 62%|██████▏   | 13/21 [02:45<01:36, 12.11s/it]\u001b[A"
     ]
    },
    {
     "name": "stdout",
     "output_type": "stream",
     "text": [
      "Using TensorFlow backend.\n",
      "2020-06-15 17:03:35.858575: I tensorflow/core/platform/cpu_feature_guard.cc:143] Your CPU supports instructions that this TensorFlow binary was not compiled to use: AVX2 FMA\n",
      "2020-06-15 17:03:35.871430: I tensorflow/compiler/xla/service/service.cc:168] XLA service 0x7fdca8fd2b90 initialized for platform Host (this does not guarantee that XLA will be used). Devices:\n",
      "2020-06-15 17:03:35.871447: I tensorflow/compiler/xla/service/service.cc:176]   StreamExecutor device (0): Host, Default Version\n",
      "/Users/lalith/opt/anaconda3/lib/python3.7/site-packages/keras/activations.py:235: UserWarning: Do not pass a layer instance (such as LeakyReLU) as the activation argument of another layer. Instead, advanced activation layers should be used just like any other layer in a model.\n",
      "  identifier=identifier.__class__.__name__))\n",
      "100%|█████████████████████████████████████████████| 3/3 [00:05<00:00,  1.67s/it]\n",
      "2020-06-15 17:03:42.319918: Evaluation complete\n",
      "2020-06-15 17:03:42.368784: Save evaluate label at /Users/lalith/Downloads/Sent2Lalith/nifti/m000-102AC_FDG_AC_ID_cleared/panda/PANDA_750_m000-f0014-m000-102AC_FDG_AC_ID_cleared.nii success\n"
     ]
    },
    {
     "name": "stderr",
     "output_type": "stream",
     "text": [
      "\n",
      " 67%|██████▋   | 14/21 [02:55<01:21, 11.63s/it]\u001b[A"
     ]
    },
    {
     "name": "stdout",
     "output_type": "stream",
     "text": [
      "Using TensorFlow backend.\n",
      "2020-06-15 17:03:46.306063: I tensorflow/core/platform/cpu_feature_guard.cc:143] Your CPU supports instructions that this TensorFlow binary was not compiled to use: AVX2 FMA\n",
      "2020-06-15 17:03:46.316664: I tensorflow/compiler/xla/service/service.cc:168] XLA service 0x7fa3425edcc0 initialized for platform Host (this does not guarantee that XLA will be used). Devices:\n",
      "2020-06-15 17:03:46.316680: I tensorflow/compiler/xla/service/service.cc:176]   StreamExecutor device (0): Host, Default Version\n",
      "/Users/lalith/opt/anaconda3/lib/python3.7/site-packages/keras/activations.py:235: UserWarning: Do not pass a layer instance (such as LeakyReLU) as the activation argument of another layer. Instead, advanced activation layers should be used just like any other layer in a model.\n",
      "  identifier=identifier.__class__.__name__))\n",
      "100%|█████████████████████████████████████████████| 3/3 [00:06<00:00,  2.31s/it]\n",
      "2020-06-15 17:03:54.686280: Evaluation complete\n",
      "2020-06-15 17:03:54.736705: Save evaluate label at /Users/lalith/Downloads/Sent2Lalith/nifti/m000-102AC_FDG_AC_ID_cleared/panda/PANDA_1050_m000-f0015-m000-102AC_FDG_AC_ID_cleared.nii success\n"
     ]
    },
    {
     "name": "stderr",
     "output_type": "stream",
     "text": [
      "\n",
      " 71%|███████▏  | 15/21 [03:08<01:11, 11.85s/it]\u001b[A"
     ]
    },
    {
     "name": "stdout",
     "output_type": "stream",
     "text": [
      "Using TensorFlow backend.\n",
      "2020-06-15 17:03:58.782166: I tensorflow/core/platform/cpu_feature_guard.cc:143] Your CPU supports instructions that this TensorFlow binary was not compiled to use: AVX2 FMA\n",
      "2020-06-15 17:03:58.792403: I tensorflow/compiler/xla/service/service.cc:168] XLA service 0x7fa5cacee460 initialized for platform Host (this does not guarantee that XLA will be used). Devices:\n",
      "2020-06-15 17:03:58.792435: I tensorflow/compiler/xla/service/service.cc:176]   StreamExecutor device (0): Host, Default Version\n",
      "/Users/lalith/opt/anaconda3/lib/python3.7/site-packages/keras/activations.py:235: UserWarning: Do not pass a layer instance (such as LeakyReLU) as the activation argument of another layer. Instead, advanced activation layers should be used just like any other layer in a model.\n",
      "  identifier=identifier.__class__.__name__))\n",
      "100%|█████████████████████████████████████████████| 3/3 [00:04<00:00,  1.66s/it]\n",
      "2020-06-15 17:04:05.161343: Evaluation complete\n",
      "2020-06-15 17:04:05.204553: Save evaluate label at /Users/lalith/Downloads/Sent2Lalith/nifti/m000-102AC_FDG_AC_ID_cleared/panda/PANDA_1500_m000-f0016-m000-102AC_FDG_AC_ID_cleared.nii success\n"
     ]
    },
    {
     "name": "stderr",
     "output_type": "stream",
     "text": [
      "\n",
      " 76%|███████▌  | 16/21 [03:18<00:57, 11.43s/it]\u001b[A"
     ]
    },
    {
     "name": "stdout",
     "output_type": "stream",
     "text": [
      "Using TensorFlow backend.\n",
      "2020-06-15 17:04:09.180249: I tensorflow/core/platform/cpu_feature_guard.cc:143] Your CPU supports instructions that this TensorFlow binary was not compiled to use: AVX2 FMA\n",
      "2020-06-15 17:04:09.191085: I tensorflow/compiler/xla/service/service.cc:168] XLA service 0x7fa46a6f9ae0 initialized for platform Host (this does not guarantee that XLA will be used). Devices:\n",
      "2020-06-15 17:04:09.191100: I tensorflow/compiler/xla/service/service.cc:176]   StreamExecutor device (0): Host, Default Version\n",
      "/Users/lalith/opt/anaconda3/lib/python3.7/site-packages/keras/activations.py:235: UserWarning: Do not pass a layer instance (such as LeakyReLU) as the activation argument of another layer. Instead, advanced activation layers should be used just like any other layer in a model.\n",
      "  identifier=identifier.__class__.__name__))\n",
      "100%|█████████████████████████████████████████████| 3/3 [00:11<00:00,  3.89s/it]\n",
      "2020-06-15 17:04:22.391031: Evaluation complete\n",
      "2020-06-15 17:04:22.474079: Save evaluate label at /Users/lalith/Downloads/Sent2Lalith/nifti/m000-102AC_FDG_AC_ID_cleared/panda/PANDA_2100_m000-f0017-m000-102AC_FDG_AC_ID_cleared.nii success\n"
     ]
    },
    {
     "name": "stderr",
     "output_type": "stream",
     "text": [
      "\n",
      " 81%|████████  | 17/21 [03:36<00:53, 13.34s/it]\u001b[A"
     ]
    },
    {
     "name": "stdout",
     "output_type": "stream",
     "text": [
      "Using TensorFlow backend.\n",
      "2020-06-15 17:04:27.885129: I tensorflow/core/platform/cpu_feature_guard.cc:143] Your CPU supports instructions that this TensorFlow binary was not compiled to use: AVX2 FMA\n",
      "2020-06-15 17:04:27.897102: I tensorflow/compiler/xla/service/service.cc:168] XLA service 0x7fb56cad6f90 initialized for platform Host (this does not guarantee that XLA will be used). Devices:\n",
      "2020-06-15 17:04:27.897120: I tensorflow/compiler/xla/service/service.cc:176]   StreamExecutor device (0): Host, Default Version\n",
      "/Users/lalith/opt/anaconda3/lib/python3.7/site-packages/keras/activations.py:235: UserWarning: Do not pass a layer instance (such as LeakyReLU) as the activation argument of another layer. Instead, advanced activation layers should be used just like any other layer in a model.\n",
      "  identifier=identifier.__class__.__name__))\n",
      "100%|█████████████████████████████████████████████| 3/3 [00:07<00:00,  2.54s/it]\n",
      "2020-06-15 17:04:37.026986: Evaluation complete\n",
      "2020-06-15 17:04:37.079902: Save evaluate label at /Users/lalith/Downloads/Sent2Lalith/nifti/m000-102AC_FDG_AC_ID_cleared/panda/PANDA_2550_m000-f0018-m000-102AC_FDG_AC_ID_cleared.nii success\n"
     ]
    },
    {
     "name": "stderr",
     "output_type": "stream",
     "text": [
      "\n",
      " 86%|████████▌ | 18/21 [03:50<00:40, 13.66s/it]\u001b[A"
     ]
    },
    {
     "name": "stdout",
     "output_type": "stream",
     "text": [
      "Using TensorFlow backend.\n",
      "2020-06-15 17:04:42.412983: I tensorflow/core/platform/cpu_feature_guard.cc:143] Your CPU supports instructions that this TensorFlow binary was not compiled to use: AVX2 FMA\n",
      "2020-06-15 17:04:42.424920: I tensorflow/compiler/xla/service/service.cc:168] XLA service 0x7fbca7b007d0 initialized for platform Host (this does not guarantee that XLA will be used). Devices:\n",
      "2020-06-15 17:04:42.424937: I tensorflow/compiler/xla/service/service.cc:176]   StreamExecutor device (0): Host, Default Version\n",
      "/Users/lalith/opt/anaconda3/lib/python3.7/site-packages/keras/activations.py:235: UserWarning: Do not pass a layer instance (such as LeakyReLU) as the activation argument of another layer. Instead, advanced activation layers should be used just like any other layer in a model.\n",
      "  identifier=identifier.__class__.__name__))\n",
      "100%|█████████████████████████████████████████████| 3/3 [00:07<00:00,  2.49s/it]\n",
      "2020-06-15 17:04:51.310399: Evaluation complete\n",
      "2020-06-15 17:04:51.356459: Save evaluate label at /Users/lalith/Downloads/Sent2Lalith/nifti/m000-102AC_FDG_AC_ID_cleared/panda/PANDA_2850_m000-f0019-m000-102AC_FDG_AC_ID_cleared.nii success\n"
     ]
    },
    {
     "name": "stderr",
     "output_type": "stream",
     "text": [
      "\n",
      " 90%|█████████ | 19/21 [04:04<00:27, 13.78s/it]\u001b[A"
     ]
    },
    {
     "name": "stdout",
     "output_type": "stream",
     "text": [
      "Using TensorFlow backend.\n",
      "2020-06-15 17:04:55.915473: I tensorflow/core/platform/cpu_feature_guard.cc:143] Your CPU supports instructions that this TensorFlow binary was not compiled to use: AVX2 FMA\n",
      "2020-06-15 17:04:55.927941: I tensorflow/compiler/xla/service/service.cc:168] XLA service 0x7fbb9f925690 initialized for platform Host (this does not guarantee that XLA will be used). Devices:\n",
      "2020-06-15 17:04:55.927958: I tensorflow/compiler/xla/service/service.cc:176]   StreamExecutor device (0): Host, Default Version\n",
      "/Users/lalith/opt/anaconda3/lib/python3.7/site-packages/keras/activations.py:235: UserWarning: Do not pass a layer instance (such as LeakyReLU) as the activation argument of another layer. Instead, advanced activation layers should be used just like any other layer in a model.\n",
      "  identifier=identifier.__class__.__name__))\n",
      "100%|█████████████████████████████████████████████| 3/3 [00:05<00:00,  1.74s/it]\n",
      "2020-06-15 17:05:02.573613: Evaluation complete\n",
      "2020-06-15 17:05:02.619764: Save evaluate label at /Users/lalith/Downloads/Sent2Lalith/nifti/m000-102AC_FDG_AC_ID_cleared/panda/PANDA_3150_m000-f0020-m000-102AC_FDG_AC_ID_cleared.nii success\n"
     ]
    },
    {
     "name": "stderr",
     "output_type": "stream",
     "text": [
      "\n",
      " 95%|█████████▌| 20/21 [04:15<00:12, 12.99s/it]\u001b[A"
     ]
    },
    {
     "name": "stdout",
     "output_type": "stream",
     "text": [
      "Using TensorFlow backend.\n",
      "2020-06-15 17:05:07.317269: I tensorflow/core/platform/cpu_feature_guard.cc:143] Your CPU supports instructions that this TensorFlow binary was not compiled to use: AVX2 FMA\n",
      "2020-06-15 17:05:07.328837: I tensorflow/compiler/xla/service/service.cc:168] XLA service 0x7fc70a9135f0 initialized for platform Host (this does not guarantee that XLA will be used). Devices:\n",
      "2020-06-15 17:05:07.328854: I tensorflow/compiler/xla/service/service.cc:176]   StreamExecutor device (0): Host, Default Version\n",
      "/Users/lalith/opt/anaconda3/lib/python3.7/site-packages/keras/activations.py:235: UserWarning: Do not pass a layer instance (such as LeakyReLU) as the activation argument of another layer. Instead, advanced activation layers should be used just like any other layer in a model.\n",
      "  identifier=identifier.__class__.__name__))\n",
      "100%|█████████████████████████████████████████████| 3/3 [00:06<00:00,  2.20s/it]\n",
      "2020-06-15 17:05:15.316404: Evaluation complete\n",
      "2020-06-15 17:05:15.363774: Save evaluate label at /Users/lalith/Downloads/Sent2Lalith/nifti/m000-102AC_FDG_AC_ID_cleared/panda/PANDA_3450_m000-f0021-m000-102AC_FDG_AC_ID_cleared.nii success\n"
     ]
    },
    {
     "name": "stderr",
     "output_type": "stream",
     "text": [
      "\n",
      "100%|██████████| 21/21 [04:28<00:00, 12.79s/it]\u001b[A\n",
      " 20%|██        | 2/10 [09:02<36:20, 272.56s/it]"
     ]
    },
    {
     "name": "stdout",
     "output_type": "stream",
     "text": [
      "Directory  panda  Created \n"
     ]
    },
    {
     "name": "stderr",
     "output_type": "stream",
     "text": [
      "\n",
      "100%|██████████| 21/21 [00:00<00:00, 2096.00it/s]\n",
      "\n",
      "  0%|          | 0/21 [00:00<?, ?it/s]\u001b[A"
     ]
    },
    {
     "name": "stdout",
     "output_type": "stream",
     "text": [
      "Using TensorFlow backend.\n",
      "2020-06-15 17:05:19.735102: I tensorflow/core/platform/cpu_feature_guard.cc:143] Your CPU supports instructions that this TensorFlow binary was not compiled to use: AVX2 FMA\n",
      "2020-06-15 17:05:19.745408: I tensorflow/compiler/xla/service/service.cc:168] XLA service 0x7fec1d111dc0 initialized for platform Host (this does not guarantee that XLA will be used). Devices:\n",
      "2020-06-15 17:05:19.745425: I tensorflow/compiler/xla/service/service.cc:176]   StreamExecutor device (0): Host, Default Version\n",
      "/Users/lalith/opt/anaconda3/lib/python3.7/site-packages/keras/activations.py:235: UserWarning: Do not pass a layer instance (such as LeakyReLU) as the activation argument of another layer. Instead, advanced activation layers should be used just like any other layer in a model.\n",
      "  identifier=identifier.__class__.__name__))\n",
      "100%|█████████████████████████████████████████████| 3/3 [00:06<00:00,  2.24s/it]\n",
      "2020-06-15 17:05:27.990532: Evaluation complete\n",
      "2020-06-15 17:05:28.053825: Save evaluate label at /Users/lalith/Downloads/Sent2Lalith/nifti/m000-104-AG_FDGdyn_AC_ID_cleared/panda/PANDA_8_m000-f0001-m000-104-AG_FDGdyn_AC_ID_cleared.nii success\n"
     ]
    },
    {
     "name": "stderr",
     "output_type": "stream",
     "text": [
      "\n",
      "  5%|▍         | 1/21 [00:12<04:18, 12.90s/it]\u001b[A"
     ]
    },
    {
     "name": "stdout",
     "output_type": "stream",
     "text": [
      "Using TensorFlow backend.\n",
      "2020-06-15 17:05:32.671357: I tensorflow/core/platform/cpu_feature_guard.cc:143] Your CPU supports instructions that this TensorFlow binary was not compiled to use: AVX2 FMA\n",
      "2020-06-15 17:05:32.682563: I tensorflow/compiler/xla/service/service.cc:168] XLA service 0x7fe5cb7164e0 initialized for platform Host (this does not guarantee that XLA will be used). Devices:\n",
      "2020-06-15 17:05:32.682579: I tensorflow/compiler/xla/service/service.cc:176]   StreamExecutor device (0): Host, Default Version\n",
      "/Users/lalith/opt/anaconda3/lib/python3.7/site-packages/keras/activations.py:235: UserWarning: Do not pass a layer instance (such as LeakyReLU) as the activation argument of another layer. Instead, advanced activation layers should be used just like any other layer in a model.\n",
      "  identifier=identifier.__class__.__name__))\n",
      "100%|█████████████████████████████████████████████| 3/3 [00:08<00:00,  2.86s/it]\n",
      "2020-06-15 17:05:42.684472: Evaluation complete\n",
      "2020-06-15 17:05:42.736669: Save evaluate label at /Users/lalith/Downloads/Sent2Lalith/nifti/m000-104-AG_FDGdyn_AC_ID_cleared/panda/PANDA_18_m000-f0002-m000-104-AG_FDGdyn_AC_ID_cleared.nii success\n"
     ]
    },
    {
     "name": "stderr",
     "output_type": "stream",
     "text": [
      "\n",
      " 10%|▉         | 2/21 [00:27<04:15, 13.43s/it]\u001b[A"
     ]
    },
    {
     "name": "stdout",
     "output_type": "stream",
     "text": [
      "Using TensorFlow backend.\n",
      "2020-06-15 17:05:48.067419: I tensorflow/core/platform/cpu_feature_guard.cc:143] Your CPU supports instructions that this TensorFlow binary was not compiled to use: AVX2 FMA\n",
      "2020-06-15 17:05:48.077475: I tensorflow/compiler/xla/service/service.cc:168] XLA service 0x7f8a8739bf70 initialized for platform Host (this does not guarantee that XLA will be used). Devices:\n",
      "2020-06-15 17:05:48.077510: I tensorflow/compiler/xla/service/service.cc:176]   StreamExecutor device (0): Host, Default Version\n",
      "/Users/lalith/opt/anaconda3/lib/python3.7/site-packages/keras/activations.py:235: UserWarning: Do not pass a layer instance (such as LeakyReLU) as the activation argument of another layer. Instead, advanced activation layers should be used just like any other layer in a model.\n",
      "  identifier=identifier.__class__.__name__))\n",
      "100%|█████████████████████████████████████████████| 3/3 [00:07<00:00,  2.45s/it]\n",
      "2020-06-15 17:05:56.844732: Evaluation complete\n",
      "2020-06-15 17:05:56.888685: Save evaluate label at /Users/lalith/Downloads/Sent2Lalith/nifti/m000-104-AG_FDGdyn_AC_ID_cleared/panda/PANDA_23_m000-f0003-m000-104-AG_FDGdyn_AC_ID_cleared.nii success\n"
     ]
    },
    {
     "name": "stderr",
     "output_type": "stream",
     "text": [
      "\n",
      " 14%|█▍        | 3/21 [00:41<04:05, 13.65s/it]\u001b[A"
     ]
    },
    {
     "name": "stdout",
     "output_type": "stream",
     "text": [
      "Using TensorFlow backend.\n",
      "2020-06-15 17:06:02.041651: I tensorflow/core/platform/cpu_feature_guard.cc:143] Your CPU supports instructions that this TensorFlow binary was not compiled to use: AVX2 FMA\n",
      "2020-06-15 17:06:02.052699: I tensorflow/compiler/xla/service/service.cc:168] XLA service 0x7ffa6f0ab170 initialized for platform Host (this does not guarantee that XLA will be used). Devices:\n",
      "2020-06-15 17:06:02.052717: I tensorflow/compiler/xla/service/service.cc:176]   StreamExecutor device (0): Host, Default Version\n",
      "/Users/lalith/opt/anaconda3/lib/python3.7/site-packages/keras/activations.py:235: UserWarning: Do not pass a layer instance (such as LeakyReLU) as the activation argument of another layer. Instead, advanced activation layers should be used just like any other layer in a model.\n",
      "  identifier=identifier.__class__.__name__))\n",
      "100%|█████████████████████████████████████████████| 3/3 [00:07<00:00,  2.52s/it]\n",
      "2020-06-15 17:06:11.043569: Evaluation complete\n",
      "2020-06-15 17:06:11.091030: Save evaluate label at /Users/lalith/Downloads/Sent2Lalith/nifti/m000-104-AG_FDGdyn_AC_ID_cleared/panda/PANDA_28_m000-f0004-m000-104-AG_FDGdyn_AC_ID_cleared.nii success\n"
     ]
    },
    {
     "name": "stderr",
     "output_type": "stream",
     "text": [
      "\n",
      " 19%|█▉        | 4/21 [00:55<03:54, 13.81s/it]\u001b[A"
     ]
    },
    {
     "name": "stdout",
     "output_type": "stream",
     "text": [
      "Using TensorFlow backend.\n",
      "2020-06-15 17:06:16.484549: I tensorflow/core/platform/cpu_feature_guard.cc:143] Your CPU supports instructions that this TensorFlow binary was not compiled to use: AVX2 FMA\n",
      "2020-06-15 17:06:16.496230: I tensorflow/compiler/xla/service/service.cc:168] XLA service 0x7fb99f3c8e70 initialized for platform Host (this does not guarantee that XLA will be used). Devices:\n",
      "2020-06-15 17:06:16.496247: I tensorflow/compiler/xla/service/service.cc:176]   StreamExecutor device (0): Host, Default Version\n",
      "/Users/lalith/opt/anaconda3/lib/python3.7/site-packages/keras/activations.py:235: UserWarning: Do not pass a layer instance (such as LeakyReLU) as the activation argument of another layer. Instead, advanced activation layers should be used just like any other layer in a model.\n",
      "  identifier=identifier.__class__.__name__))\n",
      "100%|█████████████████████████████████████████████| 3/3 [00:08<00:00,  2.74s/it]\n",
      "2020-06-15 17:06:26.149535: Evaluation complete\n",
      "2020-06-15 17:06:26.223809: Save evaluate label at /Users/lalith/Downloads/Sent2Lalith/nifti/m000-104-AG_FDGdyn_AC_ID_cleared/panda/PANDA_35_m000-f0005-m000-104-AG_FDGdyn_AC_ID_cleared.nii success\n"
     ]
    },
    {
     "name": "stderr",
     "output_type": "stream",
     "text": [
      "\n",
      " 24%|██▍       | 5/21 [01:11<03:47, 14.23s/it]\u001b[A"
     ]
    },
    {
     "name": "stdout",
     "output_type": "stream",
     "text": [
      "Using TensorFlow backend.\n",
      "2020-06-15 17:06:31.300492: I tensorflow/core/platform/cpu_feature_guard.cc:143] Your CPU supports instructions that this TensorFlow binary was not compiled to use: AVX2 FMA\n",
      "2020-06-15 17:06:31.312305: I tensorflow/compiler/xla/service/service.cc:168] XLA service 0x7fafbe1a99f0 initialized for platform Host (this does not guarantee that XLA will be used). Devices:\n",
      "2020-06-15 17:06:31.312322: I tensorflow/compiler/xla/service/service.cc:176]   StreamExecutor device (0): Host, Default Version\n",
      "/Users/lalith/opt/anaconda3/lib/python3.7/site-packages/keras/activations.py:235: UserWarning: Do not pass a layer instance (such as LeakyReLU) as the activation argument of another layer. Instead, advanced activation layers should be used just like any other layer in a model.\n",
      "  identifier=identifier.__class__.__name__))\n",
      "100%|█████████████████████████████████████████████| 3/3 [00:06<00:00,  2.20s/it]\n",
      "2020-06-15 17:06:39.338482: Evaluation complete\n",
      "2020-06-15 17:06:39.385471: Save evaluate label at /Users/lalith/Downloads/Sent2Lalith/nifti/m000-104-AG_FDGdyn_AC_ID_cleared/panda/PANDA_45_m000-f0006-m000-104-AG_FDGdyn_AC_ID_cleared.nii success\n"
     ]
    },
    {
     "name": "stderr",
     "output_type": "stream",
     "text": [
      "\n",
      " 29%|██▊       | 6/21 [01:23<03:27, 13.82s/it]\u001b[A"
     ]
    },
    {
     "name": "stdout",
     "output_type": "stream",
     "text": [
      "Using TensorFlow backend.\n",
      "2020-06-15 17:06:43.679553: I tensorflow/core/platform/cpu_feature_guard.cc:143] Your CPU supports instructions that this TensorFlow binary was not compiled to use: AVX2 FMA\n",
      "2020-06-15 17:06:43.691432: I tensorflow/compiler/xla/service/service.cc:168] XLA service 0x7fe236aceb80 initialized for platform Host (this does not guarantee that XLA will be used). Devices:\n",
      "2020-06-15 17:06:43.691449: I tensorflow/compiler/xla/service/service.cc:176]   StreamExecutor device (0): Host, Default Version\n",
      "/Users/lalith/opt/anaconda3/lib/python3.7/site-packages/keras/activations.py:235: UserWarning: Do not pass a layer instance (such as LeakyReLU) as the activation argument of another layer. Instead, advanced activation layers should be used just like any other layer in a model.\n",
      "  identifier=identifier.__class__.__name__))\n",
      "100%|█████████████████████████████████████████████| 3/3 [00:04<00:00,  1.64s/it]\n",
      "2020-06-15 17:06:50.026761: Evaluation complete\n",
      "2020-06-15 17:06:50.073183: Save evaluate label at /Users/lalith/Downloads/Sent2Lalith/nifti/m000-104-AG_FDGdyn_AC_ID_cleared/panda/PANDA_55_m000-f0007-m000-104-AG_FDGdyn_AC_ID_cleared.nii success\n"
     ]
    },
    {
     "name": "stderr",
     "output_type": "stream",
     "text": [
      "\n",
      " 33%|███▎      | 7/21 [01:34<03:00, 12.87s/it]\u001b[A"
     ]
    },
    {
     "name": "stdout",
     "output_type": "stream",
     "text": [
      "Using TensorFlow backend.\n",
      "2020-06-15 17:06:54.116479: I tensorflow/core/platform/cpu_feature_guard.cc:143] Your CPU supports instructions that this TensorFlow binary was not compiled to use: AVX2 FMA\n",
      "2020-06-15 17:06:54.127517: I tensorflow/compiler/xla/service/service.cc:168] XLA service 0x7fd1a9f201c0 initialized for platform Host (this does not guarantee that XLA will be used). Devices:\n",
      "2020-06-15 17:06:54.127551: I tensorflow/compiler/xla/service/service.cc:176]   StreamExecutor device (0): Host, Default Version\n",
      "/Users/lalith/opt/anaconda3/lib/python3.7/site-packages/keras/activations.py:235: UserWarning: Do not pass a layer instance (such as LeakyReLU) as the activation argument of another layer. Instead, advanced activation layers should be used just like any other layer in a model.\n",
      "  identifier=identifier.__class__.__name__))\n",
      "100%|█████████████████████████████████████████████| 3/3 [00:08<00:00,  2.70s/it]\n",
      "2020-06-15 17:07:03.629183: Evaluation complete\n",
      "2020-06-15 17:07:03.679226: Save evaluate label at /Users/lalith/Downloads/Sent2Lalith/nifti/m000-104-AG_FDGdyn_AC_ID_cleared/panda/PANDA_90_m000-f0008-m000-104-AG_FDGdyn_AC_ID_cleared.nii success\n"
     ]
    },
    {
     "name": "stderr",
     "output_type": "stream",
     "text": [
      "\n",
      " 38%|███▊      | 8/21 [01:48<02:51, 13.16s/it]\u001b[A"
     ]
    },
    {
     "name": "stdout",
     "output_type": "stream",
     "text": [
      "Using TensorFlow backend.\n",
      "2020-06-15 17:07:08.503618: I tensorflow/core/platform/cpu_feature_guard.cc:143] Your CPU supports instructions that this TensorFlow binary was not compiled to use: AVX2 FMA\n",
      "2020-06-15 17:07:08.516334: I tensorflow/compiler/xla/service/service.cc:168] XLA service 0x7f9237f4df00 initialized for platform Host (this does not guarantee that XLA will be used). Devices:\n",
      "2020-06-15 17:07:08.516352: I tensorflow/compiler/xla/service/service.cc:176]   StreamExecutor device (0): Host, Default Version\n",
      "/Users/lalith/opt/anaconda3/lib/python3.7/site-packages/keras/activations.py:235: UserWarning: Do not pass a layer instance (such as LeakyReLU) as the activation argument of another layer. Instead, advanced activation layers should be used just like any other layer in a model.\n",
      "  identifier=identifier.__class__.__name__))\n",
      "100%|█████████████████████████████████████████████| 3/3 [00:06<00:00,  2.25s/it]\n",
      "2020-06-15 17:07:16.681845: Evaluation complete\n",
      "2020-06-15 17:07:16.728863: Save evaluate label at /Users/lalith/Downloads/Sent2Lalith/nifti/m000-104-AG_FDGdyn_AC_ID_cleared/panda/PANDA_150_m000-f0009-m000-104-AG_FDGdyn_AC_ID_cleared.nii success\n"
     ]
    },
    {
     "name": "stderr",
     "output_type": "stream",
     "text": [
      "\n",
      " 43%|████▎     | 9/21 [02:01<02:36, 13.06s/it]\u001b[A"
     ]
    },
    {
     "name": "stdout",
     "output_type": "stream",
     "text": [
      "Using TensorFlow backend.\n",
      "2020-06-15 17:07:20.625321: I tensorflow/core/platform/cpu_feature_guard.cc:143] Your CPU supports instructions that this TensorFlow binary was not compiled to use: AVX2 FMA\n",
      "2020-06-15 17:07:20.636459: I tensorflow/compiler/xla/service/service.cc:168] XLA service 0x7fc42780a210 initialized for platform Host (this does not guarantee that XLA will be used). Devices:\n",
      "2020-06-15 17:07:20.636491: I tensorflow/compiler/xla/service/service.cc:176]   StreamExecutor device (0): Host, Default Version\n",
      "/Users/lalith/opt/anaconda3/lib/python3.7/site-packages/keras/activations.py:235: UserWarning: Do not pass a layer instance (such as LeakyReLU) as the activation argument of another layer. Instead, advanced activation layers should be used just like any other layer in a model.\n",
      "  identifier=identifier.__class__.__name__))\n",
      "100%|█████████████████████████████████████████████| 3/3 [00:05<00:00,  1.82s/it]\n",
      "2020-06-15 17:07:27.555077: Evaluation complete\n",
      "2020-06-15 17:07:27.604600: Save evaluate label at /Users/lalith/Downloads/Sent2Lalith/nifti/m000-104-AG_FDGdyn_AC_ID_cleared/panda/PANDA_210_m000-f0010-m000-104-AG_FDGdyn_AC_ID_cleared.nii success\n"
     ]
    },
    {
     "name": "stderr",
     "output_type": "stream",
     "text": [
      "\n",
      " 48%|████▊     | 10/21 [02:12<02:16, 12.41s/it]\u001b[A"
     ]
    },
    {
     "name": "stdout",
     "output_type": "stream",
     "text": [
      "Using TensorFlow backend.\n",
      "2020-06-15 17:07:31.620467: I tensorflow/core/platform/cpu_feature_guard.cc:143] Your CPU supports instructions that this TensorFlow binary was not compiled to use: AVX2 FMA\n",
      "2020-06-15 17:07:31.631094: I tensorflow/compiler/xla/service/service.cc:168] XLA service 0x7fdb1713f6a0 initialized for platform Host (this does not guarantee that XLA will be used). Devices:\n",
      "2020-06-15 17:07:31.631127: I tensorflow/compiler/xla/service/service.cc:176]   StreamExecutor device (0): Host, Default Version\n",
      "/Users/lalith/opt/anaconda3/lib/python3.7/site-packages/keras/activations.py:235: UserWarning: Do not pass a layer instance (such as LeakyReLU) as the activation argument of another layer. Instead, advanced activation layers should be used just like any other layer in a model.\n",
      "  identifier=identifier.__class__.__name__))\n",
      "100%|█████████████████████████████████████████████| 3/3 [00:07<00:00,  2.53s/it]\n",
      "2020-06-15 17:07:40.589289: Evaluation complete\n",
      "2020-06-15 17:07:40.642932: Save evaluate label at /Users/lalith/Downloads/Sent2Lalith/nifti/m000-104-AG_FDGdyn_AC_ID_cleared/panda/PANDA_270_m000-f0011-m000-104-AG_FDGdyn_AC_ID_cleared.nii success\n"
     ]
    },
    {
     "name": "stderr",
     "output_type": "stream",
     "text": [
      "\n",
      " 52%|█████▏    | 11/21 [02:25<02:06, 12.70s/it]\u001b[A"
     ]
    },
    {
     "name": "stdout",
     "output_type": "stream",
     "text": [
      "Using TensorFlow backend.\n",
      "2020-06-15 17:07:45.242375: I tensorflow/core/platform/cpu_feature_guard.cc:143] Your CPU supports instructions that this TensorFlow binary was not compiled to use: AVX2 FMA\n",
      "2020-06-15 17:07:45.253520: I tensorflow/compiler/xla/service/service.cc:168] XLA service 0x7fc6869ed630 initialized for platform Host (this does not guarantee that XLA will be used). Devices:\n",
      "2020-06-15 17:07:45.253536: I tensorflow/compiler/xla/service/service.cc:176]   StreamExecutor device (0): Host, Default Version\n",
      "/Users/lalith/opt/anaconda3/lib/python3.7/site-packages/keras/activations.py:235: UserWarning: Do not pass a layer instance (such as LeakyReLU) as the activation argument of another layer. Instead, advanced activation layers should be used just like any other layer in a model.\n",
      "  identifier=identifier.__class__.__name__))\n",
      "100%|█████████████████████████████████████████████| 3/3 [00:06<00:00,  2.27s/it]\n",
      "2020-06-15 17:07:53.571681: Evaluation complete\n",
      "2020-06-15 17:07:53.621818: Save evaluate label at /Users/lalith/Downloads/Sent2Lalith/nifti/m000-104-AG_FDGdyn_AC_ID_cleared/panda/PANDA_375_m000-f0012-m000-104-AG_FDGdyn_AC_ID_cleared.nii success\n"
     ]
    },
    {
     "name": "stderr",
     "output_type": "stream",
     "text": [
      "\n",
      " 57%|█████▋    | 12/21 [02:38<01:54, 12.73s/it]\u001b[A"
     ]
    },
    {
     "name": "stdout",
     "output_type": "stream",
     "text": [
      "Using TensorFlow backend.\n",
      "2020-06-15 17:07:58.057898: I tensorflow/core/platform/cpu_feature_guard.cc:143] Your CPU supports instructions that this TensorFlow binary was not compiled to use: AVX2 FMA\n",
      "2020-06-15 17:07:58.068524: I tensorflow/compiler/xla/service/service.cc:168] XLA service 0x7fc26fad7370 initialized for platform Host (this does not guarantee that XLA will be used). Devices:\n",
      "2020-06-15 17:07:58.068540: I tensorflow/compiler/xla/service/service.cc:176]   StreamExecutor device (0): Host, Default Version\n",
      "/Users/lalith/opt/anaconda3/lib/python3.7/site-packages/keras/activations.py:235: UserWarning: Do not pass a layer instance (such as LeakyReLU) as the activation argument of another layer. Instead, advanced activation layers should be used just like any other layer in a model.\n",
      "  identifier=identifier.__class__.__name__))\n",
      "100%|█████████████████████████████████████████████| 3/3 [00:07<00:00,  2.37s/it]\n",
      "2020-06-15 17:08:06.520274: Evaluation complete\n",
      "2020-06-15 17:08:06.569601: Save evaluate label at /Users/lalith/Downloads/Sent2Lalith/nifti/m000-104-AG_FDGdyn_AC_ID_cleared/panda/PANDA_525_m000-f0013-m000-104-AG_FDGdyn_AC_ID_cleared.nii success\n"
     ]
    },
    {
     "name": "stderr",
     "output_type": "stream",
     "text": [
      "\n",
      " 62%|██████▏   | 13/21 [02:51<01:41, 12.75s/it]\u001b[A"
     ]
    },
    {
     "name": "stdout",
     "output_type": "stream",
     "text": [
      "Using TensorFlow backend.\n",
      "2020-06-15 17:08:10.904209: I tensorflow/core/platform/cpu_feature_guard.cc:143] Your CPU supports instructions that this TensorFlow binary was not compiled to use: AVX2 FMA\n",
      "2020-06-15 17:08:10.914752: I tensorflow/compiler/xla/service/service.cc:168] XLA service 0x7feea0f4b0a0 initialized for platform Host (this does not guarantee that XLA will be used). Devices:\n",
      "2020-06-15 17:08:10.914791: I tensorflow/compiler/xla/service/service.cc:176]   StreamExecutor device (0): Host, Default Version\n",
      "/Users/lalith/opt/anaconda3/lib/python3.7/site-packages/keras/activations.py:235: UserWarning: Do not pass a layer instance (such as LeakyReLU) as the activation argument of another layer. Instead, advanced activation layers should be used just like any other layer in a model.\n",
      "  identifier=identifier.__class__.__name__))\n",
      "100%|█████████████████████████████████████████████| 3/3 [00:06<00:00,  2.31s/it]\n",
      "2020-06-15 17:08:19.316384: Evaluation complete\n",
      "2020-06-15 17:08:19.363363: Save evaluate label at /Users/lalith/Downloads/Sent2Lalith/nifti/m000-104-AG_FDGdyn_AC_ID_cleared/panda/PANDA_750_m000-f0014-m000-104-AG_FDGdyn_AC_ID_cleared.nii success\n"
     ]
    },
    {
     "name": "stderr",
     "output_type": "stream",
     "text": [
      "\n",
      " 67%|██████▋   | 14/21 [03:03<01:29, 12.75s/it]\u001b[A"
     ]
    },
    {
     "name": "stdout",
     "output_type": "stream",
     "text": [
      "Using TensorFlow backend.\n",
      "2020-06-15 17:08:23.712154: I tensorflow/core/platform/cpu_feature_guard.cc:143] Your CPU supports instructions that this TensorFlow binary was not compiled to use: AVX2 FMA\n",
      "2020-06-15 17:08:23.723029: I tensorflow/compiler/xla/service/service.cc:168] XLA service 0x7fe7b7391e40 initialized for platform Host (this does not guarantee that XLA will be used). Devices:\n",
      "2020-06-15 17:08:23.723082: I tensorflow/compiler/xla/service/service.cc:176]   StreamExecutor device (0): Host, Default Version\n",
      "/Users/lalith/opt/anaconda3/lib/python3.7/site-packages/keras/activations.py:235: UserWarning: Do not pass a layer instance (such as LeakyReLU) as the activation argument of another layer. Instead, advanced activation layers should be used just like any other layer in a model.\n",
      "  identifier=identifier.__class__.__name__))\n",
      "100%|█████████████████████████████████████████████| 3/3 [00:10<00:00,  3.56s/it]\n",
      "2020-06-15 17:08:35.911688: Evaluation complete\n",
      "2020-06-15 17:08:35.979437: Save evaluate label at /Users/lalith/Downloads/Sent2Lalith/nifti/m000-104-AG_FDGdyn_AC_ID_cleared/panda/PANDA_1050_m000-f0015-m000-104-AG_FDGdyn_AC_ID_cleared.nii success\n"
     ]
    },
    {
     "name": "stderr",
     "output_type": "stream",
     "text": [
      "\n",
      " 71%|███████▏  | 15/21 [03:20<01:24, 14.05s/it]\u001b[A"
     ]
    },
    {
     "name": "stdout",
     "output_type": "stream",
     "text": [
      "Using TensorFlow backend.\n",
      "2020-06-15 17:08:41.473510: I tensorflow/core/platform/cpu_feature_guard.cc:143] Your CPU supports instructions that this TensorFlow binary was not compiled to use: AVX2 FMA\n",
      "2020-06-15 17:08:41.485910: I tensorflow/compiler/xla/service/service.cc:168] XLA service 0x7fa24a2377a0 initialized for platform Host (this does not guarantee that XLA will be used). Devices:\n",
      "2020-06-15 17:08:41.485994: I tensorflow/compiler/xla/service/service.cc:176]   StreamExecutor device (0): Host, Default Version\n",
      "/Users/lalith/opt/anaconda3/lib/python3.7/site-packages/keras/activations.py:235: UserWarning: Do not pass a layer instance (such as LeakyReLU) as the activation argument of another layer. Instead, advanced activation layers should be used just like any other layer in a model.\n",
      "  identifier=identifier.__class__.__name__))\n",
      "100%|█████████████████████████████████████████████| 3/3 [00:09<00:00,  3.30s/it]\n",
      "2020-06-15 17:08:52.934137: Evaluation complete\n",
      "2020-06-15 17:08:53.017754: Save evaluate label at /Users/lalith/Downloads/Sent2Lalith/nifti/m000-104-AG_FDGdyn_AC_ID_cleared/panda/PANDA_1500_m000-f0016-m000-104-AG_FDGdyn_AC_ID_cleared.nii success\n"
     ]
    },
    {
     "name": "stderr",
     "output_type": "stream",
     "text": [
      "\n",
      " 76%|███████▌  | 16/21 [03:38<01:14, 14.95s/it]\u001b[A"
     ]
    },
    {
     "name": "stdout",
     "output_type": "stream",
     "text": [
      "Using TensorFlow backend.\n",
      "2020-06-15 17:08:58.386895: I tensorflow/core/platform/cpu_feature_guard.cc:143] Your CPU supports instructions that this TensorFlow binary was not compiled to use: AVX2 FMA\n",
      "2020-06-15 17:08:58.397730: I tensorflow/compiler/xla/service/service.cc:168] XLA service 0x7fa1d17de420 initialized for platform Host (this does not guarantee that XLA will be used). Devices:\n",
      "2020-06-15 17:08:58.397747: I tensorflow/compiler/xla/service/service.cc:176]   StreamExecutor device (0): Host, Default Version\n",
      "/Users/lalith/opt/anaconda3/lib/python3.7/site-packages/keras/activations.py:235: UserWarning: Do not pass a layer instance (such as LeakyReLU) as the activation argument of another layer. Instead, advanced activation layers should be used just like any other layer in a model.\n",
      "  identifier=identifier.__class__.__name__))\n",
      "100%|█████████████████████████████████████████████| 3/3 [00:04<00:00,  1.66s/it]\n",
      "2020-06-15 17:09:04.857379: Evaluation complete\n",
      "2020-06-15 17:09:04.903415: Save evaluate label at /Users/lalith/Downloads/Sent2Lalith/nifti/m000-104-AG_FDGdyn_AC_ID_cleared/panda/PANDA_2100_m000-f0017-m000-104-AG_FDGdyn_AC_ID_cleared.nii success\n"
     ]
    },
    {
     "name": "stderr",
     "output_type": "stream",
     "text": [
      "\n",
      " 81%|████████  | 17/21 [03:49<00:55, 13.90s/it]\u001b[A"
     ]
    },
    {
     "name": "stdout",
     "output_type": "stream",
     "text": [
      "Using TensorFlow backend.\n",
      "2020-06-15 17:09:09.436006: I tensorflow/core/platform/cpu_feature_guard.cc:143] Your CPU supports instructions that this TensorFlow binary was not compiled to use: AVX2 FMA\n",
      "2020-06-15 17:09:09.447182: I tensorflow/compiler/xla/service/service.cc:168] XLA service 0x7fe915a892b0 initialized for platform Host (this does not guarantee that XLA will be used). Devices:\n",
      "2020-06-15 17:09:09.447197: I tensorflow/compiler/xla/service/service.cc:176]   StreamExecutor device (0): Host, Default Version\n",
      "/Users/lalith/opt/anaconda3/lib/python3.7/site-packages/keras/activations.py:235: UserWarning: Do not pass a layer instance (such as LeakyReLU) as the activation argument of another layer. Instead, advanced activation layers should be used just like any other layer in a model.\n",
      "  identifier=identifier.__class__.__name__))\n",
      "100%|█████████████████████████████████████████████| 3/3 [00:06<00:00,  2.11s/it]\n",
      "2020-06-15 17:09:17.138559: Evaluation complete\n",
      "2020-06-15 17:09:17.190433: Save evaluate label at /Users/lalith/Downloads/Sent2Lalith/nifti/m000-104-AG_FDGdyn_AC_ID_cleared/panda/PANDA_2550_m000-f0018-m000-104-AG_FDGdyn_AC_ID_cleared.nii success\n"
     ]
    },
    {
     "name": "stderr",
     "output_type": "stream",
     "text": [
      "\n",
      " 86%|████████▌ | 18/21 [04:01<00:40, 13.41s/it]\u001b[A"
     ]
    },
    {
     "name": "stdout",
     "output_type": "stream",
     "text": [
      "Using TensorFlow backend.\n",
      "2020-06-15 17:09:21.902933: I tensorflow/core/platform/cpu_feature_guard.cc:143] Your CPU supports instructions that this TensorFlow binary was not compiled to use: AVX2 FMA\n",
      "2020-06-15 17:09:21.927664: I tensorflow/compiler/xla/service/service.cc:168] XLA service 0x7fc9c6f23030 initialized for platform Host (this does not guarantee that XLA will be used). Devices:\n",
      "2020-06-15 17:09:21.927689: I tensorflow/compiler/xla/service/service.cc:176]   StreamExecutor device (0): Host, Default Version\n",
      "/Users/lalith/opt/anaconda3/lib/python3.7/site-packages/keras/activations.py:235: UserWarning: Do not pass a layer instance (such as LeakyReLU) as the activation argument of another layer. Instead, advanced activation layers should be used just like any other layer in a model.\n",
      "  identifier=identifier.__class__.__name__))\n",
      "100%|█████████████████████████████████████████████| 3/3 [00:10<00:00,  3.64s/it]\n",
      "2020-06-15 17:09:34.402006: Evaluation complete\n",
      "2020-06-15 17:09:34.479574: Save evaluate label at /Users/lalith/Downloads/Sent2Lalith/nifti/m000-104-AG_FDGdyn_AC_ID_cleared/panda/PANDA_2850_m000-f0019-m000-104-AG_FDGdyn_AC_ID_cleared.nii success\n"
     ]
    },
    {
     "name": "stderr",
     "output_type": "stream",
     "text": [
      "\n",
      " 90%|█████████ | 19/21 [04:19<00:29, 14.70s/it]\u001b[A"
     ]
    },
    {
     "name": "stdout",
     "output_type": "stream",
     "text": [
      "Using TensorFlow backend.\n",
      "2020-06-15 17:09:39.572434: I tensorflow/core/platform/cpu_feature_guard.cc:143] Your CPU supports instructions that this TensorFlow binary was not compiled to use: AVX2 FMA\n",
      "2020-06-15 17:09:39.583326: I tensorflow/compiler/xla/service/service.cc:168] XLA service 0x7fbaf1138760 initialized for platform Host (this does not guarantee that XLA will be used). Devices:\n",
      "2020-06-15 17:09:39.583341: I tensorflow/compiler/xla/service/service.cc:176]   StreamExecutor device (0): Host, Default Version\n",
      "/Users/lalith/opt/anaconda3/lib/python3.7/site-packages/keras/activations.py:235: UserWarning: Do not pass a layer instance (such as LeakyReLU) as the activation argument of another layer. Instead, advanced activation layers should be used just like any other layer in a model.\n",
      "  identifier=identifier.__class__.__name__))\n",
      "100%|█████████████████████████████████████████████| 3/3 [00:08<00:00,  2.83s/it]\n",
      "2020-06-15 17:09:49.474868: Evaluation complete\n",
      "2020-06-15 17:09:49.544709: Save evaluate label at /Users/lalith/Downloads/Sent2Lalith/nifti/m000-104-AG_FDGdyn_AC_ID_cleared/panda/PANDA_3150_m000-f0020-m000-104-AG_FDGdyn_AC_ID_cleared.nii success\n"
     ]
    },
    {
     "name": "stderr",
     "output_type": "stream",
     "text": [
      "\n",
      " 95%|█████████▌| 20/21 [04:34<00:14, 14.81s/it]\u001b[A"
     ]
    },
    {
     "name": "stdout",
     "output_type": "stream",
     "text": [
      "Using TensorFlow backend.\n",
      "2020-06-15 17:09:54.507329: I tensorflow/core/platform/cpu_feature_guard.cc:143] Your CPU supports instructions that this TensorFlow binary was not compiled to use: AVX2 FMA\n",
      "2020-06-15 17:09:54.518202: I tensorflow/compiler/xla/service/service.cc:168] XLA service 0x7fe5fa650ab0 initialized for platform Host (this does not guarantee that XLA will be used). Devices:\n",
      "2020-06-15 17:09:54.518234: I tensorflow/compiler/xla/service/service.cc:176]   StreamExecutor device (0): Host, Default Version\n",
      "/Users/lalith/opt/anaconda3/lib/python3.7/site-packages/keras/activations.py:235: UserWarning: Do not pass a layer instance (such as LeakyReLU) as the activation argument of another layer. Instead, advanced activation layers should be used just like any other layer in a model.\n",
      "  identifier=identifier.__class__.__name__))\n",
      "100%|█████████████████████████████████████████████| 3/3 [00:05<00:00,  1.68s/it]\n",
      "2020-06-15 17:10:00.900946: Evaluation complete\n",
      "2020-06-15 17:10:00.949363: Save evaluate label at /Users/lalith/Downloads/Sent2Lalith/nifti/m000-104-AG_FDGdyn_AC_ID_cleared/panda/PANDA_3450_m000-f0021-m000-104-AG_FDGdyn_AC_ID_cleared.nii success\n"
     ]
    },
    {
     "name": "stderr",
     "output_type": "stream",
     "text": [
      "\n",
      "100%|██████████| 21/21 [04:45<00:00, 13.60s/it]\u001b[A\n",
      " 30%|███       | 3/10 [13:48<32:15, 276.46s/it]\n",
      "100%|██████████| 21/21 [00:00<00:00, 3990.23it/s]\n",
      "\n",
      "  0%|          | 0/21 [00:00<?, ?it/s]\u001b[A"
     ]
    },
    {
     "name": "stdout",
     "output_type": "stream",
     "text": [
      "Directory  panda  Created \n",
      "Using TensorFlow backend.\n",
      "2020-06-15 17:10:04.986751: I tensorflow/core/platform/cpu_feature_guard.cc:143] Your CPU supports instructions that this TensorFlow binary was not compiled to use: AVX2 FMA\n",
      "2020-06-15 17:10:04.997611: I tensorflow/compiler/xla/service/service.cc:168] XLA service 0x7fc02fbcd880 initialized for platform Host (this does not guarantee that XLA will be used). Devices:\n",
      "2020-06-15 17:10:04.997660: I tensorflow/compiler/xla/service/service.cc:176]   StreamExecutor device (0): Host, Default Version\n",
      "/Users/lalith/opt/anaconda3/lib/python3.7/site-packages/keras/activations.py:235: UserWarning: Do not pass a layer instance (such as LeakyReLU) as the activation argument of another layer. Instead, advanced activation layers should be used just like any other layer in a model.\n",
      "  identifier=identifier.__class__.__name__))\n",
      "100%|█████████████████████████████████████████████| 3/3 [00:05<00:00,  1.95s/it]\n",
      "2020-06-15 17:10:12.363120: Evaluation complete\n",
      "2020-06-15 17:10:12.410351: Save evaluate label at /Users/lalith/Downloads/Sent2Lalith/nifti/m000-105-AH_FDGdyn_AC_ID_cleared/panda/PANDA_8_m000-f0001-m000-105-AH_FDGdyn_AC_ID_cleared.nii success\n"
     ]
    },
    {
     "name": "stderr",
     "output_type": "stream",
     "text": [
      "\n",
      "  5%|▍         | 1/21 [00:11<03:48, 11.44s/it]\u001b[A"
     ]
    },
    {
     "name": "stdout",
     "output_type": "stream",
     "text": [
      "Using TensorFlow backend.\n",
      "2020-06-15 17:10:16.758361: I tensorflow/core/platform/cpu_feature_guard.cc:143] Your CPU supports instructions that this TensorFlow binary was not compiled to use: AVX2 FMA\n",
      "2020-06-15 17:10:16.770122: I tensorflow/compiler/xla/service/service.cc:168] XLA service 0x7fe07ce706e0 initialized for platform Host (this does not guarantee that XLA will be used). Devices:\n",
      "2020-06-15 17:10:16.770137: I tensorflow/compiler/xla/service/service.cc:176]   StreamExecutor device (0): Host, Default Version\n",
      "/Users/lalith/opt/anaconda3/lib/python3.7/site-packages/keras/activations.py:235: UserWarning: Do not pass a layer instance (such as LeakyReLU) as the activation argument of another layer. Instead, advanced activation layers should be used just like any other layer in a model.\n",
      "  identifier=identifier.__class__.__name__))\n",
      "100%|█████████████████████████████████████████████| 3/3 [00:05<00:00,  1.96s/it]\n",
      "2020-06-15 17:10:24.017614: Evaluation complete\n",
      "2020-06-15 17:10:24.069654: Save evaluate label at /Users/lalith/Downloads/Sent2Lalith/nifti/m000-105-AH_FDGdyn_AC_ID_cleared/panda/PANDA_18_m000-f0002-m000-105-AH_FDGdyn_AC_ID_cleared.nii success\n"
     ]
    },
    {
     "name": "stderr",
     "output_type": "stream",
     "text": [
      "\n",
      " 10%|▉         | 2/21 [00:23<03:38, 11.51s/it]\u001b[A"
     ]
    },
    {
     "name": "stdout",
     "output_type": "stream",
     "text": [
      "Using TensorFlow backend.\n",
      "2020-06-15 17:10:28.183211: I tensorflow/core/platform/cpu_feature_guard.cc:143] Your CPU supports instructions that this TensorFlow binary was not compiled to use: AVX2 FMA\n",
      "2020-06-15 17:10:28.195744: I tensorflow/compiler/xla/service/service.cc:168] XLA service 0x7fb55b22f550 initialized for platform Host (this does not guarantee that XLA will be used). Devices:\n",
      "2020-06-15 17:10:28.195760: I tensorflow/compiler/xla/service/service.cc:176]   StreamExecutor device (0): Host, Default Version\n",
      "/Users/lalith/opt/anaconda3/lib/python3.7/site-packages/keras/activations.py:235: UserWarning: Do not pass a layer instance (such as LeakyReLU) as the activation argument of another layer. Instead, advanced activation layers should be used just like any other layer in a model.\n",
      "  identifier=identifier.__class__.__name__))\n",
      "100%|█████████████████████████████████████████████| 3/3 [00:08<00:00,  2.88s/it]\n",
      "2020-06-15 17:10:38.260658: Evaluation complete\n",
      "2020-06-15 17:10:38.309646: Save evaluate label at /Users/lalith/Downloads/Sent2Lalith/nifti/m000-105-AH_FDGdyn_AC_ID_cleared/panda/PANDA_23_m000-f0003-m000-105-AH_FDGdyn_AC_ID_cleared.nii success\n"
     ]
    },
    {
     "name": "stderr",
     "output_type": "stream",
     "text": [
      "\n",
      " 14%|█▍        | 3/21 [00:37<03:43, 12.40s/it]\u001b[A"
     ]
    },
    {
     "name": "stdout",
     "output_type": "stream",
     "text": [
      "Using TensorFlow backend.\n",
      "2020-06-15 17:10:43.632294: I tensorflow/core/platform/cpu_feature_guard.cc:143] Your CPU supports instructions that this TensorFlow binary was not compiled to use: AVX2 FMA\n",
      "2020-06-15 17:10:43.644005: I tensorflow/compiler/xla/service/service.cc:168] XLA service 0x7fb5d0a24230 initialized for platform Host (this does not guarantee that XLA will be used). Devices:\n",
      "2020-06-15 17:10:43.644023: I tensorflow/compiler/xla/service/service.cc:176]   StreamExecutor device (0): Host, Default Version\n",
      "/Users/lalith/opt/anaconda3/lib/python3.7/site-packages/keras/activations.py:235: UserWarning: Do not pass a layer instance (such as LeakyReLU) as the activation argument of another layer. Instead, advanced activation layers should be used just like any other layer in a model.\n",
      "  identifier=identifier.__class__.__name__))\n",
      "100%|█████████████████████████████████████████████| 3/3 [00:07<00:00,  2.43s/it]\n",
      "2020-06-15 17:10:52.344415: Evaluation complete\n",
      "2020-06-15 17:10:52.392578: Save evaluate label at /Users/lalith/Downloads/Sent2Lalith/nifti/m000-105-AH_FDGdyn_AC_ID_cleared/panda/PANDA_28_m000-f0004-m000-105-AH_FDGdyn_AC_ID_cleared.nii success\n"
     ]
    },
    {
     "name": "stderr",
     "output_type": "stream",
     "text": [
      "\n",
      " 19%|█▉        | 4/21 [00:51<03:38, 12.83s/it]\u001b[A"
     ]
    },
    {
     "name": "stdout",
     "output_type": "stream",
     "text": [
      "Using TensorFlow backend.\n",
      "2020-06-15 17:10:56.795160: I tensorflow/core/platform/cpu_feature_guard.cc:143] Your CPU supports instructions that this TensorFlow binary was not compiled to use: AVX2 FMA\n",
      "2020-06-15 17:10:56.805638: I tensorflow/compiler/xla/service/service.cc:168] XLA service 0x7fe10e82b0a0 initialized for platform Host (this does not guarantee that XLA will be used). Devices:\n",
      "2020-06-15 17:10:56.805655: I tensorflow/compiler/xla/service/service.cc:176]   StreamExecutor device (0): Host, Default Version\n",
      "/Users/lalith/opt/anaconda3/lib/python3.7/site-packages/keras/activations.py:235: UserWarning: Do not pass a layer instance (such as LeakyReLU) as the activation argument of another layer. Instead, advanced activation layers should be used just like any other layer in a model.\n",
      "  identifier=identifier.__class__.__name__))\n",
      "100%|█████████████████████████████████████████████| 3/3 [00:05<00:00,  1.73s/it]\n",
      "2020-06-15 17:11:03.385210: Evaluation complete\n",
      "2020-06-15 17:11:03.434260: Save evaluate label at /Users/lalith/Downloads/Sent2Lalith/nifti/m000-105-AH_FDGdyn_AC_ID_cleared/panda/PANDA_35_m000-f0005-m000-105-AH_FDGdyn_AC_ID_cleared.nii success\n"
     ]
    },
    {
     "name": "stderr",
     "output_type": "stream",
     "text": [
      "\n",
      " 24%|██▍       | 5/21 [01:02<03:16, 12.29s/it]\u001b[A"
     ]
    },
    {
     "name": "stdout",
     "output_type": "stream",
     "text": [
      "Using TensorFlow backend.\n",
      "2020-06-15 17:11:07.240252: I tensorflow/core/platform/cpu_feature_guard.cc:143] Your CPU supports instructions that this TensorFlow binary was not compiled to use: AVX2 FMA\n",
      "2020-06-15 17:11:07.250959: I tensorflow/compiler/xla/service/service.cc:168] XLA service 0x7ffd924db050 initialized for platform Host (this does not guarantee that XLA will be used). Devices:\n",
      "2020-06-15 17:11:07.250991: I tensorflow/compiler/xla/service/service.cc:176]   StreamExecutor device (0): Host, Default Version\n",
      "/Users/lalith/opt/anaconda3/lib/python3.7/site-packages/keras/activations.py:235: UserWarning: Do not pass a layer instance (such as LeakyReLU) as the activation argument of another layer. Instead, advanced activation layers should be used just like any other layer in a model.\n",
      "  identifier=identifier.__class__.__name__))\n",
      "100%|█████████████████████████████████████████████| 3/3 [00:05<00:00,  1.75s/it]\n",
      "2020-06-15 17:11:13.832883: Evaluation complete\n",
      "2020-06-15 17:11:13.879417: Save evaluate label at /Users/lalith/Downloads/Sent2Lalith/nifti/m000-105-AH_FDGdyn_AC_ID_cleared/panda/PANDA_45_m000-f0006-m000-105-AH_FDGdyn_AC_ID_cleared.nii success\n"
     ]
    },
    {
     "name": "stderr",
     "output_type": "stream",
     "text": [
      "\n",
      " 29%|██▊       | 6/21 [01:12<02:56, 11.74s/it]\u001b[A"
     ]
    },
    {
     "name": "stdout",
     "output_type": "stream",
     "text": [
      "Using TensorFlow backend.\n",
      "2020-06-15 17:11:18.038855: I tensorflow/core/platform/cpu_feature_guard.cc:143] Your CPU supports instructions that this TensorFlow binary was not compiled to use: AVX2 FMA\n",
      "2020-06-15 17:11:18.049391: I tensorflow/compiler/xla/service/service.cc:168] XLA service 0x7fa6c09337c0 initialized for platform Host (this does not guarantee that XLA will be used). Devices:\n",
      "2020-06-15 17:11:18.049407: I tensorflow/compiler/xla/service/service.cc:176]   StreamExecutor device (0): Host, Default Version\n",
      "/Users/lalith/opt/anaconda3/lib/python3.7/site-packages/keras/activations.py:235: UserWarning: Do not pass a layer instance (such as LeakyReLU) as the activation argument of another layer. Instead, advanced activation layers should be used just like any other layer in a model.\n",
      "  identifier=identifier.__class__.__name__))\n",
      "100%|█████████████████████████████████████████████| 3/3 [00:14<00:00,  4.77s/it]\n",
      "2020-06-15 17:11:33.751507: Evaluation complete\n",
      "2020-06-15 17:11:33.816947: Save evaluate label at /Users/lalith/Downloads/Sent2Lalith/nifti/m000-105-AH_FDGdyn_AC_ID_cleared/panda/PANDA_55_m000-f0007-m000-105-AH_FDGdyn_AC_ID_cleared.nii success\n"
     ]
    },
    {
     "name": "stderr",
     "output_type": "stream",
     "text": [
      "\n",
      " 33%|███▎      | 7/21 [01:33<03:20, 14.34s/it]\u001b[A"
     ]
    },
    {
     "name": "stdout",
     "output_type": "stream",
     "text": [
      "Using TensorFlow backend.\n",
      "2020-06-15 17:11:39.374582: I tensorflow/core/platform/cpu_feature_guard.cc:143] Your CPU supports instructions that this TensorFlow binary was not compiled to use: AVX2 FMA\n",
      "2020-06-15 17:11:39.387444: I tensorflow/compiler/xla/service/service.cc:168] XLA service 0x7fa9320745a0 initialized for platform Host (this does not guarantee that XLA will be used). Devices:\n",
      "2020-06-15 17:11:39.387463: I tensorflow/compiler/xla/service/service.cc:176]   StreamExecutor device (0): Host, Default Version\n",
      "/Users/lalith/opt/anaconda3/lib/python3.7/site-packages/keras/activations.py:235: UserWarning: Do not pass a layer instance (such as LeakyReLU) as the activation argument of another layer. Instead, advanced activation layers should be used just like any other layer in a model.\n",
      "  identifier=identifier.__class__.__name__))\n",
      "100%|█████████████████████████████████████████████| 3/3 [00:08<00:00,  2.88s/it]\n",
      "2020-06-15 17:11:49.618644: Evaluation complete\n",
      "2020-06-15 17:11:49.702273: Save evaluate label at /Users/lalith/Downloads/Sent2Lalith/nifti/m000-105-AH_FDGdyn_AC_ID_cleared/panda/PANDA_90_m000-f0008-m000-105-AH_FDGdyn_AC_ID_cleared.nii success\n"
     ]
    },
    {
     "name": "stderr",
     "output_type": "stream",
     "text": [
      "\n",
      " 38%|███▊      | 8/21 [01:49<03:11, 14.75s/it]\u001b[A"
     ]
    },
    {
     "name": "stdout",
     "output_type": "stream",
     "text": [
      "Using TensorFlow backend.\n",
      "2020-06-15 17:11:55.210019: I tensorflow/core/platform/cpu_feature_guard.cc:143] Your CPU supports instructions that this TensorFlow binary was not compiled to use: AVX2 FMA\n",
      "2020-06-15 17:11:55.222578: I tensorflow/compiler/xla/service/service.cc:168] XLA service 0x7fa2bdad0680 initialized for platform Host (this does not guarantee that XLA will be used). Devices:\n",
      "2020-06-15 17:11:55.222611: I tensorflow/compiler/xla/service/service.cc:176]   StreamExecutor device (0): Host, Default Version\n",
      "/Users/lalith/opt/anaconda3/lib/python3.7/site-packages/keras/activations.py:235: UserWarning: Do not pass a layer instance (such as LeakyReLU) as the activation argument of another layer. Instead, advanced activation layers should be used just like any other layer in a model.\n",
      "  identifier=identifier.__class__.__name__))\n",
      "100%|█████████████████████████████████████████████| 3/3 [00:05<00:00,  1.88s/it]\n",
      "2020-06-15 17:12:02.228310: Evaluation complete\n",
      "2020-06-15 17:12:02.272390: Save evaluate label at /Users/lalith/Downloads/Sent2Lalith/nifti/m000-105-AH_FDGdyn_AC_ID_cleared/panda/PANDA_150_m000-f0009-m000-105-AH_FDGdyn_AC_ID_cleared.nii success\n"
     ]
    },
    {
     "name": "stderr",
     "output_type": "stream",
     "text": [
      "\n",
      " 43%|████▎     | 9/21 [02:01<02:48, 14.00s/it]\u001b[A"
     ]
    },
    {
     "name": "stdout",
     "output_type": "stream",
     "text": [
      "Using TensorFlow backend.\n",
      "2020-06-15 17:12:06.174758: I tensorflow/core/platform/cpu_feature_guard.cc:143] Your CPU supports instructions that this TensorFlow binary was not compiled to use: AVX2 FMA\n",
      "2020-06-15 17:12:06.185136: I tensorflow/compiler/xla/service/service.cc:168] XLA service 0x7fe4456c5910 initialized for platform Host (this does not guarantee that XLA will be used). Devices:\n",
      "2020-06-15 17:12:06.185167: I tensorflow/compiler/xla/service/service.cc:176]   StreamExecutor device (0): Host, Default Version\n",
      "/Users/lalith/opt/anaconda3/lib/python3.7/site-packages/keras/activations.py:235: UserWarning: Do not pass a layer instance (such as LeakyReLU) as the activation argument of another layer. Instead, advanced activation layers should be used just like any other layer in a model.\n",
      "  identifier=identifier.__class__.__name__))\n",
      "100%|█████████████████████████████████████████████| 3/3 [00:04<00:00,  1.63s/it]\n",
      "2020-06-15 17:12:12.505125: Evaluation complete\n",
      "2020-06-15 17:12:12.560749: Save evaluate label at /Users/lalith/Downloads/Sent2Lalith/nifti/m000-105-AH_FDGdyn_AC_ID_cleared/panda/PANDA_210_m000-f0010-m000-105-AH_FDGdyn_AC_ID_cleared.nii success\n"
     ]
    },
    {
     "name": "stderr",
     "output_type": "stream",
     "text": [
      "\n",
      " 48%|████▊     | 10/21 [02:11<02:21, 12.89s/it]\u001b[A"
     ]
    },
    {
     "name": "stdout",
     "output_type": "stream",
     "text": [
      "Using TensorFlow backend.\n",
      "2020-06-15 17:12:16.616933: I tensorflow/core/platform/cpu_feature_guard.cc:143] Your CPU supports instructions that this TensorFlow binary was not compiled to use: AVX2 FMA\n",
      "2020-06-15 17:12:16.628591: I tensorflow/compiler/xla/service/service.cc:168] XLA service 0x7f8fd0393230 initialized for platform Host (this does not guarantee that XLA will be used). Devices:\n",
      "2020-06-15 17:12:16.628623: I tensorflow/compiler/xla/service/service.cc:176]   StreamExecutor device (0): Host, Default Version\n",
      "/Users/lalith/opt/anaconda3/lib/python3.7/site-packages/keras/activations.py:235: UserWarning: Do not pass a layer instance (such as LeakyReLU) as the activation argument of another layer. Instead, advanced activation layers should be used just like any other layer in a model.\n",
      "  identifier=identifier.__class__.__name__))\n",
      "100%|█████████████████████████████████████████████| 3/3 [00:05<00:00,  1.86s/it]\n",
      "2020-06-15 17:12:23.551610: Evaluation complete\n",
      "2020-06-15 17:12:23.599097: Save evaluate label at /Users/lalith/Downloads/Sent2Lalith/nifti/m000-105-AH_FDGdyn_AC_ID_cleared/panda/PANDA_270_m000-f0011-m000-105-AH_FDGdyn_AC_ID_cleared.nii success\n"
     ]
    },
    {
     "name": "stderr",
     "output_type": "stream",
     "text": [
      "\n",
      " 52%|█████▏    | 11/21 [02:22<02:03, 12.34s/it]\u001b[A"
     ]
    },
    {
     "name": "stdout",
     "output_type": "stream",
     "text": [
      "Using TensorFlow backend.\n",
      "2020-06-15 17:12:27.355782: I tensorflow/core/platform/cpu_feature_guard.cc:143] Your CPU supports instructions that this TensorFlow binary was not compiled to use: AVX2 FMA\n",
      "2020-06-15 17:12:27.365743: I tensorflow/compiler/xla/service/service.cc:168] XLA service 0x7fb657daa0f0 initialized for platform Host (this does not guarantee that XLA will be used). Devices:\n",
      "2020-06-15 17:12:27.365775: I tensorflow/compiler/xla/service/service.cc:176]   StreamExecutor device (0): Host, Default Version\n",
      "/Users/lalith/opt/anaconda3/lib/python3.7/site-packages/keras/activations.py:235: UserWarning: Do not pass a layer instance (such as LeakyReLU) as the activation argument of another layer. Instead, advanced activation layers should be used just like any other layer in a model.\n",
      "  identifier=identifier.__class__.__name__))\n",
      "100%|█████████████████████████████████████████████| 3/3 [00:05<00:00,  1.85s/it]\n",
      "2020-06-15 17:12:34.318876: Evaluation complete\n",
      "2020-06-15 17:12:34.367283: Save evaluate label at /Users/lalith/Downloads/Sent2Lalith/nifti/m000-105-AH_FDGdyn_AC_ID_cleared/panda/PANDA_375_m000-f0012-m000-105-AH_FDGdyn_AC_ID_cleared.nii success\n"
     ]
    },
    {
     "name": "stderr",
     "output_type": "stream",
     "text": [
      "\n",
      " 57%|█████▋    | 12/21 [02:33<01:46, 11.86s/it]\u001b[A"
     ]
    },
    {
     "name": "stdout",
     "output_type": "stream",
     "text": [
      "Using TensorFlow backend.\n",
      "2020-06-15 17:12:38.309108: I tensorflow/core/platform/cpu_feature_guard.cc:143] Your CPU supports instructions that this TensorFlow binary was not compiled to use: AVX2 FMA\n",
      "2020-06-15 17:12:38.319282: I tensorflow/compiler/xla/service/service.cc:168] XLA service 0x7fe2900e4a00 initialized for platform Host (this does not guarantee that XLA will be used). Devices:\n",
      "2020-06-15 17:12:38.319329: I tensorflow/compiler/xla/service/service.cc:176]   StreamExecutor device (0): Host, Default Version\n",
      "/Users/lalith/opt/anaconda3/lib/python3.7/site-packages/keras/activations.py:235: UserWarning: Do not pass a layer instance (such as LeakyReLU) as the activation argument of another layer. Instead, advanced activation layers should be used just like any other layer in a model.\n",
      "  identifier=identifier.__class__.__name__))\n",
      "100%|█████████████████████████████████████████████| 3/3 [00:05<00:00,  1.91s/it]\n",
      "2020-06-15 17:12:45.379965: Evaluation complete\n",
      "2020-06-15 17:12:45.427456: Save evaluate label at /Users/lalith/Downloads/Sent2Lalith/nifti/m000-105-AH_FDGdyn_AC_ID_cleared/panda/PANDA_525_m000-f0013-m000-105-AH_FDGdyn_AC_ID_cleared.nii success\n"
     ]
    },
    {
     "name": "stderr",
     "output_type": "stream",
     "text": [
      "\n",
      " 62%|██████▏   | 13/21 [02:44<01:32, 11.62s/it]\u001b[A"
     ]
    },
    {
     "name": "stdout",
     "output_type": "stream",
     "text": [
      "Using TensorFlow backend.\n",
      "2020-06-15 17:12:49.209439: I tensorflow/core/platform/cpu_feature_guard.cc:143] Your CPU supports instructions that this TensorFlow binary was not compiled to use: AVX2 FMA\n",
      "2020-06-15 17:12:49.220828: I tensorflow/compiler/xla/service/service.cc:168] XLA service 0x7feaee37ec80 initialized for platform Host (this does not guarantee that XLA will be used). Devices:\n",
      "2020-06-15 17:12:49.220844: I tensorflow/compiler/xla/service/service.cc:176]   StreamExecutor device (0): Host, Default Version\n",
      "/Users/lalith/opt/anaconda3/lib/python3.7/site-packages/keras/activations.py:235: UserWarning: Do not pass a layer instance (such as LeakyReLU) as the activation argument of another layer. Instead, advanced activation layers should be used just like any other layer in a model.\n",
      "  identifier=identifier.__class__.__name__))\n",
      "100%|█████████████████████████████████████████████| 3/3 [00:06<00:00,  2.01s/it]\n",
      "2020-06-15 17:12:56.693365: Evaluation complete\n",
      "2020-06-15 17:12:56.750737: Save evaluate label at /Users/lalith/Downloads/Sent2Lalith/nifti/m000-105-AH_FDGdyn_AC_ID_cleared/panda/PANDA_750_m000-f0014-m000-105-AH_FDGdyn_AC_ID_cleared.nii success\n"
     ]
    },
    {
     "name": "stderr",
     "output_type": "stream",
     "text": [
      "\n",
      " 67%|██████▋   | 14/21 [02:55<01:20, 11.55s/it]\u001b[A"
     ]
    },
    {
     "name": "stdout",
     "output_type": "stream",
     "text": [
      "Using TensorFlow backend.\n",
      "2020-06-15 17:13:00.621289: I tensorflow/core/platform/cpu_feature_guard.cc:143] Your CPU supports instructions that this TensorFlow binary was not compiled to use: AVX2 FMA\n",
      "2020-06-15 17:13:00.631792: I tensorflow/compiler/xla/service/service.cc:168] XLA service 0x7f838c3ad7a0 initialized for platform Host (this does not guarantee that XLA will be used). Devices:\n",
      "2020-06-15 17:13:00.631826: I tensorflow/compiler/xla/service/service.cc:176]   StreamExecutor device (0): Host, Default Version\n",
      "/Users/lalith/opt/anaconda3/lib/python3.7/site-packages/keras/activations.py:235: UserWarning: Do not pass a layer instance (such as LeakyReLU) as the activation argument of another layer. Instead, advanced activation layers should be used just like any other layer in a model.\n",
      "  identifier=identifier.__class__.__name__))\n",
      "100%|█████████████████████████████████████████████| 3/3 [00:07<00:00,  2.45s/it]\n",
      "2020-06-15 17:13:09.433153: Evaluation complete\n",
      "2020-06-15 17:13:09.483365: Save evaluate label at /Users/lalith/Downloads/Sent2Lalith/nifti/m000-105-AH_FDGdyn_AC_ID_cleared/panda/PANDA_1050_m000-f0015-m000-105-AH_FDGdyn_AC_ID_cleared.nii success\n"
     ]
    },
    {
     "name": "stderr",
     "output_type": "stream",
     "text": [
      "\n",
      " 71%|███████▏  | 15/21 [03:08<01:11, 11.96s/it]\u001b[A"
     ]
    },
    {
     "name": "stdout",
     "output_type": "stream",
     "text": [
      "Using TensorFlow backend.\n",
      "2020-06-15 17:13:13.489927: I tensorflow/core/platform/cpu_feature_guard.cc:143] Your CPU supports instructions that this TensorFlow binary was not compiled to use: AVX2 FMA\n",
      "2020-06-15 17:13:13.500019: I tensorflow/compiler/xla/service/service.cc:168] XLA service 0x7fb160c96cf0 initialized for platform Host (this does not guarantee that XLA will be used). Devices:\n",
      "2020-06-15 17:13:13.500035: I tensorflow/compiler/xla/service/service.cc:176]   StreamExecutor device (0): Host, Default Version\n",
      "/Users/lalith/opt/anaconda3/lib/python3.7/site-packages/keras/activations.py:235: UserWarning: Do not pass a layer instance (such as LeakyReLU) as the activation argument of another layer. Instead, advanced activation layers should be used just like any other layer in a model.\n",
      "  identifier=identifier.__class__.__name__))\n",
      "100%|█████████████████████████████████████████████| 3/3 [00:06<00:00,  2.23s/it]\n",
      "2020-06-15 17:13:21.623286: Evaluation complete\n",
      "2020-06-15 17:13:21.670825: Save evaluate label at /Users/lalith/Downloads/Sent2Lalith/nifti/m000-105-AH_FDGdyn_AC_ID_cleared/panda/PANDA_1500_m000-f0016-m000-105-AH_FDGdyn_AC_ID_cleared.nii success\n"
     ]
    },
    {
     "name": "stderr",
     "output_type": "stream",
     "text": [
      "\n",
      " 76%|███████▌  | 16/21 [03:20<00:59, 11.98s/it]\u001b[A"
     ]
    },
    {
     "name": "stdout",
     "output_type": "stream",
     "text": [
      "Using TensorFlow backend.\n",
      "2020-06-15 17:13:25.976850: I tensorflow/core/platform/cpu_feature_guard.cc:143] Your CPU supports instructions that this TensorFlow binary was not compiled to use: AVX2 FMA\n",
      "2020-06-15 17:13:25.987318: I tensorflow/compiler/xla/service/service.cc:168] XLA service 0x7fc68736f160 initialized for platform Host (this does not guarantee that XLA will be used). Devices:\n",
      "2020-06-15 17:13:25.987351: I tensorflow/compiler/xla/service/service.cc:176]   StreamExecutor device (0): Host, Default Version\n",
      "/Users/lalith/opt/anaconda3/lib/python3.7/site-packages/keras/activations.py:235: UserWarning: Do not pass a layer instance (such as LeakyReLU) as the activation argument of another layer. Instead, advanced activation layers should be used just like any other layer in a model.\n",
      "  identifier=identifier.__class__.__name__))\n",
      "100%|█████████████████████████████████████████████| 3/3 [00:08<00:00,  2.87s/it]\n",
      "2020-06-15 17:13:36.101423: Evaluation complete\n",
      "2020-06-15 17:13:36.153724: Save evaluate label at /Users/lalith/Downloads/Sent2Lalith/nifti/m000-105-AH_FDGdyn_AC_ID_cleared/panda/PANDA_2100_m000-f0017-m000-105-AH_FDGdyn_AC_ID_cleared.nii success\n"
     ]
    },
    {
     "name": "stderr",
     "output_type": "stream",
     "text": [
      "\n",
      " 81%|████████  | 17/21 [03:35<00:51, 12.81s/it]\u001b[A"
     ]
    },
    {
     "name": "stdout",
     "output_type": "stream",
     "text": [
      "Using TensorFlow backend.\n",
      "2020-06-15 17:13:41.749323: I tensorflow/core/platform/cpu_feature_guard.cc:143] Your CPU supports instructions that this TensorFlow binary was not compiled to use: AVX2 FMA\n",
      "2020-06-15 17:13:41.759905: I tensorflow/compiler/xla/service/service.cc:168] XLA service 0x7fb62d0909c0 initialized for platform Host (this does not guarantee that XLA will be used). Devices:\n",
      "2020-06-15 17:13:41.759922: I tensorflow/compiler/xla/service/service.cc:176]   StreamExecutor device (0): Host, Default Version\n",
      "/Users/lalith/opt/anaconda3/lib/python3.7/site-packages/keras/activations.py:235: UserWarning: Do not pass a layer instance (such as LeakyReLU) as the activation argument of another layer. Instead, advanced activation layers should be used just like any other layer in a model.\n",
      "  identifier=identifier.__class__.__name__))\n",
      "100%|█████████████████████████████████████████████| 3/3 [00:08<00:00,  2.99s/it]\n",
      "2020-06-15 17:13:52.141186: Evaluation complete\n",
      "2020-06-15 17:13:52.192532: Save evaluate label at /Users/lalith/Downloads/Sent2Lalith/nifti/m000-105-AH_FDGdyn_AC_ID_cleared/panda/PANDA_2550_m000-f0018-m000-105-AH_FDGdyn_AC_ID_cleared.nii success\n"
     ]
    },
    {
     "name": "stderr",
     "output_type": "stream",
     "text": [
      "\n",
      " 86%|████████▌ | 18/21 [03:51<00:41, 13.78s/it]\u001b[A"
     ]
    },
    {
     "name": "stdout",
     "output_type": "stream",
     "text": [
      "Using TensorFlow backend.\n",
      "2020-06-15 17:13:57.361125: I tensorflow/core/platform/cpu_feature_guard.cc:143] Your CPU supports instructions that this TensorFlow binary was not compiled to use: AVX2 FMA\n",
      "2020-06-15 17:13:57.372001: I tensorflow/compiler/xla/service/service.cc:168] XLA service 0x7fbea025af90 initialized for platform Host (this does not guarantee that XLA will be used). Devices:\n",
      "2020-06-15 17:13:57.372020: I tensorflow/compiler/xla/service/service.cc:176]   StreamExecutor device (0): Host, Default Version\n",
      "/Users/lalith/opt/anaconda3/lib/python3.7/site-packages/keras/activations.py:235: UserWarning: Do not pass a layer instance (such as LeakyReLU) as the activation argument of another layer. Instead, advanced activation layers should be used just like any other layer in a model.\n",
      "  identifier=identifier.__class__.__name__))\n",
      "100%|█████████████████████████████████████████████| 3/3 [00:07<00:00,  2.50s/it]\n",
      "2020-06-15 17:14:06.368497: Evaluation complete\n",
      "2020-06-15 17:14:06.410513: Save evaluate label at /Users/lalith/Downloads/Sent2Lalith/nifti/m000-105-AH_FDGdyn_AC_ID_cleared/panda/PANDA_2850_m000-f0019-m000-105-AH_FDGdyn_AC_ID_cleared.nii success\n"
     ]
    },
    {
     "name": "stderr",
     "output_type": "stream",
     "text": [
      "\n",
      " 90%|█████████ | 19/21 [04:05<00:27, 13.82s/it]\u001b[A"
     ]
    },
    {
     "name": "stdout",
     "output_type": "stream",
     "text": [
      "Using TensorFlow backend.\n",
      "2020-06-15 17:14:11.438487: I tensorflow/core/platform/cpu_feature_guard.cc:143] Your CPU supports instructions that this TensorFlow binary was not compiled to use: AVX2 FMA\n",
      "2020-06-15 17:14:11.449420: I tensorflow/compiler/xla/service/service.cc:168] XLA service 0x7fd1412e1040 initialized for platform Host (this does not guarantee that XLA will be used). Devices:\n",
      "2020-06-15 17:14:11.449469: I tensorflow/compiler/xla/service/service.cc:176]   StreamExecutor device (0): Host, Default Version\n",
      "/Users/lalith/opt/anaconda3/lib/python3.7/site-packages/keras/activations.py:235: UserWarning: Do not pass a layer instance (such as LeakyReLU) as the activation argument of another layer. Instead, advanced activation layers should be used just like any other layer in a model.\n",
      "  identifier=identifier.__class__.__name__))\n",
      "100%|█████████████████████████████████████████████| 3/3 [00:05<00:00,  1.89s/it]\n",
      "2020-06-15 17:14:18.476222: Evaluation complete\n",
      "2020-06-15 17:14:18.521741: Save evaluate label at /Users/lalith/Downloads/Sent2Lalith/nifti/m000-105-AH_FDGdyn_AC_ID_cleared/panda/PANDA_3150_m000-f0020-m000-105-AH_FDGdyn_AC_ID_cleared.nii success\n"
     ]
    },
    {
     "name": "stderr",
     "output_type": "stream",
     "text": [
      "\n",
      " 95%|█████████▌| 20/21 [04:17<00:13, 13.30s/it]\u001b[A"
     ]
    },
    {
     "name": "stdout",
     "output_type": "stream",
     "text": [
      "Using TensorFlow backend.\n",
      "2020-06-15 17:14:22.835587: I tensorflow/core/platform/cpu_feature_guard.cc:143] Your CPU supports instructions that this TensorFlow binary was not compiled to use: AVX2 FMA\n",
      "2020-06-15 17:14:22.845968: I tensorflow/compiler/xla/service/service.cc:168] XLA service 0x7fef90055fe0 initialized for platform Host (this does not guarantee that XLA will be used). Devices:\n",
      "2020-06-15 17:14:22.846016: I tensorflow/compiler/xla/service/service.cc:176]   StreamExecutor device (0): Host, Default Version\n",
      "/Users/lalith/opt/anaconda3/lib/python3.7/site-packages/keras/activations.py:235: UserWarning: Do not pass a layer instance (such as LeakyReLU) as the activation argument of another layer. Instead, advanced activation layers should be used just like any other layer in a model.\n",
      "  identifier=identifier.__class__.__name__))\n",
      "100%|█████████████████████████████████████████████| 3/3 [00:05<00:00,  1.69s/it]\n",
      "2020-06-15 17:14:29.249073: Evaluation complete\n",
      "2020-06-15 17:14:29.298436: Save evaluate label at /Users/lalith/Downloads/Sent2Lalith/nifti/m000-105-AH_FDGdyn_AC_ID_cleared/panda/PANDA_3450_m000-f0021-m000-105-AH_FDGdyn_AC_ID_cleared.nii success\n"
     ]
    },
    {
     "name": "stderr",
     "output_type": "stream",
     "text": [
      "\n",
      "100%|██████████| 21/21 [04:28<00:00, 12.78s/it]\u001b[A\n",
      " 40%|████      | 4/10 [18:16<27:24, 274.04s/it]\n",
      "100%|██████████| 21/21 [00:00<00:00, 4083.28it/s]\n",
      "\n",
      "  0%|          | 0/21 [00:00<?, ?it/s]\u001b[A"
     ]
    },
    {
     "name": "stdout",
     "output_type": "stream",
     "text": [
      "Directory  panda  Created \n",
      "Using TensorFlow backend.\n",
      "2020-06-15 17:14:33.594712: I tensorflow/core/platform/cpu_feature_guard.cc:143] Your CPU supports instructions that this TensorFlow binary was not compiled to use: AVX2 FMA\n",
      "2020-06-15 17:14:33.604917: I tensorflow/compiler/xla/service/service.cc:168] XLA service 0x7f8721f89940 initialized for platform Host (this does not guarantee that XLA will be used). Devices:\n",
      "2020-06-15 17:14:33.604934: I tensorflow/compiler/xla/service/service.cc:176]   StreamExecutor device (0): Host, Default Version\n",
      "/Users/lalith/opt/anaconda3/lib/python3.7/site-packages/keras/activations.py:235: UserWarning: Do not pass a layer instance (such as LeakyReLU) as the activation argument of another layer. Instead, advanced activation layers should be used just like any other layer in a model.\n",
      "  identifier=identifier.__class__.__name__))\n",
      "100%|█████████████████████████████████████████████| 3/3 [00:05<00:00,  1.72s/it]\n",
      "2020-06-15 17:14:40.160601: Evaluation complete\n",
      "2020-06-15 17:14:40.207601: Save evaluate label at /Users/lalith/Downloads/Sent2Lalith/nifti/m000-120-BT_CTAC_ID_cleared/panda/PANDA_8_m000-f0001-m000-120-BT_CTAC_ID_cleared.nii success\n"
     ]
    },
    {
     "name": "stderr",
     "output_type": "stream",
     "text": [
      "\n",
      "  5%|▍         | 1/21 [00:10<03:36, 10.85s/it]\u001b[A"
     ]
    },
    {
     "name": "stdout",
     "output_type": "stream",
     "text": [
      "Using TensorFlow backend.\n",
      "2020-06-15 17:14:44.595886: I tensorflow/core/platform/cpu_feature_guard.cc:143] Your CPU supports instructions that this TensorFlow binary was not compiled to use: AVX2 FMA\n",
      "2020-06-15 17:14:44.606650: I tensorflow/compiler/xla/service/service.cc:168] XLA service 0x7fe941123850 initialized for platform Host (this does not guarantee that XLA will be used). Devices:\n",
      "2020-06-15 17:14:44.606681: I tensorflow/compiler/xla/service/service.cc:176]   StreamExecutor device (0): Host, Default Version\n",
      "/Users/lalith/opt/anaconda3/lib/python3.7/site-packages/keras/activations.py:235: UserWarning: Do not pass a layer instance (such as LeakyReLU) as the activation argument of another layer. Instead, advanced activation layers should be used just like any other layer in a model.\n",
      "  identifier=identifier.__class__.__name__))\n",
      "100%|█████████████████████████████████████████████| 3/3 [00:05<00:00,  1.69s/it]\n",
      "2020-06-15 17:14:51.029534: Evaluation complete\n",
      "2020-06-15 17:14:51.077806: Save evaluate label at /Users/lalith/Downloads/Sent2Lalith/nifti/m000-120-BT_CTAC_ID_cleared/panda/PANDA_18_m000-f0002-m000-120-BT_CTAC_ID_cleared.nii success\n"
     ]
    },
    {
     "name": "stderr",
     "output_type": "stream",
     "text": [
      "\n",
      " 10%|▉         | 2/21 [00:21<03:26, 10.85s/it]\u001b[A"
     ]
    },
    {
     "name": "stdout",
     "output_type": "stream",
     "text": [
      "Using TensorFlow backend.\n",
      "2020-06-15 17:14:55.343489: I tensorflow/core/platform/cpu_feature_guard.cc:143] Your CPU supports instructions that this TensorFlow binary was not compiled to use: AVX2 FMA\n",
      "2020-06-15 17:14:55.353861: I tensorflow/compiler/xla/service/service.cc:168] XLA service 0x7f85e33c7550 initialized for platform Host (this does not guarantee that XLA will be used). Devices:\n",
      "2020-06-15 17:14:55.353893: I tensorflow/compiler/xla/service/service.cc:176]   StreamExecutor device (0): Host, Default Version\n",
      "/Users/lalith/opt/anaconda3/lib/python3.7/site-packages/keras/activations.py:235: UserWarning: Do not pass a layer instance (such as LeakyReLU) as the activation argument of another layer. Instead, advanced activation layers should be used just like any other layer in a model.\n",
      "  identifier=identifier.__class__.__name__))\n",
      "100%|█████████████████████████████████████████████| 3/3 [00:05<00:00,  1.89s/it]\n",
      "2020-06-15 17:15:02.390805: Evaluation complete\n",
      "2020-06-15 17:15:02.441543: Save evaluate label at /Users/lalith/Downloads/Sent2Lalith/nifti/m000-120-BT_CTAC_ID_cleared/panda/PANDA_23_m000-f0003-m000-120-BT_CTAC_ID_cleared.nii success\n"
     ]
    },
    {
     "name": "stderr",
     "output_type": "stream",
     "text": [
      "\n",
      " 14%|█▍        | 3/21 [00:33<03:19, 11.08s/it]\u001b[A"
     ]
    },
    {
     "name": "stdout",
     "output_type": "stream",
     "text": [
      "Using TensorFlow backend.\n",
      "2020-06-15 17:15:06.979213: I tensorflow/core/platform/cpu_feature_guard.cc:143] Your CPU supports instructions that this TensorFlow binary was not compiled to use: AVX2 FMA\n",
      "2020-06-15 17:15:06.990380: I tensorflow/compiler/xla/service/service.cc:168] XLA service 0x7f8258586b60 initialized for platform Host (this does not guarantee that XLA will be used). Devices:\n",
      "2020-06-15 17:15:06.990412: I tensorflow/compiler/xla/service/service.cc:176]   StreamExecutor device (0): Host, Default Version\n",
      "/Users/lalith/opt/anaconda3/lib/python3.7/site-packages/keras/activations.py:235: UserWarning: Do not pass a layer instance (such as LeakyReLU) as the activation argument of another layer. Instead, advanced activation layers should be used just like any other layer in a model.\n",
      "  identifier=identifier.__class__.__name__))\n",
      "100%|█████████████████████████████████████████████| 3/3 [00:04<00:00,  1.61s/it]\n",
      "2020-06-15 17:15:13.136472: Evaluation complete\n",
      "2020-06-15 17:15:13.185972: Save evaluate label at /Users/lalith/Downloads/Sent2Lalith/nifti/m000-120-BT_CTAC_ID_cleared/panda/PANDA_28_m000-f0004-m000-120-BT_CTAC_ID_cleared.nii success\n"
     ]
    },
    {
     "name": "stderr",
     "output_type": "stream",
     "text": [
      "\n",
      " 19%|█▉        | 4/21 [00:43<03:05, 10.90s/it]\u001b[A"
     ]
    },
    {
     "name": "stdout",
     "output_type": "stream",
     "text": [
      "Using TensorFlow backend.\n",
      "2020-06-15 17:15:17.135743: I tensorflow/core/platform/cpu_feature_guard.cc:143] Your CPU supports instructions that this TensorFlow binary was not compiled to use: AVX2 FMA\n",
      "2020-06-15 17:15:17.146212: I tensorflow/compiler/xla/service/service.cc:168] XLA service 0x7ff1cb74e970 initialized for platform Host (this does not guarantee that XLA will be used). Devices:\n",
      "2020-06-15 17:15:17.146244: I tensorflow/compiler/xla/service/service.cc:176]   StreamExecutor device (0): Host, Default Version\n",
      "/Users/lalith/opt/anaconda3/lib/python3.7/site-packages/keras/activations.py:235: UserWarning: Do not pass a layer instance (such as LeakyReLU) as the activation argument of another layer. Instead, advanced activation layers should be used just like any other layer in a model.\n",
      "  identifier=identifier.__class__.__name__))\n",
      "100%|█████████████████████████████████████████████| 3/3 [00:06<00:00,  2.13s/it]\n",
      "2020-06-15 17:15:24.851048: Evaluation complete\n",
      "2020-06-15 17:15:24.903788: Save evaluate label at /Users/lalith/Downloads/Sent2Lalith/nifti/m000-120-BT_CTAC_ID_cleared/panda/PANDA_35_m000-f0005-m000-120-BT_CTAC_ID_cleared.nii success\n"
     ]
    },
    {
     "name": "stderr",
     "output_type": "stream",
     "text": [
      "\n",
      " 24%|██▍       | 5/21 [00:55<02:58, 11.16s/it]\u001b[A"
     ]
    },
    {
     "name": "stdout",
     "output_type": "stream",
     "text": [
      "Using TensorFlow backend.\n",
      "2020-06-15 17:15:28.857288: I tensorflow/core/platform/cpu_feature_guard.cc:143] Your CPU supports instructions that this TensorFlow binary was not compiled to use: AVX2 FMA\n",
      "2020-06-15 17:15:28.869432: I tensorflow/compiler/xla/service/service.cc:168] XLA service 0x7fa0e324c6a0 initialized for platform Host (this does not guarantee that XLA will be used). Devices:\n",
      "2020-06-15 17:15:28.869484: I tensorflow/compiler/xla/service/service.cc:176]   StreamExecutor device (0): Host, Default Version\n",
      "/Users/lalith/opt/anaconda3/lib/python3.7/site-packages/keras/activations.py:235: UserWarning: Do not pass a layer instance (such as LeakyReLU) as the activation argument of another layer. Instead, advanced activation layers should be used just like any other layer in a model.\n",
      "  identifier=identifier.__class__.__name__))\n",
      "100%|█████████████████████████████████████████████| 3/3 [00:07<00:00,  2.63s/it]\n",
      "2020-06-15 17:15:38.113833: Evaluation complete\n",
      "2020-06-15 17:15:38.163729: Save evaluate label at /Users/lalith/Downloads/Sent2Lalith/nifti/m000-120-BT_CTAC_ID_cleared/panda/PANDA_45_m000-f0006-m000-120-BT_CTAC_ID_cleared.nii success\n"
     ]
    },
    {
     "name": "stderr",
     "output_type": "stream",
     "text": [
      "\n",
      " 29%|██▊       | 6/21 [01:08<02:56, 11.78s/it]\u001b[A"
     ]
    },
    {
     "name": "stdout",
     "output_type": "stream",
     "text": [
      "Using TensorFlow backend.\n",
      "2020-06-15 17:15:42.054303: I tensorflow/core/platform/cpu_feature_guard.cc:143] Your CPU supports instructions that this TensorFlow binary was not compiled to use: AVX2 FMA\n",
      "2020-06-15 17:15:42.064554: I tensorflow/compiler/xla/service/service.cc:168] XLA service 0x7fdbae041cf0 initialized for platform Host (this does not guarantee that XLA will be used). Devices:\n",
      "2020-06-15 17:15:42.064586: I tensorflow/compiler/xla/service/service.cc:176]   StreamExecutor device (0): Host, Default Version\n",
      "/Users/lalith/opt/anaconda3/lib/python3.7/site-packages/keras/activations.py:235: UserWarning: Do not pass a layer instance (such as LeakyReLU) as the activation argument of another layer. Instead, advanced activation layers should be used just like any other layer in a model.\n",
      "  identifier=identifier.__class__.__name__))\n",
      "100%|█████████████████████████████████████████████| 3/3 [00:04<00:00,  1.59s/it]\n",
      "2020-06-15 17:15:48.147356: Evaluation complete\n",
      "2020-06-15 17:15:48.195091: Save evaluate label at /Users/lalith/Downloads/Sent2Lalith/nifti/m000-120-BT_CTAC_ID_cleared/panda/PANDA_55_m000-f0007-m000-120-BT_CTAC_ID_cleared.nii success\n"
     ]
    },
    {
     "name": "stderr",
     "output_type": "stream",
     "text": [
      "\n",
      " 33%|███▎      | 7/21 [01:18<02:37, 11.25s/it]\u001b[A"
     ]
    },
    {
     "name": "stdout",
     "output_type": "stream",
     "text": [
      "Using TensorFlow backend.\n",
      "2020-06-15 17:15:52.076696: I tensorflow/core/platform/cpu_feature_guard.cc:143] Your CPU supports instructions that this TensorFlow binary was not compiled to use: AVX2 FMA\n",
      "2020-06-15 17:15:52.087524: I tensorflow/compiler/xla/service/service.cc:168] XLA service 0x7f805b533340 initialized for platform Host (this does not guarantee that XLA will be used). Devices:\n",
      "2020-06-15 17:15:52.087556: I tensorflow/compiler/xla/service/service.cc:176]   StreamExecutor device (0): Host, Default Version\n",
      "/Users/lalith/opt/anaconda3/lib/python3.7/site-packages/keras/activations.py:235: UserWarning: Do not pass a layer instance (such as LeakyReLU) as the activation argument of another layer. Instead, advanced activation layers should be used just like any other layer in a model.\n",
      "  identifier=identifier.__class__.__name__))\n",
      "100%|█████████████████████████████████████████████| 3/3 [00:04<00:00,  1.60s/it]\n",
      "2020-06-15 17:15:58.202245: Evaluation complete\n",
      "2020-06-15 17:15:58.251584: Save evaluate label at /Users/lalith/Downloads/Sent2Lalith/nifti/m000-120-BT_CTAC_ID_cleared/panda/PANDA_90_m000-f0008-m000-120-BT_CTAC_ID_cleared.nii success\n"
     ]
    },
    {
     "name": "stderr",
     "output_type": "stream",
     "text": [
      "\n",
      " 38%|███▊      | 8/21 [01:28<02:21, 10.89s/it]\u001b[A"
     ]
    },
    {
     "name": "stdout",
     "output_type": "stream",
     "text": [
      "Using TensorFlow backend.\n",
      "2020-06-15 17:16:01.990150: I tensorflow/core/platform/cpu_feature_guard.cc:143] Your CPU supports instructions that this TensorFlow binary was not compiled to use: AVX2 FMA\n",
      "2020-06-15 17:16:02.000217: I tensorflow/compiler/xla/service/service.cc:168] XLA service 0x7fa43e1e2350 initialized for platform Host (this does not guarantee that XLA will be used). Devices:\n",
      "2020-06-15 17:16:02.000265: I tensorflow/compiler/xla/service/service.cc:176]   StreamExecutor device (0): Host, Default Version\n",
      "/Users/lalith/opt/anaconda3/lib/python3.7/site-packages/keras/activations.py:235: UserWarning: Do not pass a layer instance (such as LeakyReLU) as the activation argument of another layer. Instead, advanced activation layers should be used just like any other layer in a model.\n",
      "  identifier=identifier.__class__.__name__))\n",
      "100%|█████████████████████████████████████████████| 3/3 [00:05<00:00,  1.78s/it]\n",
      "2020-06-15 17:16:08.685205: Evaluation complete\n",
      "2020-06-15 17:16:08.734204: Save evaluate label at /Users/lalith/Downloads/Sent2Lalith/nifti/m000-120-BT_CTAC_ID_cleared/panda/PANDA_150_m000-f0009-m000-120-BT_CTAC_ID_cleared.nii success\n"
     ]
    },
    {
     "name": "stderr",
     "output_type": "stream",
     "text": [
      "\n",
      " 43%|████▎     | 9/21 [01:39<02:09, 10.78s/it]\u001b[A"
     ]
    },
    {
     "name": "stdout",
     "output_type": "stream",
     "text": [
      "Using TensorFlow backend.\n",
      "2020-06-15 17:16:12.579338: I tensorflow/core/platform/cpu_feature_guard.cc:143] Your CPU supports instructions that this TensorFlow binary was not compiled to use: AVX2 FMA\n",
      "2020-06-15 17:16:12.590679: I tensorflow/compiler/xla/service/service.cc:168] XLA service 0x7fed54bb2c40 initialized for platform Host (this does not guarantee that XLA will be used). Devices:\n",
      "2020-06-15 17:16:12.590697: I tensorflow/compiler/xla/service/service.cc:176]   StreamExecutor device (0): Host, Default Version\n",
      "/Users/lalith/opt/anaconda3/lib/python3.7/site-packages/keras/activations.py:235: UserWarning: Do not pass a layer instance (such as LeakyReLU) as the activation argument of another layer. Instead, advanced activation layers should be used just like any other layer in a model.\n",
      "  identifier=identifier.__class__.__name__))\n",
      "100%|█████████████████████████████████████████████| 3/3 [00:06<00:00,  2.10s/it]\n",
      "2020-06-15 17:16:20.311884: Evaluation complete\n",
      "2020-06-15 17:16:20.362557: Save evaluate label at /Users/lalith/Downloads/Sent2Lalith/nifti/m000-120-BT_CTAC_ID_cleared/panda/PANDA_210_m000-f0010-m000-120-BT_CTAC_ID_cleared.nii success\n"
     ]
    },
    {
     "name": "stderr",
     "output_type": "stream",
     "text": [
      "\n",
      " 48%|████▊     | 10/21 [01:51<02:01, 11.03s/it]\u001b[A"
     ]
    },
    {
     "name": "stdout",
     "output_type": "stream",
     "text": [
      "Using TensorFlow backend.\n",
      "2020-06-15 17:16:24.070873: I tensorflow/core/platform/cpu_feature_guard.cc:143] Your CPU supports instructions that this TensorFlow binary was not compiled to use: AVX2 FMA\n",
      "2020-06-15 17:16:24.081607: I tensorflow/compiler/xla/service/service.cc:168] XLA service 0x7fcbd0599780 initialized for platform Host (this does not guarantee that XLA will be used). Devices:\n",
      "2020-06-15 17:16:24.081623: I tensorflow/compiler/xla/service/service.cc:176]   StreamExecutor device (0): Host, Default Version\n",
      "/Users/lalith/opt/anaconda3/lib/python3.7/site-packages/keras/activations.py:235: UserWarning: Do not pass a layer instance (such as LeakyReLU) as the activation argument of another layer. Instead, advanced activation layers should be used just like any other layer in a model.\n",
      "  identifier=identifier.__class__.__name__))\n",
      "100%|█████████████████████████████████████████████| 3/3 [00:04<00:00,  1.60s/it]\n",
      "2020-06-15 17:16:30.191888: Evaluation complete\n",
      "2020-06-15 17:16:30.242972: Save evaluate label at /Users/lalith/Downloads/Sent2Lalith/nifti/m000-120-BT_CTAC_ID_cleared/panda/PANDA_270_m000-f0011-m000-120-BT_CTAC_ID_cleared.nii success\n"
     ]
    },
    {
     "name": "stderr",
     "output_type": "stream",
     "text": [
      "\n",
      " 52%|█████▏    | 11/21 [02:00<01:46, 10.69s/it]\u001b[A"
     ]
    },
    {
     "name": "stdout",
     "output_type": "stream",
     "text": [
      "Using TensorFlow backend.\n",
      "2020-06-15 17:16:34.144904: I tensorflow/core/platform/cpu_feature_guard.cc:143] Your CPU supports instructions that this TensorFlow binary was not compiled to use: AVX2 FMA\n",
      "2020-06-15 17:16:34.155654: I tensorflow/compiler/xla/service/service.cc:168] XLA service 0x7f92ea9bff40 initialized for platform Host (this does not guarantee that XLA will be used). Devices:\n",
      "2020-06-15 17:16:34.155701: I tensorflow/compiler/xla/service/service.cc:176]   StreamExecutor device (0): Host, Default Version\n",
      "/Users/lalith/opt/anaconda3/lib/python3.7/site-packages/keras/activations.py:235: UserWarning: Do not pass a layer instance (such as LeakyReLU) as the activation argument of another layer. Instead, advanced activation layers should be used just like any other layer in a model.\n",
      "  identifier=identifier.__class__.__name__))\n",
      "100%|█████████████████████████████████████████████| 3/3 [00:04<00:00,  1.64s/it]\n",
      "2020-06-15 17:16:40.450911: Evaluation complete\n",
      "2020-06-15 17:16:40.504040: Save evaluate label at /Users/lalith/Downloads/Sent2Lalith/nifti/m000-120-BT_CTAC_ID_cleared/panda/PANDA_375_m000-f0012-m000-120-BT_CTAC_ID_cleared.nii success\n"
     ]
    },
    {
     "name": "stderr",
     "output_type": "stream",
     "text": [
      "\n",
      " 57%|█████▋    | 12/21 [02:11<01:35, 10.56s/it]\u001b[A"
     ]
    },
    {
     "name": "stdout",
     "output_type": "stream",
     "text": [
      "Using TensorFlow backend.\n",
      "2020-06-15 17:16:44.513358: I tensorflow/core/platform/cpu_feature_guard.cc:143] Your CPU supports instructions that this TensorFlow binary was not compiled to use: AVX2 FMA\n",
      "2020-06-15 17:16:44.525420: I tensorflow/compiler/xla/service/service.cc:168] XLA service 0x7fe9f6dbe220 initialized for platform Host (this does not guarantee that XLA will be used). Devices:\n",
      "2020-06-15 17:16:44.525453: I tensorflow/compiler/xla/service/service.cc:176]   StreamExecutor device (0): Host, Default Version\n",
      "/Users/lalith/opt/anaconda3/lib/python3.7/site-packages/keras/activations.py:235: UserWarning: Do not pass a layer instance (such as LeakyReLU) as the activation argument of another layer. Instead, advanced activation layers should be used just like any other layer in a model.\n",
      "  identifier=identifier.__class__.__name__))\n",
      "100%|█████████████████████████████████████████████| 3/3 [00:06<00:00,  2.24s/it]\n",
      "2020-06-15 17:16:52.598053: Evaluation complete\n",
      "2020-06-15 17:16:52.648527: Save evaluate label at /Users/lalith/Downloads/Sent2Lalith/nifti/m000-120-BT_CTAC_ID_cleared/panda/PANDA_525_m000-f0013-m000-120-BT_CTAC_ID_cleared.nii success\n"
     ]
    },
    {
     "name": "stderr",
     "output_type": "stream",
     "text": [
      "\n",
      " 62%|██████▏   | 13/21 [02:23<01:28, 11.03s/it]\u001b[A"
     ]
    },
    {
     "name": "stdout",
     "output_type": "stream",
     "text": [
      "Using TensorFlow backend.\n",
      "2020-06-15 17:16:56.362180: I tensorflow/core/platform/cpu_feature_guard.cc:143] Your CPU supports instructions that this TensorFlow binary was not compiled to use: AVX2 FMA\n",
      "2020-06-15 17:16:56.372561: I tensorflow/compiler/xla/service/service.cc:168] XLA service 0x7fd7175908c0 initialized for platform Host (this does not guarantee that XLA will be used). Devices:\n",
      "2020-06-15 17:16:56.372593: I tensorflow/compiler/xla/service/service.cc:176]   StreamExecutor device (0): Host, Default Version\n",
      "/Users/lalith/opt/anaconda3/lib/python3.7/site-packages/keras/activations.py:235: UserWarning: Do not pass a layer instance (such as LeakyReLU) as the activation argument of another layer. Instead, advanced activation layers should be used just like any other layer in a model.\n",
      "  identifier=identifier.__class__.__name__))\n",
      "100%|█████████████████████████████████████████████| 3/3 [00:04<00:00,  1.56s/it]\n",
      "2020-06-15 17:17:02.437074: Evaluation complete\n",
      "2020-06-15 17:17:02.482554: Save evaluate label at /Users/lalith/Downloads/Sent2Lalith/nifti/m000-120-BT_CTAC_ID_cleared/panda/PANDA_750_m000-f0014-m000-120-BT_CTAC_ID_cleared.nii success\n"
     ]
    },
    {
     "name": "stderr",
     "output_type": "stream",
     "text": [
      "\n",
      " 67%|██████▋   | 14/21 [02:33<01:14, 10.67s/it]\u001b[A"
     ]
    },
    {
     "name": "stdout",
     "output_type": "stream",
     "text": [
      "Using TensorFlow backend.\n",
      "2020-06-15 17:17:06.434940: I tensorflow/core/platform/cpu_feature_guard.cc:143] Your CPU supports instructions that this TensorFlow binary was not compiled to use: AVX2 FMA\n",
      "2020-06-15 17:17:06.445981: I tensorflow/compiler/xla/service/service.cc:168] XLA service 0x7fdf1d100900 initialized for platform Host (this does not guarantee that XLA will be used). Devices:\n",
      "2020-06-15 17:17:06.446016: I tensorflow/compiler/xla/service/service.cc:176]   StreamExecutor device (0): Host, Default Version\n",
      "/Users/lalith/opt/anaconda3/lib/python3.7/site-packages/keras/activations.py:235: UserWarning: Do not pass a layer instance (such as LeakyReLU) as the activation argument of another layer. Instead, advanced activation layers should be used just like any other layer in a model.\n",
      "  identifier=identifier.__class__.__name__))\n",
      "100%|█████████████████████████████████████████████| 3/3 [00:04<00:00,  1.61s/it]\n",
      "2020-06-15 17:17:12.652846: Evaluation complete\n",
      "2020-06-15 17:17:12.705543: Save evaluate label at /Users/lalith/Downloads/Sent2Lalith/nifti/m000-120-BT_CTAC_ID_cleared/panda/PANDA_1050_m000-f0015-m000-120-BT_CTAC_ID_cleared.nii success\n"
     ]
    },
    {
     "name": "stderr",
     "output_type": "stream",
     "text": [
      "\n",
      " 71%|███████▏  | 15/21 [02:43<01:03, 10.54s/it]\u001b[A"
     ]
    },
    {
     "name": "stdout",
     "output_type": "stream",
     "text": [
      "Using TensorFlow backend.\n",
      "2020-06-15 17:17:16.540091: I tensorflow/core/platform/cpu_feature_guard.cc:143] Your CPU supports instructions that this TensorFlow binary was not compiled to use: AVX2 FMA\n",
      "2020-06-15 17:17:16.551302: I tensorflow/compiler/xla/service/service.cc:168] XLA service 0x7f9fcf4f1330 initialized for platform Host (this does not guarantee that XLA will be used). Devices:\n",
      "2020-06-15 17:17:16.551350: I tensorflow/compiler/xla/service/service.cc:176]   StreamExecutor device (0): Host, Default Version\n",
      "/Users/lalith/opt/anaconda3/lib/python3.7/site-packages/keras/activations.py:235: UserWarning: Do not pass a layer instance (such as LeakyReLU) as the activation argument of another layer. Instead, advanced activation layers should be used just like any other layer in a model.\n",
      "  identifier=identifier.__class__.__name__))\n",
      "100%|█████████████████████████████████████████████| 3/3 [00:04<00:00,  1.65s/it]\n",
      "2020-06-15 17:17:22.873574: Evaluation complete\n",
      "2020-06-15 17:17:22.925577: Save evaluate label at /Users/lalith/Downloads/Sent2Lalith/nifti/m000-120-BT_CTAC_ID_cleared/panda/PANDA_1500_m000-f0016-m000-120-BT_CTAC_ID_cleared.nii success\n"
     ]
    },
    {
     "name": "stderr",
     "output_type": "stream",
     "text": [
      "\n",
      " 76%|███████▌  | 16/21 [02:53<00:52, 10.44s/it]\u001b[A"
     ]
    },
    {
     "name": "stdout",
     "output_type": "stream",
     "text": [
      "Using TensorFlow backend.\n",
      "2020-06-15 17:17:26.814135: I tensorflow/core/platform/cpu_feature_guard.cc:143] Your CPU supports instructions that this TensorFlow binary was not compiled to use: AVX2 FMA\n",
      "2020-06-15 17:17:26.824632: I tensorflow/compiler/xla/service/service.cc:168] XLA service 0x7fea056afb80 initialized for platform Host (this does not guarantee that XLA will be used). Devices:\n",
      "2020-06-15 17:17:26.824666: I tensorflow/compiler/xla/service/service.cc:176]   StreamExecutor device (0): Host, Default Version\n",
      "/Users/lalith/opt/anaconda3/lib/python3.7/site-packages/keras/activations.py:235: UserWarning: Do not pass a layer instance (such as LeakyReLU) as the activation argument of another layer. Instead, advanced activation layers should be used just like any other layer in a model.\n",
      "  identifier=identifier.__class__.__name__))\n",
      "100%|█████████████████████████████████████████████| 3/3 [00:04<00:00,  1.63s/it]\n",
      "2020-06-15 17:17:33.073542: Evaluation complete\n",
      "2020-06-15 17:17:33.121299: Save evaluate label at /Users/lalith/Downloads/Sent2Lalith/nifti/m000-120-BT_CTAC_ID_cleared/panda/PANDA_2100_m000-f0017-m000-120-BT_CTAC_ID_cleared.nii success\n"
     ]
    },
    {
     "name": "stderr",
     "output_type": "stream",
     "text": [
      "\n",
      " 81%|████████  | 17/21 [03:03<00:41, 10.37s/it]\u001b[A"
     ]
    },
    {
     "name": "stdout",
     "output_type": "stream",
     "text": [
      "Using TensorFlow backend.\n",
      "2020-06-15 17:17:37.051936: I tensorflow/core/platform/cpu_feature_guard.cc:143] Your CPU supports instructions that this TensorFlow binary was not compiled to use: AVX2 FMA\n",
      "2020-06-15 17:17:37.062043: I tensorflow/compiler/xla/service/service.cc:168] XLA service 0x7fb38cee5430 initialized for platform Host (this does not guarantee that XLA will be used). Devices:\n",
      "2020-06-15 17:17:37.062076: I tensorflow/compiler/xla/service/service.cc:176]   StreamExecutor device (0): Host, Default Version\n",
      "/Users/lalith/opt/anaconda3/lib/python3.7/site-packages/keras/activations.py:235: UserWarning: Do not pass a layer instance (such as LeakyReLU) as the activation argument of another layer. Instead, advanced activation layers should be used just like any other layer in a model.\n",
      "  identifier=identifier.__class__.__name__))\n",
      "100%|█████████████████████████████████████████████| 3/3 [00:05<00:00,  1.83s/it]\n",
      "2020-06-15 17:17:43.863162: Evaluation complete\n",
      "2020-06-15 17:17:43.916188: Save evaluate label at /Users/lalith/Downloads/Sent2Lalith/nifti/m000-120-BT_CTAC_ID_cleared/panda/PANDA_2550_m000-f0018-m000-120-BT_CTAC_ID_cleared.nii success\n"
     ]
    },
    {
     "name": "stderr",
     "output_type": "stream",
     "text": [
      "\n",
      " 86%|████████▌ | 18/21 [03:14<00:31, 10.49s/it]\u001b[A"
     ]
    },
    {
     "name": "stdout",
     "output_type": "stream",
     "text": [
      "Using TensorFlow backend.\n",
      "2020-06-15 17:17:47.733147: I tensorflow/core/platform/cpu_feature_guard.cc:143] Your CPU supports instructions that this TensorFlow binary was not compiled to use: AVX2 FMA\n",
      "2020-06-15 17:17:47.743764: I tensorflow/compiler/xla/service/service.cc:168] XLA service 0x7fde2247a4e0 initialized for platform Host (this does not guarantee that XLA will be used). Devices:\n",
      "2020-06-15 17:17:47.743812: I tensorflow/compiler/xla/service/service.cc:176]   StreamExecutor device (0): Host, Default Version\n",
      "/Users/lalith/opt/anaconda3/lib/python3.7/site-packages/keras/activations.py:235: UserWarning: Do not pass a layer instance (such as LeakyReLU) as the activation argument of another layer. Instead, advanced activation layers should be used just like any other layer in a model.\n",
      "  identifier=identifier.__class__.__name__))\n",
      "100%|█████████████████████████████████████████████| 3/3 [00:04<00:00,  1.61s/it]\n",
      "2020-06-15 17:17:53.898075: Evaluation complete\n",
      "2020-06-15 17:17:53.950996: Save evaluate label at /Users/lalith/Downloads/Sent2Lalith/nifti/m000-120-BT_CTAC_ID_cleared/panda/PANDA_2850_m000-f0019-m000-120-BT_CTAC_ID_cleared.nii success\n"
     ]
    },
    {
     "name": "stderr",
     "output_type": "stream",
     "text": [
      "\n",
      " 90%|█████████ | 19/21 [03:24<00:20, 10.36s/it]\u001b[A"
     ]
    },
    {
     "name": "stdout",
     "output_type": "stream",
     "text": [
      "Using TensorFlow backend.\n",
      "2020-06-15 17:17:57.797186: I tensorflow/core/platform/cpu_feature_guard.cc:143] Your CPU supports instructions that this TensorFlow binary was not compiled to use: AVX2 FMA\n",
      "2020-06-15 17:17:57.807221: I tensorflow/compiler/xla/service/service.cc:168] XLA service 0x7f92bc19a6c0 initialized for platform Host (this does not guarantee that XLA will be used). Devices:\n",
      "2020-06-15 17:17:57.807254: I tensorflow/compiler/xla/service/service.cc:176]   StreamExecutor device (0): Host, Default Version\n",
      "/Users/lalith/opt/anaconda3/lib/python3.7/site-packages/keras/activations.py:235: UserWarning: Do not pass a layer instance (such as LeakyReLU) as the activation argument of another layer. Instead, advanced activation layers should be used just like any other layer in a model.\n",
      "  identifier=identifier.__class__.__name__))\n",
      "100%|█████████████████████████████████████████████| 3/3 [00:06<00:00,  2.10s/it]\n",
      "2020-06-15 17:18:05.452500: Evaluation complete\n",
      "2020-06-15 17:18:05.504586: Save evaluate label at /Users/lalith/Downloads/Sent2Lalith/nifti/m000-120-BT_CTAC_ID_cleared/panda/PANDA_3150_m000-f0020-m000-120-BT_CTAC_ID_cleared.nii success\n"
     ]
    },
    {
     "name": "stderr",
     "output_type": "stream",
     "text": [
      "\n",
      " 95%|█████████▌| 20/21 [03:36<00:10, 10.72s/it]\u001b[A"
     ]
    },
    {
     "name": "stdout",
     "output_type": "stream",
     "text": [
      "Using TensorFlow backend.\n",
      "2020-06-15 17:18:09.313043: I tensorflow/core/platform/cpu_feature_guard.cc:143] Your CPU supports instructions that this TensorFlow binary was not compiled to use: AVX2 FMA\n",
      "2020-06-15 17:18:09.323767: I tensorflow/compiler/xla/service/service.cc:168] XLA service 0x7f938c388980 initialized for platform Host (this does not guarantee that XLA will be used). Devices:\n",
      "2020-06-15 17:18:09.323799: I tensorflow/compiler/xla/service/service.cc:176]   StreamExecutor device (0): Host, Default Version\n",
      "/Users/lalith/opt/anaconda3/lib/python3.7/site-packages/keras/activations.py:235: UserWarning: Do not pass a layer instance (such as LeakyReLU) as the activation argument of another layer. Instead, advanced activation layers should be used just like any other layer in a model.\n",
      "  identifier=identifier.__class__.__name__))\n",
      "100%|█████████████████████████████████████████████| 3/3 [00:04<00:00,  1.58s/it]\n",
      "2020-06-15 17:18:15.374228: Evaluation complete\n",
      "2020-06-15 17:18:15.420539: Save evaluate label at /Users/lalith/Downloads/Sent2Lalith/nifti/m000-120-BT_CTAC_ID_cleared/panda/PANDA_3450_m000-f0021-m000-120-BT_CTAC_ID_cleared.nii success\n"
     ]
    },
    {
     "name": "stderr",
     "output_type": "stream",
     "text": [
      "\n",
      "100%|██████████| 21/21 [03:46<00:00, 10.76s/it]\u001b[A\n",
      " 50%|█████     | 5/10 [22:02<21:38, 259.65s/it]\n",
      "100%|██████████| 21/21 [00:00<00:00, 4597.10it/s]\n",
      "\n",
      "  0%|          | 0/21 [00:00<?, ?it/s]\u001b[A"
     ]
    },
    {
     "name": "stdout",
     "output_type": "stream",
     "text": [
      "Directory  panda  Created \n",
      "Using TensorFlow backend.\n",
      "2020-06-15 17:18:19.291126: I tensorflow/core/platform/cpu_feature_guard.cc:143] Your CPU supports instructions that this TensorFlow binary was not compiled to use: AVX2 FMA\n",
      "2020-06-15 17:18:19.301477: I tensorflow/compiler/xla/service/service.cc:168] XLA service 0x7fe7e207c950 initialized for platform Host (this does not guarantee that XLA will be used). Devices:\n",
      "2020-06-15 17:18:19.301497: I tensorflow/compiler/xla/service/service.cc:176]   StreamExecutor device (0): Host, Default Version\n",
      "/Users/lalith/opt/anaconda3/lib/python3.7/site-packages/keras/activations.py:235: UserWarning: Do not pass a layer instance (such as LeakyReLU) as the activation argument of another layer. Instead, advanced activation layers should be used just like any other layer in a model.\n",
      "  identifier=identifier.__class__.__name__))\n",
      "100%|█████████████████████████████████████████████| 3/3 [00:04<00:00,  1.62s/it]\n",
      "2020-06-15 17:18:25.570428: Evaluation complete\n",
      "2020-06-15 17:18:25.619062: Save evaluate label at /Users/lalith/Downloads/Sent2Lalith/nifti/m000-122-BW_FDG_CTAC_ID_cleared/panda/PANDA_8_m000-f0001-m000-122-BW_FDG_CTAC_ID_cleared.nii success\n"
     ]
    },
    {
     "name": "stderr",
     "output_type": "stream",
     "text": [
      "\n",
      "  5%|▍         | 1/21 [00:10<03:23, 10.17s/it]\u001b[A"
     ]
    },
    {
     "name": "stdout",
     "output_type": "stream",
     "text": [
      "Using TensorFlow backend.\n",
      "2020-06-15 17:18:29.525023: I tensorflow/core/platform/cpu_feature_guard.cc:143] Your CPU supports instructions that this TensorFlow binary was not compiled to use: AVX2 FMA\n",
      "2020-06-15 17:18:29.536575: I tensorflow/compiler/xla/service/service.cc:168] XLA service 0x7fda9ff633b0 initialized for platform Host (this does not guarantee that XLA will be used). Devices:\n",
      "2020-06-15 17:18:29.536610: I tensorflow/compiler/xla/service/service.cc:176]   StreamExecutor device (0): Host, Default Version\n",
      "/Users/lalith/opt/anaconda3/lib/python3.7/site-packages/keras/activations.py:235: UserWarning: Do not pass a layer instance (such as LeakyReLU) as the activation argument of another layer. Instead, advanced activation layers should be used just like any other layer in a model.\n",
      "  identifier=identifier.__class__.__name__))\n",
      "100%|█████████████████████████████████████████████| 3/3 [00:05<00:00,  1.71s/it]\n",
      "2020-06-15 17:18:36.024493: Evaluation complete\n",
      "2020-06-15 17:18:36.077916: Save evaluate label at /Users/lalith/Downloads/Sent2Lalith/nifti/m000-122-BW_FDG_CTAC_ID_cleared/panda/PANDA_18_m000-f0002-m000-122-BW_FDG_CTAC_ID_cleared.nii success\n"
     ]
    },
    {
     "name": "stderr",
     "output_type": "stream",
     "text": [
      "\n",
      " 10%|▉         | 2/21 [00:20<03:15, 10.26s/it]\u001b[A"
     ]
    },
    {
     "name": "stdout",
     "output_type": "stream",
     "text": [
      "Using TensorFlow backend.\n",
      "2020-06-15 17:18:39.988563: I tensorflow/core/platform/cpu_feature_guard.cc:143] Your CPU supports instructions that this TensorFlow binary was not compiled to use: AVX2 FMA\n",
      "2020-06-15 17:18:39.998842: I tensorflow/compiler/xla/service/service.cc:168] XLA service 0x7fac7fba55e0 initialized for platform Host (this does not guarantee that XLA will be used). Devices:\n",
      "2020-06-15 17:18:39.998892: I tensorflow/compiler/xla/service/service.cc:176]   StreamExecutor device (0): Host, Default Version\n",
      "/Users/lalith/opt/anaconda3/lib/python3.7/site-packages/keras/activations.py:235: UserWarning: Do not pass a layer instance (such as LeakyReLU) as the activation argument of another layer. Instead, advanced activation layers should be used just like any other layer in a model.\n",
      "  identifier=identifier.__class__.__name__))\n",
      "100%|█████████████████████████████████████████████| 3/3 [00:05<00:00,  1.70s/it]\n",
      "2020-06-15 17:18:46.435408: Evaluation complete\n",
      "2020-06-15 17:18:46.483742: Save evaluate label at /Users/lalith/Downloads/Sent2Lalith/nifti/m000-122-BW_FDG_CTAC_ID_cleared/panda/PANDA_23_m000-f0003-m000-122-BW_FDG_CTAC_ID_cleared.nii success\n"
     ]
    },
    {
     "name": "stderr",
     "output_type": "stream",
     "text": [
      "\n",
      " 14%|█▍        | 3/21 [00:31<03:05, 10.31s/it]\u001b[A"
     ]
    },
    {
     "name": "stdout",
     "output_type": "stream",
     "text": [
      "Using TensorFlow backend.\n",
      "2020-06-15 17:18:50.364924: I tensorflow/core/platform/cpu_feature_guard.cc:143] Your CPU supports instructions that this TensorFlow binary was not compiled to use: AVX2 FMA\n",
      "2020-06-15 17:18:50.376074: I tensorflow/compiler/xla/service/service.cc:168] XLA service 0x7f83a2eaca60 initialized for platform Host (this does not guarantee that XLA will be used). Devices:\n",
      "2020-06-15 17:18:50.376122: I tensorflow/compiler/xla/service/service.cc:176]   StreamExecutor device (0): Host, Default Version\n",
      "/Users/lalith/opt/anaconda3/lib/python3.7/site-packages/keras/activations.py:235: UserWarning: Do not pass a layer instance (such as LeakyReLU) as the activation argument of another layer. Instead, advanced activation layers should be used just like any other layer in a model.\n",
      "  identifier=identifier.__class__.__name__))\n",
      "100%|█████████████████████████████████████████████| 3/3 [00:06<00:00,  2.10s/it]\n",
      "2020-06-15 17:18:58.010173: Evaluation complete\n",
      "2020-06-15 17:18:58.058754: Save evaluate label at /Users/lalith/Downloads/Sent2Lalith/nifti/m000-122-BW_FDG_CTAC_ID_cleared/panda/PANDA_28_m000-f0004-m000-122-BW_FDG_CTAC_ID_cleared.nii success\n"
     ]
    },
    {
     "name": "stderr",
     "output_type": "stream",
     "text": [
      "\n",
      " 19%|█▉        | 4/21 [00:42<03:01, 10.68s/it]\u001b[A"
     ]
    },
    {
     "name": "stdout",
     "output_type": "stream",
     "text": [
      "Using TensorFlow backend.\n",
      "2020-06-15 17:19:01.743797: I tensorflow/core/platform/cpu_feature_guard.cc:143] Your CPU supports instructions that this TensorFlow binary was not compiled to use: AVX2 FMA\n",
      "2020-06-15 17:19:01.754746: I tensorflow/compiler/xla/service/service.cc:168] XLA service 0x7fc157a22ed0 initialized for platform Host (this does not guarantee that XLA will be used). Devices:\n",
      "2020-06-15 17:19:01.754783: I tensorflow/compiler/xla/service/service.cc:176]   StreamExecutor device (0): Host, Default Version\n",
      "/Users/lalith/opt/anaconda3/lib/python3.7/site-packages/keras/activations.py:235: UserWarning: Do not pass a layer instance (such as LeakyReLU) as the activation argument of another layer. Instead, advanced activation layers should be used just like any other layer in a model.\n",
      "  identifier=identifier.__class__.__name__))\n",
      "100%|█████████████████████████████████████████████| 3/3 [00:04<00:00,  1.57s/it]\n",
      "2020-06-15 17:19:07.763866: Evaluation complete\n",
      "2020-06-15 17:19:07.817031: Save evaluate label at /Users/lalith/Downloads/Sent2Lalith/nifti/m000-122-BW_FDG_CTAC_ID_cleared/panda/PANDA_35_m000-f0005-m000-122-BW_FDG_CTAC_ID_cleared.nii success\n"
     ]
    },
    {
     "name": "stderr",
     "output_type": "stream",
     "text": [
      "\n",
      " 24%|██▍       | 5/21 [00:52<02:46, 10.40s/it]\u001b[A"
     ]
    },
    {
     "name": "stdout",
     "output_type": "stream",
     "text": [
      "Using TensorFlow backend.\n",
      "2020-06-15 17:19:11.463228: I tensorflow/core/platform/cpu_feature_guard.cc:143] Your CPU supports instructions that this TensorFlow binary was not compiled to use: AVX2 FMA\n",
      "2020-06-15 17:19:11.473807: I tensorflow/compiler/xla/service/service.cc:168] XLA service 0x7f84e9bfbe00 initialized for platform Host (this does not guarantee that XLA will be used). Devices:\n",
      "2020-06-15 17:19:11.473823: I tensorflow/compiler/xla/service/service.cc:176]   StreamExecutor device (0): Host, Default Version\n",
      "/Users/lalith/opt/anaconda3/lib/python3.7/site-packages/keras/activations.py:235: UserWarning: Do not pass a layer instance (such as LeakyReLU) as the activation argument of another layer. Instead, advanced activation layers should be used just like any other layer in a model.\n",
      "  identifier=identifier.__class__.__name__))\n",
      "100%|█████████████████████████████████████████████| 3/3 [00:07<00:00,  2.34s/it]\n",
      "2020-06-15 17:19:19.871108: Evaluation complete\n",
      "2020-06-15 17:19:19.922283: Save evaluate label at /Users/lalith/Downloads/Sent2Lalith/nifti/m000-122-BW_FDG_CTAC_ID_cleared/panda/PANDA_45_m000-f0006-m000-122-BW_FDG_CTAC_ID_cleared.nii success\n"
     ]
    },
    {
     "name": "stderr",
     "output_type": "stream",
     "text": [
      "\n",
      " 29%|██▊       | 6/21 [01:04<02:43, 10.92s/it]\u001b[A"
     ]
    },
    {
     "name": "stdout",
     "output_type": "stream",
     "text": [
      "Using TensorFlow backend.\n",
      "2020-06-15 17:19:23.522369: I tensorflow/core/platform/cpu_feature_guard.cc:143] Your CPU supports instructions that this TensorFlow binary was not compiled to use: AVX2 FMA\n",
      "2020-06-15 17:19:23.533871: I tensorflow/compiler/xla/service/service.cc:168] XLA service 0x7f829ea25ba0 initialized for platform Host (this does not guarantee that XLA will be used). Devices:\n",
      "2020-06-15 17:19:23.533889: I tensorflow/compiler/xla/service/service.cc:176]   StreamExecutor device (0): Host, Default Version\n",
      "/Users/lalith/opt/anaconda3/lib/python3.7/site-packages/keras/activations.py:235: UserWarning: Do not pass a layer instance (such as LeakyReLU) as the activation argument of another layer. Instead, advanced activation layers should be used just like any other layer in a model.\n",
      "  identifier=identifier.__class__.__name__))\n",
      "100%|█████████████████████████████████████████████| 3/3 [00:04<00:00,  1.59s/it]\n",
      "2020-06-15 17:19:29.663486: Evaluation complete\n",
      "2020-06-15 17:19:29.713626: Save evaluate label at /Users/lalith/Downloads/Sent2Lalith/nifti/m000-122-BW_FDG_CTAC_ID_cleared/panda/PANDA_55_m000-f0007-m000-122-BW_FDG_CTAC_ID_cleared.nii success\n"
     ]
    },
    {
     "name": "stderr",
     "output_type": "stream",
     "text": [
      "\n",
      " 33%|███▎      | 7/21 [01:14<02:28, 10.58s/it]\u001b[A"
     ]
    },
    {
     "name": "stdout",
     "output_type": "stream",
     "text": [
      "Using TensorFlow backend.\n",
      "2020-06-15 17:19:33.189919: I tensorflow/core/platform/cpu_feature_guard.cc:143] Your CPU supports instructions that this TensorFlow binary was not compiled to use: AVX2 FMA\n",
      "2020-06-15 17:19:33.200106: I tensorflow/compiler/xla/service/service.cc:168] XLA service 0x7ff50f3032d0 initialized for platform Host (this does not guarantee that XLA will be used). Devices:\n",
      "2020-06-15 17:19:33.200138: I tensorflow/compiler/xla/service/service.cc:176]   StreamExecutor device (0): Host, Default Version\n",
      "/Users/lalith/opt/anaconda3/lib/python3.7/site-packages/keras/activations.py:235: UserWarning: Do not pass a layer instance (such as LeakyReLU) as the activation argument of another layer. Instead, advanced activation layers should be used just like any other layer in a model.\n",
      "  identifier=identifier.__class__.__name__))\n",
      "100%|█████████████████████████████████████████████| 3/3 [00:04<00:00,  1.59s/it]\n",
      "2020-06-15 17:19:39.277689: Evaluation complete\n",
      "2020-06-15 17:19:39.328043: Save evaluate label at /Users/lalith/Downloads/Sent2Lalith/nifti/m000-122-BW_FDG_CTAC_ID_cleared/panda/PANDA_90_m000-f0008-m000-122-BW_FDG_CTAC_ID_cleared.nii success\n"
     ]
    },
    {
     "name": "stderr",
     "output_type": "stream",
     "text": [
      "\n",
      " 38%|███▊      | 8/21 [01:23<02:13, 10.30s/it]\u001b[A"
     ]
    },
    {
     "name": "stdout",
     "output_type": "stream",
     "text": [
      "Using TensorFlow backend.\n",
      "2020-06-15 17:19:42.988054: I tensorflow/core/platform/cpu_feature_guard.cc:143] Your CPU supports instructions that this TensorFlow binary was not compiled to use: AVX2 FMA\n",
      "2020-06-15 17:19:42.999169: I tensorflow/compiler/xla/service/service.cc:168] XLA service 0x7fc3091e2cb0 initialized for platform Host (this does not guarantee that XLA will be used). Devices:\n",
      "2020-06-15 17:19:42.999202: I tensorflow/compiler/xla/service/service.cc:176]   StreamExecutor device (0): Host, Default Version\n",
      "/Users/lalith/opt/anaconda3/lib/python3.7/site-packages/keras/activations.py:235: UserWarning: Do not pass a layer instance (such as LeakyReLU) as the activation argument of another layer. Instead, advanced activation layers should be used just like any other layer in a model.\n",
      "  identifier=identifier.__class__.__name__))\n",
      "100%|█████████████████████████████████████████████| 3/3 [00:05<00:00,  1.76s/it]\n",
      "2020-06-15 17:19:49.595328: Evaluation complete\n",
      "2020-06-15 17:19:49.650490: Save evaluate label at /Users/lalith/Downloads/Sent2Lalith/nifti/m000-122-BW_FDG_CTAC_ID_cleared/panda/PANDA_150_m000-f0009-m000-122-BW_FDG_CTAC_ID_cleared.nii success\n"
     ]
    },
    {
     "name": "stderr",
     "output_type": "stream",
     "text": [
      "\n",
      " 43%|████▎     | 9/21 [01:34<02:03, 10.30s/it]\u001b[A"
     ]
    },
    {
     "name": "stdout",
     "output_type": "stream",
     "text": [
      "Using TensorFlow backend.\n",
      "2020-06-15 17:19:53.419920: I tensorflow/core/platform/cpu_feature_guard.cc:143] Your CPU supports instructions that this TensorFlow binary was not compiled to use: AVX2 FMA\n",
      "2020-06-15 17:19:53.430826: I tensorflow/compiler/xla/service/service.cc:168] XLA service 0x7faff1408d00 initialized for platform Host (this does not guarantee that XLA will be used). Devices:\n",
      "2020-06-15 17:19:53.430845: I tensorflow/compiler/xla/service/service.cc:176]   StreamExecutor device (0): Host, Default Version\n",
      "/Users/lalith/opt/anaconda3/lib/python3.7/site-packages/keras/activations.py:235: UserWarning: Do not pass a layer instance (such as LeakyReLU) as the activation argument of another layer. Instead, advanced activation layers should be used just like any other layer in a model.\n",
      "  identifier=identifier.__class__.__name__))\n",
      "100%|█████████████████████████████████████████████| 3/3 [00:05<00:00,  1.77s/it]\n",
      "2020-06-15 17:20:00.144006: Evaluation complete\n",
      "2020-06-15 17:20:00.189134: Save evaluate label at /Users/lalith/Downloads/Sent2Lalith/nifti/m000-122-BW_FDG_CTAC_ID_cleared/panda/PANDA_210_m000-f0010-m000-122-BW_FDG_CTAC_ID_cleared.nii success\n"
     ]
    },
    {
     "name": "stderr",
     "output_type": "stream",
     "text": [
      "\n",
      " 48%|████▊     | 10/21 [01:44<01:54, 10.37s/it]\u001b[A"
     ]
    },
    {
     "name": "stdout",
     "output_type": "stream",
     "text": [
      "Using TensorFlow backend.\n",
      "2020-06-15 17:20:03.742809: I tensorflow/core/platform/cpu_feature_guard.cc:143] Your CPU supports instructions that this TensorFlow binary was not compiled to use: AVX2 FMA\n",
      "2020-06-15 17:20:03.753132: I tensorflow/compiler/xla/service/service.cc:168] XLA service 0x7f949b09cbd0 initialized for platform Host (this does not guarantee that XLA will be used). Devices:\n",
      "2020-06-15 17:20:03.753164: I tensorflow/compiler/xla/service/service.cc:176]   StreamExecutor device (0): Host, Default Version\n",
      "/Users/lalith/opt/anaconda3/lib/python3.7/site-packages/keras/activations.py:235: UserWarning: Do not pass a layer instance (such as LeakyReLU) as the activation argument of another layer. Instead, advanced activation layers should be used just like any other layer in a model.\n",
      "  identifier=identifier.__class__.__name__))\n",
      "100%|█████████████████████████████████████████████| 3/3 [00:04<00:00,  1.59s/it]\n",
      "2020-06-15 17:20:09.797544: Evaluation complete\n",
      "2020-06-15 17:20:09.846954: Save evaluate label at /Users/lalith/Downloads/Sent2Lalith/nifti/m000-122-BW_FDG_CTAC_ID_cleared/panda/PANDA_270_m000-f0011-m000-122-BW_FDG_CTAC_ID_cleared.nii success\n"
     ]
    },
    {
     "name": "stderr",
     "output_type": "stream",
     "text": [
      "\n",
      " 52%|█████▏    | 11/21 [01:54<01:41, 10.15s/it]\u001b[A"
     ]
    },
    {
     "name": "stdout",
     "output_type": "stream",
     "text": [
      "Using TensorFlow backend.\n",
      "2020-06-15 17:20:13.341750: I tensorflow/core/platform/cpu_feature_guard.cc:143] Your CPU supports instructions that this TensorFlow binary was not compiled to use: AVX2 FMA\n",
      "2020-06-15 17:20:13.352095: I tensorflow/compiler/xla/service/service.cc:168] XLA service 0x7fcb233a9f30 initialized for platform Host (this does not guarantee that XLA will be used). Devices:\n",
      "2020-06-15 17:20:13.352128: I tensorflow/compiler/xla/service/service.cc:176]   StreamExecutor device (0): Host, Default Version\n",
      "/Users/lalith/opt/anaconda3/lib/python3.7/site-packages/keras/activations.py:235: UserWarning: Do not pass a layer instance (such as LeakyReLU) as the activation argument of another layer. Instead, advanced activation layers should be used just like any other layer in a model.\n",
      "  identifier=identifier.__class__.__name__))\n",
      "100%|█████████████████████████████████████████████| 3/3 [00:04<00:00,  1.61s/it]\n",
      "2020-06-15 17:20:19.576538: Evaluation complete\n",
      "2020-06-15 17:20:19.629732: Save evaluate label at /Users/lalith/Downloads/Sent2Lalith/nifti/m000-122-BW_FDG_CTAC_ID_cleared/panda/PANDA_375_m000-f0012-m000-122-BW_FDG_CTAC_ID_cleared.nii success\n"
     ]
    },
    {
     "name": "stderr",
     "output_type": "stream",
     "text": [
      "\n",
      " 57%|█████▋    | 12/21 [02:04<01:30, 10.04s/it]\u001b[A"
     ]
    },
    {
     "name": "stdout",
     "output_type": "stream",
     "text": [
      "Using TensorFlow backend.\n",
      "2020-06-15 17:20:23.168449: I tensorflow/core/platform/cpu_feature_guard.cc:143] Your CPU supports instructions that this TensorFlow binary was not compiled to use: AVX2 FMA\n",
      "2020-06-15 17:20:23.179454: I tensorflow/compiler/xla/service/service.cc:168] XLA service 0x7fc8713f5ef0 initialized for platform Host (this does not guarantee that XLA will be used). Devices:\n",
      "2020-06-15 17:20:23.179488: I tensorflow/compiler/xla/service/service.cc:176]   StreamExecutor device (0): Host, Default Version\n",
      "/Users/lalith/opt/anaconda3/lib/python3.7/site-packages/keras/activations.py:235: UserWarning: Do not pass a layer instance (such as LeakyReLU) as the activation argument of another layer. Instead, advanced activation layers should be used just like any other layer in a model.\n",
      "  identifier=identifier.__class__.__name__))\n",
      "100%|█████████████████████████████████████████████| 3/3 [00:06<00:00,  2.03s/it]\n",
      "2020-06-15 17:20:30.567700: Evaluation complete\n",
      "2020-06-15 17:20:30.618178: Save evaluate label at /Users/lalith/Downloads/Sent2Lalith/nifti/m000-122-BW_FDG_CTAC_ID_cleared/panda/PANDA_525_m000-f0013-m000-122-BW_FDG_CTAC_ID_cleared.nii success\n"
     ]
    },
    {
     "name": "stderr",
     "output_type": "stream",
     "text": [
      "\n",
      " 62%|██████▏   | 13/21 [02:15<01:22, 10.34s/it]\u001b[A"
     ]
    },
    {
     "name": "stdout",
     "output_type": "stream",
     "text": [
      "Using TensorFlow backend.\n",
      "2020-06-15 17:20:34.420979: I tensorflow/core/platform/cpu_feature_guard.cc:143] Your CPU supports instructions that this TensorFlow binary was not compiled to use: AVX2 FMA\n",
      "2020-06-15 17:20:34.431690: I tensorflow/compiler/xla/service/service.cc:168] XLA service 0x7fd5345bad50 initialized for platform Host (this does not guarantee that XLA will be used). Devices:\n",
      "2020-06-15 17:20:34.431721: I tensorflow/compiler/xla/service/service.cc:176]   StreamExecutor device (0): Host, Default Version\n",
      "/Users/lalith/opt/anaconda3/lib/python3.7/site-packages/keras/activations.py:235: UserWarning: Do not pass a layer instance (such as LeakyReLU) as the activation argument of another layer. Instead, advanced activation layers should be used just like any other layer in a model.\n",
      "  identifier=identifier.__class__.__name__))\n",
      "100%|█████████████████████████████████████████████| 3/3 [00:04<00:00,  1.59s/it]\n",
      "2020-06-15 17:20:40.596394: Evaluation complete\n",
      "2020-06-15 17:20:40.640510: Save evaluate label at /Users/lalith/Downloads/Sent2Lalith/nifti/m000-122-BW_FDG_CTAC_ID_cleared/panda/PANDA_750_m000-f0014-m000-122-BW_FDG_CTAC_ID_cleared.nii success\n"
     ]
    },
    {
     "name": "stderr",
     "output_type": "stream",
     "text": [
      "\n",
      " 67%|██████▋   | 14/21 [02:25<01:11, 10.23s/it]\u001b[A"
     ]
    },
    {
     "name": "stdout",
     "output_type": "stream",
     "text": [
      "Using TensorFlow backend.\n",
      "2020-06-15 17:20:44.288793: I tensorflow/core/platform/cpu_feature_guard.cc:143] Your CPU supports instructions that this TensorFlow binary was not compiled to use: AVX2 FMA\n",
      "2020-06-15 17:20:44.299630: I tensorflow/compiler/xla/service/service.cc:168] XLA service 0x7fe422b70f50 initialized for platform Host (this does not guarantee that XLA will be used). Devices:\n",
      "2020-06-15 17:20:44.299648: I tensorflow/compiler/xla/service/service.cc:176]   StreamExecutor device (0): Host, Default Version\n",
      "/Users/lalith/opt/anaconda3/lib/python3.7/site-packages/keras/activations.py:235: UserWarning: Do not pass a layer instance (such as LeakyReLU) as the activation argument of another layer. Instead, advanced activation layers should be used just like any other layer in a model.\n",
      "  identifier=identifier.__class__.__name__))\n",
      "100%|█████████████████████████████████████████████| 3/3 [00:06<00:00,  2.13s/it]\n",
      "2020-06-15 17:20:52.066734: Evaluation complete\n",
      "2020-06-15 17:20:52.115635: Save evaluate label at /Users/lalith/Downloads/Sent2Lalith/nifti/m000-122-BW_FDG_CTAC_ID_cleared/panda/PANDA_1050_m000-f0015-m000-122-BW_FDG_CTAC_ID_cleared.nii success\n"
     ]
    },
    {
     "name": "stderr",
     "output_type": "stream",
     "text": [
      "\n",
      " 71%|███████▏  | 15/21 [02:36<01:03, 10.61s/it]\u001b[A"
     ]
    },
    {
     "name": "stdout",
     "output_type": "stream",
     "text": [
      "Using TensorFlow backend.\n",
      "2020-06-15 17:20:55.748006: I tensorflow/core/platform/cpu_feature_guard.cc:143] Your CPU supports instructions that this TensorFlow binary was not compiled to use: AVX2 FMA\n",
      "2020-06-15 17:20:55.758211: I tensorflow/compiler/xla/service/service.cc:168] XLA service 0x7fab290365e0 initialized for platform Host (this does not guarantee that XLA will be used). Devices:\n",
      "2020-06-15 17:20:55.758228: I tensorflow/compiler/xla/service/service.cc:176]   StreamExecutor device (0): Host, Default Version\n",
      "/Users/lalith/opt/anaconda3/lib/python3.7/site-packages/keras/activations.py:235: UserWarning: Do not pass a layer instance (such as LeakyReLU) as the activation argument of another layer. Instead, advanced activation layers should be used just like any other layer in a model.\n",
      "  identifier=identifier.__class__.__name__))\n",
      "100%|█████████████████████████████████████████████| 3/3 [00:04<00:00,  1.58s/it]\n",
      "2020-06-15 17:21:01.870888: Evaluation complete\n",
      "2020-06-15 17:21:01.924269: Save evaluate label at /Users/lalith/Downloads/Sent2Lalith/nifti/m000-122-BW_FDG_CTAC_ID_cleared/panda/PANDA_1500_m000-f0016-m000-122-BW_FDG_CTAC_ID_cleared.nii success\n"
     ]
    },
    {
     "name": "stderr",
     "output_type": "stream",
     "text": [
      "\n",
      " 76%|███████▌  | 16/21 [02:46<00:51, 10.37s/it]\u001b[A"
     ]
    },
    {
     "name": "stdout",
     "output_type": "stream",
     "text": [
      "Using TensorFlow backend.\n",
      "2020-06-15 17:21:05.456655: I tensorflow/core/platform/cpu_feature_guard.cc:143] Your CPU supports instructions that this TensorFlow binary was not compiled to use: AVX2 FMA\n",
      "2020-06-15 17:21:05.466900: I tensorflow/compiler/xla/service/service.cc:168] XLA service 0x7feb766f5b00 initialized for platform Host (this does not guarantee that XLA will be used). Devices:\n",
      "2020-06-15 17:21:05.466933: I tensorflow/compiler/xla/service/service.cc:176]   StreamExecutor device (0): Host, Default Version\n",
      "/Users/lalith/opt/anaconda3/lib/python3.7/site-packages/keras/activations.py:235: UserWarning: Do not pass a layer instance (such as LeakyReLU) as the activation argument of another layer. Instead, advanced activation layers should be used just like any other layer in a model.\n",
      "  identifier=identifier.__class__.__name__))\n",
      "100%|█████████████████████████████████████████████| 3/3 [00:04<00:00,  1.60s/it]\n",
      "2020-06-15 17:21:11.631289: Evaluation complete\n",
      "2020-06-15 17:21:11.680987: Save evaluate label at /Users/lalith/Downloads/Sent2Lalith/nifti/m000-122-BW_FDG_CTAC_ID_cleared/panda/PANDA_2100_m000-f0017-m000-122-BW_FDG_CTAC_ID_cleared.nii success\n"
     ]
    },
    {
     "name": "stderr",
     "output_type": "stream",
     "text": [
      "\n",
      " 81%|████████  | 17/21 [02:56<00:40, 10.18s/it]\u001b[A"
     ]
    },
    {
     "name": "stdout",
     "output_type": "stream",
     "text": [
      "Using TensorFlow backend.\n",
      "2020-06-15 17:21:15.196808: I tensorflow/core/platform/cpu_feature_guard.cc:143] Your CPU supports instructions that this TensorFlow binary was not compiled to use: AVX2 FMA\n",
      "2020-06-15 17:21:15.207020: I tensorflow/compiler/xla/service/service.cc:168] XLA service 0x7f8e8d628f90 initialized for platform Host (this does not guarantee that XLA will be used). Devices:\n",
      "2020-06-15 17:21:15.207037: I tensorflow/compiler/xla/service/service.cc:176]   StreamExecutor device (0): Host, Default Version\n",
      "/Users/lalith/opt/anaconda3/lib/python3.7/site-packages/keras/activations.py:235: UserWarning: Do not pass a layer instance (such as LeakyReLU) as the activation argument of another layer. Instead, advanced activation layers should be used just like any other layer in a model.\n",
      "  identifier=identifier.__class__.__name__))\n",
      "100%|█████████████████████████████████████████████| 3/3 [00:05<00:00,  1.69s/it]\n",
      "2020-06-15 17:21:21.604467: Evaluation complete\n",
      "2020-06-15 17:21:21.652261: Save evaluate label at /Users/lalith/Downloads/Sent2Lalith/nifti/m000-122-BW_FDG_CTAC_ID_cleared/panda/PANDA_2550_m000-f0018-m000-122-BW_FDG_CTAC_ID_cleared.nii success\n"
     ]
    },
    {
     "name": "stderr",
     "output_type": "stream",
     "text": [
      "\n",
      " 86%|████████▌ | 18/21 [03:06<00:30, 10.12s/it]\u001b[A"
     ]
    },
    {
     "name": "stdout",
     "output_type": "stream",
     "text": [
      "Using TensorFlow backend.\n",
      "2020-06-15 17:21:25.210348: I tensorflow/core/platform/cpu_feature_guard.cc:143] Your CPU supports instructions that this TensorFlow binary was not compiled to use: AVX2 FMA\n",
      "2020-06-15 17:21:25.220748: I tensorflow/compiler/xla/service/service.cc:168] XLA service 0x7f9e34cf0dd0 initialized for platform Host (this does not guarantee that XLA will be used). Devices:\n",
      "2020-06-15 17:21:25.220780: I tensorflow/compiler/xla/service/service.cc:176]   StreamExecutor device (0): Host, Default Version\n",
      "/Users/lalith/opt/anaconda3/lib/python3.7/site-packages/keras/activations.py:235: UserWarning: Do not pass a layer instance (such as LeakyReLU) as the activation argument of another layer. Instead, advanced activation layers should be used just like any other layer in a model.\n",
      "  identifier=identifier.__class__.__name__))\n",
      "100%|█████████████████████████████████████████████| 3/3 [00:04<00:00,  1.61s/it]\n",
      "2020-06-15 17:21:31.366840: Evaluation complete\n",
      "2020-06-15 17:21:31.417094: Save evaluate label at /Users/lalith/Downloads/Sent2Lalith/nifti/m000-122-BW_FDG_CTAC_ID_cleared/panda/PANDA_2850_m000-f0019-m000-122-BW_FDG_CTAC_ID_cleared.nii success\n"
     ]
    },
    {
     "name": "stderr",
     "output_type": "stream",
     "text": [
      "\n",
      " 90%|█████████ | 19/21 [03:15<00:20, 10.02s/it]\u001b[A"
     ]
    },
    {
     "name": "stdout",
     "output_type": "stream",
     "text": [
      "Using TensorFlow backend.\n",
      "2020-06-15 17:21:34.958778: I tensorflow/core/platform/cpu_feature_guard.cc:143] Your CPU supports instructions that this TensorFlow binary was not compiled to use: AVX2 FMA\n",
      "2020-06-15 17:21:34.969716: I tensorflow/compiler/xla/service/service.cc:168] XLA service 0x7fb0ce167140 initialized for platform Host (this does not guarantee that XLA will be used). Devices:\n",
      "2020-06-15 17:21:34.969763: I tensorflow/compiler/xla/service/service.cc:176]   StreamExecutor device (0): Host, Default Version\n",
      "/Users/lalith/opt/anaconda3/lib/python3.7/site-packages/keras/activations.py:235: UserWarning: Do not pass a layer instance (such as LeakyReLU) as the activation argument of another layer. Instead, advanced activation layers should be used just like any other layer in a model.\n",
      "  identifier=identifier.__class__.__name__))\n",
      "100%|█████████████████████████████████████████████| 3/3 [00:06<00:00,  2.08s/it]\n",
      "2020-06-15 17:21:42.562812: Evaluation complete\n",
      "2020-06-15 17:21:42.614525: Save evaluate label at /Users/lalith/Downloads/Sent2Lalith/nifti/m000-122-BW_FDG_CTAC_ID_cleared/panda/PANDA_3150_m000-f0020-m000-122-BW_FDG_CTAC_ID_cleared.nii success\n"
     ]
    },
    {
     "name": "stderr",
     "output_type": "stream",
     "text": [
      "\n",
      " 95%|█████████▌| 20/21 [03:27<00:10, 10.37s/it]\u001b[A"
     ]
    },
    {
     "name": "stdout",
     "output_type": "stream",
     "text": [
      "Using TensorFlow backend.\n",
      "2020-06-15 17:21:46.188501: I tensorflow/core/platform/cpu_feature_guard.cc:143] Your CPU supports instructions that this TensorFlow binary was not compiled to use: AVX2 FMA\n",
      "2020-06-15 17:21:46.198935: I tensorflow/compiler/xla/service/service.cc:168] XLA service 0x7f7f7ff427c0 initialized for platform Host (this does not guarantee that XLA will be used). Devices:\n",
      "2020-06-15 17:21:46.198982: I tensorflow/compiler/xla/service/service.cc:176]   StreamExecutor device (0): Host, Default Version\n",
      "/Users/lalith/opt/anaconda3/lib/python3.7/site-packages/keras/activations.py:235: UserWarning: Do not pass a layer instance (such as LeakyReLU) as the activation argument of another layer. Instead, advanced activation layers should be used just like any other layer in a model.\n",
      "  identifier=identifier.__class__.__name__))\n",
      "100%|█████████████████████████████████████████████| 3/3 [00:04<00:00,  1.61s/it]\n",
      "2020-06-15 17:21:52.319291: Evaluation complete\n",
      "2020-06-15 17:21:52.369645: Save evaluate label at /Users/lalith/Downloads/Sent2Lalith/nifti/m000-122-BW_FDG_CTAC_ID_cleared/panda/PANDA_3450_m000-f0021-m000-122-BW_FDG_CTAC_ID_cleared.nii success\n"
     ]
    },
    {
     "name": "stderr",
     "output_type": "stream",
     "text": [
      "\n",
      "100%|██████████| 21/21 [03:36<00:00, 10.33s/it]\u001b[A\n",
      " 60%|██████    | 6/10 [25:39<16:27, 246.84s/it]\n",
      "  0%|          | 0/21 [00:00<?, ?it/s]\u001b[A"
     ]
    },
    {
     "name": "stdout",
     "output_type": "stream",
     "text": [
      "Directory  panda  Created \n"
     ]
    },
    {
     "name": "stderr",
     "output_type": "stream",
     "text": [
      "100%|██████████| 21/21 [00:00<00:00, 3934.79it/s]\n",
      "\n",
      "  0%|          | 0/21 [00:00<?, ?it/s]\u001b[A"
     ]
    },
    {
     "name": "stdout",
     "output_type": "stream",
     "text": [
      "Using TensorFlow backend.\n",
      "2020-06-15 17:21:55.858835: I tensorflow/core/platform/cpu_feature_guard.cc:143] Your CPU supports instructions that this TensorFlow binary was not compiled to use: AVX2 FMA\n",
      "2020-06-15 17:21:55.869085: I tensorflow/compiler/xla/service/service.cc:168] XLA service 0x7fc4210f29d0 initialized for platform Host (this does not guarantee that XLA will be used). Devices:\n",
      "2020-06-15 17:21:55.869118: I tensorflow/compiler/xla/service/service.cc:176]   StreamExecutor device (0): Host, Default Version\n",
      "/Users/lalith/opt/anaconda3/lib/python3.7/site-packages/keras/activations.py:235: UserWarning: Do not pass a layer instance (such as LeakyReLU) as the activation argument of another layer. Instead, advanced activation layers should be used just like any other layer in a model.\n",
      "  identifier=identifier.__class__.__name__))\n",
      "100%|█████████████████████████████████████████████| 3/3 [00:04<00:00,  1.58s/it]\n",
      "2020-06-15 17:22:02.005629: Evaluation complete\n",
      "2020-06-15 17:22:02.055796: Save evaluate label at /Users/lalith/Downloads/Sent2Lalith/nifti/m000-401AA_FDGdyn_AC_ID_cleared/panda/PANDA_8_m000-f0001-m000-401AA_FDGdyn_AC_ID_cleared.nii success\n"
     ]
    },
    {
     "name": "stderr",
     "output_type": "stream",
     "text": [
      "\n",
      "  5%|▍         | 1/21 [00:09<03:13,  9.67s/it]\u001b[A"
     ]
    },
    {
     "name": "stdout",
     "output_type": "stream",
     "text": [
      "Using TensorFlow backend.\n",
      "2020-06-15 17:22:05.551631: I tensorflow/core/platform/cpu_feature_guard.cc:143] Your CPU supports instructions that this TensorFlow binary was not compiled to use: AVX2 FMA\n",
      "2020-06-15 17:22:05.561645: I tensorflow/compiler/xla/service/service.cc:168] XLA service 0x7fe3653db290 initialized for platform Host (this does not guarantee that XLA will be used). Devices:\n",
      "2020-06-15 17:22:05.561693: I tensorflow/compiler/xla/service/service.cc:176]   StreamExecutor device (0): Host, Default Version\n",
      "/Users/lalith/opt/anaconda3/lib/python3.7/site-packages/keras/activations.py:235: UserWarning: Do not pass a layer instance (such as LeakyReLU) as the activation argument of another layer. Instead, advanced activation layers should be used just like any other layer in a model.\n",
      "  identifier=identifier.__class__.__name__))\n",
      "100%|█████████████████████████████████████████████| 3/3 [00:04<00:00,  1.57s/it]\n",
      "2020-06-15 17:22:11.585415: Evaluation complete\n",
      "2020-06-15 17:22:11.629887: Save evaluate label at /Users/lalith/Downloads/Sent2Lalith/nifti/m000-401AA_FDGdyn_AC_ID_cleared/panda/PANDA_18_m000-f0002-m000-401AA_FDGdyn_AC_ID_cleared.nii success\n"
     ]
    },
    {
     "name": "stderr",
     "output_type": "stream",
     "text": [
      "\n",
      " 10%|▉         | 2/21 [00:19<03:03,  9.64s/it]\u001b[A"
     ]
    },
    {
     "name": "stdout",
     "output_type": "stream",
     "text": [
      "Using TensorFlow backend.\n",
      "2020-06-15 17:22:15.211913: I tensorflow/core/platform/cpu_feature_guard.cc:143] Your CPU supports instructions that this TensorFlow binary was not compiled to use: AVX2 FMA\n",
      "2020-06-15 17:22:15.222864: I tensorflow/compiler/xla/service/service.cc:168] XLA service 0x7f8c30d516e0 initialized for platform Host (this does not guarantee that XLA will be used). Devices:\n",
      "2020-06-15 17:22:15.222916: I tensorflow/compiler/xla/service/service.cc:176]   StreamExecutor device (0): Host, Default Version\n",
      "/Users/lalith/opt/anaconda3/lib/python3.7/site-packages/keras/activations.py:235: UserWarning: Do not pass a layer instance (such as LeakyReLU) as the activation argument of another layer. Instead, advanced activation layers should be used just like any other layer in a model.\n",
      "  identifier=identifier.__class__.__name__))\n",
      "100%|█████████████████████████████████████████████| 3/3 [00:04<00:00,  1.58s/it]\n",
      "2020-06-15 17:22:21.290101: Evaluation complete\n",
      "2020-06-15 17:22:21.337290: Save evaluate label at /Users/lalith/Downloads/Sent2Lalith/nifti/m000-401AA_FDGdyn_AC_ID_cleared/panda/PANDA_23_m000-f0003-m000-401AA_FDGdyn_AC_ID_cleared.nii success\n"
     ]
    },
    {
     "name": "stderr",
     "output_type": "stream",
     "text": [
      "\n",
      " 14%|█▍        | 3/21 [00:28<02:53,  9.66s/it]\u001b[A"
     ]
    },
    {
     "name": "stdout",
     "output_type": "stream",
     "text": [
      "Using TensorFlow backend.\n",
      "2020-06-15 17:22:24.931976: I tensorflow/core/platform/cpu_feature_guard.cc:143] Your CPU supports instructions that this TensorFlow binary was not compiled to use: AVX2 FMA\n",
      "2020-06-15 17:22:24.942058: I tensorflow/compiler/xla/service/service.cc:168] XLA service 0x7fcb9ffe53c0 initialized for platform Host (this does not guarantee that XLA will be used). Devices:\n",
      "2020-06-15 17:22:24.942091: I tensorflow/compiler/xla/service/service.cc:176]   StreamExecutor device (0): Host, Default Version\n",
      "/Users/lalith/opt/anaconda3/lib/python3.7/site-packages/keras/activations.py:235: UserWarning: Do not pass a layer instance (such as LeakyReLU) as the activation argument of another layer. Instead, advanced activation layers should be used just like any other layer in a model.\n",
      "  identifier=identifier.__class__.__name__))\n",
      "100%|█████████████████████████████████████████████| 3/3 [00:04<00:00,  1.62s/it]\n",
      "2020-06-15 17:22:31.108812: Evaluation complete\n",
      "2020-06-15 17:22:31.156611: Save evaluate label at /Users/lalith/Downloads/Sent2Lalith/nifti/m000-401AA_FDGdyn_AC_ID_cleared/panda/PANDA_28_m000-f0004-m000-401AA_FDGdyn_AC_ID_cleared.nii success\n"
     ]
    },
    {
     "name": "stderr",
     "output_type": "stream",
     "text": [
      "\n",
      " 19%|█▉        | 4/21 [00:38<02:45,  9.71s/it]\u001b[A"
     ]
    },
    {
     "name": "stdout",
     "output_type": "stream",
     "text": [
      "Using TensorFlow backend.\n",
      "2020-06-15 17:22:34.914735: I tensorflow/core/platform/cpu_feature_guard.cc:143] Your CPU supports instructions that this TensorFlow binary was not compiled to use: AVX2 FMA\n",
      "2020-06-15 17:22:34.925407: I tensorflow/compiler/xla/service/service.cc:168] XLA service 0x7fbaf7ac9e90 initialized for platform Host (this does not guarantee that XLA will be used). Devices:\n",
      "2020-06-15 17:22:34.925437: I tensorflow/compiler/xla/service/service.cc:176]   StreamExecutor device (0): Host, Default Version\n",
      "/Users/lalith/opt/anaconda3/lib/python3.7/site-packages/keras/activations.py:235: UserWarning: Do not pass a layer instance (such as LeakyReLU) as the activation argument of another layer. Instead, advanced activation layers should be used just like any other layer in a model.\n",
      "  identifier=identifier.__class__.__name__))\n",
      "100%|█████████████████████████████████████████████| 3/3 [00:04<00:00,  1.60s/it]\n",
      "2020-06-15 17:22:41.033668: Evaluation complete\n",
      "2020-06-15 17:22:41.084423: Save evaluate label at /Users/lalith/Downloads/Sent2Lalith/nifti/m000-401AA_FDGdyn_AC_ID_cleared/panda/PANDA_35_m000-f0005-m000-401AA_FDGdyn_AC_ID_cleared.nii success\n"
     ]
    },
    {
     "name": "stderr",
     "output_type": "stream",
     "text": [
      "\n",
      " 24%|██▍       | 5/21 [00:48<02:36,  9.78s/it]\u001b[A"
     ]
    },
    {
     "name": "stdout",
     "output_type": "stream",
     "text": [
      "Using TensorFlow backend.\n",
      "2020-06-15 17:22:44.787188: I tensorflow/core/platform/cpu_feature_guard.cc:143] Your CPU supports instructions that this TensorFlow binary was not compiled to use: AVX2 FMA\n",
      "2020-06-15 17:22:44.798161: I tensorflow/compiler/xla/service/service.cc:168] XLA service 0x7f84fc379e90 initialized for platform Host (this does not guarantee that XLA will be used). Devices:\n",
      "2020-06-15 17:22:44.798212: I tensorflow/compiler/xla/service/service.cc:176]   StreamExecutor device (0): Host, Default Version\n",
      "/Users/lalith/opt/anaconda3/lib/python3.7/site-packages/keras/activations.py:235: UserWarning: Do not pass a layer instance (such as LeakyReLU) as the activation argument of another layer. Instead, advanced activation layers should be used just like any other layer in a model.\n",
      "  identifier=identifier.__class__.__name__))\n",
      "100%|█████████████████████████████████████████████| 3/3 [00:04<00:00,  1.60s/it]\n",
      "2020-06-15 17:22:50.938534: Evaluation complete\n",
      "2020-06-15 17:22:50.988392: Save evaluate label at /Users/lalith/Downloads/Sent2Lalith/nifti/m000-401AA_FDGdyn_AC_ID_cleared/panda/PANDA_45_m000-f0006-m000-401AA_FDGdyn_AC_ID_cleared.nii success\n"
     ]
    },
    {
     "name": "stderr",
     "output_type": "stream",
     "text": [
      "\n",
      " 29%|██▊       | 6/21 [00:58<02:27,  9.82s/it]\u001b[A"
     ]
    },
    {
     "name": "stdout",
     "output_type": "stream",
     "text": [
      "Using TensorFlow backend.\n",
      "2020-06-15 17:22:54.684113: I tensorflow/core/platform/cpu_feature_guard.cc:143] Your CPU supports instructions that this TensorFlow binary was not compiled to use: AVX2 FMA\n",
      "2020-06-15 17:22:54.695009: I tensorflow/compiler/xla/service/service.cc:168] XLA service 0x7fda026890e0 initialized for platform Host (this does not guarantee that XLA will be used). Devices:\n",
      "2020-06-15 17:22:54.695041: I tensorflow/compiler/xla/service/service.cc:176]   StreamExecutor device (0): Host, Default Version\n",
      "/Users/lalith/opt/anaconda3/lib/python3.7/site-packages/keras/activations.py:235: UserWarning: Do not pass a layer instance (such as LeakyReLU) as the activation argument of another layer. Instead, advanced activation layers should be used just like any other layer in a model.\n",
      "  identifier=identifier.__class__.__name__))\n",
      "100%|█████████████████████████████████████████████| 3/3 [00:05<00:00,  1.87s/it]\n",
      "2020-06-15 17:23:01.654621: Evaluation complete\n",
      "2020-06-15 17:23:01.703931: Save evaluate label at /Users/lalith/Downloads/Sent2Lalith/nifti/m000-401AA_FDGdyn_AC_ID_cleared/panda/PANDA_55_m000-f0007-m000-401AA_FDGdyn_AC_ID_cleared.nii success\n"
     ]
    },
    {
     "name": "stderr",
     "output_type": "stream",
     "text": [
      "\n",
      " 33%|███▎      | 7/21 [01:09<02:21, 10.08s/it]\u001b[A"
     ]
    },
    {
     "name": "stdout",
     "output_type": "stream",
     "text": [
      "Using TensorFlow backend.\n",
      "2020-06-15 17:23:05.300581: I tensorflow/core/platform/cpu_feature_guard.cc:143] Your CPU supports instructions that this TensorFlow binary was not compiled to use: AVX2 FMA\n",
      "2020-06-15 17:23:05.311047: I tensorflow/compiler/xla/service/service.cc:168] XLA service 0x7f7ef5fdc850 initialized for platform Host (this does not guarantee that XLA will be used). Devices:\n",
      "2020-06-15 17:23:05.311065: I tensorflow/compiler/xla/service/service.cc:176]   StreamExecutor device (0): Host, Default Version\n",
      "/Users/lalith/opt/anaconda3/lib/python3.7/site-packages/keras/activations.py:235: UserWarning: Do not pass a layer instance (such as LeakyReLU) as the activation argument of another layer. Instead, advanced activation layers should be used just like any other layer in a model.\n",
      "  identifier=identifier.__class__.__name__))\n",
      "100%|█████████████████████████████████████████████| 3/3 [00:04<00:00,  1.62s/it]\n",
      "2020-06-15 17:23:11.512929: Evaluation complete\n",
      "2020-06-15 17:23:11.564660: Save evaluate label at /Users/lalith/Downloads/Sent2Lalith/nifti/m000-401AA_FDGdyn_AC_ID_cleared/panda/PANDA_90_m000-f0008-m000-401AA_FDGdyn_AC_ID_cleared.nii success\n"
     ]
    },
    {
     "name": "stderr",
     "output_type": "stream",
     "text": [
      "\n",
      " 38%|███▊      | 8/21 [01:19<02:10, 10.02s/it]\u001b[A"
     ]
    },
    {
     "name": "stdout",
     "output_type": "stream",
     "text": [
      "Using TensorFlow backend.\n",
      "2020-06-15 17:23:15.327468: I tensorflow/core/platform/cpu_feature_guard.cc:143] Your CPU supports instructions that this TensorFlow binary was not compiled to use: AVX2 FMA\n",
      "2020-06-15 17:23:15.338198: I tensorflow/compiler/xla/service/service.cc:168] XLA service 0x7fe1e55f1ee0 initialized for platform Host (this does not guarantee that XLA will be used). Devices:\n",
      "2020-06-15 17:23:15.338247: I tensorflow/compiler/xla/service/service.cc:176]   StreamExecutor device (0): Host, Default Version\n",
      "/Users/lalith/opt/anaconda3/lib/python3.7/site-packages/keras/activations.py:235: UserWarning: Do not pass a layer instance (such as LeakyReLU) as the activation argument of another layer. Instead, advanced activation layers should be used just like any other layer in a model.\n",
      "  identifier=identifier.__class__.__name__))\n",
      "100%|█████████████████████████████████████████████| 3/3 [00:04<00:00,  1.65s/it]\n",
      "2020-06-15 17:23:21.602024: Evaluation complete\n",
      "2020-06-15 17:23:21.652828: Save evaluate label at /Users/lalith/Downloads/Sent2Lalith/nifti/m000-401AA_FDGdyn_AC_ID_cleared/panda/PANDA_150_m000-f0009-m000-401AA_FDGdyn_AC_ID_cleared.nii success\n"
     ]
    },
    {
     "name": "stderr",
     "output_type": "stream",
     "text": [
      "\n",
      " 43%|████▎     | 9/21 [01:29<02:00, 10.04s/it]\u001b[A"
     ]
    },
    {
     "name": "stdout",
     "output_type": "stream",
     "text": [
      "Using TensorFlow backend.\n",
      "2020-06-15 17:23:25.403445: I tensorflow/core/platform/cpu_feature_guard.cc:143] Your CPU supports instructions that this TensorFlow binary was not compiled to use: AVX2 FMA\n",
      "2020-06-15 17:23:25.414330: I tensorflow/compiler/xla/service/service.cc:168] XLA service 0x7fce1eadb6c0 initialized for platform Host (this does not guarantee that XLA will be used). Devices:\n",
      "2020-06-15 17:23:25.414362: I tensorflow/compiler/xla/service/service.cc:176]   StreamExecutor device (0): Host, Default Version\n",
      "/Users/lalith/opt/anaconda3/lib/python3.7/site-packages/keras/activations.py:235: UserWarning: Do not pass a layer instance (such as LeakyReLU) as the activation argument of another layer. Instead, advanced activation layers should be used just like any other layer in a model.\n",
      "  identifier=identifier.__class__.__name__))\n",
      "100%|█████████████████████████████████████████████| 3/3 [00:06<00:00,  2.07s/it]\n",
      "2020-06-15 17:23:33.047202: Evaluation complete\n",
      "2020-06-15 17:23:33.120959: Save evaluate label at /Users/lalith/Downloads/Sent2Lalith/nifti/m000-401AA_FDGdyn_AC_ID_cleared/panda/PANDA_210_m000-f0010-m000-401AA_FDGdyn_AC_ID_cleared.nii success\n"
     ]
    },
    {
     "name": "stderr",
     "output_type": "stream",
     "text": [
      "\n",
      " 48%|████▊     | 10/21 [01:40<01:55, 10.47s/it]\u001b[A"
     ]
    },
    {
     "name": "stdout",
     "output_type": "stream",
     "text": [
      "Using TensorFlow backend.\n",
      "2020-06-15 17:23:36.717262: I tensorflow/core/platform/cpu_feature_guard.cc:143] Your CPU supports instructions that this TensorFlow binary was not compiled to use: AVX2 FMA\n",
      "2020-06-15 17:23:36.727781: I tensorflow/compiler/xla/service/service.cc:168] XLA service 0x7fdaaf3646a0 initialized for platform Host (this does not guarantee that XLA will be used). Devices:\n",
      "2020-06-15 17:23:36.727813: I tensorflow/compiler/xla/service/service.cc:176]   StreamExecutor device (0): Host, Default Version\n",
      "/Users/lalith/opt/anaconda3/lib/python3.7/site-packages/keras/activations.py:235: UserWarning: Do not pass a layer instance (such as LeakyReLU) as the activation argument of another layer. Instead, advanced activation layers should be used just like any other layer in a model.\n",
      "  identifier=identifier.__class__.__name__))\n",
      "100%|█████████████████████████████████████████████| 3/3 [00:04<00:00,  1.56s/it]\n",
      "2020-06-15 17:23:42.718649: Evaluation complete\n",
      "2020-06-15 17:23:42.767455: Save evaluate label at /Users/lalith/Downloads/Sent2Lalith/nifti/m000-401AA_FDGdyn_AC_ID_cleared/panda/PANDA_270_m000-f0011-m000-401AA_FDGdyn_AC_ID_cleared.nii success\n"
     ]
    },
    {
     "name": "stderr",
     "output_type": "stream",
     "text": [
      "\n",
      " 52%|█████▏    | 11/21 [01:50<01:42, 10.22s/it]\u001b[A"
     ]
    },
    {
     "name": "stdout",
     "output_type": "stream",
     "text": [
      "Using TensorFlow backend.\n",
      "2020-06-15 17:23:46.119594: I tensorflow/core/platform/cpu_feature_guard.cc:143] Your CPU supports instructions that this TensorFlow binary was not compiled to use: AVX2 FMA\n",
      "2020-06-15 17:23:46.130467: I tensorflow/compiler/xla/service/service.cc:168] XLA service 0x7fc126849c70 initialized for platform Host (this does not guarantee that XLA will be used). Devices:\n",
      "2020-06-15 17:23:46.130517: I tensorflow/compiler/xla/service/service.cc:176]   StreamExecutor device (0): Host, Default Version\n",
      "/Users/lalith/opt/anaconda3/lib/python3.7/site-packages/keras/activations.py:235: UserWarning: Do not pass a layer instance (such as LeakyReLU) as the activation argument of another layer. Instead, advanced activation layers should be used just like any other layer in a model.\n",
      "  identifier=identifier.__class__.__name__))\n",
      "100%|█████████████████████████████████████████████| 3/3 [00:04<00:00,  1.56s/it]\n",
      "2020-06-15 17:23:52.180812: Evaluation complete\n",
      "2020-06-15 17:23:52.230658: Save evaluate label at /Users/lalith/Downloads/Sent2Lalith/nifti/m000-401AA_FDGdyn_AC_ID_cleared/panda/PANDA_375_m000-f0012-m000-401AA_FDGdyn_AC_ID_cleared.nii success\n"
     ]
    },
    {
     "name": "stderr",
     "output_type": "stream",
     "text": [
      "\n",
      " 57%|█████▋    | 12/21 [01:59<01:29,  9.99s/it]\u001b[A"
     ]
    },
    {
     "name": "stdout",
     "output_type": "stream",
     "text": [
      "Using TensorFlow backend.\n",
      "2020-06-15 17:23:55.671066: I tensorflow/core/platform/cpu_feature_guard.cc:143] Your CPU supports instructions that this TensorFlow binary was not compiled to use: AVX2 FMA\n",
      "2020-06-15 17:23:55.681267: I tensorflow/compiler/xla/service/service.cc:168] XLA service 0x7fc59c83a440 initialized for platform Host (this does not guarantee that XLA will be used). Devices:\n",
      "2020-06-15 17:23:55.681299: I tensorflow/compiler/xla/service/service.cc:176]   StreamExecutor device (0): Host, Default Version\n",
      "/Users/lalith/opt/anaconda3/lib/python3.7/site-packages/keras/activations.py:235: UserWarning: Do not pass a layer instance (such as LeakyReLU) as the activation argument of another layer. Instead, advanced activation layers should be used just like any other layer in a model.\n",
      "  identifier=identifier.__class__.__name__))\n",
      "100%|█████████████████████████████████████████████| 3/3 [00:04<00:00,  1.56s/it]\n",
      "2020-06-15 17:24:01.671556: Evaluation complete\n",
      "2020-06-15 17:24:01.725289: Save evaluate label at /Users/lalith/Downloads/Sent2Lalith/nifti/m000-401AA_FDGdyn_AC_ID_cleared/panda/PANDA_525_m000-f0013-m000-401AA_FDGdyn_AC_ID_cleared.nii success\n"
     ]
    },
    {
     "name": "stderr",
     "output_type": "stream",
     "text": [
      "\n",
      " 62%|██████▏   | 13/21 [02:09<01:18,  9.84s/it]\u001b[A"
     ]
    },
    {
     "name": "stdout",
     "output_type": "stream",
     "text": [
      "Using TensorFlow backend.\n",
      "2020-06-15 17:24:05.146487: I tensorflow/core/platform/cpu_feature_guard.cc:143] Your CPU supports instructions that this TensorFlow binary was not compiled to use: AVX2 FMA\n",
      "2020-06-15 17:24:05.156906: I tensorflow/compiler/xla/service/service.cc:168] XLA service 0x7f8977640fa0 initialized for platform Host (this does not guarantee that XLA will be used). Devices:\n",
      "2020-06-15 17:24:05.156939: I tensorflow/compiler/xla/service/service.cc:176]   StreamExecutor device (0): Host, Default Version\n",
      "/Users/lalith/opt/anaconda3/lib/python3.7/site-packages/keras/activations.py:235: UserWarning: Do not pass a layer instance (such as LeakyReLU) as the activation argument of another layer. Instead, advanced activation layers should be used just like any other layer in a model.\n",
      "  identifier=identifier.__class__.__name__))\n",
      "100%|█████████████████████████████████████████████| 3/3 [00:04<00:00,  1.59s/it]\n",
      "2020-06-15 17:24:11.303564: Evaluation complete\n",
      "2020-06-15 17:24:11.351904: Save evaluate label at /Users/lalith/Downloads/Sent2Lalith/nifti/m000-401AA_FDGdyn_AC_ID_cleared/panda/PANDA_750_m000-f0014-m000-401AA_FDGdyn_AC_ID_cleared.nii success\n"
     ]
    },
    {
     "name": "stderr",
     "output_type": "stream",
     "text": [
      "\n",
      " 67%|██████▋   | 14/21 [02:18<01:08,  9.78s/it]\u001b[A"
     ]
    },
    {
     "name": "stdout",
     "output_type": "stream",
     "text": [
      "Using TensorFlow backend.\n",
      "2020-06-15 17:24:14.800698: I tensorflow/core/platform/cpu_feature_guard.cc:143] Your CPU supports instructions that this TensorFlow binary was not compiled to use: AVX2 FMA\n",
      "2020-06-15 17:24:14.810795: I tensorflow/compiler/xla/service/service.cc:168] XLA service 0x7f7f2fece200 initialized for platform Host (this does not guarantee that XLA will be used). Devices:\n",
      "2020-06-15 17:24:14.810844: I tensorflow/compiler/xla/service/service.cc:176]   StreamExecutor device (0): Host, Default Version\n",
      "/Users/lalith/opt/anaconda3/lib/python3.7/site-packages/keras/activations.py:235: UserWarning: Do not pass a layer instance (such as LeakyReLU) as the activation argument of another layer. Instead, advanced activation layers should be used just like any other layer in a model.\n",
      "  identifier=identifier.__class__.__name__))\n",
      "100%|█████████████████████████████████████████████| 3/3 [00:04<00:00,  1.62s/it]\n",
      "2020-06-15 17:24:21.056418: Evaluation complete\n",
      "2020-06-15 17:24:21.107110: Save evaluate label at /Users/lalith/Downloads/Sent2Lalith/nifti/m000-401AA_FDGdyn_AC_ID_cleared/panda/PANDA_1050_m000-f0015-m000-401AA_FDGdyn_AC_ID_cleared.nii success\n"
     ]
    },
    {
     "name": "stderr",
     "output_type": "stream",
     "text": [
      "\n",
      " 71%|███████▏  | 15/21 [02:28<00:58,  9.80s/it]\u001b[A"
     ]
    },
    {
     "name": "stdout",
     "output_type": "stream",
     "text": [
      "Using TensorFlow backend.\n",
      "2020-06-15 17:24:25.524116: I tensorflow/core/platform/cpu_feature_guard.cc:143] Your CPU supports instructions that this TensorFlow binary was not compiled to use: AVX2 FMA\n",
      "2020-06-15 17:24:25.538386: I tensorflow/compiler/xla/service/service.cc:168] XLA service 0x7fe3fe13b850 initialized for platform Host (this does not guarantee that XLA will be used). Devices:\n",
      "2020-06-15 17:24:25.538404: I tensorflow/compiler/xla/service/service.cc:176]   StreamExecutor device (0): Host, Default Version\n",
      "/Users/lalith/opt/anaconda3/lib/python3.7/site-packages/keras/activations.py:235: UserWarning: Do not pass a layer instance (such as LeakyReLU) as the activation argument of another layer. Instead, advanced activation layers should be used just like any other layer in a model.\n",
      "  identifier=identifier.__class__.__name__))\n",
      "100%|█████████████████████████████████████████████| 3/3 [00:07<00:00,  2.62s/it]\n",
      "2020-06-15 17:24:35.535385: Evaluation complete\n",
      "2020-06-15 17:24:35.585126: Save evaluate label at /Users/lalith/Downloads/Sent2Lalith/nifti/m000-401AA_FDGdyn_AC_ID_cleared/panda/PANDA_1500_m000-f0016-m000-401AA_FDGdyn_AC_ID_cleared.nii success\n"
     ]
    },
    {
     "name": "stderr",
     "output_type": "stream",
     "text": [
      "\n",
      " 76%|███████▌  | 16/21 [02:43<00:56, 11.25s/it]\u001b[A"
     ]
    },
    {
     "name": "stdout",
     "output_type": "stream",
     "text": [
      "Using TensorFlow backend.\n",
      "2020-06-15 17:24:41.001374: I tensorflow/core/platform/cpu_feature_guard.cc:143] Your CPU supports instructions that this TensorFlow binary was not compiled to use: AVX2 FMA\n",
      "2020-06-15 17:24:41.012233: I tensorflow/compiler/xla/service/service.cc:168] XLA service 0x7fdeca6a1190 initialized for platform Host (this does not guarantee that XLA will be used). Devices:\n",
      "2020-06-15 17:24:41.012266: I tensorflow/compiler/xla/service/service.cc:176]   StreamExecutor device (0): Host, Default Version\n",
      "/Users/lalith/opt/anaconda3/lib/python3.7/site-packages/keras/activations.py:235: UserWarning: Do not pass a layer instance (such as LeakyReLU) as the activation argument of another layer. Instead, advanced activation layers should be used just like any other layer in a model.\n",
      "  identifier=identifier.__class__.__name__))\n",
      "100%|█████████████████████████████████████████████| 3/3 [00:10<00:00,  3.34s/it]\n",
      "2020-06-15 17:24:53.866114: Evaluation complete\n",
      "2020-06-15 17:24:53.934278: Save evaluate label at /Users/lalith/Downloads/Sent2Lalith/nifti/m000-401AA_FDGdyn_AC_ID_cleared/panda/PANDA_2100_m000-f0017-m000-401AA_FDGdyn_AC_ID_cleared.nii success\n"
     ]
    },
    {
     "name": "stderr",
     "output_type": "stream",
     "text": [
      "\n",
      " 81%|████████  | 17/21 [03:02<00:53, 13.47s/it]\u001b[A"
     ]
    },
    {
     "name": "stdout",
     "output_type": "stream",
     "text": [
      "Using TensorFlow backend.\n",
      "2020-06-15 17:24:59.435912: I tensorflow/core/platform/cpu_feature_guard.cc:143] Your CPU supports instructions that this TensorFlow binary was not compiled to use: AVX2 FMA\n",
      "2020-06-15 17:24:59.447509: I tensorflow/compiler/xla/service/service.cc:168] XLA service 0x7fd0e2156cd0 initialized for platform Host (this does not guarantee that XLA will be used). Devices:\n",
      "2020-06-15 17:24:59.447527: I tensorflow/compiler/xla/service/service.cc:176]   StreamExecutor device (0): Host, Default Version\n",
      "/Users/lalith/opt/anaconda3/lib/python3.7/site-packages/keras/activations.py:235: UserWarning: Do not pass a layer instance (such as LeakyReLU) as the activation argument of another layer. Instead, advanced activation layers should be used just like any other layer in a model.\n",
      "  identifier=identifier.__class__.__name__))\n",
      "100%|█████████████████████████████████████████████| 3/3 [00:06<00:00,  2.16s/it]\n",
      "2020-06-15 17:25:07.376122: Evaluation complete\n",
      "2020-06-15 17:25:07.421599: Save evaluate label at /Users/lalith/Downloads/Sent2Lalith/nifti/m000-401AA_FDGdyn_AC_ID_cleared/panda/PANDA_2550_m000-f0018-m000-401AA_FDGdyn_AC_ID_cleared.nii success\n"
     ]
    },
    {
     "name": "stderr",
     "output_type": "stream",
     "text": [
      "\n",
      " 86%|████████▌ | 18/21 [03:15<00:39, 13.32s/it]\u001b[A"
     ]
    },
    {
     "name": "stdout",
     "output_type": "stream",
     "text": [
      "Using TensorFlow backend.\n",
      "2020-06-15 17:25:11.604809: I tensorflow/core/platform/cpu_feature_guard.cc:143] Your CPU supports instructions that this TensorFlow binary was not compiled to use: AVX2 FMA\n",
      "2020-06-15 17:25:11.614752: I tensorflow/compiler/xla/service/service.cc:168] XLA service 0x7fdb64bdfe60 initialized for platform Host (this does not guarantee that XLA will be used). Devices:\n",
      "2020-06-15 17:25:11.614785: I tensorflow/compiler/xla/service/service.cc:176]   StreamExecutor device (0): Host, Default Version\n",
      "/Users/lalith/opt/anaconda3/lib/python3.7/site-packages/keras/activations.py:235: UserWarning: Do not pass a layer instance (such as LeakyReLU) as the activation argument of another layer. Instead, advanced activation layers should be used just like any other layer in a model.\n",
      "  identifier=identifier.__class__.__name__))\n",
      "100%|█████████████████████████████████████████████| 3/3 [00:06<00:00,  2.15s/it]\n",
      "2020-06-15 17:25:19.457801: Evaluation complete\n",
      "2020-06-15 17:25:19.504325: Save evaluate label at /Users/lalith/Downloads/Sent2Lalith/nifti/m000-401AA_FDGdyn_AC_ID_cleared/panda/PANDA_2850_m000-f0019-m000-401AA_FDGdyn_AC_ID_cleared.nii success\n"
     ]
    },
    {
     "name": "stderr",
     "output_type": "stream",
     "text": [
      "\n",
      " 90%|█████████ | 19/21 [03:27<00:25, 12.94s/it]\u001b[A"
     ]
    },
    {
     "name": "stdout",
     "output_type": "stream",
     "text": [
      "Using TensorFlow backend.\n",
      "2020-06-15 17:25:23.348365: I tensorflow/core/platform/cpu_feature_guard.cc:143] Your CPU supports instructions that this TensorFlow binary was not compiled to use: AVX2 FMA\n",
      "2020-06-15 17:25:23.358844: I tensorflow/compiler/xla/service/service.cc:168] XLA service 0x7fc04f253b30 initialized for platform Host (this does not guarantee that XLA will be used). Devices:\n",
      "2020-06-15 17:25:23.358879: I tensorflow/compiler/xla/service/service.cc:176]   StreamExecutor device (0): Host, Default Version\n",
      "/Users/lalith/opt/anaconda3/lib/python3.7/site-packages/keras/activations.py:235: UserWarning: Do not pass a layer instance (such as LeakyReLU) as the activation argument of another layer. Instead, advanced activation layers should be used just like any other layer in a model.\n",
      "  identifier=identifier.__class__.__name__))\n",
      "100%|█████████████████████████████████████████████| 3/3 [00:05<00:00,  1.67s/it]\n",
      "2020-06-15 17:25:29.725023: Evaluation complete\n",
      "2020-06-15 17:25:29.770112: Save evaluate label at /Users/lalith/Downloads/Sent2Lalith/nifti/m000-401AA_FDGdyn_AC_ID_cleared/panda/PANDA_3150_m000-f0020-m000-401AA_FDGdyn_AC_ID_cleared.nii success\n"
     ]
    },
    {
     "name": "stderr",
     "output_type": "stream",
     "text": [
      "\n",
      " 95%|█████████▌| 20/21 [03:37<00:12, 12.14s/it]\u001b[A"
     ]
    },
    {
     "name": "stdout",
     "output_type": "stream",
     "text": [
      "Using TensorFlow backend.\n",
      "2020-06-15 17:25:33.801945: I tensorflow/core/platform/cpu_feature_guard.cc:143] Your CPU supports instructions that this TensorFlow binary was not compiled to use: AVX2 FMA\n",
      "2020-06-15 17:25:33.812436: I tensorflow/compiler/xla/service/service.cc:168] XLA service 0x7fc32e5ef000 initialized for platform Host (this does not guarantee that XLA will be used). Devices:\n",
      "2020-06-15 17:25:33.812469: I tensorflow/compiler/xla/service/service.cc:176]   StreamExecutor device (0): Host, Default Version\n",
      "/Users/lalith/opt/anaconda3/lib/python3.7/site-packages/keras/activations.py:235: UserWarning: Do not pass a layer instance (such as LeakyReLU) as the activation argument of another layer. Instead, advanced activation layers should be used just like any other layer in a model.\n",
      "  identifier=identifier.__class__.__name__))\n",
      "100%|█████████████████████████████████████████████| 3/3 [00:05<00:00,  1.90s/it]\n",
      "2020-06-15 17:25:40.864568: Evaluation complete\n",
      "2020-06-15 17:25:40.912571: Save evaluate label at /Users/lalith/Downloads/Sent2Lalith/nifti/m000-401AA_FDGdyn_AC_ID_cleared/panda/PANDA_3450_m000-f0021-m000-401AA_FDGdyn_AC_ID_cleared.nii success\n"
     ]
    },
    {
     "name": "stderr",
     "output_type": "stream",
     "text": [
      "\n",
      "100%|██████████| 21/21 [03:48<00:00, 10.88s/it]\u001b[A\n",
      " 70%|███████   | 7/10 [29:28<12:04, 241.35s/it]\n",
      "100%|██████████| 21/21 [00:00<00:00, 4549.37it/s]\n",
      "\n",
      "  0%|          | 0/21 [00:00<?, ?it/s]\u001b[A"
     ]
    },
    {
     "name": "stdout",
     "output_type": "stream",
     "text": [
      "Directory  panda  Created \n",
      "Using TensorFlow backend.\n",
      "2020-06-15 17:25:44.727534: I tensorflow/core/platform/cpu_feature_guard.cc:143] Your CPU supports instructions that this TensorFlow binary was not compiled to use: AVX2 FMA\n",
      "2020-06-15 17:25:44.738309: I tensorflow/compiler/xla/service/service.cc:168] XLA service 0x7f99b0cfa890 initialized for platform Host (this does not guarantee that XLA will be used). Devices:\n",
      "2020-06-15 17:25:44.738340: I tensorflow/compiler/xla/service/service.cc:176]   StreamExecutor device (0): Host, Default Version\n",
      "/Users/lalith/opt/anaconda3/lib/python3.7/site-packages/keras/activations.py:235: UserWarning: Do not pass a layer instance (such as LeakyReLU) as the activation argument of another layer. Instead, advanced activation layers should be used just like any other layer in a model.\n",
      "  identifier=identifier.__class__.__name__))\n",
      "100%|█████████████████████████████████████████████| 3/3 [00:07<00:00,  2.44s/it]\n",
      "2020-06-15 17:25:53.480100: Evaluation complete\n",
      "2020-06-15 17:25:53.534062: Save evaluate label at /Users/lalith/Downloads/Sent2Lalith/nifti/m000-403-AF_FDGdyn_AC_ID_cleared/panda/PANDA_8_m000-f0001-m000-403-AF_FDGdyn_AC_ID_cleared.nii success\n"
     ]
    },
    {
     "name": "stderr",
     "output_type": "stream",
     "text": [
      "\n",
      "  5%|▍         | 1/21 [00:12<04:17, 12.87s/it]\u001b[A"
     ]
    },
    {
     "name": "stdout",
     "output_type": "stream",
     "text": [
      "Using TensorFlow backend.\n",
      "2020-06-15 17:25:57.963069: I tensorflow/core/platform/cpu_feature_guard.cc:143] Your CPU supports instructions that this TensorFlow binary was not compiled to use: AVX2 FMA\n",
      "2020-06-15 17:25:57.974038: I tensorflow/compiler/xla/service/service.cc:168] XLA service 0x7fb7cc5d98b0 initialized for platform Host (this does not guarantee that XLA will be used). Devices:\n",
      "2020-06-15 17:25:57.974053: I tensorflow/compiler/xla/service/service.cc:176]   StreamExecutor device (0): Host, Default Version\n",
      "/Users/lalith/opt/anaconda3/lib/python3.7/site-packages/keras/activations.py:235: UserWarning: Do not pass a layer instance (such as LeakyReLU) as the activation argument of another layer. Instead, advanced activation layers should be used just like any other layer in a model.\n",
      "  identifier=identifier.__class__.__name__))\n",
      "100%|█████████████████████████████████████████████| 3/3 [00:06<00:00,  2.13s/it]\n",
      "2020-06-15 17:26:05.784841: Evaluation complete\n",
      "2020-06-15 17:26:05.831582: Save evaluate label at /Users/lalith/Downloads/Sent2Lalith/nifti/m000-403-AF_FDGdyn_AC_ID_cleared/panda/PANDA_18_m000-f0002-m000-403-AF_FDGdyn_AC_ID_cleared.nii success\n"
     ]
    },
    {
     "name": "stderr",
     "output_type": "stream",
     "text": [
      "\n",
      " 10%|▉         | 2/21 [00:24<03:59, 12.63s/it]\u001b[A"
     ]
    },
    {
     "name": "stdout",
     "output_type": "stream",
     "text": [
      "Using TensorFlow backend.\n",
      "2020-06-15 17:26:09.756396: I tensorflow/core/platform/cpu_feature_guard.cc:143] Your CPU supports instructions that this TensorFlow binary was not compiled to use: AVX2 FMA\n",
      "2020-06-15 17:26:09.766676: I tensorflow/compiler/xla/service/service.cc:168] XLA service 0x7f9017fe2710 initialized for platform Host (this does not guarantee that XLA will be used). Devices:\n",
      "2020-06-15 17:26:09.766692: I tensorflow/compiler/xla/service/service.cc:176]   StreamExecutor device (0): Host, Default Version\n",
      "/Users/lalith/opt/anaconda3/lib/python3.7/site-packages/keras/activations.py:235: UserWarning: Do not pass a layer instance (such as LeakyReLU) as the activation argument of another layer. Instead, advanced activation layers should be used just like any other layer in a model.\n",
      "  identifier=identifier.__class__.__name__))\n",
      "100%|█████████████████████████████████████████████| 3/3 [00:05<00:00,  1.70s/it]\n",
      "2020-06-15 17:26:16.269798: Evaluation complete\n",
      "2020-06-15 17:26:16.319885: Save evaluate label at /Users/lalith/Downloads/Sent2Lalith/nifti/m000-403-AF_FDGdyn_AC_ID_cleared/panda/PANDA_23_m000-f0003-m000-403-AF_FDGdyn_AC_ID_cleared.nii success\n"
     ]
    },
    {
     "name": "stderr",
     "output_type": "stream",
     "text": [
      "\n",
      " 14%|█▍        | 3/21 [00:35<03:35, 11.98s/it]\u001b[A"
     ]
    },
    {
     "name": "stdout",
     "output_type": "stream",
     "text": [
      "Using TensorFlow backend.\n",
      "2020-06-15 17:26:20.329806: I tensorflow/core/platform/cpu_feature_guard.cc:143] Your CPU supports instructions that this TensorFlow binary was not compiled to use: AVX2 FMA\n",
      "2020-06-15 17:26:20.341412: I tensorflow/compiler/xla/service/service.cc:168] XLA service 0x7f86c887e9b0 initialized for platform Host (this does not guarantee that XLA will be used). Devices:\n",
      "2020-06-15 17:26:20.341428: I tensorflow/compiler/xla/service/service.cc:176]   StreamExecutor device (0): Host, Default Version\n",
      "/Users/lalith/opt/anaconda3/lib/python3.7/site-packages/keras/activations.py:235: UserWarning: Do not pass a layer instance (such as LeakyReLU) as the activation argument of another layer. Instead, advanced activation layers should be used just like any other layer in a model.\n",
      "  identifier=identifier.__class__.__name__))\n",
      "100%|█████████████████████████████████████████████| 3/3 [00:05<00:00,  1.70s/it]\n",
      "2020-06-15 17:26:26.902348: Evaluation complete\n",
      "2020-06-15 17:26:26.951975: Save evaluate label at /Users/lalith/Downloads/Sent2Lalith/nifti/m000-403-AF_FDGdyn_AC_ID_cleared/panda/PANDA_28_m000-f0004-m000-403-AF_FDGdyn_AC_ID_cleared.nii success\n"
     ]
    },
    {
     "name": "stderr",
     "output_type": "stream",
     "text": [
      "\n",
      " 19%|█▉        | 4/21 [00:46<03:16, 11.58s/it]\u001b[A"
     ]
    },
    {
     "name": "stdout",
     "output_type": "stream",
     "text": [
      "Using TensorFlow backend.\n",
      "2020-06-15 17:26:31.056640: I tensorflow/core/platform/cpu_feature_guard.cc:143] Your CPU supports instructions that this TensorFlow binary was not compiled to use: AVX2 FMA\n",
      "2020-06-15 17:26:31.066629: I tensorflow/compiler/xla/service/service.cc:168] XLA service 0x7fa67eb3ebb0 initialized for platform Host (this does not guarantee that XLA will be used). Devices:\n",
      "2020-06-15 17:26:31.066647: I tensorflow/compiler/xla/service/service.cc:176]   StreamExecutor device (0): Host, Default Version\n",
      "/Users/lalith/opt/anaconda3/lib/python3.7/site-packages/keras/activations.py:235: UserWarning: Do not pass a layer instance (such as LeakyReLU) as the activation argument of another layer. Instead, advanced activation layers should be used just like any other layer in a model.\n",
      "  identifier=identifier.__class__.__name__))\n",
      "100%|█████████████████████████████████████████████| 3/3 [00:05<00:00,  1.84s/it]\n",
      "2020-06-15 17:26:38.020984: Evaluation complete\n",
      "2020-06-15 17:26:38.067133: Save evaluate label at /Users/lalith/Downloads/Sent2Lalith/nifti/m000-403-AF_FDGdyn_AC_ID_cleared/panda/PANDA_35_m000-f0005-m000-403-AF_FDGdyn_AC_ID_cleared.nii success\n"
     ]
    },
    {
     "name": "stderr",
     "output_type": "stream",
     "text": [
      "\n",
      " 24%|██▍       | 5/21 [00:57<03:02, 11.44s/it]\u001b[A"
     ]
    },
    {
     "name": "stdout",
     "output_type": "stream",
     "text": [
      "Using TensorFlow backend.\n",
      "2020-06-15 17:26:42.140769: I tensorflow/core/platform/cpu_feature_guard.cc:143] Your CPU supports instructions that this TensorFlow binary was not compiled to use: AVX2 FMA\n",
      "2020-06-15 17:26:42.151820: I tensorflow/compiler/xla/service/service.cc:168] XLA service 0x7f9194343ba0 initialized for platform Host (this does not guarantee that XLA will be used). Devices:\n",
      "2020-06-15 17:26:42.151855: I tensorflow/compiler/xla/service/service.cc:176]   StreamExecutor device (0): Host, Default Version\n",
      "/Users/lalith/opt/anaconda3/lib/python3.7/site-packages/keras/activations.py:235: UserWarning: Do not pass a layer instance (such as LeakyReLU) as the activation argument of another layer. Instead, advanced activation layers should be used just like any other layer in a model.\n",
      "  identifier=identifier.__class__.__name__))\n",
      "100%|█████████████████████████████████████████████| 3/3 [00:04<00:00,  1.64s/it]\n",
      "2020-06-15 17:26:48.463117: Evaluation complete\n",
      "2020-06-15 17:26:48.511012: Save evaluate label at /Users/lalith/Downloads/Sent2Lalith/nifti/m000-403-AF_FDGdyn_AC_ID_cleared/panda/PANDA_45_m000-f0006-m000-403-AF_FDGdyn_AC_ID_cleared.nii success\n"
     ]
    },
    {
     "name": "stderr",
     "output_type": "stream",
     "text": [
      "\n",
      " 29%|██▊       | 6/21 [01:07<02:47, 11.14s/it]\u001b[A"
     ]
    },
    {
     "name": "stdout",
     "output_type": "stream",
     "text": [
      "Using TensorFlow backend.\n",
      "2020-06-15 17:26:52.213941: I tensorflow/core/platform/cpu_feature_guard.cc:143] Your CPU supports instructions that this TensorFlow binary was not compiled to use: AVX2 FMA\n",
      "2020-06-15 17:26:52.224396: I tensorflow/compiler/xla/service/service.cc:168] XLA service 0x7fdc79faea50 initialized for platform Host (this does not guarantee that XLA will be used). Devices:\n",
      "2020-06-15 17:26:52.224446: I tensorflow/compiler/xla/service/service.cc:176]   StreamExecutor device (0): Host, Default Version\n",
      "/Users/lalith/opt/anaconda3/lib/python3.7/site-packages/keras/activations.py:235: UserWarning: Do not pass a layer instance (such as LeakyReLU) as the activation argument of another layer. Instead, advanced activation layers should be used just like any other layer in a model.\n",
      "  identifier=identifier.__class__.__name__))\n",
      "100%|█████████████████████████████████████████████| 3/3 [00:04<00:00,  1.61s/it]\n",
      "2020-06-15 17:26:58.383668: Evaluation complete\n",
      "2020-06-15 17:26:58.433083: Save evaluate label at /Users/lalith/Downloads/Sent2Lalith/nifti/m000-403-AF_FDGdyn_AC_ID_cleared/panda/PANDA_55_m000-f0007-m000-403-AF_FDGdyn_AC_ID_cleared.nii success\n"
     ]
    },
    {
     "name": "stderr",
     "output_type": "stream",
     "text": [
      "\n",
      " 33%|███▎      | 7/21 [01:17<02:30, 10.77s/it]\u001b[A"
     ]
    },
    {
     "name": "stdout",
     "output_type": "stream",
     "text": [
      "Using TensorFlow backend.\n",
      "2020-06-15 17:27:01.846629: I tensorflow/core/platform/cpu_feature_guard.cc:143] Your CPU supports instructions that this TensorFlow binary was not compiled to use: AVX2 FMA\n",
      "2020-06-15 17:27:01.857157: I tensorflow/compiler/xla/service/service.cc:168] XLA service 0x7fce4e84bbb0 initialized for platform Host (this does not guarantee that XLA will be used). Devices:\n",
      "2020-06-15 17:27:01.857205: I tensorflow/compiler/xla/service/service.cc:176]   StreamExecutor device (0): Host, Default Version\n",
      "/Users/lalith/opt/anaconda3/lib/python3.7/site-packages/keras/activations.py:235: UserWarning: Do not pass a layer instance (such as LeakyReLU) as the activation argument of another layer. Instead, advanced activation layers should be used just like any other layer in a model.\n",
      "  identifier=identifier.__class__.__name__))\n",
      "100%|█████████████████████████████████████████████| 3/3 [00:04<00:00,  1.63s/it]\n",
      "2020-06-15 17:27:08.092553: Evaluation complete\n",
      "2020-06-15 17:27:08.138721: Save evaluate label at /Users/lalith/Downloads/Sent2Lalith/nifti/m000-403-AF_FDGdyn_AC_ID_cleared/panda/PANDA_90_m000-f0008-m000-403-AF_FDGdyn_AC_ID_cleared.nii success\n"
     ]
    },
    {
     "name": "stderr",
     "output_type": "stream",
     "text": [
      "\n",
      " 38%|███▊      | 8/21 [01:27<02:15, 10.45s/it]\u001b[A"
     ]
    },
    {
     "name": "stdout",
     "output_type": "stream",
     "text": [
      "Using TensorFlow backend.\n",
      "2020-06-15 17:27:11.679828: I tensorflow/core/platform/cpu_feature_guard.cc:143] Your CPU supports instructions that this TensorFlow binary was not compiled to use: AVX2 FMA\n",
      "2020-06-15 17:27:11.690050: I tensorflow/compiler/xla/service/service.cc:168] XLA service 0x7fa2a4883750 initialized for platform Host (this does not guarantee that XLA will be used). Devices:\n",
      "2020-06-15 17:27:11.690067: I tensorflow/compiler/xla/service/service.cc:176]   StreamExecutor device (0): Host, Default Version\n",
      "/Users/lalith/opt/anaconda3/lib/python3.7/site-packages/keras/activations.py:235: UserWarning: Do not pass a layer instance (such as LeakyReLU) as the activation argument of another layer. Instead, advanced activation layers should be used just like any other layer in a model.\n",
      "  identifier=identifier.__class__.__name__))\n",
      "100%|█████████████████████████████████████████████| 3/3 [00:05<00:00,  1.97s/it]\n",
      "2020-06-15 17:27:18.957308: Evaluation complete\n",
      "2020-06-15 17:27:19.004697: Save evaluate label at /Users/lalith/Downloads/Sent2Lalith/nifti/m000-403-AF_FDGdyn_AC_ID_cleared/panda/PANDA_150_m000-f0009-m000-403-AF_FDGdyn_AC_ID_cleared.nii success\n"
     ]
    },
    {
     "name": "stderr",
     "output_type": "stream",
     "text": [
      "\n",
      " 43%|████▎     | 9/21 [01:38<02:06, 10.58s/it]\u001b[A"
     ]
    },
    {
     "name": "stdout",
     "output_type": "stream",
     "text": [
      "Using TensorFlow backend.\n",
      "2020-06-15 17:27:22.641619: I tensorflow/core/platform/cpu_feature_guard.cc:143] Your CPU supports instructions that this TensorFlow binary was not compiled to use: AVX2 FMA\n",
      "2020-06-15 17:27:22.652380: I tensorflow/compiler/xla/service/service.cc:168] XLA service 0x7fd0dfd91cb0 initialized for platform Host (this does not guarantee that XLA will be used). Devices:\n",
      "2020-06-15 17:27:22.652415: I tensorflow/compiler/xla/service/service.cc:176]   StreamExecutor device (0): Host, Default Version\n",
      "/Users/lalith/opt/anaconda3/lib/python3.7/site-packages/keras/activations.py:235: UserWarning: Do not pass a layer instance (such as LeakyReLU) as the activation argument of another layer. Instead, advanced activation layers should be used just like any other layer in a model.\n",
      "  identifier=identifier.__class__.__name__))\n",
      "100%|█████████████████████████████████████████████| 3/3 [00:04<00:00,  1.60s/it]\n",
      "2020-06-15 17:27:28.844952: Evaluation complete\n",
      "2020-06-15 17:27:28.891518: Save evaluate label at /Users/lalith/Downloads/Sent2Lalith/nifti/m000-403-AF_FDGdyn_AC_ID_cleared/panda/PANDA_210_m000-f0010-m000-403-AF_FDGdyn_AC_ID_cleared.nii success\n"
     ]
    },
    {
     "name": "stderr",
     "output_type": "stream",
     "text": [
      "\n",
      " 48%|████▊     | 10/21 [01:47<01:54, 10.37s/it]\u001b[A"
     ]
    },
    {
     "name": "stdout",
     "output_type": "stream",
     "text": [
      "Using TensorFlow backend.\n",
      "2020-06-15 17:27:32.541033: I tensorflow/core/platform/cpu_feature_guard.cc:143] Your CPU supports instructions that this TensorFlow binary was not compiled to use: AVX2 FMA\n",
      "2020-06-15 17:27:32.551458: I tensorflow/compiler/xla/service/service.cc:168] XLA service 0x7ffcbceef090 initialized for platform Host (this does not guarantee that XLA will be used). Devices:\n",
      "2020-06-15 17:27:32.551493: I tensorflow/compiler/xla/service/service.cc:176]   StreamExecutor device (0): Host, Default Version\n",
      "/Users/lalith/opt/anaconda3/lib/python3.7/site-packages/keras/activations.py:235: UserWarning: Do not pass a layer instance (such as LeakyReLU) as the activation argument of another layer. Instead, advanced activation layers should be used just like any other layer in a model.\n",
      "  identifier=identifier.__class__.__name__))\n",
      "100%|█████████████████████████████████████████████| 3/3 [00:04<00:00,  1.66s/it]\n",
      "2020-06-15 17:27:38.889142: Evaluation complete\n",
      "2020-06-15 17:27:38.937427: Save evaluate label at /Users/lalith/Downloads/Sent2Lalith/nifti/m000-403-AF_FDGdyn_AC_ID_cleared/panda/PANDA_270_m000-f0011-m000-403-AF_FDGdyn_AC_ID_cleared.nii success\n"
     ]
    },
    {
     "name": "stderr",
     "output_type": "stream",
     "text": [
      "\n",
      " 52%|█████▏    | 11/21 [01:58<01:42, 10.28s/it]\u001b[A"
     ]
    },
    {
     "name": "stdout",
     "output_type": "stream",
     "text": [
      "Using TensorFlow backend.\n",
      "2020-06-15 17:27:42.621916: I tensorflow/core/platform/cpu_feature_guard.cc:143] Your CPU supports instructions that this TensorFlow binary was not compiled to use: AVX2 FMA\n",
      "2020-06-15 17:27:42.633066: I tensorflow/compiler/xla/service/service.cc:168] XLA service 0x7fb6c8ae1bb0 initialized for platform Host (this does not guarantee that XLA will be used). Devices:\n",
      "2020-06-15 17:27:42.633085: I tensorflow/compiler/xla/service/service.cc:176]   StreamExecutor device (0): Host, Default Version\n",
      "/Users/lalith/opt/anaconda3/lib/python3.7/site-packages/keras/activations.py:235: UserWarning: Do not pass a layer instance (such as LeakyReLU) as the activation argument of another layer. Instead, advanced activation layers should be used just like any other layer in a model.\n",
      "  identifier=identifier.__class__.__name__))\n",
      "100%|█████████████████████████████████████████████| 3/3 [00:05<00:00,  1.68s/it]\n",
      "2020-06-15 17:27:49.133532: Evaluation complete\n",
      "2020-06-15 17:27:49.180972: Save evaluate label at /Users/lalith/Downloads/Sent2Lalith/nifti/m000-403-AF_FDGdyn_AC_ID_cleared/panda/PANDA_375_m000-f0012-m000-403-AF_FDGdyn_AC_ID_cleared.nii success\n"
     ]
    },
    {
     "name": "stderr",
     "output_type": "stream",
     "text": [
      "\n",
      " 57%|█████▋    | 12/21 [02:08<01:32, 10.26s/it]\u001b[A"
     ]
    },
    {
     "name": "stdout",
     "output_type": "stream",
     "text": [
      "Using TensorFlow backend.\n",
      "2020-06-15 17:27:52.917845: I tensorflow/core/platform/cpu_feature_guard.cc:143] Your CPU supports instructions that this TensorFlow binary was not compiled to use: AVX2 FMA\n",
      "2020-06-15 17:27:52.929922: I tensorflow/compiler/xla/service/service.cc:168] XLA service 0x7f90a8b5f5c0 initialized for platform Host (this does not guarantee that XLA will be used). Devices:\n",
      "2020-06-15 17:27:52.929974: I tensorflow/compiler/xla/service/service.cc:176]   StreamExecutor device (0): Host, Default Version\n",
      "/Users/lalith/opt/anaconda3/lib/python3.7/site-packages/keras/activations.py:235: UserWarning: Do not pass a layer instance (such as LeakyReLU) as the activation argument of another layer. Instead, advanced activation layers should be used just like any other layer in a model.\n",
      "  identifier=identifier.__class__.__name__))\n",
      "100%|█████████████████████████████████████████████| 3/3 [00:08<00:00,  2.81s/it]\n",
      "2020-06-15 17:28:02.922870: Evaluation complete\n",
      "2020-06-15 17:28:03.027139: Save evaluate label at /Users/lalith/Downloads/Sent2Lalith/nifti/m000-403-AF_FDGdyn_AC_ID_cleared/panda/PANDA_525_m000-f0013-m000-403-AF_FDGdyn_AC_ID_cleared.nii success\n"
     ]
    },
    {
     "name": "stderr",
     "output_type": "stream",
     "text": [
      "\n",
      " 62%|██████▏   | 13/21 [02:22<01:31, 11.42s/it]\u001b[A"
     ]
    },
    {
     "name": "stdout",
     "output_type": "stream",
     "text": [
      "Using TensorFlow backend.\n",
      "2020-06-15 17:28:07.808606: I tensorflow/core/platform/cpu_feature_guard.cc:143] Your CPU supports instructions that this TensorFlow binary was not compiled to use: AVX2 FMA\n",
      "2020-06-15 17:28:07.819677: I tensorflow/compiler/xla/service/service.cc:168] XLA service 0x7fa264d708e0 initialized for platform Host (this does not guarantee that XLA will be used). Devices:\n",
      "2020-06-15 17:28:07.819709: I tensorflow/compiler/xla/service/service.cc:176]   StreamExecutor device (0): Host, Default Version\n",
      "/Users/lalith/opt/anaconda3/lib/python3.7/site-packages/keras/activations.py:235: UserWarning: Do not pass a layer instance (such as LeakyReLU) as the activation argument of another layer. Instead, advanced activation layers should be used just like any other layer in a model.\n",
      "  identifier=identifier.__class__.__name__))\n",
      "100%|█████████████████████████████████████████████| 3/3 [00:05<00:00,  1.73s/it]\n",
      "2020-06-15 17:28:14.501993: Evaluation complete\n",
      "2020-06-15 17:28:14.548915: Save evaluate label at /Users/lalith/Downloads/Sent2Lalith/nifti/m000-403-AF_FDGdyn_AC_ID_cleared/panda/PANDA_750_m000-f0014-m000-403-AF_FDGdyn_AC_ID_cleared.nii success\n"
     ]
    },
    {
     "name": "stderr",
     "output_type": "stream",
     "text": [
      "\n",
      " 67%|██████▋   | 14/21 [02:33<01:19, 11.37s/it]\u001b[A"
     ]
    },
    {
     "name": "stdout",
     "output_type": "stream",
     "text": [
      "Using TensorFlow backend.\n",
      "2020-06-15 17:28:18.909902: I tensorflow/core/platform/cpu_feature_guard.cc:143] Your CPU supports instructions that this TensorFlow binary was not compiled to use: AVX2 FMA\n",
      "2020-06-15 17:28:18.921382: I tensorflow/compiler/xla/service/service.cc:168] XLA service 0x7f82a688f330 initialized for platform Host (this does not guarantee that XLA will be used). Devices:\n",
      "2020-06-15 17:28:18.921398: I tensorflow/compiler/xla/service/service.cc:176]   StreamExecutor device (0): Host, Default Version\n",
      "/Users/lalith/opt/anaconda3/lib/python3.7/site-packages/keras/activations.py:235: UserWarning: Do not pass a layer instance (such as LeakyReLU) as the activation argument of another layer. Instead, advanced activation layers should be used just like any other layer in a model.\n",
      "  identifier=identifier.__class__.__name__))\n",
      "100%|█████████████████████████████████████████████| 3/3 [00:05<00:00,  1.91s/it]\n",
      "2020-06-15 17:28:26.077163: Evaluation complete\n",
      "2020-06-15 17:28:26.125597: Save evaluate label at /Users/lalith/Downloads/Sent2Lalith/nifti/m000-403-AF_FDGdyn_AC_ID_cleared/panda/PANDA_1050_m000-f0015-m000-403-AF_FDGdyn_AC_ID_cleared.nii success\n"
     ]
    },
    {
     "name": "stderr",
     "output_type": "stream",
     "text": [
      "\n",
      " 71%|███████▏  | 15/21 [02:45<01:08, 11.44s/it]\u001b[A"
     ]
    },
    {
     "name": "stdout",
     "output_type": "stream",
     "text": [
      "Using TensorFlow backend.\n",
      "2020-06-15 17:28:29.896683: I tensorflow/core/platform/cpu_feature_guard.cc:143] Your CPU supports instructions that this TensorFlow binary was not compiled to use: AVX2 FMA\n",
      "2020-06-15 17:28:29.907119: I tensorflow/compiler/xla/service/service.cc:168] XLA service 0x7fac5e3495f0 initialized for platform Host (this does not guarantee that XLA will be used). Devices:\n",
      "2020-06-15 17:28:29.907152: I tensorflow/compiler/xla/service/service.cc:176]   StreamExecutor device (0): Host, Default Version\n",
      "/Users/lalith/opt/anaconda3/lib/python3.7/site-packages/keras/activations.py:235: UserWarning: Do not pass a layer instance (such as LeakyReLU) as the activation argument of another layer. Instead, advanced activation layers should be used just like any other layer in a model.\n",
      "  identifier=identifier.__class__.__name__))\n",
      "100%|█████████████████████████████████████████████| 3/3 [00:04<00:00,  1.58s/it]\n",
      "2020-06-15 17:28:36.037665: Evaluation complete\n",
      "2020-06-15 17:28:36.086418: Save evaluate label at /Users/lalith/Downloads/Sent2Lalith/nifti/m000-403-AF_FDGdyn_AC_ID_cleared/panda/PANDA_1500_m000-f0016-m000-403-AF_FDGdyn_AC_ID_cleared.nii success\n"
     ]
    },
    {
     "name": "stderr",
     "output_type": "stream",
     "text": [
      "\n",
      " 76%|███████▌  | 16/21 [02:55<00:54, 10.98s/it]\u001b[A"
     ]
    },
    {
     "name": "stdout",
     "output_type": "stream",
     "text": [
      "Using TensorFlow backend.\n",
      "2020-06-15 17:28:39.875678: I tensorflow/core/platform/cpu_feature_guard.cc:143] Your CPU supports instructions that this TensorFlow binary was not compiled to use: AVX2 FMA\n",
      "2020-06-15 17:28:39.885889: I tensorflow/compiler/xla/service/service.cc:168] XLA service 0x7fe60ec5f040 initialized for platform Host (this does not guarantee that XLA will be used). Devices:\n",
      "2020-06-15 17:28:39.885921: I tensorflow/compiler/xla/service/service.cc:176]   StreamExecutor device (0): Host, Default Version\n",
      "/Users/lalith/opt/anaconda3/lib/python3.7/site-packages/keras/activations.py:235: UserWarning: Do not pass a layer instance (such as LeakyReLU) as the activation argument of another layer. Instead, advanced activation layers should be used just like any other layer in a model.\n",
      "  identifier=identifier.__class__.__name__))\n",
      "100%|█████████████████████████████████████████████| 3/3 [00:04<00:00,  1.60s/it]\n",
      "2020-06-15 17:28:46.066065: Evaluation complete\n",
      "2020-06-15 17:28:46.114753: Save evaluate label at /Users/lalith/Downloads/Sent2Lalith/nifti/m000-403-AF_FDGdyn_AC_ID_cleared/panda/PANDA_2100_m000-f0017-m000-403-AF_FDGdyn_AC_ID_cleared.nii success\n"
     ]
    },
    {
     "name": "stderr",
     "output_type": "stream",
     "text": [
      "\n",
      " 81%|████████  | 17/21 [03:05<00:42, 10.70s/it]\u001b[A"
     ]
    },
    {
     "name": "stdout",
     "output_type": "stream",
     "text": [
      "Using TensorFlow backend.\n",
      "2020-06-15 17:28:49.813717: I tensorflow/core/platform/cpu_feature_guard.cc:143] Your CPU supports instructions that this TensorFlow binary was not compiled to use: AVX2 FMA\n",
      "2020-06-15 17:28:49.823677: I tensorflow/compiler/xla/service/service.cc:168] XLA service 0x7fc6dc4d7580 initialized for platform Host (this does not guarantee that XLA will be used). Devices:\n",
      "2020-06-15 17:28:49.823710: I tensorflow/compiler/xla/service/service.cc:176]   StreamExecutor device (0): Host, Default Version\n",
      "/Users/lalith/opt/anaconda3/lib/python3.7/site-packages/keras/activations.py:235: UserWarning: Do not pass a layer instance (such as LeakyReLU) as the activation argument of another layer. Instead, advanced activation layers should be used just like any other layer in a model.\n",
      "  identifier=identifier.__class__.__name__))\n",
      "100%|█████████████████████████████████████████████| 3/3 [00:04<00:00,  1.60s/it]\n",
      "2020-06-15 17:28:55.908249: Evaluation complete\n",
      "2020-06-15 17:28:55.957357: Save evaluate label at /Users/lalith/Downloads/Sent2Lalith/nifti/m000-403-AF_FDGdyn_AC_ID_cleared/panda/PANDA_2550_m000-f0018-m000-403-AF_FDGdyn_AC_ID_cleared.nii success\n"
     ]
    },
    {
     "name": "stderr",
     "output_type": "stream",
     "text": [
      "\n",
      " 86%|████████▌ | 18/21 [03:15<00:31, 10.44s/it]\u001b[A"
     ]
    },
    {
     "name": "stdout",
     "output_type": "stream",
     "text": [
      "Using TensorFlow backend.\n",
      "2020-06-15 17:28:59.745482: I tensorflow/core/platform/cpu_feature_guard.cc:143] Your CPU supports instructions that this TensorFlow binary was not compiled to use: AVX2 FMA\n",
      "2020-06-15 17:28:59.755909: I tensorflow/compiler/xla/service/service.cc:168] XLA service 0x7f8ad5b96b70 initialized for platform Host (this does not guarantee that XLA will be used). Devices:\n",
      "2020-06-15 17:28:59.755940: I tensorflow/compiler/xla/service/service.cc:176]   StreamExecutor device (0): Host, Default Version\n",
      "/Users/lalith/opt/anaconda3/lib/python3.7/site-packages/keras/activations.py:235: UserWarning: Do not pass a layer instance (such as LeakyReLU) as the activation argument of another layer. Instead, advanced activation layers should be used just like any other layer in a model.\n",
      "  identifier=identifier.__class__.__name__))\n",
      "100%|█████████████████████████████████████████████| 3/3 [00:04<00:00,  1.60s/it]\n",
      "2020-06-15 17:29:05.858561: Evaluation complete\n",
      "2020-06-15 17:29:05.912469: Save evaluate label at /Users/lalith/Downloads/Sent2Lalith/nifti/m000-403-AF_FDGdyn_AC_ID_cleared/panda/PANDA_2850_m000-f0019-m000-403-AF_FDGdyn_AC_ID_cleared.nii success\n"
     ]
    },
    {
     "name": "stderr",
     "output_type": "stream",
     "text": [
      "\n",
      " 90%|█████████ | 19/21 [03:24<00:20, 10.29s/it]\u001b[A"
     ]
    },
    {
     "name": "stdout",
     "output_type": "stream",
     "text": [
      "Using TensorFlow backend.\n",
      "2020-06-15 17:29:09.671745: I tensorflow/core/platform/cpu_feature_guard.cc:143] Your CPU supports instructions that this TensorFlow binary was not compiled to use: AVX2 FMA\n",
      "2020-06-15 17:29:09.683572: I tensorflow/compiler/xla/service/service.cc:168] XLA service 0x7fcd7eb8d640 initialized for platform Host (this does not guarantee that XLA will be used). Devices:\n",
      "2020-06-15 17:29:09.683607: I tensorflow/compiler/xla/service/service.cc:176]   StreamExecutor device (0): Host, Default Version\n",
      "/Users/lalith/opt/anaconda3/lib/python3.7/site-packages/keras/activations.py:235: UserWarning: Do not pass a layer instance (such as LeakyReLU) as the activation argument of another layer. Instead, advanced activation layers should be used just like any other layer in a model.\n",
      "  identifier=identifier.__class__.__name__))\n",
      "100%|█████████████████████████████████████████████| 3/3 [00:07<00:00,  2.60s/it]\n",
      "2020-06-15 17:29:18.971734: Evaluation complete\n",
      "2020-06-15 17:29:19.026334: Save evaluate label at /Users/lalith/Downloads/Sent2Lalith/nifti/m000-403-AF_FDGdyn_AC_ID_cleared/panda/PANDA_3150_m000-f0020-m000-403-AF_FDGdyn_AC_ID_cleared.nii success\n"
     ]
    },
    {
     "name": "stderr",
     "output_type": "stream",
     "text": [
      "\n",
      " 95%|█████████▌| 20/21 [03:38<00:11, 11.24s/it]\u001b[A"
     ]
    },
    {
     "name": "stdout",
     "output_type": "stream",
     "text": [
      "Using TensorFlow backend.\n",
      "2020-06-15 17:29:23.278449: I tensorflow/core/platform/cpu_feature_guard.cc:143] Your CPU supports instructions that this TensorFlow binary was not compiled to use: AVX2 FMA\n",
      "2020-06-15 17:29:23.290553: I tensorflow/compiler/xla/service/service.cc:168] XLA service 0x7fe327727da0 initialized for platform Host (this does not guarantee that XLA will be used). Devices:\n",
      "2020-06-15 17:29:23.290570: I tensorflow/compiler/xla/service/service.cc:176]   StreamExecutor device (0): Host, Default Version\n",
      "/Users/lalith/opt/anaconda3/lib/python3.7/site-packages/keras/activations.py:235: UserWarning: Do not pass a layer instance (such as LeakyReLU) as the activation argument of another layer. Instead, advanced activation layers should be used just like any other layer in a model.\n",
      "  identifier=identifier.__class__.__name__))\n",
      "100%|█████████████████████████████████████████████| 3/3 [00:04<00:00,  1.64s/it]\n",
      "2020-06-15 17:29:29.550558: Evaluation complete\n",
      "2020-06-15 17:29:29.600735: Save evaluate label at /Users/lalith/Downloads/Sent2Lalith/nifti/m000-403-AF_FDGdyn_AC_ID_cleared/panda/PANDA_3450_m000-f0021-m000-403-AF_FDGdyn_AC_ID_cleared.nii success\n"
     ]
    },
    {
     "name": "stderr",
     "output_type": "stream",
     "text": [
      "\n",
      "100%|██████████| 21/21 [03:48<00:00, 10.89s/it]\u001b[A\n",
      " 80%|████████  | 8/10 [33:17<07:55, 237.55s/it]"
     ]
    },
    {
     "name": "stdout",
     "output_type": "stream",
     "text": [
      "Directory  panda  Created \n"
     ]
    },
    {
     "name": "stderr",
     "output_type": "stream",
     "text": [
      "\n",
      "100%|██████████| 21/21 [00:00<00:00, 4351.58it/s]\n",
      "\n",
      "  0%|          | 0/21 [00:00<?, ?it/s]\u001b[A"
     ]
    },
    {
     "name": "stdout",
     "output_type": "stream",
     "text": [
      "Using TensorFlow backend.\n",
      "2020-06-15 17:29:33.436961: I tensorflow/core/platform/cpu_feature_guard.cc:143] Your CPU supports instructions that this TensorFlow binary was not compiled to use: AVX2 FMA\n",
      "2020-06-15 17:29:33.447361: I tensorflow/compiler/xla/service/service.cc:168] XLA service 0x7fd5e5e0f680 initialized for platform Host (this does not guarantee that XLA will be used). Devices:\n",
      "2020-06-15 17:29:33.447406: I tensorflow/compiler/xla/service/service.cc:176]   StreamExecutor device (0): Host, Default Version\n",
      "/Users/lalith/opt/anaconda3/lib/python3.7/site-packages/keras/activations.py:235: UserWarning: Do not pass a layer instance (such as LeakyReLU) as the activation argument of another layer. Instead, advanced activation layers should be used just like any other layer in a model.\n",
      "  identifier=identifier.__class__.__name__))\n",
      "100%|█████████████████████████████████████████████| 3/3 [00:05<00:00,  1.88s/it]\n",
      "2020-06-15 17:29:40.483037: Evaluation complete\n",
      "2020-06-15 17:29:40.533981: Save evaluate label at /Users/lalith/Downloads/Sent2Lalith/nifti/m000-406-AM_FDGdyn_AC_ID_cleared/panda/PANDA_8_m000-f0001-m000-406-AM_FDGdyn_AC_ID_cleared.nii success\n"
     ]
    },
    {
     "name": "stderr",
     "output_type": "stream",
     "text": [
      "\n",
      "  5%|▍         | 1/21 [00:11<03:40, 11.01s/it]\u001b[A"
     ]
    },
    {
     "name": "stdout",
     "output_type": "stream",
     "text": [
      "Using TensorFlow backend.\n",
      "2020-06-15 17:29:44.614846: I tensorflow/core/platform/cpu_feature_guard.cc:143] Your CPU supports instructions that this TensorFlow binary was not compiled to use: AVX2 FMA\n",
      "2020-06-15 17:29:44.625198: I tensorflow/compiler/xla/service/service.cc:168] XLA service 0x7fb9dda24a20 initialized for platform Host (this does not guarantee that XLA will be used). Devices:\n",
      "2020-06-15 17:29:44.625230: I tensorflow/compiler/xla/service/service.cc:176]   StreamExecutor device (0): Host, Default Version\n",
      "/Users/lalith/opt/anaconda3/lib/python3.7/site-packages/keras/activations.py:235: UserWarning: Do not pass a layer instance (such as LeakyReLU) as the activation argument of another layer. Instead, advanced activation layers should be used just like any other layer in a model.\n",
      "  identifier=identifier.__class__.__name__))\n",
      "100%|█████████████████████████████████████████████| 3/3 [00:05<00:00,  1.69s/it]\n",
      "2020-06-15 17:29:51.056373: Evaluation complete\n",
      "2020-06-15 17:29:51.110349: Save evaluate label at /Users/lalith/Downloads/Sent2Lalith/nifti/m000-406-AM_FDGdyn_AC_ID_cleared/panda/PANDA_18_m000-f0002-m000-406-AM_FDGdyn_AC_ID_cleared.nii success\n"
     ]
    },
    {
     "name": "stderr",
     "output_type": "stream",
     "text": [
      "\n",
      " 10%|▉         | 2/21 [00:21<03:26, 10.85s/it]\u001b[A"
     ]
    },
    {
     "name": "stdout",
     "output_type": "stream",
     "text": [
      "Using TensorFlow backend.\n",
      "2020-06-15 17:29:55.195698: I tensorflow/core/platform/cpu_feature_guard.cc:143] Your CPU supports instructions that this TensorFlow binary was not compiled to use: AVX2 FMA\n",
      "2020-06-15 17:29:55.205973: I tensorflow/compiler/xla/service/service.cc:168] XLA service 0x7fd73ad89ea0 initialized for platform Host (this does not guarantee that XLA will be used). Devices:\n",
      "2020-06-15 17:29:55.206005: I tensorflow/compiler/xla/service/service.cc:176]   StreamExecutor device (0): Host, Default Version\n",
      "/Users/lalith/opt/anaconda3/lib/python3.7/site-packages/keras/activations.py:235: UserWarning: Do not pass a layer instance (such as LeakyReLU) as the activation argument of another layer. Instead, advanced activation layers should be used just like any other layer in a model.\n",
      "  identifier=identifier.__class__.__name__))\n",
      "100%|█████████████████████████████████████████████| 3/3 [00:06<00:00,  2.13s/it]\n",
      "2020-06-15 17:30:02.915772: Evaluation complete\n",
      "2020-06-15 17:30:02.965417: Save evaluate label at /Users/lalith/Downloads/Sent2Lalith/nifti/m000-406-AM_FDGdyn_AC_ID_cleared/panda/PANDA_23_m000-f0003-m000-406-AM_FDGdyn_AC_ID_cleared.nii success\n"
     ]
    },
    {
     "name": "stderr",
     "output_type": "stream",
     "text": [
      "\n",
      " 14%|█▍        | 3/21 [00:33<03:20, 11.15s/it]\u001b[A"
     ]
    },
    {
     "name": "stdout",
     "output_type": "stream",
     "text": [
      "Using TensorFlow backend.\n",
      "2020-06-15 17:30:06.777481: I tensorflow/core/platform/cpu_feature_guard.cc:143] Your CPU supports instructions that this TensorFlow binary was not compiled to use: AVX2 FMA\n",
      "2020-06-15 17:30:06.788716: I tensorflow/compiler/xla/service/service.cc:168] XLA service 0x7f88a5101c30 initialized for platform Host (this does not guarantee that XLA will be used). Devices:\n",
      "2020-06-15 17:30:06.788737: I tensorflow/compiler/xla/service/service.cc:176]   StreamExecutor device (0): Host, Default Version\n",
      "/Users/lalith/opt/anaconda3/lib/python3.7/site-packages/keras/activations.py:235: UserWarning: Do not pass a layer instance (such as LeakyReLU) as the activation argument of another layer. Instead, advanced activation layers should be used just like any other layer in a model.\n",
      "  identifier=identifier.__class__.__name__))\n",
      "100%|█████████████████████████████████████████████| 3/3 [00:13<00:00,  4.43s/it]\n",
      "2020-06-15 17:30:21.499594: Evaluation complete\n",
      "2020-06-15 17:30:21.594343: Save evaluate label at /Users/lalith/Downloads/Sent2Lalith/nifti/m000-406-AM_FDGdyn_AC_ID_cleared/panda/PANDA_28_m000-f0004-m000-406-AM_FDGdyn_AC_ID_cleared.nii success\n"
     ]
    },
    {
     "name": "stderr",
     "output_type": "stream",
     "text": [
      "\n",
      " 19%|█▉        | 4/21 [00:52<03:50, 13.57s/it]\u001b[A"
     ]
    },
    {
     "name": "stdout",
     "output_type": "stream",
     "text": [
      "Using TensorFlow backend.\n",
      "2020-06-15 17:30:27.298856: I tensorflow/core/platform/cpu_feature_guard.cc:143] Your CPU supports instructions that this TensorFlow binary was not compiled to use: AVX2 FMA\n",
      "2020-06-15 17:30:27.311322: I tensorflow/compiler/xla/service/service.cc:168] XLA service 0x7febbf226390 initialized for platform Host (this does not guarantee that XLA will be used). Devices:\n",
      "2020-06-15 17:30:27.311354: I tensorflow/compiler/xla/service/service.cc:176]   StreamExecutor device (0): Host, Default Version\n",
      "/Users/lalith/opt/anaconda3/lib/python3.7/site-packages/keras/activations.py:235: UserWarning: Do not pass a layer instance (such as LeakyReLU) as the activation argument of another layer. Instead, advanced activation layers should be used just like any other layer in a model.\n",
      "  identifier=identifier.__class__.__name__))\n",
      "100%|█████████████████████████████████████████████| 3/3 [00:08<00:00,  2.77s/it]\n",
      "2020-06-15 17:30:37.210857: Evaluation complete\n",
      "2020-06-15 17:30:37.260592: Save evaluate label at /Users/lalith/Downloads/Sent2Lalith/nifti/m000-406-AM_FDGdyn_AC_ID_cleared/panda/PANDA_35_m000-f0005-m000-406-AM_FDGdyn_AC_ID_cleared.nii success\n"
     ]
    },
    {
     "name": "stderr",
     "output_type": "stream",
     "text": [
      "\n",
      " 24%|██▍       | 5/21 [01:07<03:45, 14.11s/it]\u001b[A"
     ]
    },
    {
     "name": "stdout",
     "output_type": "stream",
     "text": [
      "Using TensorFlow backend.\n",
      "2020-06-15 17:30:42.803935: I tensorflow/core/platform/cpu_feature_guard.cc:143] Your CPU supports instructions that this TensorFlow binary was not compiled to use: AVX2 FMA\n",
      "2020-06-15 17:30:42.819086: I tensorflow/compiler/xla/service/service.cc:168] XLA service 0x7fe4bd569430 initialized for platform Host (this does not guarantee that XLA will be used). Devices:\n",
      "2020-06-15 17:30:42.819121: I tensorflow/compiler/xla/service/service.cc:176]   StreamExecutor device (0): Host, Default Version\n",
      "/Users/lalith/opt/anaconda3/lib/python3.7/site-packages/keras/activations.py:235: UserWarning: Do not pass a layer instance (such as LeakyReLU) as the activation argument of another layer. Instead, advanced activation layers should be used just like any other layer in a model.\n",
      "  identifier=identifier.__class__.__name__))\n",
      "100%|█████████████████████████████████████████████| 3/3 [00:08<00:00,  2.69s/it]\n",
      "2020-06-15 17:30:52.405568: Evaluation complete\n",
      "2020-06-15 17:30:52.459069: Save evaluate label at /Users/lalith/Downloads/Sent2Lalith/nifti/m000-406-AM_FDGdyn_AC_ID_cleared/panda/PANDA_45_m000-f0006-m000-406-AM_FDGdyn_AC_ID_cleared.nii success\n"
     ]
    },
    {
     "name": "stderr",
     "output_type": "stream",
     "text": [
      "\n",
      " 29%|██▊       | 6/21 [01:23<03:36, 14.44s/it]\u001b[A"
     ]
    },
    {
     "name": "stdout",
     "output_type": "stream",
     "text": [
      "Using TensorFlow backend.\n",
      "2020-06-15 17:30:57.754438: I tensorflow/core/platform/cpu_feature_guard.cc:143] Your CPU supports instructions that this TensorFlow binary was not compiled to use: AVX2 FMA\n",
      "2020-06-15 17:30:57.767723: I tensorflow/compiler/xla/service/service.cc:168] XLA service 0x7fef67015ad0 initialized for platform Host (this does not guarantee that XLA will be used). Devices:\n",
      "2020-06-15 17:30:57.767767: I tensorflow/compiler/xla/service/service.cc:176]   StreamExecutor device (0): Host, Default Version\n",
      "/Users/lalith/opt/anaconda3/lib/python3.7/site-packages/keras/activations.py:235: UserWarning: Do not pass a layer instance (such as LeakyReLU) as the activation argument of another layer. Instead, advanced activation layers should be used just like any other layer in a model.\n",
      "  identifier=identifier.__class__.__name__))\n",
      "100%|█████████████████████████████████████████████| 3/3 [00:08<00:00,  2.73s/it]\n",
      "2020-06-15 17:31:07.529580: Evaluation complete\n",
      "2020-06-15 17:31:07.582779: Save evaluate label at /Users/lalith/Downloads/Sent2Lalith/nifti/m000-406-AM_FDGdyn_AC_ID_cleared/panda/PANDA_55_m000-f0007-m000-406-AM_FDGdyn_AC_ID_cleared.nii success\n"
     ]
    },
    {
     "name": "stderr",
     "output_type": "stream",
     "text": [
      "\n",
      " 33%|███▎      | 7/21 [01:38<03:24, 14.61s/it]\u001b[A"
     ]
    },
    {
     "name": "stdout",
     "output_type": "stream",
     "text": [
      "Using TensorFlow backend.\n",
      "2020-06-15 17:31:12.184697: I tensorflow/core/platform/cpu_feature_guard.cc:143] Your CPU supports instructions that this TensorFlow binary was not compiled to use: AVX2 FMA\n",
      "2020-06-15 17:31:12.195704: I tensorflow/compiler/xla/service/service.cc:168] XLA service 0x7fce69001610 initialized for platform Host (this does not guarantee that XLA will be used). Devices:\n",
      "2020-06-15 17:31:12.195733: I tensorflow/compiler/xla/service/service.cc:176]   StreamExecutor device (0): Host, Default Version\n",
      "/Users/lalith/opt/anaconda3/lib/python3.7/site-packages/keras/activations.py:235: UserWarning: Do not pass a layer instance (such as LeakyReLU) as the activation argument of another layer. Instead, advanced activation layers should be used just like any other layer in a model.\n",
      "  identifier=identifier.__class__.__name__))\n",
      "100%|█████████████████████████████████████████████| 3/3 [00:12<00:00,  4.32s/it]\n",
      "2020-06-15 17:31:26.598660: Evaluation complete\n",
      "2020-06-15 17:31:26.675032: Save evaluate label at /Users/lalith/Downloads/Sent2Lalith/nifti/m000-406-AM_FDGdyn_AC_ID_cleared/panda/PANDA_90_m000-f0008-m000-406-AM_FDGdyn_AC_ID_cleared.nii success\n"
     ]
    },
    {
     "name": "stderr",
     "output_type": "stream",
     "text": [
      "\n",
      " 38%|███▊      | 8/21 [01:57<03:28, 16.05s/it]\u001b[A"
     ]
    },
    {
     "name": "stdout",
     "output_type": "stream",
     "text": [
      "Using TensorFlow backend.\n",
      "2020-06-15 17:31:32.125352: I tensorflow/core/platform/cpu_feature_guard.cc:143] Your CPU supports instructions that this TensorFlow binary was not compiled to use: AVX2 FMA\n",
      "2020-06-15 17:31:32.137719: I tensorflow/compiler/xla/service/service.cc:168] XLA service 0x7fc4f625e070 initialized for platform Host (this does not guarantee that XLA will be used). Devices:\n",
      "2020-06-15 17:31:32.137737: I tensorflow/compiler/xla/service/service.cc:176]   StreamExecutor device (0): Host, Default Version\n",
      "/Users/lalith/opt/anaconda3/lib/python3.7/site-packages/keras/activations.py:235: UserWarning: Do not pass a layer instance (such as LeakyReLU) as the activation argument of another layer. Instead, advanced activation layers should be used just like any other layer in a model.\n",
      "  identifier=identifier.__class__.__name__))\n",
      "100%|█████████████████████████████████████████████| 3/3 [00:06<00:00,  2.19s/it]\n",
      "2020-06-15 17:31:40.251512: Evaluation complete\n",
      "2020-06-15 17:31:40.301519: Save evaluate label at /Users/lalith/Downloads/Sent2Lalith/nifti/m000-406-AM_FDGdyn_AC_ID_cleared/panda/PANDA_150_m000-f0009-m000-406-AM_FDGdyn_AC_ID_cleared.nii success\n"
     ]
    },
    {
     "name": "stderr",
     "output_type": "stream",
     "text": [
      "\n",
      " 43%|████▎     | 9/21 [02:10<03:02, 15.18s/it]\u001b[A"
     ]
    },
    {
     "name": "stdout",
     "output_type": "stream",
     "text": [
      "Using TensorFlow backend.\n",
      "2020-06-15 17:31:45.391384: I tensorflow/core/platform/cpu_feature_guard.cc:143] Your CPU supports instructions that this TensorFlow binary was not compiled to use: AVX2 FMA\n",
      "2020-06-15 17:31:45.402486: I tensorflow/compiler/xla/service/service.cc:168] XLA service 0x7f829c2f3b00 initialized for platform Host (this does not guarantee that XLA will be used). Devices:\n",
      "2020-06-15 17:31:45.402518: I tensorflow/compiler/xla/service/service.cc:176]   StreamExecutor device (0): Host, Default Version\n",
      "/Users/lalith/opt/anaconda3/lib/python3.7/site-packages/keras/activations.py:235: UserWarning: Do not pass a layer instance (such as LeakyReLU) as the activation argument of another layer. Instead, advanced activation layers should be used just like any other layer in a model.\n",
      "  identifier=identifier.__class__.__name__))\n",
      "100%|█████████████████████████████████████████████| 3/3 [00:06<00:00,  2.10s/it]\n",
      "2020-06-15 17:31:53.125564: Evaluation complete\n",
      "2020-06-15 17:31:53.176104: Save evaluate label at /Users/lalith/Downloads/Sent2Lalith/nifti/m000-406-AM_FDGdyn_AC_ID_cleared/panda/PANDA_210_m000-f0010-m000-406-AM_FDGdyn_AC_ID_cleared.nii success\n"
     ]
    },
    {
     "name": "stderr",
     "output_type": "stream",
     "text": [
      "\n",
      " 48%|████▊     | 10/21 [02:23<02:39, 14.48s/it]\u001b[A"
     ]
    },
    {
     "name": "stdout",
     "output_type": "stream",
     "text": [
      "Using TensorFlow backend.\n",
      "2020-06-15 17:31:57.553603: I tensorflow/core/platform/cpu_feature_guard.cc:143] Your CPU supports instructions that this TensorFlow binary was not compiled to use: AVX2 FMA\n",
      "2020-06-15 17:31:57.565581: I tensorflow/compiler/xla/service/service.cc:168] XLA service 0x7fd77bacf8b0 initialized for platform Host (this does not guarantee that XLA will be used). Devices:\n",
      "2020-06-15 17:31:57.565599: I tensorflow/compiler/xla/service/service.cc:176]   StreamExecutor device (0): Host, Default Version\n",
      "/Users/lalith/opt/anaconda3/lib/python3.7/site-packages/keras/activations.py:235: UserWarning: Do not pass a layer instance (such as LeakyReLU) as the activation argument of another layer. Instead, advanced activation layers should be used just like any other layer in a model.\n",
      "  identifier=identifier.__class__.__name__))\n",
      "100%|█████████████████████████████████████████████| 3/3 [00:04<00:00,  1.60s/it]\n",
      "2020-06-15 17:32:03.710369: Evaluation complete\n",
      "2020-06-15 17:32:03.760998: Save evaluate label at /Users/lalith/Downloads/Sent2Lalith/nifti/m000-406-AM_FDGdyn_AC_ID_cleared/panda/PANDA_270_m000-f0011-m000-406-AM_FDGdyn_AC_ID_cleared.nii success\n"
     ]
    },
    {
     "name": "stderr",
     "output_type": "stream",
     "text": [
      "\n",
      " 52%|█████▏    | 11/21 [02:34<02:13, 13.31s/it]\u001b[A"
     ]
    },
    {
     "name": "stdout",
     "output_type": "stream",
     "text": [
      "Using TensorFlow backend.\n",
      "2020-06-15 17:32:07.646198: I tensorflow/core/platform/cpu_feature_guard.cc:143] Your CPU supports instructions that this TensorFlow binary was not compiled to use: AVX2 FMA\n",
      "2020-06-15 17:32:07.661427: I tensorflow/compiler/xla/service/service.cc:168] XLA service 0x7fbedbdf26b0 initialized for platform Host (this does not guarantee that XLA will be used). Devices:\n",
      "2020-06-15 17:32:07.661443: I tensorflow/compiler/xla/service/service.cc:176]   StreamExecutor device (0): Host, Default Version\n",
      "/Users/lalith/opt/anaconda3/lib/python3.7/site-packages/keras/activations.py:235: UserWarning: Do not pass a layer instance (such as LeakyReLU) as the activation argument of another layer. Instead, advanced activation layers should be used just like any other layer in a model.\n",
      "  identifier=identifier.__class__.__name__))\n",
      "100%|█████████████████████████████████████████████| 3/3 [00:09<00:00,  3.19s/it]\n",
      "2020-06-15 17:32:18.717711: Evaluation complete\n",
      "2020-06-15 17:32:18.785996: Save evaluate label at /Users/lalith/Downloads/Sent2Lalith/nifti/m000-406-AM_FDGdyn_AC_ID_cleared/panda/PANDA_375_m000-f0012-m000-406-AM_FDGdyn_AC_ID_cleared.nii success\n"
     ]
    },
    {
     "name": "stderr",
     "output_type": "stream",
     "text": [
      "\n",
      " 57%|█████▋    | 12/21 [02:49<02:05, 13.97s/it]\u001b[A"
     ]
    },
    {
     "name": "stdout",
     "output_type": "stream",
     "text": [
      "Using TensorFlow backend.\n",
      "2020-06-15 17:32:24.476808: I tensorflow/core/platform/cpu_feature_guard.cc:143] Your CPU supports instructions that this TensorFlow binary was not compiled to use: AVX2 FMA\n",
      "2020-06-15 17:32:24.487794: I tensorflow/compiler/xla/service/service.cc:168] XLA service 0x7fd763248070 initialized for platform Host (this does not guarantee that XLA will be used). Devices:\n",
      "2020-06-15 17:32:24.487826: I tensorflow/compiler/xla/service/service.cc:176]   StreamExecutor device (0): Host, Default Version\n",
      "/Users/lalith/opt/anaconda3/lib/python3.7/site-packages/keras/activations.py:235: UserWarning: Do not pass a layer instance (such as LeakyReLU) as the activation argument of another layer. Instead, advanced activation layers should be used just like any other layer in a model.\n",
      "  identifier=identifier.__class__.__name__))\n",
      "100%|█████████████████████████████████████████████| 3/3 [00:06<00:00,  2.14s/it]\n",
      "2020-06-15 17:32:32.307196: Evaluation complete\n",
      "2020-06-15 17:32:32.357221: Save evaluate label at /Users/lalith/Downloads/Sent2Lalith/nifti/m000-406-AM_FDGdyn_AC_ID_cleared/panda/PANDA_525_m000-f0013-m000-406-AM_FDGdyn_AC_ID_cleared.nii success\n"
     ]
    },
    {
     "name": "stderr",
     "output_type": "stream",
     "text": [
      "\n",
      " 62%|██████▏   | 13/21 [03:02<01:49, 13.71s/it]\u001b[A"
     ]
    },
    {
     "name": "stdout",
     "output_type": "stream",
     "text": [
      "Using TensorFlow backend.\n",
      "2020-06-15 17:32:36.444951: I tensorflow/core/platform/cpu_feature_guard.cc:143] Your CPU supports instructions that this TensorFlow binary was not compiled to use: AVX2 FMA\n",
      "2020-06-15 17:32:36.454897: I tensorflow/compiler/xla/service/service.cc:168] XLA service 0x7ff1f7b86fc0 initialized for platform Host (this does not guarantee that XLA will be used). Devices:\n",
      "2020-06-15 17:32:36.454946: I tensorflow/compiler/xla/service/service.cc:176]   StreamExecutor device (0): Host, Default Version\n",
      "/Users/lalith/opt/anaconda3/lib/python3.7/site-packages/keras/activations.py:235: UserWarning: Do not pass a layer instance (such as LeakyReLU) as the activation argument of another layer. Instead, advanced activation layers should be used just like any other layer in a model.\n",
      "  identifier=identifier.__class__.__name__))\n",
      "100%|█████████████████████████████████████████████| 3/3 [00:04<00:00,  1.60s/it]\n",
      "2020-06-15 17:32:42.629858: Evaluation complete\n",
      "2020-06-15 17:32:42.675187: Save evaluate label at /Users/lalith/Downloads/Sent2Lalith/nifti/m000-406-AM_FDGdyn_AC_ID_cleared/panda/PANDA_750_m000-f0014-m000-406-AM_FDGdyn_AC_ID_cleared.nii success\n"
     ]
    },
    {
     "name": "stderr",
     "output_type": "stream",
     "text": [
      "\n",
      " 67%|██████▋   | 14/21 [03:13<01:28, 12.69s/it]\u001b[A"
     ]
    },
    {
     "name": "stdout",
     "output_type": "stream",
     "text": [
      "Using TensorFlow backend.\n",
      "2020-06-15 17:32:46.554071: I tensorflow/core/platform/cpu_feature_guard.cc:143] Your CPU supports instructions that this TensorFlow binary was not compiled to use: AVX2 FMA\n",
      "2020-06-15 17:32:46.565805: I tensorflow/compiler/xla/service/service.cc:168] XLA service 0x7fbfc9b04290 initialized for platform Host (this does not guarantee that XLA will be used). Devices:\n",
      "2020-06-15 17:32:46.565841: I tensorflow/compiler/xla/service/service.cc:176]   StreamExecutor device (0): Host, Default Version\n",
      "/Users/lalith/opt/anaconda3/lib/python3.7/site-packages/keras/activations.py:235: UserWarning: Do not pass a layer instance (such as LeakyReLU) as the activation argument of another layer. Instead, advanced activation layers should be used just like any other layer in a model.\n",
      "  identifier=identifier.__class__.__name__))\n",
      "100%|█████████████████████████████████████████████| 3/3 [00:05<00:00,  1.70s/it]\n",
      "2020-06-15 17:32:53.061148: Evaluation complete\n",
      "2020-06-15 17:32:53.109296: Save evaluate label at /Users/lalith/Downloads/Sent2Lalith/nifti/m000-406-AM_FDGdyn_AC_ID_cleared/panda/PANDA_1050_m000-f0015-m000-406-AM_FDGdyn_AC_ID_cleared.nii success\n"
     ]
    },
    {
     "name": "stderr",
     "output_type": "stream",
     "text": [
      "\n",
      " 71%|███████▏  | 15/21 [03:23<01:12, 12.02s/it]\u001b[A"
     ]
    },
    {
     "name": "stdout",
     "output_type": "stream",
     "text": [
      "Using TensorFlow backend.\n",
      "2020-06-15 17:32:57.141028: I tensorflow/core/platform/cpu_feature_guard.cc:143] Your CPU supports instructions that this TensorFlow binary was not compiled to use: AVX2 FMA\n",
      "2020-06-15 17:32:57.151292: I tensorflow/compiler/xla/service/service.cc:168] XLA service 0x7f88e21b25e0 initialized for platform Host (this does not guarantee that XLA will be used). Devices:\n",
      "2020-06-15 17:32:57.151324: I tensorflow/compiler/xla/service/service.cc:176]   StreamExecutor device (0): Host, Default Version\n",
      "/Users/lalith/opt/anaconda3/lib/python3.7/site-packages/keras/activations.py:235: UserWarning: Do not pass a layer instance (such as LeakyReLU) as the activation argument of another layer. Instead, advanced activation layers should be used just like any other layer in a model.\n",
      "  identifier=identifier.__class__.__name__))\n",
      "100%|█████████████████████████████████████████████| 3/3 [00:06<00:00,  2.14s/it]\n",
      "2020-06-15 17:33:04.966036: Evaluation complete\n",
      "2020-06-15 17:33:05.011121: Save evaluate label at /Users/lalith/Downloads/Sent2Lalith/nifti/m000-406-AM_FDGdyn_AC_ID_cleared/panda/PANDA_1500_m000-f0016-m000-406-AM_FDGdyn_AC_ID_cleared.nii success\n"
     ]
    },
    {
     "name": "stderr",
     "output_type": "stream",
     "text": [
      "\n",
      " 76%|███████▌  | 16/21 [03:35<00:59, 11.98s/it]\u001b[A"
     ]
    },
    {
     "name": "stdout",
     "output_type": "stream",
     "text": [
      "Using TensorFlow backend.\n",
      "2020-06-15 17:33:08.910462: I tensorflow/core/platform/cpu_feature_guard.cc:143] Your CPU supports instructions that this TensorFlow binary was not compiled to use: AVX2 FMA\n",
      "2020-06-15 17:33:08.920576: I tensorflow/compiler/xla/service/service.cc:168] XLA service 0x7fba1b1a9450 initialized for platform Host (this does not guarantee that XLA will be used). Devices:\n",
      "2020-06-15 17:33:08.920611: I tensorflow/compiler/xla/service/service.cc:176]   StreamExecutor device (0): Host, Default Version\n",
      "/Users/lalith/opt/anaconda3/lib/python3.7/site-packages/keras/activations.py:235: UserWarning: Do not pass a layer instance (such as LeakyReLU) as the activation argument of another layer. Instead, advanced activation layers should be used just like any other layer in a model.\n",
      "  identifier=identifier.__class__.__name__))\n",
      "100%|█████████████████████████████████████████████| 3/3 [00:05<00:00,  1.68s/it]\n",
      "2020-06-15 17:33:15.358438: Evaluation complete\n",
      "2020-06-15 17:33:15.399732: Save evaluate label at /Users/lalith/Downloads/Sent2Lalith/nifti/m000-406-AM_FDGdyn_AC_ID_cleared/panda/PANDA_2100_m000-f0017-m000-406-AM_FDGdyn_AC_ID_cleared.nii success\n"
     ]
    },
    {
     "name": "stderr",
     "output_type": "stream",
     "text": [
      "\n",
      " 81%|████████  | 17/21 [03:45<00:45, 11.50s/it]\u001b[A"
     ]
    },
    {
     "name": "stdout",
     "output_type": "stream",
     "text": [
      "Using TensorFlow backend.\n",
      "2020-06-15 17:33:19.344241: I tensorflow/core/platform/cpu_feature_guard.cc:143] Your CPU supports instructions that this TensorFlow binary was not compiled to use: AVX2 FMA\n",
      "2020-06-15 17:33:19.355585: I tensorflow/compiler/xla/service/service.cc:168] XLA service 0x7fa7f3129c90 initialized for platform Host (this does not guarantee that XLA will be used). Devices:\n",
      "2020-06-15 17:33:19.355603: I tensorflow/compiler/xla/service/service.cc:176]   StreamExecutor device (0): Host, Default Version\n",
      "/Users/lalith/opt/anaconda3/lib/python3.7/site-packages/keras/activations.py:235: UserWarning: Do not pass a layer instance (such as LeakyReLU) as the activation argument of another layer. Instead, advanced activation layers should be used just like any other layer in a model.\n",
      "  identifier=identifier.__class__.__name__))\n",
      "100%|█████████████████████████████████████████████| 3/3 [00:05<00:00,  1.89s/it]\n",
      "2020-06-15 17:33:26.388042: Evaluation complete\n",
      "2020-06-15 17:33:26.432349: Save evaluate label at /Users/lalith/Downloads/Sent2Lalith/nifti/m000-406-AM_FDGdyn_AC_ID_cleared/panda/PANDA_2550_m000-f0018-m000-406-AM_FDGdyn_AC_ID_cleared.nii success\n"
     ]
    },
    {
     "name": "stderr",
     "output_type": "stream",
     "text": [
      "\n",
      " 86%|████████▌ | 18/21 [03:56<00:34, 11.36s/it]\u001b[A"
     ]
    },
    {
     "name": "stdout",
     "output_type": "stream",
     "text": [
      "Using TensorFlow backend.\n",
      "2020-06-15 17:33:30.301081: I tensorflow/core/platform/cpu_feature_guard.cc:143] Your CPU supports instructions that this TensorFlow binary was not compiled to use: AVX2 FMA\n",
      "2020-06-15 17:33:30.311550: I tensorflow/compiler/xla/service/service.cc:168] XLA service 0x7fe0212664e0 initialized for platform Host (this does not guarantee that XLA will be used). Devices:\n",
      "2020-06-15 17:33:30.311566: I tensorflow/compiler/xla/service/service.cc:176]   StreamExecutor device (0): Host, Default Version\n",
      "/Users/lalith/opt/anaconda3/lib/python3.7/site-packages/keras/activations.py:235: UserWarning: Do not pass a layer instance (such as LeakyReLU) as the activation argument of another layer. Instead, advanced activation layers should be used just like any other layer in a model.\n",
      "  identifier=identifier.__class__.__name__))\n",
      "100%|█████████████████████████████████████████████| 3/3 [00:05<00:00,  1.88s/it]\n",
      "2020-06-15 17:33:37.343160: Evaluation complete\n",
      "2020-06-15 17:33:37.389208: Save evaluate label at /Users/lalith/Downloads/Sent2Lalith/nifti/m000-406-AM_FDGdyn_AC_ID_cleared/panda/PANDA_2850_m000-f0019-m000-406-AM_FDGdyn_AC_ID_cleared.nii success\n"
     ]
    },
    {
     "name": "stderr",
     "output_type": "stream",
     "text": [
      "\n",
      " 90%|█████████ | 19/21 [04:07<00:22, 11.24s/it]\u001b[A"
     ]
    },
    {
     "name": "stdout",
     "output_type": "stream",
     "text": [
      "Using TensorFlow backend.\n",
      "2020-06-15 17:33:41.366426: I tensorflow/core/platform/cpu_feature_guard.cc:143] Your CPU supports instructions that this TensorFlow binary was not compiled to use: AVX2 FMA\n",
      "2020-06-15 17:33:41.377044: I tensorflow/compiler/xla/service/service.cc:168] XLA service 0x7fae53395a30 initialized for platform Host (this does not guarantee that XLA will be used). Devices:\n",
      "2020-06-15 17:33:41.377060: I tensorflow/compiler/xla/service/service.cc:176]   StreamExecutor device (0): Host, Default Version\n",
      "/Users/lalith/opt/anaconda3/lib/python3.7/site-packages/keras/activations.py:235: UserWarning: Do not pass a layer instance (such as LeakyReLU) as the activation argument of another layer. Instead, advanced activation layers should be used just like any other layer in a model.\n",
      "  identifier=identifier.__class__.__name__))\n",
      "100%|█████████████████████████████████████████████| 3/3 [00:07<00:00,  2.38s/it]\n",
      "2020-06-15 17:33:50.111224: Evaluation complete\n",
      "2020-06-15 17:33:50.163866: Save evaluate label at /Users/lalith/Downloads/Sent2Lalith/nifti/m000-406-AM_FDGdyn_AC_ID_cleared/panda/PANDA_3150_m000-f0020-m000-406-AM_FDGdyn_AC_ID_cleared.nii success\n"
     ]
    },
    {
     "name": "stderr",
     "output_type": "stream",
     "text": [
      "\n",
      " 95%|█████████▌| 20/21 [04:20<00:11, 11.77s/it]\u001b[A"
     ]
    },
    {
     "name": "stdout",
     "output_type": "stream",
     "text": [
      "Using TensorFlow backend.\n",
      "2020-06-15 17:33:54.735110: I tensorflow/core/platform/cpu_feature_guard.cc:143] Your CPU supports instructions that this TensorFlow binary was not compiled to use: AVX2 FMA\n",
      "2020-06-15 17:33:54.745790: I tensorflow/compiler/xla/service/service.cc:168] XLA service 0x7f89ce2927b0 initialized for platform Host (this does not guarantee that XLA will be used). Devices:\n",
      "2020-06-15 17:33:54.745807: I tensorflow/compiler/xla/service/service.cc:176]   StreamExecutor device (0): Host, Default Version\n",
      "/Users/lalith/opt/anaconda3/lib/python3.7/site-packages/keras/activations.py:235: UserWarning: Do not pass a layer instance (such as LeakyReLU) as the activation argument of another layer. Instead, advanced activation layers should be used just like any other layer in a model.\n",
      "  identifier=identifier.__class__.__name__))\n",
      "100%|█████████████████████████████████████████████| 3/3 [00:06<00:00,  2.15s/it]\n",
      "2020-06-15 17:34:02.597997: Evaluation complete\n",
      "2020-06-15 17:34:02.644289: Save evaluate label at /Users/lalith/Downloads/Sent2Lalith/nifti/m000-406-AM_FDGdyn_AC_ID_cleared/panda/PANDA_3450_m000-f0021-m000-406-AM_FDGdyn_AC_ID_cleared.nii success\n"
     ]
    },
    {
     "name": "stderr",
     "output_type": "stream",
     "text": [
      "\n",
      "100%|██████████| 21/21 [04:33<00:00, 13.00s/it]\u001b[A\n",
      " 90%|█████████ | 9/10 [37:50<04:08, 248.21s/it]\n",
      "  0%|          | 0/21 [00:00<?, ?it/s]\u001b[A"
     ]
    },
    {
     "name": "stdout",
     "output_type": "stream",
     "text": [
      "Directory  panda  Created \n"
     ]
    },
    {
     "name": "stderr",
     "output_type": "stream",
     "text": [
      "100%|██████████| 21/21 [00:00<00:00, 4227.11it/s]\n",
      "\n",
      "  0%|          | 0/21 [00:00<?, ?it/s]\u001b[A"
     ]
    },
    {
     "name": "stdout",
     "output_type": "stream",
     "text": [
      "Using TensorFlow backend.\n",
      "2020-06-15 17:34:06.861483: I tensorflow/core/platform/cpu_feature_guard.cc:143] Your CPU supports instructions that this TensorFlow binary was not compiled to use: AVX2 FMA\n",
      "2020-06-15 17:34:06.872563: I tensorflow/compiler/xla/service/service.cc:168] XLA service 0x7f922a9277b0 initialized for platform Host (this does not guarantee that XLA will be used). Devices:\n",
      "2020-06-15 17:34:06.872580: I tensorflow/compiler/xla/service/service.cc:176]   StreamExecutor device (0): Host, Default Version\n",
      "/Users/lalith/opt/anaconda3/lib/python3.7/site-packages/keras/activations.py:235: UserWarning: Do not pass a layer instance (such as LeakyReLU) as the activation argument of another layer. Instead, advanced activation layers should be used just like any other layer in a model.\n",
      "  identifier=identifier.__class__.__name__))\n",
      "100%|█████████████████████████████████████████████| 3/3 [00:05<00:00,  1.69s/it]\n",
      "2020-06-15 17:34:13.381861: Evaluation complete\n",
      "2020-06-15 17:34:13.436012: Save evaluate label at /Users/lalith/Downloads/Sent2Lalith/nifti/m000-411-AV_FDGdyn_AC_ID_cleared/panda/PANDA_8_m000-f0001-m000-411-AV_FDGdyn_AC_ID_cleared.nii success\n"
     ]
    },
    {
     "name": "stderr",
     "output_type": "stream",
     "text": [
      "\n",
      "  5%|▍         | 1/21 [00:10<03:35, 10.76s/it]\u001b[A"
     ]
    },
    {
     "name": "stdout",
     "output_type": "stream",
     "text": [
      "Using TensorFlow backend.\n",
      "2020-06-15 17:34:17.770148: I tensorflow/core/platform/cpu_feature_guard.cc:143] Your CPU supports instructions that this TensorFlow binary was not compiled to use: AVX2 FMA\n",
      "2020-06-15 17:34:17.781371: I tensorflow/compiler/xla/service/service.cc:168] XLA service 0x7fe853fbcd70 initialized for platform Host (this does not guarantee that XLA will be used). Devices:\n",
      "2020-06-15 17:34:17.781388: I tensorflow/compiler/xla/service/service.cc:176]   StreamExecutor device (0): Host, Default Version\n",
      "/Users/lalith/opt/anaconda3/lib/python3.7/site-packages/keras/activations.py:235: UserWarning: Do not pass a layer instance (such as LeakyReLU) as the activation argument of another layer. Instead, advanced activation layers should be used just like any other layer in a model.\n",
      "  identifier=identifier.__class__.__name__))\n",
      "100%|█████████████████████████████████████████████| 3/3 [00:07<00:00,  2.40s/it]\n",
      "2020-06-15 17:34:26.443488: Evaluation complete\n",
      "2020-06-15 17:34:26.493891: Save evaluate label at /Users/lalith/Downloads/Sent2Lalith/nifti/m000-411-AV_FDGdyn_AC_ID_cleared/panda/PANDA_18_m000-f0002-m000-411-AV_FDGdyn_AC_ID_cleared.nii success\n"
     ]
    },
    {
     "name": "stderr",
     "output_type": "stream",
     "text": [
      "\n",
      " 10%|▉         | 2/21 [00:24<03:38, 11.52s/it]\u001b[A"
     ]
    },
    {
     "name": "stdout",
     "output_type": "stream",
     "text": [
      "Using TensorFlow backend.\n",
      "2020-06-15 17:34:30.931887: I tensorflow/core/platform/cpu_feature_guard.cc:143] Your CPU supports instructions that this TensorFlow binary was not compiled to use: AVX2 FMA\n",
      "2020-06-15 17:34:30.942247: I tensorflow/compiler/xla/service/service.cc:168] XLA service 0x7fa778dfbe00 initialized for platform Host (this does not guarantee that XLA will be used). Devices:\n",
      "2020-06-15 17:34:30.942280: I tensorflow/compiler/xla/service/service.cc:176]   StreamExecutor device (0): Host, Default Version\n",
      "/Users/lalith/opt/anaconda3/lib/python3.7/site-packages/keras/activations.py:235: UserWarning: Do not pass a layer instance (such as LeakyReLU) as the activation argument of another layer. Instead, advanced activation layers should be used just like any other layer in a model.\n",
      "  identifier=identifier.__class__.__name__))\n",
      "100%|█████████████████████████████████████████████| 3/3 [00:04<00:00,  1.66s/it]\n",
      "2020-06-15 17:34:37.265010: Evaluation complete\n",
      "2020-06-15 17:34:37.313626: Save evaluate label at /Users/lalith/Downloads/Sent2Lalith/nifti/m000-411-AV_FDGdyn_AC_ID_cleared/panda/PANDA_23_m000-f0003-m000-411-AV_FDGdyn_AC_ID_cleared.nii success\n"
     ]
    },
    {
     "name": "stderr",
     "output_type": "stream",
     "text": [
      "\n",
      " 14%|█▍        | 3/21 [00:34<03:22, 11.23s/it]\u001b[A"
     ]
    },
    {
     "name": "stdout",
     "output_type": "stream",
     "text": [
      "Using TensorFlow backend.\n",
      "2020-06-15 17:34:41.360753: I tensorflow/core/platform/cpu_feature_guard.cc:143] Your CPU supports instructions that this TensorFlow binary was not compiled to use: AVX2 FMA\n",
      "2020-06-15 17:34:41.372055: I tensorflow/compiler/xla/service/service.cc:168] XLA service 0x7f85ecb66380 initialized for platform Host (this does not guarantee that XLA will be used). Devices:\n",
      "2020-06-15 17:34:41.372088: I tensorflow/compiler/xla/service/service.cc:176]   StreamExecutor device (0): Host, Default Version\n",
      "/Users/lalith/opt/anaconda3/lib/python3.7/site-packages/keras/activations.py:235: UserWarning: Do not pass a layer instance (such as LeakyReLU) as the activation argument of another layer. Instead, advanced activation layers should be used just like any other layer in a model.\n",
      "  identifier=identifier.__class__.__name__))\n",
      "100%|█████████████████████████████████████████████| 3/3 [00:07<00:00,  2.37s/it]\n",
      "2020-06-15 17:34:49.849176: Evaluation complete\n",
      "2020-06-15 17:34:49.901382: Save evaluate label at /Users/lalith/Downloads/Sent2Lalith/nifti/m000-411-AV_FDGdyn_AC_ID_cleared/panda/PANDA_28_m000-f0004-m000-411-AV_FDGdyn_AC_ID_cleared.nii success\n"
     ]
    },
    {
     "name": "stderr",
     "output_type": "stream",
     "text": [
      "\n",
      " 19%|█▉        | 4/21 [00:47<03:18, 11.67s/it]\u001b[A"
     ]
    },
    {
     "name": "stdout",
     "output_type": "stream",
     "text": [
      "Using TensorFlow backend.\n",
      "2020-06-15 17:34:54.335460: I tensorflow/core/platform/cpu_feature_guard.cc:143] Your CPU supports instructions that this TensorFlow binary was not compiled to use: AVX2 FMA\n",
      "2020-06-15 17:34:54.346199: I tensorflow/compiler/xla/service/service.cc:168] XLA service 0x7fcb1b050ef0 initialized for platform Host (this does not guarantee that XLA will be used). Devices:\n",
      "2020-06-15 17:34:54.346234: I tensorflow/compiler/xla/service/service.cc:176]   StreamExecutor device (0): Host, Default Version\n",
      "/Users/lalith/opt/anaconda3/lib/python3.7/site-packages/keras/activations.py:235: UserWarning: Do not pass a layer instance (such as LeakyReLU) as the activation argument of another layer. Instead, advanced activation layers should be used just like any other layer in a model.\n",
      "  identifier=identifier.__class__.__name__))\n",
      "100%|█████████████████████████████████████████████| 3/3 [00:04<00:00,  1.64s/it]\n",
      "2020-06-15 17:35:00.659316: Evaluation complete\n",
      "2020-06-15 17:35:00.709407: Save evaluate label at /Users/lalith/Downloads/Sent2Lalith/nifti/m000-411-AV_FDGdyn_AC_ID_cleared/panda/PANDA_35_m000-f0005-m000-411-AV_FDGdyn_AC_ID_cleared.nii success\n"
     ]
    },
    {
     "name": "stderr",
     "output_type": "stream",
     "text": [
      "\n",
      " 24%|██▍       | 5/21 [00:58<03:02, 11.39s/it]\u001b[A"
     ]
    },
    {
     "name": "stdout",
     "output_type": "stream",
     "text": [
      "Using TensorFlow backend.\n",
      "2020-06-15 17:35:04.940437: I tensorflow/core/platform/cpu_feature_guard.cc:143] Your CPU supports instructions that this TensorFlow binary was not compiled to use: AVX2 FMA\n",
      "2020-06-15 17:35:04.953915: I tensorflow/compiler/xla/service/service.cc:168] XLA service 0x7f82230ae370 initialized for platform Host (this does not guarantee that XLA will be used). Devices:\n",
      "2020-06-15 17:35:04.953951: I tensorflow/compiler/xla/service/service.cc:176]   StreamExecutor device (0): Host, Default Version\n",
      "/Users/lalith/opt/anaconda3/lib/python3.7/site-packages/keras/activations.py:235: UserWarning: Do not pass a layer instance (such as LeakyReLU) as the activation argument of another layer. Instead, advanced activation layers should be used just like any other layer in a model.\n",
      "  identifier=identifier.__class__.__name__))\n",
      "100%|█████████████████████████████████████████████| 3/3 [00:06<00:00,  2.14s/it]\n",
      "2020-06-15 17:35:12.778821: Evaluation complete\n",
      "2020-06-15 17:35:12.824832: Save evaluate label at /Users/lalith/Downloads/Sent2Lalith/nifti/m000-411-AV_FDGdyn_AC_ID_cleared/panda/PANDA_45_m000-f0006-m000-411-AV_FDGdyn_AC_ID_cleared.nii success\n"
     ]
    },
    {
     "name": "stderr",
     "output_type": "stream",
     "text": [
      "\n",
      " 29%|██▊       | 6/21 [01:10<02:54, 11.60s/it]\u001b[A"
     ]
    },
    {
     "name": "stdout",
     "output_type": "stream",
     "text": [
      "Using TensorFlow backend.\n",
      "2020-06-15 17:35:16.683561: I tensorflow/core/platform/cpu_feature_guard.cc:143] Your CPU supports instructions that this TensorFlow binary was not compiled to use: AVX2 FMA\n",
      "2020-06-15 17:35:16.694247: I tensorflow/compiler/xla/service/service.cc:168] XLA service 0x7fc056fab120 initialized for platform Host (this does not guarantee that XLA will be used). Devices:\n",
      "2020-06-15 17:35:16.694264: I tensorflow/compiler/xla/service/service.cc:176]   StreamExecutor device (0): Host, Default Version\n",
      "/Users/lalith/opt/anaconda3/lib/python3.7/site-packages/keras/activations.py:235: UserWarning: Do not pass a layer instance (such as LeakyReLU) as the activation argument of another layer. Instead, advanced activation layers should be used just like any other layer in a model.\n",
      "  identifier=identifier.__class__.__name__))\n",
      "100%|█████████████████████████████████████████████| 3/3 [00:07<00:00,  2.41s/it]\n",
      "2020-06-15 17:35:25.279646: Evaluation complete\n",
      "2020-06-15 17:35:25.333287: Save evaluate label at /Users/lalith/Downloads/Sent2Lalith/nifti/m000-411-AV_FDGdyn_AC_ID_cleared/panda/PANDA_55_m000-f0007-m000-411-AV_FDGdyn_AC_ID_cleared.nii success\n"
     ]
    },
    {
     "name": "stderr",
     "output_type": "stream",
     "text": [
      "\n",
      " 33%|███▎      | 7/21 [01:22<02:47, 11.94s/it]\u001b[A"
     ]
    },
    {
     "name": "stdout",
     "output_type": "stream",
     "text": [
      "Using TensorFlow backend.\n",
      "2020-06-15 17:35:29.618804: I tensorflow/core/platform/cpu_feature_guard.cc:143] Your CPU supports instructions that this TensorFlow binary was not compiled to use: AVX2 FMA\n",
      "2020-06-15 17:35:29.629650: I tensorflow/compiler/xla/service/service.cc:168] XLA service 0x7ffbd5048160 initialized for platform Host (this does not guarantee that XLA will be used). Devices:\n",
      "2020-06-15 17:35:29.629703: I tensorflow/compiler/xla/service/service.cc:176]   StreamExecutor device (0): Host, Default Version\n",
      "/Users/lalith/opt/anaconda3/lib/python3.7/site-packages/keras/activations.py:235: UserWarning: Do not pass a layer instance (such as LeakyReLU) as the activation argument of another layer. Instead, advanced activation layers should be used just like any other layer in a model.\n",
      "  identifier=identifier.__class__.__name__))\n",
      "100%|█████████████████████████████████████████████| 3/3 [00:07<00:00,  2.49s/it]\n",
      "2020-06-15 17:35:38.500290: Evaluation complete\n",
      "2020-06-15 17:35:38.555670: Save evaluate label at /Users/lalith/Downloads/Sent2Lalith/nifti/m000-411-AV_FDGdyn_AC_ID_cleared/panda/PANDA_90_m000-f0008-m000-411-AV_FDGdyn_AC_ID_cleared.nii success\n"
     ]
    },
    {
     "name": "stderr",
     "output_type": "stream",
     "text": [
      "\n",
      " 38%|███▊      | 8/21 [01:36<02:40, 12.36s/it]\u001b[A"
     ]
    },
    {
     "name": "stdout",
     "output_type": "stream",
     "text": [
      "Using TensorFlow backend.\n",
      "2020-06-15 17:35:43.212406: I tensorflow/core/platform/cpu_feature_guard.cc:143] Your CPU supports instructions that this TensorFlow binary was not compiled to use: AVX2 FMA\n",
      "2020-06-15 17:35:43.223202: I tensorflow/compiler/xla/service/service.cc:168] XLA service 0x7fdbd33387f0 initialized for platform Host (this does not guarantee that XLA will be used). Devices:\n",
      "2020-06-15 17:35:43.223219: I tensorflow/compiler/xla/service/service.cc:176]   StreamExecutor device (0): Host, Default Version\n",
      "/Users/lalith/opt/anaconda3/lib/python3.7/site-packages/keras/activations.py:235: UserWarning: Do not pass a layer instance (such as LeakyReLU) as the activation argument of another layer. Instead, advanced activation layers should be used just like any other layer in a model.\n",
      "  identifier=identifier.__class__.__name__))\n",
      "100%|█████████████████████████████████████████████| 3/3 [00:07<00:00,  2.43s/it]\n",
      "2020-06-15 17:35:51.888765: Evaluation complete\n",
      "2020-06-15 17:35:51.976177: Save evaluate label at /Users/lalith/Downloads/Sent2Lalith/nifti/m000-411-AV_FDGdyn_AC_ID_cleared/panda/PANDA_150_m000-f0009-m000-411-AV_FDGdyn_AC_ID_cleared.nii success\n"
     ]
    },
    {
     "name": "stderr",
     "output_type": "stream",
     "text": [
      "\n",
      " 43%|████▎     | 9/21 [01:49<02:31, 12.59s/it]\u001b[A"
     ]
    },
    {
     "name": "stdout",
     "output_type": "stream",
     "text": [
      "Using TensorFlow backend.\n",
      "2020-06-15 17:35:56.261667: I tensorflow/core/platform/cpu_feature_guard.cc:143] Your CPU supports instructions that this TensorFlow binary was not compiled to use: AVX2 FMA\n",
      "2020-06-15 17:35:56.271947: I tensorflow/compiler/xla/service/service.cc:168] XLA service 0x7fe49e14a770 initialized for platform Host (this does not guarantee that XLA will be used). Devices:\n",
      "2020-06-15 17:35:56.271995: I tensorflow/compiler/xla/service/service.cc:176]   StreamExecutor device (0): Host, Default Version\n",
      "/Users/lalith/opt/anaconda3/lib/python3.7/site-packages/keras/activations.py:235: UserWarning: Do not pass a layer instance (such as LeakyReLU) as the activation argument of another layer. Instead, advanced activation layers should be used just like any other layer in a model.\n",
      "  identifier=identifier.__class__.__name__))\n",
      "100%|█████████████████████████████████████████████| 3/3 [00:04<00:00,  1.61s/it]\n",
      "2020-06-15 17:36:02.496563: Evaluation complete\n",
      "2020-06-15 17:36:02.536352: Save evaluate label at /Users/lalith/Downloads/Sent2Lalith/nifti/m000-411-AV_FDGdyn_AC_ID_cleared/panda/PANDA_210_m000-f0010-m000-411-AV_FDGdyn_AC_ID_cleared.nii success\n"
     ]
    },
    {
     "name": "stderr",
     "output_type": "stream",
     "text": [
      "\n",
      " 48%|████▊     | 10/21 [01:59<02:11, 11.97s/it]\u001b[A"
     ]
    },
    {
     "name": "stdout",
     "output_type": "stream",
     "text": [
      "Using TensorFlow backend.\n",
      "2020-06-15 17:36:06.693832: I tensorflow/core/platform/cpu_feature_guard.cc:143] Your CPU supports instructions that this TensorFlow binary was not compiled to use: AVX2 FMA\n",
      "2020-06-15 17:36:06.704408: I tensorflow/compiler/xla/service/service.cc:168] XLA service 0x7fc10000c440 initialized for platform Host (this does not guarantee that XLA will be used). Devices:\n",
      "2020-06-15 17:36:06.704441: I tensorflow/compiler/xla/service/service.cc:176]   StreamExecutor device (0): Host, Default Version\n",
      "/Users/lalith/opt/anaconda3/lib/python3.7/site-packages/keras/activations.py:235: UserWarning: Do not pass a layer instance (such as LeakyReLU) as the activation argument of another layer. Instead, advanced activation layers should be used just like any other layer in a model.\n",
      "  identifier=identifier.__class__.__name__))\n",
      "100%|█████████████████████████████████████████████| 3/3 [00:05<00:00,  1.69s/it]\n",
      "2020-06-15 17:36:13.110709: Evaluation complete\n",
      "2020-06-15 17:36:13.156766: Save evaluate label at /Users/lalith/Downloads/Sent2Lalith/nifti/m000-411-AV_FDGdyn_AC_ID_cleared/panda/PANDA_270_m000-f0011-m000-411-AV_FDGdyn_AC_ID_cleared.nii success\n"
     ]
    },
    {
     "name": "stderr",
     "output_type": "stream",
     "text": [
      "\n",
      " 52%|█████▏    | 11/21 [02:10<01:55, 11.57s/it]\u001b[A"
     ]
    },
    {
     "name": "stdout",
     "output_type": "stream",
     "text": [
      "Using TensorFlow backend.\n",
      "2020-06-15 17:36:17.332208: I tensorflow/core/platform/cpu_feature_guard.cc:143] Your CPU supports instructions that this TensorFlow binary was not compiled to use: AVX2 FMA\n",
      "2020-06-15 17:36:17.342487: I tensorflow/compiler/xla/service/service.cc:168] XLA service 0x7fe88bc93680 initialized for platform Host (this does not guarantee that XLA will be used). Devices:\n",
      "2020-06-15 17:36:17.342519: I tensorflow/compiler/xla/service/service.cc:176]   StreamExecutor device (0): Host, Default Version\n",
      "/Users/lalith/opt/anaconda3/lib/python3.7/site-packages/keras/activations.py:235: UserWarning: Do not pass a layer instance (such as LeakyReLU) as the activation argument of another layer. Instead, advanced activation layers should be used just like any other layer in a model.\n",
      "  identifier=identifier.__class__.__name__))\n",
      "100%|█████████████████████████████████████████████| 3/3 [00:06<00:00,  2.11s/it]\n",
      "2020-06-15 17:36:25.102173: Evaluation complete\n",
      "2020-06-15 17:36:25.148142: Save evaluate label at /Users/lalith/Downloads/Sent2Lalith/nifti/m000-411-AV_FDGdyn_AC_ID_cleared/panda/PANDA_375_m000-f0012-m000-411-AV_FDGdyn_AC_ID_cleared.nii success\n"
     ]
    },
    {
     "name": "stderr",
     "output_type": "stream",
     "text": [
      "\n",
      " 57%|█████▋    | 12/21 [02:22<01:45, 11.69s/it]\u001b[A"
     ]
    },
    {
     "name": "stdout",
     "output_type": "stream",
     "text": [
      "Using TensorFlow backend.\n",
      "2020-06-15 17:36:28.910853: I tensorflow/core/platform/cpu_feature_guard.cc:143] Your CPU supports instructions that this TensorFlow binary was not compiled to use: AVX2 FMA\n",
      "2020-06-15 17:36:28.921137: I tensorflow/compiler/xla/service/service.cc:168] XLA service 0x7fbc148bd090 initialized for platform Host (this does not guarantee that XLA will be used). Devices:\n",
      "2020-06-15 17:36:28.921169: I tensorflow/compiler/xla/service/service.cc:176]   StreamExecutor device (0): Host, Default Version\n",
      "/Users/lalith/opt/anaconda3/lib/python3.7/site-packages/keras/activations.py:235: UserWarning: Do not pass a layer instance (such as LeakyReLU) as the activation argument of another layer. Instead, advanced activation layers should be used just like any other layer in a model.\n",
      "  identifier=identifier.__class__.__name__))\n",
      "100%|█████████████████████████████████████████████| 3/3 [00:04<00:00,  1.62s/it]\n",
      "2020-06-15 17:36:35.079570: Evaluation complete\n",
      "2020-06-15 17:36:35.129683: Save evaluate label at /Users/lalith/Downloads/Sent2Lalith/nifti/m000-411-AV_FDGdyn_AC_ID_cleared/panda/PANDA_525_m000-f0013-m000-411-AV_FDGdyn_AC_ID_cleared.nii success\n"
     ]
    },
    {
     "name": "stderr",
     "output_type": "stream",
     "text": [
      "\n",
      " 62%|██████▏   | 13/21 [02:32<01:29, 11.18s/it]\u001b[A"
     ]
    },
    {
     "name": "stdout",
     "output_type": "stream",
     "text": [
      "Using TensorFlow backend.\n",
      "2020-06-15 17:36:39.057212: I tensorflow/core/platform/cpu_feature_guard.cc:143] Your CPU supports instructions that this TensorFlow binary was not compiled to use: AVX2 FMA\n",
      "2020-06-15 17:36:39.068529: I tensorflow/compiler/xla/service/service.cc:168] XLA service 0x7f8e1edc1ff0 initialized for platform Host (this does not guarantee that XLA will be used). Devices:\n",
      "2020-06-15 17:36:39.068559: I tensorflow/compiler/xla/service/service.cc:176]   StreamExecutor device (0): Host, Default Version\n",
      "/Users/lalith/opt/anaconda3/lib/python3.7/site-packages/keras/activations.py:235: UserWarning: Do not pass a layer instance (such as LeakyReLU) as the activation argument of another layer. Instead, advanced activation layers should be used just like any other layer in a model.\n",
      "  identifier=identifier.__class__.__name__))\n",
      "100%|█████████████████████████████████████████████| 3/3 [00:05<00:00,  1.79s/it]\n",
      "2020-06-15 17:36:45.802348: Evaluation complete\n",
      "2020-06-15 17:36:45.852844: Save evaluate label at /Users/lalith/Downloads/Sent2Lalith/nifti/m000-411-AV_FDGdyn_AC_ID_cleared/panda/PANDA_750_m000-f0014-m000-411-AV_FDGdyn_AC_ID_cleared.nii success\n"
     ]
    },
    {
     "name": "stderr",
     "output_type": "stream",
     "text": [
      "\n",
      " 67%|██████▋   | 14/21 [02:43<01:17, 11.05s/it]\u001b[A"
     ]
    },
    {
     "name": "stdout",
     "output_type": "stream",
     "text": [
      "Using TensorFlow backend.\n",
      "2020-06-15 17:36:49.734074: I tensorflow/core/platform/cpu_feature_guard.cc:143] Your CPU supports instructions that this TensorFlow binary was not compiled to use: AVX2 FMA\n",
      "2020-06-15 17:36:49.746057: I tensorflow/compiler/xla/service/service.cc:168] XLA service 0x7fc4efb22240 initialized for platform Host (this does not guarantee that XLA will be used). Devices:\n",
      "2020-06-15 17:36:49.746090: I tensorflow/compiler/xla/service/service.cc:176]   StreamExecutor device (0): Host, Default Version\n",
      "/Users/lalith/opt/anaconda3/lib/python3.7/site-packages/keras/activations.py:235: UserWarning: Do not pass a layer instance (such as LeakyReLU) as the activation argument of another layer. Instead, advanced activation layers should be used just like any other layer in a model.\n",
      "  identifier=identifier.__class__.__name__))\n",
      "100%|█████████████████████████████████████████████| 3/3 [00:06<00:00,  2.07s/it]\n",
      "2020-06-15 17:36:57.341231: Evaluation complete\n",
      "2020-06-15 17:36:57.396700: Save evaluate label at /Users/lalith/Downloads/Sent2Lalith/nifti/m000-411-AV_FDGdyn_AC_ID_cleared/panda/PANDA_1050_m000-f0015-m000-411-AV_FDGdyn_AC_ID_cleared.nii success\n"
     ]
    },
    {
     "name": "stderr",
     "output_type": "stream",
     "text": [
      "\n",
      " 71%|███████▏  | 15/21 [02:54<01:07, 11.20s/it]\u001b[A"
     ]
    },
    {
     "name": "stdout",
     "output_type": "stream",
     "text": [
      "Using TensorFlow backend.\n",
      "2020-06-15 17:37:01.158827: I tensorflow/core/platform/cpu_feature_guard.cc:143] Your CPU supports instructions that this TensorFlow binary was not compiled to use: AVX2 FMA\n",
      "2020-06-15 17:37:01.169335: I tensorflow/compiler/xla/service/service.cc:168] XLA service 0x7fb641a07f30 initialized for platform Host (this does not guarantee that XLA will be used). Devices:\n",
      "2020-06-15 17:37:01.169368: I tensorflow/compiler/xla/service/service.cc:176]   StreamExecutor device (0): Host, Default Version\n",
      "/Users/lalith/opt/anaconda3/lib/python3.7/site-packages/keras/activations.py:235: UserWarning: Do not pass a layer instance (such as LeakyReLU) as the activation argument of another layer. Instead, advanced activation layers should be used just like any other layer in a model.\n",
      "  identifier=identifier.__class__.__name__))\n",
      "100%|█████████████████████████████████████████████| 3/3 [00:04<00:00,  1.64s/it]\n",
      "2020-06-15 17:37:07.491183: Evaluation complete\n",
      "2020-06-15 17:37:07.542456: Save evaluate label at /Users/lalith/Downloads/Sent2Lalith/nifti/m000-411-AV_FDGdyn_AC_ID_cleared/panda/PANDA_1500_m000-f0016-m000-411-AV_FDGdyn_AC_ID_cleared.nii success\n"
     ]
    },
    {
     "name": "stderr",
     "output_type": "stream",
     "text": [
      "\n",
      " 76%|███████▌  | 16/21 [03:04<00:54, 10.88s/it]\u001b[A"
     ]
    },
    {
     "name": "stdout",
     "output_type": "stream",
     "text": [
      "Using TensorFlow backend.\n",
      "2020-06-15 17:37:11.672083: I tensorflow/core/platform/cpu_feature_guard.cc:143] Your CPU supports instructions that this TensorFlow binary was not compiled to use: AVX2 FMA\n",
      "2020-06-15 17:37:11.683481: I tensorflow/compiler/xla/service/service.cc:168] XLA service 0x7fe7c5ac99c0 initialized for platform Host (this does not guarantee that XLA will be used). Devices:\n",
      "2020-06-15 17:37:11.683498: I tensorflow/compiler/xla/service/service.cc:176]   StreamExecutor device (0): Host, Default Version\n",
      "/Users/lalith/opt/anaconda3/lib/python3.7/site-packages/keras/activations.py:235: UserWarning: Do not pass a layer instance (such as LeakyReLU) as the activation argument of another layer. Instead, advanced activation layers should be used just like any other layer in a model.\n",
      "  identifier=identifier.__class__.__name__))\n",
      "100%|█████████████████████████████████████████████| 3/3 [00:09<00:00,  3.01s/it]\n",
      "2020-06-15 17:37:22.339706: Evaluation complete\n",
      "2020-06-15 17:37:22.409237: Save evaluate label at /Users/lalith/Downloads/Sent2Lalith/nifti/m000-411-AV_FDGdyn_AC_ID_cleared/panda/PANDA_2100_m000-f0017-m000-411-AV_FDGdyn_AC_ID_cleared.nii success\n"
     ]
    },
    {
     "name": "stderr",
     "output_type": "stream",
     "text": [
      "\n",
      " 81%|████████  | 17/21 [03:20<00:48, 12.22s/it]\u001b[A"
     ]
    },
    {
     "name": "stdout",
     "output_type": "stream",
     "text": [
      "Using TensorFlow backend.\n",
      "2020-06-15 17:37:28.256759: I tensorflow/core/platform/cpu_feature_guard.cc:143] Your CPU supports instructions that this TensorFlow binary was not compiled to use: AVX2 FMA\n",
      "2020-06-15 17:37:28.268634: I tensorflow/compiler/xla/service/service.cc:168] XLA service 0x7fb445f916f0 initialized for platform Host (this does not guarantee that XLA will be used). Devices:\n",
      "2020-06-15 17:37:28.268651: I tensorflow/compiler/xla/service/service.cc:176]   StreamExecutor device (0): Host, Default Version\n",
      "/Users/lalith/opt/anaconda3/lib/python3.7/site-packages/keras/activations.py:235: UserWarning: Do not pass a layer instance (such as LeakyReLU) as the activation argument of another layer. Instead, advanced activation layers should be used just like any other layer in a model.\n",
      "  identifier=identifier.__class__.__name__))\n",
      "100%|█████████████████████████████████████████████| 3/3 [00:04<00:00,  1.66s/it]\n",
      "2020-06-15 17:37:34.631431: Evaluation complete\n",
      "2020-06-15 17:37:34.676136: Save evaluate label at /Users/lalith/Downloads/Sent2Lalith/nifti/m000-411-AV_FDGdyn_AC_ID_cleared/panda/PANDA_2550_m000-f0018-m000-411-AV_FDGdyn_AC_ID_cleared.nii success\n"
     ]
    },
    {
     "name": "stderr",
     "output_type": "stream",
     "text": [
      "\n",
      " 86%|████████▌ | 18/21 [03:31<00:36, 12.08s/it]\u001b[A"
     ]
    },
    {
     "name": "stdout",
     "output_type": "stream",
     "text": [
      "Using TensorFlow backend.\n",
      "2020-06-15 17:37:38.992858: I tensorflow/core/platform/cpu_feature_guard.cc:143] Your CPU supports instructions that this TensorFlow binary was not compiled to use: AVX2 FMA\n",
      "2020-06-15 17:37:39.008193: I tensorflow/compiler/xla/service/service.cc:168] XLA service 0x7f9d5ae10390 initialized for platform Host (this does not guarantee that XLA will be used). Devices:\n",
      "2020-06-15 17:37:39.008217: I tensorflow/compiler/xla/service/service.cc:176]   StreamExecutor device (0): Host, Default Version\n",
      "/Users/lalith/opt/anaconda3/lib/python3.7/site-packages/keras/activations.py:235: UserWarning: Do not pass a layer instance (such as LeakyReLU) as the activation argument of another layer. Instead, advanced activation layers should be used just like any other layer in a model.\n",
      "  identifier=identifier.__class__.__name__))\n",
      "100%|█████████████████████████████████████████████| 3/3 [00:05<00:00,  1.91s/it]\n",
      "2020-06-15 17:37:46.111199: Evaluation complete\n",
      "2020-06-15 17:37:46.157836: Save evaluate label at /Users/lalith/Downloads/Sent2Lalith/nifti/m000-411-AV_FDGdyn_AC_ID_cleared/panda/PANDA_2850_m000-f0019-m000-411-AV_FDGdyn_AC_ID_cleared.nii success\n"
     ]
    },
    {
     "name": "stderr",
     "output_type": "stream",
     "text": [
      "\n",
      " 90%|█████████ | 19/21 [03:43<00:23, 11.91s/it]\u001b[A"
     ]
    },
    {
     "name": "stdout",
     "output_type": "stream",
     "text": [
      "Using TensorFlow backend.\n",
      "2020-06-15 17:37:50.027639: I tensorflow/core/platform/cpu_feature_guard.cc:143] Your CPU supports instructions that this TensorFlow binary was not compiled to use: AVX2 FMA\n",
      "2020-06-15 17:37:50.038420: I tensorflow/compiler/xla/service/service.cc:168] XLA service 0x7fe5e583c490 initialized for platform Host (this does not guarantee that XLA will be used). Devices:\n",
      "2020-06-15 17:37:50.038438: I tensorflow/compiler/xla/service/service.cc:176]   StreamExecutor device (0): Host, Default Version\n",
      "/Users/lalith/opt/anaconda3/lib/python3.7/site-packages/keras/activations.py:235: UserWarning: Do not pass a layer instance (such as LeakyReLU) as the activation argument of another layer. Instead, advanced activation layers should be used just like any other layer in a model.\n",
      "  identifier=identifier.__class__.__name__))\n",
      "100%|█████████████████████████████████████████████| 3/3 [00:04<00:00,  1.63s/it]\n",
      "2020-06-15 17:37:56.262024: Evaluation complete\n",
      "2020-06-15 17:37:56.310295: Save evaluate label at /Users/lalith/Downloads/Sent2Lalith/nifti/m000-411-AV_FDGdyn_AC_ID_cleared/panda/PANDA_3150_m000-f0020-m000-411-AV_FDGdyn_AC_ID_cleared.nii success\n"
     ]
    },
    {
     "name": "stderr",
     "output_type": "stream",
     "text": [
      "\n",
      " 95%|█████████▌| 20/21 [03:53<00:11, 11.38s/it]\u001b[A"
     ]
    },
    {
     "name": "stdout",
     "output_type": "stream",
     "text": [
      "Using TensorFlow backend.\n",
      "2020-06-15 17:38:00.148515: I tensorflow/core/platform/cpu_feature_guard.cc:143] Your CPU supports instructions that this TensorFlow binary was not compiled to use: AVX2 FMA\n",
      "2020-06-15 17:38:00.158792: I tensorflow/compiler/xla/service/service.cc:168] XLA service 0x7fa232bb7210 initialized for platform Host (this does not guarantee that XLA will be used). Devices:\n",
      "2020-06-15 17:38:00.158809: I tensorflow/compiler/xla/service/service.cc:176]   StreamExecutor device (0): Host, Default Version\n",
      "/Users/lalith/opt/anaconda3/lib/python3.7/site-packages/keras/activations.py:235: UserWarning: Do not pass a layer instance (such as LeakyReLU) as the activation argument of another layer. Instead, advanced activation layers should be used just like any other layer in a model.\n",
      "  identifier=identifier.__class__.__name__))\n",
      "100%|█████████████████████████████████████████████| 3/3 [00:05<00:00,  1.73s/it]\n",
      "2020-06-15 17:38:06.700478: Evaluation complete\n",
      "2020-06-15 17:38:06.747863: Save evaluate label at /Users/lalith/Downloads/Sent2Lalith/nifti/m000-411-AV_FDGdyn_AC_ID_cleared/panda/PANDA_3450_m000-f0021-m000-411-AV_FDGdyn_AC_ID_cleared.nii success\n"
     ]
    },
    {
     "name": "stderr",
     "output_type": "stream",
     "text": [
      "\n",
      "100%|██████████| 21/21 [04:04<00:00, 11.62s/it]\u001b[A\n",
      "100%|██████████| 10/10 [41:54<00:00, 251.43s/it]\n"
     ]
    }
   ],
   "source": [
    "# program start for attaching the time-stamps to the original file name\n",
    "\n",
    "for x in tqdm(range(0,len(indv_folders))):\n",
    "    os.chdir(indv_folders[x])\n",
    "    if not os.path.exists(os.path.join(indv_folders[x],'panda')):\n",
    "        os.mkdir(os.path.join(indv_folders[x],'panda'))\n",
    "        print(\"Directory \" , 'panda' ,  \" Created \")\n",
    "    else:    \n",
    "        print(\"Directory \" , 'panda' ,  \" already exists\") \n",
    "    out_dir           =   os.path.join(indv_folders[x],'panda')\n",
    "    nifti_files       =   glob.glob('*f*nii')\n",
    "    nifti_files       =   natsorted(nifti_files)\n",
    "    for y in tqdm(range(0,len(nifti_files))):\n",
    "        new_file      =   str(time_points[y])+'_'+nifti_files[y];\n",
    "        shutil.move(nifti_files[y],new_file) # renaming the files\n",
    "    frames_to_infer   =    glob.glob('*f*nii')\n",
    "    frames_to_infer   =    natsorted(frames_to_infer)\n",
    "    for y in tqdm(range(0,len(frames_to_infer))):\n",
    "        input_img_path=    str(os.path.join(indv_folders[x],frames_to_infer[y]))\n",
    "        model_name    =    gen_keyword+str(sms_mdl_numbers[model_array[y]])+'.h5'\n",
    "        ind_model_path=    str(os.path.join(model_path,model_name))\n",
    "        panda_names   =    panda_suffix+'_'+frames_to_infer[y]\n",
    "        out_img_path  =    str(os.path.join(out_dir,panda_names))\n",
    "        os.chdir(panda_src_dir)\n",
    "        !python predict_single_image.py --image $input_img_path --result $out_img_path --gen_weights $ind_model_path\n",
    "\n",
    "\n"
   ]
  },
  {
   "cell_type": "code",
   "execution_count": null,
   "metadata": {},
   "outputs": [],
   "source": []
  }
 ],
 "metadata": {
  "kernelspec": {
   "display_name": "Python 3",
   "language": "python",
   "name": "python3"
  },
  "language_info": {
   "codemirror_mode": {
    "name": "ipython",
    "version": 3
   },
   "file_extension": ".py",
   "mimetype": "text/x-python",
   "name": "python",
   "nbconvert_exporter": "python",
   "pygments_lexer": "ipython3",
   "version": "3.7.4"
  }
 },
 "nbformat": 4,
 "nbformat_minor": 4
}
