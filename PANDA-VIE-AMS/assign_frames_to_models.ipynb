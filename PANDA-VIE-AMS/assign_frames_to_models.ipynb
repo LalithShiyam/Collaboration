{
 "cells": [
  {
   "cell_type": "code",
   "execution_count": 30,
   "metadata": {},
   "outputs": [],
   "source": [
    "# Include necessary libraries \n",
    "\n",
    "\n",
    "import SimpleITK as sitk\n",
    "import numpy as np\n",
    "%matplotlib widget\n",
    "import matplotlib.pyplot as plt\n",
    "from tqdm import tqdm\n",
    "import os \n",
    "import fnmatch\n",
    "from os import walk\n",
    "import glob as glob\n",
    "from natsort import natsorted\n",
    "import time as time\n",
    "from shutil import copyfile\n",
    "import shutil\n",
    "import numpy as np\n",
    "\n",
    "\n"
   ]
  },
  {
   "cell_type": "code",
   "execution_count": 41,
   "metadata": {},
   "outputs": [],
   "source": [
    "# Hard-coded variables \n",
    "\n",
    "time_points    =    [8,18,23,28,35,45,55,90,150,210,270,375,525,750,1050,1500,2100,2550,2850,3150,3450]\n",
    "data_path      =    '/Users/lalith/Downloads/Sent2Lalith/nifti/' \n",
    "inference_path =    '/Users/lalith/Downloads/Sent2Lalith/'\n",
    "indv_folders   =    glob.glob(os.path.join(data_path+'*'),recursive=True)\n",
    "indv_folders   =    natsorted(indv_folders)\n"
   ]
  },
  {
   "cell_type": "code",
   "execution_count": 32,
   "metadata": {},
   "outputs": [
    {
     "name": "stderr",
     "output_type": "stream",
     "text": [
      "  0%|          | 0/10 [00:00<?, ?it/s]\n",
      "100%|██████████| 21/21 [00:00<00:00, 5227.32it/s]\n",
      "\n",
      "100%|██████████| 21/21 [00:00<00:00, 4940.29it/s]\n",
      "\n",
      "100%|██████████| 21/21 [00:00<00:00, 2924.12it/s]\n",
      "\n",
      "100%|██████████| 21/21 [00:00<00:00, 3527.59it/s]\n",
      "\n",
      "100%|██████████| 21/21 [00:00<00:00, 3543.63it/s]\n",
      "\n",
      "100%|██████████| 21/21 [00:00<00:00, 3730.80it/s]\n",
      "\n",
      "100%|██████████| 21/21 [00:00<00:00, 3526.04it/s]\n",
      "\n",
      "100%|██████████| 21/21 [00:00<00:00, 3251.64it/s]\n",
      "\n",
      "100%|██████████| 21/21 [00:00<00:00, 4377.75it/s]\n",
      "\n",
      "100%|██████████| 21/21 [00:00<00:00, 5156.93it/s]\n",
      "100%|██████████| 10/10 [00:00<00:00, 89.46it/s]\n"
     ]
    }
   ],
   "source": [
    "# program start for attaching the time-stamps to the original file name\n",
    "\n",
    "for x in tqdm(range(0,len(indv_folders))):\n",
    "    os.chdir(indv_folders[x])\n",
    "    nifti_files   =   glob.glob('*f*nii')\n",
    "    nifti_files   =   natsorted(nifti_files)\n",
    "    for y in tqdm(range(0,len(nifti_files))):\n",
    "        new_file  =   str(time_points[y])+'_'+nifti_files[y];\n",
    "        shutil.move(nifti_files[y],new_file)\n"
   ]
  },
  {
   "cell_type": "code",
   "execution_count": 43,
   "metadata": {},
   "outputs": [
    {
     "name": "stderr",
     "output_type": "stream",
     "text": [
      "100%|██████████| 21/21 [00:00<00:00, 2102.31it/s]"
     ]
    },
    {
     "name": "stdout",
     "output_type": "stream",
     "text": [
      "Directory  inference  Created \n",
      "Directory 8 created\n",
      "Directory 18 created\n",
      "Directory 23 created\n",
      "Directory 28 created\n",
      "Directory 35 created\n",
      "Directory 45 created\n",
      "Directory 55 created\n",
      "Directory 90 created\n",
      "Directory 150 created\n",
      "Directory 210 created\n",
      "Directory 270 created\n",
      "Directory 375 created\n",
      "Directory 525 created\n",
      "Directory 750 created\n",
      "Directory 1050 created\n",
      "Directory 1500 created\n",
      "Directory 2100 created\n",
      "Directory 2550 created\n",
      "Directory 2850 created\n",
      "Directory 3150 created\n",
      "Directory 3450 created\n"
     ]
    },
    {
     "name": "stderr",
     "output_type": "stream",
     "text": [
      "\n"
     ]
    }
   ],
   "source": [
    "# Move the individual frames to individual folders for inference \n",
    "\n",
    "os.chdir(inference_path)\n",
    "if not os.path.exists(os.path.join(inference_path,'inference')):\n",
    "        os.mkdir(os.path.join(inference_path,'inference'))\n",
    "        print(\"Directory \" , 'inference' ,  \" Created \")\n",
    "else:    \n",
    "        print(\"Directory \" , 'inference' ,  \" already exists\") \n",
    "\n",
    "inference_path    =    os.path.join(inference_path,'inference')\n",
    "os.chdir(inference_path)\n",
    "\n",
    "for x in tqdm(range(0,len(time_points))):\n",
    "    if not os.path.exists(os.path.join(inference_path,str(time_points[x]))):\n",
    "        os.mkdir(os.path.join(inference_path,str(time_points[x])))\n",
    "        print(\"Directory\",str(time_points[x]),\"created\")\n",
    "    else:\n",
    "        print(\"Directory\",str(time_points[x]),\"already exists\")\n"
   ]
  },
  {
   "cell_type": "code",
   "execution_count": 44,
   "metadata": {},
   "outputs": [
    {
     "name": "stderr",
     "output_type": "stream",
     "text": [
      "  0%|          | 0/10 [00:00<?, ?it/s]\n",
      "  0%|          | 0/21 [00:00<?, ?it/s]\u001b[A\n",
      " 33%|███▎      | 7/21 [00:00<00:00, 65.63it/s]\u001b[A\n",
      " 67%|██████▋   | 14/21 [00:00<00:00, 66.19it/s]\u001b[A\n",
      "100%|██████████| 21/21 [00:00<00:00, 65.31it/s]\u001b[A\n",
      " 10%|█         | 1/10 [00:00<00:02,  3.07it/s]\n",
      "  0%|          | 0/21 [00:00<?, ?it/s]\u001b[A\n",
      " 33%|███▎      | 7/21 [00:00<00:00, 62.97it/s]\u001b[A\n",
      " 71%|███████▏  | 15/21 [00:00<00:00, 64.83it/s]\u001b[A\n",
      "100%|██████████| 21/21 [00:00<00:00, 58.17it/s]\u001b[A\n",
      " 20%|██        | 2/10 [00:00<00:02,  2.97it/s]\n",
      "  0%|          | 0/21 [00:00<?, ?it/s]\u001b[A\n",
      " 19%|█▉        | 4/21 [00:00<00:00, 32.45it/s]\u001b[A\n",
      " 38%|███▊      | 8/21 [00:00<00:00, 33.39it/s]\u001b[A\n",
      " 62%|██████▏   | 13/21 [00:00<00:00, 36.07it/s]\u001b[A\n",
      "100%|██████████| 21/21 [00:00<00:00, 40.66it/s]\u001b[A\n",
      " 30%|███       | 3/10 [00:01<00:02,  2.55it/s]\n",
      "  0%|          | 0/21 [00:00<?, ?it/s]\u001b[A\n",
      " 24%|██▍       | 5/21 [00:00<00:00, 46.89it/s]\u001b[A\n",
      " 43%|████▎     | 9/21 [00:00<00:00, 44.54it/s]\u001b[A\n",
      " 67%|██████▋   | 14/21 [00:00<00:00, 43.77it/s]\u001b[A\n",
      "100%|██████████| 21/21 [00:00<00:00, 44.06it/s]\u001b[A\n",
      " 40%|████      | 4/10 [00:01<00:02,  2.39it/s]\n",
      "  0%|          | 0/21 [00:00<?, ?it/s]\u001b[A\n",
      " 24%|██▍       | 5/21 [00:00<00:00, 44.46it/s]\u001b[A\n",
      " 48%|████▊     | 10/21 [00:00<00:00, 42.75it/s]\u001b[A\n",
      " 76%|███████▌  | 16/21 [00:00<00:00, 46.00it/s]\u001b[A\n",
      "100%|██████████| 21/21 [00:00<00:00, 44.57it/s]\u001b[A\n",
      " 50%|█████     | 5/10 [00:02<00:02,  2.30it/s]\n",
      "  0%|          | 0/21 [00:00<?, ?it/s]\u001b[A\n",
      " 24%|██▍       | 5/21 [00:00<00:00, 45.33it/s]\u001b[A\n",
      " 48%|████▊     | 10/21 [00:00<00:00, 45.31it/s]\u001b[A\n",
      " 71%|███████▏  | 15/21 [00:00<00:00, 45.62it/s]\u001b[A\n",
      "100%|██████████| 21/21 [00:00<00:00, 45.93it/s]\u001b[A\n",
      " 60%|██████    | 6/10 [00:02<00:01,  2.25it/s]\n",
      "  0%|          | 0/21 [00:00<?, ?it/s]\u001b[A\n",
      " 29%|██▊       | 6/21 [00:00<00:00, 49.50it/s]\u001b[A\n",
      " 52%|█████▏    | 11/21 [00:00<00:00, 42.69it/s]\u001b[A\n",
      " 67%|██████▋   | 14/21 [00:00<00:00, 29.97it/s]\u001b[A\n",
      "100%|██████████| 21/21 [00:00<00:00, 34.38it/s]\u001b[A\n",
      " 70%|███████   | 7/10 [00:03<00:01,  2.02it/s]\n",
      "  0%|          | 0/21 [00:00<?, ?it/s]\u001b[A\n",
      " 33%|███▎      | 7/21 [00:00<00:00, 67.34it/s]\u001b[A\n",
      " 71%|███████▏  | 15/21 [00:00<00:00, 69.73it/s]\u001b[A\n",
      "100%|██████████| 21/21 [00:00<00:00, 61.51it/s]\u001b[A\n",
      " 80%|████████  | 8/10 [00:03<00:00,  2.22it/s]\n",
      "  0%|          | 0/21 [00:00<?, ?it/s]\u001b[A\n",
      " 14%|█▍        | 3/21 [00:00<00:00, 25.78it/s]\u001b[A\n",
      " 38%|███▊      | 8/21 [00:00<00:00, 28.74it/s]\u001b[A\n",
      " 62%|██████▏   | 13/21 [00:00<00:00, 32.65it/s]\u001b[A\n",
      "100%|██████████| 21/21 [00:00<00:00, 39.42it/s]\u001b[A\n",
      " 90%|█████████ | 9/10 [00:04<00:00,  2.10it/s]\n",
      "  0%|          | 0/21 [00:00<?, ?it/s]\u001b[A\n",
      " 19%|█▉        | 4/21 [00:00<00:00, 37.75it/s]\u001b[A\n",
      " 33%|███▎      | 7/21 [00:00<00:00, 35.03it/s]\u001b[A\n",
      " 62%|██████▏   | 13/21 [00:00<00:00, 39.49it/s]\u001b[A\n",
      "100%|██████████| 21/21 [00:00<00:00, 43.39it/s]\u001b[A\n",
      "100%|██████████| 10/10 [00:04<00:00,  2.16it/s]\n"
     ]
    }
   ],
   "source": [
    "# move the unique frames of each subject to the inference folder \n",
    "\n",
    "for x in tqdm(range(0,len(indv_folders))):\n",
    "    os.chdir(indv_folders[x])\n",
    "    nifti_files   =   glob.glob('*f*nii')\n",
    "    nifti_files   =   natsorted(nifti_files)\n",
    "    for y in tqdm(range(0,len(nifti_files))):\n",
    "        shutil.copy(nifti_files[y],os.path.join(inference_path,str(time_points[y])))\n",
    "        \n",
    "\n"
   ]
  },
  {
   "cell_type": "code",
   "execution_count": null,
   "metadata": {},
   "outputs": [],
   "source": []
  }
 ],
 "metadata": {
  "kernelspec": {
   "display_name": "Python 3",
   "language": "python",
   "name": "python3"
  },
  "language_info": {
   "codemirror_mode": {
    "name": "ipython",
    "version": 3
   },
   "file_extension": ".py",
   "mimetype": "text/x-python",
   "name": "python",
   "nbconvert_exporter": "python",
   "pygments_lexer": "ipython3",
   "version": "3.7.4"
  }
 },
 "nbformat": 4,
 "nbformat_minor": 4
}
