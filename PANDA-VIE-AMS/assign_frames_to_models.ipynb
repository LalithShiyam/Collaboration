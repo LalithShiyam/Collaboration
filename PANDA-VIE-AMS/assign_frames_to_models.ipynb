{
 "cells": [
  {
   "cell_type": "code",
   "execution_count": 1,
   "metadata": {},
   "outputs": [],
   "source": [
    "# Include necessary libraries \n",
    "\n",
    "\n",
    "import SimpleITK as sitk\n",
    "import numpy as np\n",
    "%matplotlib widget\n",
    "import matplotlib.pyplot as plt\n",
    "from tqdm import tqdm\n",
    "import os \n",
    "import fnmatch\n",
    "from os import walk\n",
    "import glob as glob\n",
    "from natsort import natsorted\n",
    "import time as time\n",
    "from shutil import copyfile\n",
    "import shutil\n",
    "import numpy as np\n",
    "\n",
    "\n"
   ]
  },
  {
   "cell_type": "code",
   "execution_count": 2,
   "metadata": {},
   "outputs": [],
   "source": [
    "# Hard-coded variables \n",
    "\n",
    "time_points          =   [8,18,23,28,35,45,55,90,150,210,270,375,525,750,1050,1500,2100,2550,2850,3150,3450] # philips AMS framing mid-times\n",
    "data_path            =   '/Users/lalith/Downloads/Sent2Lalith/nifti/' \n",
    "inference_path       =   '/Users/lalith/Downloads/Sent2Lalith/'\n",
    "indv_folders         =   glob.glob(os.path.join(data_path+'*'),recursive=True)\n",
    "indv_folders         =   natsorted(indv_folders)\n",
    "model_path           =   '/Users/lalith/Downloads/Sent2Lalith/models'\n",
    "sms_mdl_timestamps   =   np.array([150, 240, 450, 750, 1050, 1350, 1650, 1950]) # all corresponding to seconds\n",
    "sms_mdl_numbers      =   np.array([25,26,27,28,29,30,31,32])   \n",
    "gen_keyword          =   'gen_weights_frame_'\n",
    "panda_suffix         =   'PANDA'\n",
    "panda_src_dir        =   '/Users/lalith/Documents/GitHub/QIMP-tools/PANDA/3D GAN/'\n"
   ]
  },
  {
   "cell_type": "code",
   "execution_count": 3,
   "metadata": {},
   "outputs": [
    {
     "name": "stderr",
     "output_type": "stream",
     "text": [
      "100%|██████████| 8/8 [00:00<00:00, 31388.62it/s]\n",
      "100%|██████████| 21/21 [00:00<00:00, 27026.81it/s]\n"
     ]
    }
   ],
   "source": [
    "# Temporal match of siemens model with given time frames (in our case its philips).\n",
    "\n",
    "time_points          =   np.array(time_points)\n",
    "temporal_array       =   []\n",
    "\n",
    "\n",
    "for x in tqdm(range(0,len(sms_mdl_timestamps))):\n",
    "    difference       =   abs(time_points-sms_mdl_timestamps[x])\n",
    "    temporal_array.append(difference)\n",
    "\n",
    "temp_array           =   np.array(temporal_array)\n",
    "\n",
    "# Models correponding to the given time frames are identified here\n",
    "\n",
    "model_array          =   [];                  \n",
    "for x in tqdm(range(0,len(time_points))):\n",
    "    arr_int   = temp_array[:,x]\n",
    "    index_obj = np.where(arr_int == np.amin(arr_int))\n",
    "    min_index = index_obj[0]\n",
    "    model_array.append(min_index[0])\n"
   ]
  },
  {
   "cell_type": "code",
   "execution_count": null,
   "metadata": {},
   "outputs": [
    {
     "name": "stderr",
     "output_type": "stream",
     "text": [
      "  0%|          | 0/10 [00:00<?, ?it/s]\n",
      "100%|██████████| 21/21 [00:00<00:00, 2513.78it/s]\n",
      "\n",
      "  0%|          | 0/21 [00:00<?, ?it/s]\u001b[A"
     ]
    },
    {
     "name": "stdout",
     "output_type": "stream",
     "text": [
      "Directory  panda  already exists\n",
      "Using TensorFlow backend.\n",
      "2020-06-15 16:25:38.101989: I tensorflow/core/platform/cpu_feature_guard.cc:143] Your CPU supports instructions that this TensorFlow binary was not compiled to use: AVX2 FMA\n",
      "2020-06-15 16:25:38.125909: I tensorflow/compiler/xla/service/service.cc:168] XLA service 0x7f960efbaa60 initialized for platform Host (this does not guarantee that XLA will be used). Devices:\n",
      "2020-06-15 16:25:38.125927: I tensorflow/compiler/xla/service/service.cc:176]   StreamExecutor device (0): Host, Default Version\n",
      "/Users/lalith/opt/anaconda3/lib/python3.7/site-packages/keras/activations.py:235: UserWarning: Do not pass a layer instance (such as LeakyReLU) as the activation argument of another layer. Instead, advanced activation layers should be used just like any other layer in a model.\n",
      "  identifier=identifier.__class__.__name__))\n",
      "100%|█████████████████████████████████████████████| 3/3 [00:06<00:00,  2.29s/it]\n",
      "2020-06-15 16:25:47.358511: Evaluation complete\n",
      "2020-06-15 16:25:47.415220: Save evaluate label at /Users/lalith/Downloads/Sent2Lalith/nifti/m000-101AB_FDGdyn_AC_ID_cleared/panda/PANDA_8_8_8_8_8_8_8_8_8_m000-f0001-m000-101AB_FDGdyn_AC_ID_cleared.nii success\n"
     ]
    },
    {
     "name": "stderr",
     "output_type": "stream",
     "text": [
      "\n",
      "  5%|▍         | 1/21 [00:14<04:41, 14.09s/it]\u001b[A"
     ]
    },
    {
     "name": "stdout",
     "output_type": "stream",
     "text": [
      "Using TensorFlow backend.\n",
      "2020-06-15 16:25:52.122261: I tensorflow/core/platform/cpu_feature_guard.cc:143] Your CPU supports instructions that this TensorFlow binary was not compiled to use: AVX2 FMA\n",
      "2020-06-15 16:25:52.133246: I tensorflow/compiler/xla/service/service.cc:168] XLA service 0x7fad233f0860 initialized for platform Host (this does not guarantee that XLA will be used). Devices:\n",
      "2020-06-15 16:25:52.133279: I tensorflow/compiler/xla/service/service.cc:176]   StreamExecutor device (0): Host, Default Version\n",
      "/Users/lalith/opt/anaconda3/lib/python3.7/site-packages/keras/activations.py:235: UserWarning: Do not pass a layer instance (such as LeakyReLU) as the activation argument of another layer. Instead, advanced activation layers should be used just like any other layer in a model.\n",
      "  identifier=identifier.__class__.__name__))\n",
      "100%|█████████████████████████████████████████████| 3/3 [00:05<00:00,  1.87s/it]\n",
      "2020-06-15 16:25:59.171774: Evaluation complete\n",
      "2020-06-15 16:25:59.216312: Save evaluate label at /Users/lalith/Downloads/Sent2Lalith/nifti/m000-101AB_FDGdyn_AC_ID_cleared/panda/PANDA_18_18_18_18_18_18_18_18_18_m000-f0002-m000-101AB_FDGdyn_AC_ID_cleared.nii success\n"
     ]
    },
    {
     "name": "stderr",
     "output_type": "stream",
     "text": [
      "\n",
      " 10%|▉         | 2/21 [00:25<04:14, 13.39s/it]\u001b[A"
     ]
    },
    {
     "name": "stdout",
     "output_type": "stream",
     "text": [
      "Using TensorFlow backend.\n",
      "2020-06-15 16:26:03.931857: I tensorflow/core/platform/cpu_feature_guard.cc:143] Your CPU supports instructions that this TensorFlow binary was not compiled to use: AVX2 FMA\n",
      "2020-06-15 16:26:03.942735: I tensorflow/compiler/xla/service/service.cc:168] XLA service 0x7f98bdbcffd0 initialized for platform Host (this does not guarantee that XLA will be used). Devices:\n",
      "2020-06-15 16:26:03.942768: I tensorflow/compiler/xla/service/service.cc:176]   StreamExecutor device (0): Host, Default Version\n",
      "/Users/lalith/opt/anaconda3/lib/python3.7/site-packages/keras/activations.py:235: UserWarning: Do not pass a layer instance (such as LeakyReLU) as the activation argument of another layer. Instead, advanced activation layers should be used just like any other layer in a model.\n",
      "  identifier=identifier.__class__.__name__))\n",
      "100%|█████████████████████████████████████████████| 3/3 [00:08<00:00,  2.92s/it]\n",
      "2020-06-15 16:26:14.097528: Evaluation complete\n",
      "2020-06-15 16:26:14.143263: Save evaluate label at /Users/lalith/Downloads/Sent2Lalith/nifti/m000-101AB_FDGdyn_AC_ID_cleared/panda/PANDA_23_23_23_23_23_23_23_23_23_m000-f0003-m000-101AB_FDGdyn_AC_ID_cleared.nii success\n"
     ]
    },
    {
     "name": "stderr",
     "output_type": "stream",
     "text": [
      "\n",
      " 14%|█▍        | 3/21 [00:41<04:10, 13.94s/it]\u001b[A"
     ]
    },
    {
     "name": "stdout",
     "output_type": "stream",
     "text": [
      "Using TensorFlow backend.\n",
      "2020-06-15 16:26:18.948714: I tensorflow/core/platform/cpu_feature_guard.cc:143] Your CPU supports instructions that this TensorFlow binary was not compiled to use: AVX2 FMA\n",
      "2020-06-15 16:26:18.960434: I tensorflow/compiler/xla/service/service.cc:168] XLA service 0x7fb2b6879260 initialized for platform Host (this does not guarantee that XLA will be used). Devices:\n",
      "2020-06-15 16:26:18.960472: I tensorflow/compiler/xla/service/service.cc:176]   StreamExecutor device (0): Host, Default Version\n",
      "/Users/lalith/opt/anaconda3/lib/python3.7/site-packages/keras/activations.py:235: UserWarning: Do not pass a layer instance (such as LeakyReLU) as the activation argument of another layer. Instead, advanced activation layers should be used just like any other layer in a model.\n",
      "  identifier=identifier.__class__.__name__))\n",
      "100%|█████████████████████████████████████████████| 3/3 [00:07<00:00,  2.61s/it]\n",
      "2020-06-15 16:26:28.271177: Evaluation complete\n",
      "2020-06-15 16:26:28.317853: Save evaluate label at /Users/lalith/Downloads/Sent2Lalith/nifti/m000-101AB_FDGdyn_AC_ID_cleared/panda/PANDA_28_28_28_28_28_28_28_28_28_m000-f0004-m000-101AB_FDGdyn_AC_ID_cleared.nii success\n"
     ]
    },
    {
     "name": "stderr",
     "output_type": "stream",
     "text": [
      "\n",
      " 19%|█▉        | 4/21 [00:55<03:58, 14.00s/it]\u001b[A"
     ]
    },
    {
     "name": "stdout",
     "output_type": "stream",
     "text": [
      "Using TensorFlow backend.\n",
      "2020-06-15 16:26:33.155109: I tensorflow/core/platform/cpu_feature_guard.cc:143] Your CPU supports instructions that this TensorFlow binary was not compiled to use: AVX2 FMA\n",
      "2020-06-15 16:26:33.166781: I tensorflow/compiler/xla/service/service.cc:168] XLA service 0x7fc55ec4d780 initialized for platform Host (this does not guarantee that XLA will be used). Devices:\n",
      "2020-06-15 16:26:33.166798: I tensorflow/compiler/xla/service/service.cc:176]   StreamExecutor device (0): Host, Default Version\n",
      "/Users/lalith/opt/anaconda3/lib/python3.7/site-packages/keras/activations.py:235: UserWarning: Do not pass a layer instance (such as LeakyReLU) as the activation argument of another layer. Instead, advanced activation layers should be used just like any other layer in a model.\n",
      "  identifier=identifier.__class__.__name__))\n",
      "100%|█████████████████████████████████████████████| 3/3 [00:08<00:00,  2.83s/it]\n",
      "2020-06-15 16:26:43.418262: Evaluation complete\n",
      "2020-06-15 16:26:43.463273: Save evaluate label at /Users/lalith/Downloads/Sent2Lalith/nifti/m000-101AB_FDGdyn_AC_ID_cleared/panda/PANDA_35_35_35_35_35_35_35_35_35_m000-f0005-m000-101AB_FDGdyn_AC_ID_cleared.nii success\n"
     ]
    },
    {
     "name": "stderr",
     "output_type": "stream",
     "text": [
      "\n",
      " 24%|██▍       | 5/21 [01:10<03:49, 14.34s/it]\u001b[A"
     ]
    },
    {
     "name": "stdout",
     "output_type": "stream",
     "text": [
      "Using TensorFlow backend.\n",
      "2020-06-15 16:26:48.616661: I tensorflow/core/platform/cpu_feature_guard.cc:143] Your CPU supports instructions that this TensorFlow binary was not compiled to use: AVX2 FMA\n",
      "2020-06-15 16:26:48.628645: I tensorflow/compiler/xla/service/service.cc:168] XLA service 0x7fcf8507f980 initialized for platform Host (this does not guarantee that XLA will be used). Devices:\n",
      "2020-06-15 16:26:48.628662: I tensorflow/compiler/xla/service/service.cc:176]   StreamExecutor device (0): Host, Default Version\n",
      "/Users/lalith/opt/anaconda3/lib/python3.7/site-packages/keras/activations.py:235: UserWarning: Do not pass a layer instance (such as LeakyReLU) as the activation argument of another layer. Instead, advanced activation layers should be used just like any other layer in a model.\n",
      "  identifier=identifier.__class__.__name__))\n",
      "100%|█████████████████████████████████████████████| 3/3 [00:08<00:00,  2.92s/it]\n",
      "2020-06-15 16:26:58.943118: Evaluation complete\n",
      "2020-06-15 16:26:58.990091: Save evaluate label at /Users/lalith/Downloads/Sent2Lalith/nifti/m000-101AB_FDGdyn_AC_ID_cleared/panda/PANDA_45_45_45_45_45_45_45_45_45_m000-f0006-m000-101AB_FDGdyn_AC_ID_cleared.nii success\n"
     ]
    },
    {
     "name": "stderr",
     "output_type": "stream",
     "text": [
      "\n",
      " 29%|██▊       | 6/21 [01:25<03:40, 14.70s/it]\u001b[A"
     ]
    },
    {
     "name": "stdout",
     "output_type": "stream",
     "text": [
      "Using TensorFlow backend.\n",
      "2020-06-15 16:27:03.833872: I tensorflow/core/platform/cpu_feature_guard.cc:143] Your CPU supports instructions that this TensorFlow binary was not compiled to use: AVX2 FMA\n",
      "2020-06-15 16:27:03.845403: I tensorflow/compiler/xla/service/service.cc:168] XLA service 0x7fa28b964110 initialized for platform Host (this does not guarantee that XLA will be used). Devices:\n",
      "2020-06-15 16:27:03.845451: I tensorflow/compiler/xla/service/service.cc:176]   StreamExecutor device (0): Host, Default Version\n",
      "/Users/lalith/opt/anaconda3/lib/python3.7/site-packages/keras/activations.py:235: UserWarning: Do not pass a layer instance (such as LeakyReLU) as the activation argument of another layer. Instead, advanced activation layers should be used just like any other layer in a model.\n",
      "  identifier=identifier.__class__.__name__))\n",
      "100%|█████████████████████████████████████████████| 3/3 [00:05<00:00,  1.74s/it]\n",
      "2020-06-15 16:27:10.512409: Evaluation complete\n",
      "2020-06-15 16:27:10.554265: Save evaluate label at /Users/lalith/Downloads/Sent2Lalith/nifti/m000-101AB_FDGdyn_AC_ID_cleared/panda/PANDA_55_55_55_55_55_55_55_55_55_m000-f0007-m000-101AB_FDGdyn_AC_ID_cleared.nii success\n"
     ]
    },
    {
     "name": "stderr",
     "output_type": "stream",
     "text": [
      "\n",
      " 33%|███▎      | 7/21 [01:37<03:11, 13.68s/it]\u001b[A"
     ]
    },
    {
     "name": "stdout",
     "output_type": "stream",
     "text": [
      "Using TensorFlow backend.\n",
      "2020-06-15 16:27:14.598448: I tensorflow/core/platform/cpu_feature_guard.cc:143] Your CPU supports instructions that this TensorFlow binary was not compiled to use: AVX2 FMA\n",
      "2020-06-15 16:27:14.610236: I tensorflow/compiler/xla/service/service.cc:168] XLA service 0x7f86eb1c43e0 initialized for platform Host (this does not guarantee that XLA will be used). Devices:\n",
      "2020-06-15 16:27:14.610252: I tensorflow/compiler/xla/service/service.cc:176]   StreamExecutor device (0): Host, Default Version\n",
      "/Users/lalith/opt/anaconda3/lib/python3.7/site-packages/keras/activations.py:235: UserWarning: Do not pass a layer instance (such as LeakyReLU) as the activation argument of another layer. Instead, advanced activation layers should be used just like any other layer in a model.\n",
      "  identifier=identifier.__class__.__name__))\n",
      "100%|█████████████████████████████████████████████| 3/3 [00:05<00:00,  1.93s/it]\n",
      "2020-06-15 16:27:21.852334: Evaluation complete\n",
      "2020-06-15 16:27:21.895622: Save evaluate label at /Users/lalith/Downloads/Sent2Lalith/nifti/m000-101AB_FDGdyn_AC_ID_cleared/panda/PANDA_90_90_90_90_90_90_90_90_90_m000-f0008-m000-101AB_FDGdyn_AC_ID_cleared.nii success\n"
     ]
    },
    {
     "name": "stderr",
     "output_type": "stream",
     "text": [
      "\n",
      " 38%|███▊      | 8/21 [01:48<02:48, 12.98s/it]\u001b[A"
     ]
    },
    {
     "name": "stdout",
     "output_type": "stream",
     "text": [
      "Using TensorFlow backend.\n",
      "2020-06-15 16:27:25.904097: I tensorflow/core/platform/cpu_feature_guard.cc:143] Your CPU supports instructions that this TensorFlow binary was not compiled to use: AVX2 FMA\n",
      "2020-06-15 16:27:25.916010: I tensorflow/compiler/xla/service/service.cc:168] XLA service 0x7ff4b2de46d0 initialized for platform Host (this does not guarantee that XLA will be used). Devices:\n",
      "2020-06-15 16:27:25.916026: I tensorflow/compiler/xla/service/service.cc:176]   StreamExecutor device (0): Host, Default Version\n",
      "/Users/lalith/opt/anaconda3/lib/python3.7/site-packages/keras/activations.py:235: UserWarning: Do not pass a layer instance (such as LeakyReLU) as the activation argument of another layer. Instead, advanced activation layers should be used just like any other layer in a model.\n",
      "  identifier=identifier.__class__.__name__))\n",
      "100%|█████████████████████████████████████████████| 3/3 [00:06<00:00,  2.31s/it]\n",
      "2020-06-15 16:27:34.270141: Evaluation complete\n",
      "2020-06-15 16:27:34.312007: Save evaluate label at /Users/lalith/Downloads/Sent2Lalith/nifti/m000-101AB_FDGdyn_AC_ID_cleared/panda/PANDA_150_150_150_150_150_150_150_150_150_m000-f0009-m000-101AB_FDGdyn_AC_ID_cleared.nii success\n"
     ]
    },
    {
     "name": "stderr",
     "output_type": "stream",
     "text": [
      "\n",
      " 43%|████▎     | 9/21 [02:00<02:33, 12.81s/it]\u001b[A"
     ]
    },
    {
     "name": "stdout",
     "output_type": "stream",
     "text": [
      "Using TensorFlow backend.\n",
      "2020-06-15 16:27:38.143580: I tensorflow/core/platform/cpu_feature_guard.cc:143] Your CPU supports instructions that this TensorFlow binary was not compiled to use: AVX2 FMA\n",
      "2020-06-15 16:27:38.153818: I tensorflow/compiler/xla/service/service.cc:168] XLA service 0x7fe36c69cc20 initialized for platform Host (this does not guarantee that XLA will be used). Devices:\n",
      "2020-06-15 16:27:38.153835: I tensorflow/compiler/xla/service/service.cc:176]   StreamExecutor device (0): Host, Default Version\n",
      "/Users/lalith/opt/anaconda3/lib/python3.7/site-packages/keras/activations.py:235: UserWarning: Do not pass a layer instance (such as LeakyReLU) as the activation argument of another layer. Instead, advanced activation layers should be used just like any other layer in a model.\n",
      "  identifier=identifier.__class__.__name__))\n",
      "Traceback (most recent call last):\n",
      "  File \"predict_single_image.py\", line 231, in <module>\n",
      "    model.load_weights(args.gen_weights)\n",
      "  File \"/Users/lalith/opt/anaconda3/lib/python3.7/site-packages/keras/engine/saving.py\", line 492, in load_wrapper\n",
      "    return load_function(*args, **kwargs)\n",
      "  File \"/Users/lalith/opt/anaconda3/lib/python3.7/site-packages/keras/engine/network.py\", line 1221, in load_weights\n",
      "    with h5py.File(filepath, mode='r') as f:\n",
      "  File \"/Users/lalith/opt/anaconda3/lib/python3.7/site-packages/h5py/_hl/files.py\", line 408, in __init__\n",
      "    swmr=swmr)\n",
      "  File \"/Users/lalith/opt/anaconda3/lib/python3.7/site-packages/h5py/_hl/files.py\", line 173, in make_fid\n",
      "    fid = h5f.open(name, flags, fapl=fapl)\n",
      "  File \"h5py/_objects.pyx\", line 54, in h5py._objects.with_phil.wrapper\n",
      "  File \"h5py/_objects.pyx\", line 55, in h5py._objects.with_phil.wrapper\n",
      "  File \"h5py/h5f.pyx\", line 88, in h5py.h5f.open\n",
      "OSError: Unable to open file (unable to open file: name = '/Users/lalith/Downloads/Sent2Lalith/models/gen_weights_frame_26.h5', errno = 2, error message = 'No such file or directory', flags = 0, o_flags = 0)\n"
     ]
    },
    {
     "name": "stderr",
     "output_type": "stream",
     "text": [
      "\n",
      " 48%|████▊     | 10/21 [02:05<01:55, 10.46s/it]\u001b[A"
     ]
    },
    {
     "name": "stdout",
     "output_type": "stream",
     "text": [
      "Using TensorFlow backend.\n",
      "2020-06-15 16:27:42.692723: I tensorflow/core/platform/cpu_feature_guard.cc:143] Your CPU supports instructions that this TensorFlow binary was not compiled to use: AVX2 FMA\n",
      "2020-06-15 16:27:42.703787: I tensorflow/compiler/xla/service/service.cc:168] XLA service 0x7f8fd3a42e60 initialized for platform Host (this does not guarantee that XLA will be used). Devices:\n",
      "2020-06-15 16:27:42.703833: I tensorflow/compiler/xla/service/service.cc:176]   StreamExecutor device (0): Host, Default Version\n",
      "/Users/lalith/opt/anaconda3/lib/python3.7/site-packages/keras/activations.py:235: UserWarning: Do not pass a layer instance (such as LeakyReLU) as the activation argument of another layer. Instead, advanced activation layers should be used just like any other layer in a model.\n",
      "  identifier=identifier.__class__.__name__))\n",
      "Traceback (most recent call last):\n",
      "  File \"predict_single_image.py\", line 231, in <module>\n",
      "    model.load_weights(args.gen_weights)\n",
      "  File \"/Users/lalith/opt/anaconda3/lib/python3.7/site-packages/keras/engine/saving.py\", line 492, in load_wrapper\n",
      "    return load_function(*args, **kwargs)\n",
      "  File \"/Users/lalith/opt/anaconda3/lib/python3.7/site-packages/keras/engine/network.py\", line 1221, in load_weights\n",
      "    with h5py.File(filepath, mode='r') as f:\n",
      "  File \"/Users/lalith/opt/anaconda3/lib/python3.7/site-packages/h5py/_hl/files.py\", line 408, in __init__\n",
      "    swmr=swmr)\n",
      "  File \"/Users/lalith/opt/anaconda3/lib/python3.7/site-packages/h5py/_hl/files.py\", line 173, in make_fid\n",
      "    fid = h5f.open(name, flags, fapl=fapl)\n",
      "  File \"h5py/_objects.pyx\", line 54, in h5py._objects.with_phil.wrapper\n",
      "  File \"h5py/_objects.pyx\", line 55, in h5py._objects.with_phil.wrapper\n",
      "  File \"h5py/h5f.pyx\", line 88, in h5py.h5f.open\n",
      "OSError: Unable to open file (unable to open file: name = '/Users/lalith/Downloads/Sent2Lalith/models/gen_weights_frame_26.h5', errno = 2, error message = 'No such file or directory', flags = 0, o_flags = 0)\n"
     ]
    },
    {
     "name": "stderr",
     "output_type": "stream",
     "text": [
      "\n",
      " 52%|█████▏    | 11/21 [02:10<01:26,  8.68s/it]\u001b[A"
     ]
    },
    {
     "name": "stdout",
     "output_type": "stream",
     "text": [
      "Using TensorFlow backend.\n",
      "2020-06-15 16:27:47.235589: I tensorflow/core/platform/cpu_feature_guard.cc:143] Your CPU supports instructions that this TensorFlow binary was not compiled to use: AVX2 FMA\n",
      "2020-06-15 16:27:47.245620: I tensorflow/compiler/xla/service/service.cc:168] XLA service 0x7f812139eed0 initialized for platform Host (this does not guarantee that XLA will be used). Devices:\n",
      "2020-06-15 16:27:47.245637: I tensorflow/compiler/xla/service/service.cc:176]   StreamExecutor device (0): Host, Default Version\n",
      "/Users/lalith/opt/anaconda3/lib/python3.7/site-packages/keras/activations.py:235: UserWarning: Do not pass a layer instance (such as LeakyReLU) as the activation argument of another layer. Instead, advanced activation layers should be used just like any other layer in a model.\n",
      "  identifier=identifier.__class__.__name__))\n",
      "Traceback (most recent call last):\n",
      "  File \"predict_single_image.py\", line 231, in <module>\n",
      "    model.load_weights(args.gen_weights)\n",
      "  File \"/Users/lalith/opt/anaconda3/lib/python3.7/site-packages/keras/engine/saving.py\", line 492, in load_wrapper\n",
      "    return load_function(*args, **kwargs)\n",
      "  File \"/Users/lalith/opt/anaconda3/lib/python3.7/site-packages/keras/engine/network.py\", line 1221, in load_weights\n",
      "    with h5py.File(filepath, mode='r') as f:\n",
      "  File \"/Users/lalith/opt/anaconda3/lib/python3.7/site-packages/h5py/_hl/files.py\", line 408, in __init__\n",
      "    swmr=swmr)\n",
      "  File \"/Users/lalith/opt/anaconda3/lib/python3.7/site-packages/h5py/_hl/files.py\", line 173, in make_fid\n",
      "    fid = h5f.open(name, flags, fapl=fapl)\n",
      "  File \"h5py/_objects.pyx\", line 54, in h5py._objects.with_phil.wrapper\n",
      "  File \"h5py/_objects.pyx\", line 55, in h5py._objects.with_phil.wrapper\n",
      "  File \"h5py/h5f.pyx\", line 88, in h5py.h5f.open\n",
      "OSError: Unable to open file (unable to open file: name = '/Users/lalith/Downloads/Sent2Lalith/models/gen_weights_frame_27.h5', errno = 2, error message = 'No such file or directory', flags = 0, o_flags = 0)\n"
     ]
    },
    {
     "name": "stderr",
     "output_type": "stream",
     "text": [
      "\n",
      " 57%|█████▋    | 12/21 [02:15<01:06,  7.44s/it]\u001b[A"
     ]
    },
    {
     "name": "stdout",
     "output_type": "stream",
     "text": [
      "Using TensorFlow backend.\n",
      "2020-06-15 16:27:51.583556: I tensorflow/core/platform/cpu_feature_guard.cc:143] Your CPU supports instructions that this TensorFlow binary was not compiled to use: AVX2 FMA\n",
      "2020-06-15 16:27:51.594556: I tensorflow/compiler/xla/service/service.cc:168] XLA service 0x7fed734e4110 initialized for platform Host (this does not guarantee that XLA will be used). Devices:\n",
      "2020-06-15 16:27:51.594574: I tensorflow/compiler/xla/service/service.cc:176]   StreamExecutor device (0): Host, Default Version\n",
      "/Users/lalith/opt/anaconda3/lib/python3.7/site-packages/keras/activations.py:235: UserWarning: Do not pass a layer instance (such as LeakyReLU) as the activation argument of another layer. Instead, advanced activation layers should be used just like any other layer in a model.\n",
      "  identifier=identifier.__class__.__name__))\n",
      "Traceback (most recent call last):\n",
      "  File \"predict_single_image.py\", line 231, in <module>\n",
      "    model.load_weights(args.gen_weights)\n",
      "  File \"/Users/lalith/opt/anaconda3/lib/python3.7/site-packages/keras/engine/saving.py\", line 492, in load_wrapper\n",
      "    return load_function(*args, **kwargs)\n",
      "  File \"/Users/lalith/opt/anaconda3/lib/python3.7/site-packages/keras/engine/network.py\", line 1221, in load_weights\n",
      "    with h5py.File(filepath, mode='r') as f:\n",
      "  File \"/Users/lalith/opt/anaconda3/lib/python3.7/site-packages/h5py/_hl/files.py\", line 408, in __init__\n",
      "    swmr=swmr)\n",
      "  File \"/Users/lalith/opt/anaconda3/lib/python3.7/site-packages/h5py/_hl/files.py\", line 173, in make_fid\n",
      "    fid = h5f.open(name, flags, fapl=fapl)\n",
      "  File \"h5py/_objects.pyx\", line 54, in h5py._objects.with_phil.wrapper\n",
      "  File \"h5py/_objects.pyx\", line 55, in h5py._objects.with_phil.wrapper\n",
      "  File \"h5py/h5f.pyx\", line 88, in h5py.h5f.open\n",
      "OSError: Unable to open file (unable to open file: name = '/Users/lalith/Downloads/Sent2Lalith/models/gen_weights_frame_27.h5', errno = 2, error message = 'No such file or directory', flags = 0, o_flags = 0)\n"
     ]
    },
    {
     "name": "stderr",
     "output_type": "stream",
     "text": [
      "\n",
      " 62%|██████▏   | 13/21 [02:19<00:52,  6.51s/it]\u001b[A"
     ]
    },
    {
     "name": "stdout",
     "output_type": "stream",
     "text": [
      "Using TensorFlow backend.\n",
      "2020-06-15 16:27:55.993847: I tensorflow/core/platform/cpu_feature_guard.cc:143] Your CPU supports instructions that this TensorFlow binary was not compiled to use: AVX2 FMA\n",
      "2020-06-15 16:27:56.005444: I tensorflow/compiler/xla/service/service.cc:168] XLA service 0x7fa7f499c730 initialized for platform Host (this does not guarantee that XLA will be used). Devices:\n",
      "2020-06-15 16:27:56.005462: I tensorflow/compiler/xla/service/service.cc:176]   StreamExecutor device (0): Host, Default Version\n",
      "/Users/lalith/opt/anaconda3/lib/python3.7/site-packages/keras/activations.py:235: UserWarning: Do not pass a layer instance (such as LeakyReLU) as the activation argument of another layer. Instead, advanced activation layers should be used just like any other layer in a model.\n",
      "  identifier=identifier.__class__.__name__))\n",
      "Traceback (most recent call last):\n",
      "  File \"predict_single_image.py\", line 231, in <module>\n",
      "    model.load_weights(args.gen_weights)\n",
      "  File \"/Users/lalith/opt/anaconda3/lib/python3.7/site-packages/keras/engine/saving.py\", line 492, in load_wrapper\n",
      "    return load_function(*args, **kwargs)\n",
      "  File \"/Users/lalith/opt/anaconda3/lib/python3.7/site-packages/keras/engine/network.py\", line 1221, in load_weights\n",
      "    with h5py.File(filepath, mode='r') as f:\n",
      "  File \"/Users/lalith/opt/anaconda3/lib/python3.7/site-packages/h5py/_hl/files.py\", line 408, in __init__\n",
      "    swmr=swmr)\n",
      "  File \"/Users/lalith/opt/anaconda3/lib/python3.7/site-packages/h5py/_hl/files.py\", line 173, in make_fid\n",
      "    fid = h5f.open(name, flags, fapl=fapl)\n",
      "  File \"h5py/_objects.pyx\", line 54, in h5py._objects.with_phil.wrapper\n",
      "  File \"h5py/_objects.pyx\", line 55, in h5py._objects.with_phil.wrapper\n",
      "  File \"h5py/h5f.pyx\", line 88, in h5py.h5f.open\n",
      "OSError: Unable to open file (unable to open file: name = '/Users/lalith/Downloads/Sent2Lalith/models/gen_weights_frame_28.h5', errno = 2, error message = 'No such file or directory', flags = 0, o_flags = 0)\n"
     ]
    },
    {
     "name": "stderr",
     "output_type": "stream",
     "text": [
      "\n",
      " 67%|██████▋   | 14/21 [02:23<00:41,  5.88s/it]\u001b[A"
     ]
    },
    {
     "name": "stdout",
     "output_type": "stream",
     "text": [
      "Using TensorFlow backend.\n",
      "2020-06-15 16:28:00.375633: I tensorflow/core/platform/cpu_feature_guard.cc:143] Your CPU supports instructions that this TensorFlow binary was not compiled to use: AVX2 FMA\n",
      "2020-06-15 16:28:00.386356: I tensorflow/compiler/xla/service/service.cc:168] XLA service 0x7fbe825c5f10 initialized for platform Host (this does not guarantee that XLA will be used). Devices:\n",
      "2020-06-15 16:28:00.386374: I tensorflow/compiler/xla/service/service.cc:176]   StreamExecutor device (0): Host, Default Version\n",
      "/Users/lalith/opt/anaconda3/lib/python3.7/site-packages/keras/activations.py:235: UserWarning: Do not pass a layer instance (such as LeakyReLU) as the activation argument of another layer. Instead, advanced activation layers should be used just like any other layer in a model.\n",
      "  identifier=identifier.__class__.__name__))\n",
      "Traceback (most recent call last):\n",
      "  File \"predict_single_image.py\", line 231, in <module>\n",
      "    model.load_weights(args.gen_weights)\n",
      "  File \"/Users/lalith/opt/anaconda3/lib/python3.7/site-packages/keras/engine/saving.py\", line 492, in load_wrapper\n",
      "    return load_function(*args, **kwargs)\n",
      "  File \"/Users/lalith/opt/anaconda3/lib/python3.7/site-packages/keras/engine/network.py\", line 1221, in load_weights\n",
      "    with h5py.File(filepath, mode='r') as f:\n",
      "  File \"/Users/lalith/opt/anaconda3/lib/python3.7/site-packages/h5py/_hl/files.py\", line 408, in __init__\n",
      "    swmr=swmr)\n",
      "  File \"/Users/lalith/opt/anaconda3/lib/python3.7/site-packages/h5py/_hl/files.py\", line 173, in make_fid\n",
      "    fid = h5f.open(name, flags, fapl=fapl)\n",
      "  File \"h5py/_objects.pyx\", line 54, in h5py._objects.with_phil.wrapper\n",
      "  File \"h5py/_objects.pyx\", line 55, in h5py._objects.with_phil.wrapper\n",
      "  File \"h5py/h5f.pyx\", line 88, in h5py.h5f.open\n",
      "OSError: Unable to open file (unable to open file: name = '/Users/lalith/Downloads/Sent2Lalith/models/gen_weights_frame_29.h5', errno = 2, error message = 'No such file or directory', flags = 0, o_flags = 0)\n"
     ]
    },
    {
     "name": "stderr",
     "output_type": "stream",
     "text": [
      "\n",
      " 71%|███████▏  | 15/21 [02:28<00:32,  5.43s/it]\u001b[A"
     ]
    },
    {
     "name": "stdout",
     "output_type": "stream",
     "text": [
      "Using TensorFlow backend.\n",
      "2020-06-15 16:28:04.723954: I tensorflow/core/platform/cpu_feature_guard.cc:143] Your CPU supports instructions that this TensorFlow binary was not compiled to use: AVX2 FMA\n",
      "2020-06-15 16:28:04.734440: I tensorflow/compiler/xla/service/service.cc:168] XLA service 0x7f8d3b8e6b40 initialized for platform Host (this does not guarantee that XLA will be used). Devices:\n",
      "2020-06-15 16:28:04.734489: I tensorflow/compiler/xla/service/service.cc:176]   StreamExecutor device (0): Host, Default Version\n",
      "/Users/lalith/opt/anaconda3/lib/python3.7/site-packages/keras/activations.py:235: UserWarning: Do not pass a layer instance (such as LeakyReLU) as the activation argument of another layer. Instead, advanced activation layers should be used just like any other layer in a model.\n",
      "  identifier=identifier.__class__.__name__))\n",
      "Traceback (most recent call last):\n",
      "  File \"predict_single_image.py\", line 231, in <module>\n",
      "    model.load_weights(args.gen_weights)\n",
      "  File \"/Users/lalith/opt/anaconda3/lib/python3.7/site-packages/keras/engine/saving.py\", line 492, in load_wrapper\n",
      "    return load_function(*args, **kwargs)\n",
      "  File \"/Users/lalith/opt/anaconda3/lib/python3.7/site-packages/keras/engine/network.py\", line 1221, in load_weights\n",
      "    with h5py.File(filepath, mode='r') as f:\n",
      "  File \"/Users/lalith/opt/anaconda3/lib/python3.7/site-packages/h5py/_hl/files.py\", line 408, in __init__\n",
      "    swmr=swmr)\n",
      "  File \"/Users/lalith/opt/anaconda3/lib/python3.7/site-packages/h5py/_hl/files.py\", line 173, in make_fid\n",
      "    fid = h5f.open(name, flags, fapl=fapl)\n",
      "  File \"h5py/_objects.pyx\", line 54, in h5py._objects.with_phil.wrapper\n",
      "  File \"h5py/_objects.pyx\", line 55, in h5py._objects.with_phil.wrapper\n",
      "  File \"h5py/h5f.pyx\", line 88, in h5py.h5f.open\n",
      "OSError: Unable to open file (unable to open file: name = '/Users/lalith/Downloads/Sent2Lalith/models/gen_weights_frame_30.h5', errno = 2, error message = 'No such file or directory', flags = 0, o_flags = 0)\n"
     ]
    },
    {
     "name": "stderr",
     "output_type": "stream",
     "text": [
      "\n",
      " 76%|███████▌  | 16/21 [02:32<00:25,  5.11s/it]\u001b[A"
     ]
    },
    {
     "name": "stdout",
     "output_type": "stream",
     "text": [
      "Using TensorFlow backend.\n",
      "2020-06-15 16:28:09.169413: I tensorflow/core/platform/cpu_feature_guard.cc:143] Your CPU supports instructions that this TensorFlow binary was not compiled to use: AVX2 FMA\n",
      "2020-06-15 16:28:09.180083: I tensorflow/compiler/xla/service/service.cc:168] XLA service 0x7f87183162a0 initialized for platform Host (this does not guarantee that XLA will be used). Devices:\n",
      "2020-06-15 16:28:09.180099: I tensorflow/compiler/xla/service/service.cc:176]   StreamExecutor device (0): Host, Default Version\n",
      "/Users/lalith/opt/anaconda3/lib/python3.7/site-packages/keras/activations.py:235: UserWarning: Do not pass a layer instance (such as LeakyReLU) as the activation argument of another layer. Instead, advanced activation layers should be used just like any other layer in a model.\n",
      "  identifier=identifier.__class__.__name__))\n",
      "Traceback (most recent call last):\n",
      "  File \"predict_single_image.py\", line 231, in <module>\n",
      "    model.load_weights(args.gen_weights)\n",
      "  File \"/Users/lalith/opt/anaconda3/lib/python3.7/site-packages/keras/engine/saving.py\", line 492, in load_wrapper\n",
      "    return load_function(*args, **kwargs)\n",
      "  File \"/Users/lalith/opt/anaconda3/lib/python3.7/site-packages/keras/engine/network.py\", line 1221, in load_weights\n",
      "    with h5py.File(filepath, mode='r') as f:\n",
      "  File \"/Users/lalith/opt/anaconda3/lib/python3.7/site-packages/h5py/_hl/files.py\", line 408, in __init__\n",
      "    swmr=swmr)\n",
      "  File \"/Users/lalith/opt/anaconda3/lib/python3.7/site-packages/h5py/_hl/files.py\", line 173, in make_fid\n",
      "    fid = h5f.open(name, flags, fapl=fapl)\n",
      "  File \"h5py/_objects.pyx\", line 54, in h5py._objects.with_phil.wrapper\n",
      "  File \"h5py/_objects.pyx\", line 55, in h5py._objects.with_phil.wrapper\n",
      "  File \"h5py/h5f.pyx\", line 88, in h5py.h5f.open\n",
      "OSError: Unable to open file (unable to open file: name = '/Users/lalith/Downloads/Sent2Lalith/models/gen_weights_frame_32.h5', errno = 2, error message = 'No such file or directory', flags = 0, o_flags = 0)\n"
     ]
    },
    {
     "name": "stderr",
     "output_type": "stream",
     "text": [
      "\n",
      " 81%|████████  | 17/21 [02:36<00:19,  4.91s/it]\u001b[A"
     ]
    },
    {
     "name": "stdout",
     "output_type": "stream",
     "text": [
      "Using TensorFlow backend.\n",
      "2020-06-15 16:28:13.697490: I tensorflow/core/platform/cpu_feature_guard.cc:143] Your CPU supports instructions that this TensorFlow binary was not compiled to use: AVX2 FMA\n",
      "2020-06-15 16:28:13.708898: I tensorflow/compiler/xla/service/service.cc:168] XLA service 0x7fd1a8485700 initialized for platform Host (this does not guarantee that XLA will be used). Devices:\n",
      "2020-06-15 16:28:13.708914: I tensorflow/compiler/xla/service/service.cc:176]   StreamExecutor device (0): Host, Default Version\n",
      "/Users/lalith/opt/anaconda3/lib/python3.7/site-packages/keras/activations.py:235: UserWarning: Do not pass a layer instance (such as LeakyReLU) as the activation argument of another layer. Instead, advanced activation layers should be used just like any other layer in a model.\n",
      "  identifier=identifier.__class__.__name__))\n",
      "Traceback (most recent call last):\n",
      "  File \"predict_single_image.py\", line 231, in <module>\n",
      "    model.load_weights(args.gen_weights)\n",
      "  File \"/Users/lalith/opt/anaconda3/lib/python3.7/site-packages/keras/engine/saving.py\", line 492, in load_wrapper\n",
      "    return load_function(*args, **kwargs)\n",
      "  File \"/Users/lalith/opt/anaconda3/lib/python3.7/site-packages/keras/engine/network.py\", line 1221, in load_weights\n",
      "    with h5py.File(filepath, mode='r') as f:\n",
      "  File \"/Users/lalith/opt/anaconda3/lib/python3.7/site-packages/h5py/_hl/files.py\", line 408, in __init__\n",
      "    swmr=swmr)\n",
      "  File \"/Users/lalith/opt/anaconda3/lib/python3.7/site-packages/h5py/_hl/files.py\", line 173, in make_fid\n",
      "    fid = h5f.open(name, flags, fapl=fapl)\n",
      "  File \"h5py/_objects.pyx\", line 54, in h5py._objects.with_phil.wrapper\n",
      "  File \"h5py/_objects.pyx\", line 55, in h5py._objects.with_phil.wrapper\n",
      "  File \"h5py/h5f.pyx\", line 88, in h5py.h5f.open\n",
      "OSError: Unable to open file (unable to open file: name = '/Users/lalith/Downloads/Sent2Lalith/models/gen_weights_frame_32.h5', errno = 2, error message = 'No such file or directory', flags = 0, o_flags = 0)\n"
     ]
    },
    {
     "name": "stderr",
     "output_type": "stream",
     "text": [
      "\n",
      " 86%|████████▌ | 18/21 [02:41<00:14,  4.79s/it]\u001b[A"
     ]
    },
    {
     "name": "stdout",
     "output_type": "stream",
     "text": [
      "Using TensorFlow backend.\n",
      "2020-06-15 16:28:18.098323: I tensorflow/core/platform/cpu_feature_guard.cc:143] Your CPU supports instructions that this TensorFlow binary was not compiled to use: AVX2 FMA\n",
      "2020-06-15 16:28:18.108877: I tensorflow/compiler/xla/service/service.cc:168] XLA service 0x7ff230476400 initialized for platform Host (this does not guarantee that XLA will be used). Devices:\n",
      "2020-06-15 16:28:18.108909: I tensorflow/compiler/xla/service/service.cc:176]   StreamExecutor device (0): Host, Default Version\n",
      "/Users/lalith/opt/anaconda3/lib/python3.7/site-packages/keras/activations.py:235: UserWarning: Do not pass a layer instance (such as LeakyReLU) as the activation argument of another layer. Instead, advanced activation layers should be used just like any other layer in a model.\n",
      "  identifier=identifier.__class__.__name__))\n",
      "Traceback (most recent call last):\n",
      "  File \"predict_single_image.py\", line 231, in <module>\n",
      "    model.load_weights(args.gen_weights)\n",
      "  File \"/Users/lalith/opt/anaconda3/lib/python3.7/site-packages/keras/engine/saving.py\", line 492, in load_wrapper\n",
      "    return load_function(*args, **kwargs)\n",
      "  File \"/Users/lalith/opt/anaconda3/lib/python3.7/site-packages/keras/engine/network.py\", line 1221, in load_weights\n",
      "    with h5py.File(filepath, mode='r') as f:\n",
      "  File \"/Users/lalith/opt/anaconda3/lib/python3.7/site-packages/h5py/_hl/files.py\", line 408, in __init__\n",
      "    swmr=swmr)\n",
      "  File \"/Users/lalith/opt/anaconda3/lib/python3.7/site-packages/h5py/_hl/files.py\", line 173, in make_fid\n",
      "    fid = h5f.open(name, flags, fapl=fapl)\n",
      "  File \"h5py/_objects.pyx\", line 54, in h5py._objects.with_phil.wrapper\n",
      "  File \"h5py/_objects.pyx\", line 55, in h5py._objects.with_phil.wrapper\n",
      "  File \"h5py/h5f.pyx\", line 88, in h5py.h5f.open\n",
      "OSError: Unable to open file (unable to open file: name = '/Users/lalith/Downloads/Sent2Lalith/models/gen_weights_frame_32.h5', errno = 2, error message = 'No such file or directory', flags = 0, o_flags = 0)\n"
     ]
    },
    {
     "name": "stderr",
     "output_type": "stream",
     "text": [
      "\n",
      " 90%|█████████ | 19/21 [02:45<00:09,  4.66s/it]\u001b[A"
     ]
    },
    {
     "name": "stdout",
     "output_type": "stream",
     "text": [
      "Using TensorFlow backend.\n",
      "2020-06-15 16:28:22.450817: I tensorflow/core/platform/cpu_feature_guard.cc:143] Your CPU supports instructions that this TensorFlow binary was not compiled to use: AVX2 FMA\n",
      "2020-06-15 16:28:22.463390: I tensorflow/compiler/xla/service/service.cc:168] XLA service 0x7fe56c86c8b0 initialized for platform Host (this does not guarantee that XLA will be used). Devices:\n",
      "2020-06-15 16:28:22.463408: I tensorflow/compiler/xla/service/service.cc:176]   StreamExecutor device (0): Host, Default Version\n",
      "/Users/lalith/opt/anaconda3/lib/python3.7/site-packages/keras/activations.py:235: UserWarning: Do not pass a layer instance (such as LeakyReLU) as the activation argument of another layer. Instead, advanced activation layers should be used just like any other layer in a model.\n",
      "  identifier=identifier.__class__.__name__))\n",
      "Traceback (most recent call last):\n",
      "  File \"predict_single_image.py\", line 231, in <module>\n",
      "    model.load_weights(args.gen_weights)\n",
      "  File \"/Users/lalith/opt/anaconda3/lib/python3.7/site-packages/keras/engine/saving.py\", line 492, in load_wrapper\n",
      "    return load_function(*args, **kwargs)\n",
      "  File \"/Users/lalith/opt/anaconda3/lib/python3.7/site-packages/keras/engine/network.py\", line 1221, in load_weights\n",
      "    with h5py.File(filepath, mode='r') as f:\n",
      "  File \"/Users/lalith/opt/anaconda3/lib/python3.7/site-packages/h5py/_hl/files.py\", line 408, in __init__\n",
      "    swmr=swmr)\n",
      "  File \"/Users/lalith/opt/anaconda3/lib/python3.7/site-packages/h5py/_hl/files.py\", line 173, in make_fid\n",
      "    fid = h5f.open(name, flags, fapl=fapl)\n",
      "  File \"h5py/_objects.pyx\", line 54, in h5py._objects.with_phil.wrapper\n",
      "  File \"h5py/_objects.pyx\", line 55, in h5py._objects.with_phil.wrapper\n",
      "  File \"h5py/h5f.pyx\", line 88, in h5py.h5f.open\n",
      "OSError: Unable to open file (unable to open file: name = '/Users/lalith/Downloads/Sent2Lalith/models/gen_weights_frame_32.h5', errno = 2, error message = 'No such file or directory', flags = 0, o_flags = 0)\n"
     ]
    },
    {
     "name": "stderr",
     "output_type": "stream",
     "text": [
      "\n",
      " 95%|█████████▌| 20/21 [02:50<00:04,  4.58s/it]\u001b[A"
     ]
    },
    {
     "name": "stdout",
     "output_type": "stream",
     "text": [
      "Using TensorFlow backend.\n",
      "2020-06-15 16:28:26.785318: I tensorflow/core/platform/cpu_feature_guard.cc:143] Your CPU supports instructions that this TensorFlow binary was not compiled to use: AVX2 FMA\n",
      "2020-06-15 16:28:26.796020: I tensorflow/compiler/xla/service/service.cc:168] XLA service 0x7fbf7fd9d980 initialized for platform Host (this does not guarantee that XLA will be used). Devices:\n",
      "2020-06-15 16:28:26.796068: I tensorflow/compiler/xla/service/service.cc:176]   StreamExecutor device (0): Host, Default Version\n",
      "/Users/lalith/opt/anaconda3/lib/python3.7/site-packages/keras/activations.py:235: UserWarning: Do not pass a layer instance (such as LeakyReLU) as the activation argument of another layer. Instead, advanced activation layers should be used just like any other layer in a model.\n",
      "  identifier=identifier.__class__.__name__))\n",
      "Traceback (most recent call last):\n",
      "  File \"predict_single_image.py\", line 231, in <module>\n",
      "    model.load_weights(args.gen_weights)\n",
      "  File \"/Users/lalith/opt/anaconda3/lib/python3.7/site-packages/keras/engine/saving.py\", line 492, in load_wrapper\n",
      "    return load_function(*args, **kwargs)\n",
      "  File \"/Users/lalith/opt/anaconda3/lib/python3.7/site-packages/keras/engine/network.py\", line 1221, in load_weights\n",
      "    with h5py.File(filepath, mode='r') as f:\n",
      "  File \"/Users/lalith/opt/anaconda3/lib/python3.7/site-packages/h5py/_hl/files.py\", line 408, in __init__\n",
      "    swmr=swmr)\n",
      "  File \"/Users/lalith/opt/anaconda3/lib/python3.7/site-packages/h5py/_hl/files.py\", line 173, in make_fid\n",
      "    fid = h5f.open(name, flags, fapl=fapl)\n",
      "  File \"h5py/_objects.pyx\", line 54, in h5py._objects.with_phil.wrapper\n",
      "  File \"h5py/_objects.pyx\", line 55, in h5py._objects.with_phil.wrapper\n",
      "  File \"h5py/h5f.pyx\", line 88, in h5py.h5f.open\n",
      "OSError: Unable to open file (unable to open file: name = '/Users/lalith/Downloads/Sent2Lalith/models/gen_weights_frame_32.h5', errno = 2, error message = 'No such file or directory', flags = 0, o_flags = 0)\n"
     ]
    },
    {
     "name": "stderr",
     "output_type": "stream",
     "text": [
      "\n",
      "100%|██████████| 21/21 [02:54<00:00,  8.31s/it]\u001b[A\n",
      " 10%|█         | 1/10 [02:54<26:10, 174.55s/it]"
     ]
    },
    {
     "name": "stdout",
     "output_type": "stream",
     "text": [
      "Directory  panda  already exists\n"
     ]
    },
    {
     "name": "stderr",
     "output_type": "stream",
     "text": [
      "\n",
      "100%|██████████| 21/21 [00:00<00:00, 3029.42it/s]\n",
      "\n",
      "  0%|          | 0/21 [00:00<?, ?it/s]\u001b[A"
     ]
    },
    {
     "name": "stdout",
     "output_type": "stream",
     "text": [
      "Using TensorFlow backend.\n",
      "2020-06-15 16:28:31.143324: I tensorflow/core/platform/cpu_feature_guard.cc:143] Your CPU supports instructions that this TensorFlow binary was not compiled to use: AVX2 FMA\n",
      "2020-06-15 16:28:31.154362: I tensorflow/compiler/xla/service/service.cc:168] XLA service 0x7fd8dcbd7070 initialized for platform Host (this does not guarantee that XLA will be used). Devices:\n",
      "2020-06-15 16:28:31.154397: I tensorflow/compiler/xla/service/service.cc:176]   StreamExecutor device (0): Host, Default Version\n",
      "/Users/lalith/opt/anaconda3/lib/python3.7/site-packages/keras/activations.py:235: UserWarning: Do not pass a layer instance (such as LeakyReLU) as the activation argument of another layer. Instead, advanced activation layers should be used just like any other layer in a model.\n",
      "  identifier=identifier.__class__.__name__))\n",
      " 33%|███████████████                              | 1/3 [00:02<00:05,  2.67s/it]"
     ]
    }
   ],
   "source": [
    "# program start for attaching the time-stamps to the original file name\n",
    "\n",
    "for x in tqdm(range(0,len(indv_folders))):\n",
    "    os.chdir(indv_folders[x])\n",
    "    if not os.path.exists(os.path.join(indv_folders[x],'panda')):\n",
    "        os.mkdir(os.path.join(indv_folders[x],'panda'))\n",
    "        print(\"Directory \" , 'panda' ,  \" Created \")\n",
    "    else:    \n",
    "        print(\"Directory \" , 'panda' ,  \" already exists\") \n",
    "    out_dir           =   os.path.join(indv_folders[x],'panda')\n",
    "    nifti_files       =   glob.glob('*f*nii')\n",
    "    nifti_files       =   natsorted(nifti_files)\n",
    "    for y in tqdm(range(0,len(nifti_files))):\n",
    "        new_file      =   str(time_points[y])+'_'+nifti_files[y];\n",
    "        shutil.move(nifti_files[y],new_file) # renaming the files\n",
    "    frames_to_infer   =    glob.glob('*f*nii')\n",
    "    frames_to_infer   =    natsorted(frames_to_infer)\n",
    "    for y in tqdm(range(0,len(frames_to_infer))):\n",
    "        input_img_path=    str(os.path.join(indv_folders[x],frames_to_infer[y]))\n",
    "        model_name    =    gen_keyword+str(sms_mdl_numbers[model_array[y]])+'.h5'\n",
    "        ind_model_path=    str(os.path.join(model_path,model_name))\n",
    "        panda_names   =    panda_suffix+'_'+frames_to_infer[y]\n",
    "        out_img_path  =    str(os.path.join(out_dir,panda_names))\n",
    "        os.chdir(panda_src_dir)\n",
    "        !python predict_single_image.py --image $input_img_path --result $out_img_path --gen_weights $ind_model_path\n",
    "\n",
    "\n"
   ]
  },
  {
   "cell_type": "code",
   "execution_count": null,
   "metadata": {},
   "outputs": [],
   "source": []
  }
 ],
 "metadata": {
  "kernelspec": {
   "display_name": "Python 3",
   "language": "python",
   "name": "python3"
  },
  "language_info": {
   "codemirror_mode": {
    "name": "ipython",
    "version": 3
   },
   "file_extension": ".py",
   "mimetype": "text/x-python",
   "name": "python",
   "nbconvert_exporter": "python",
   "pygments_lexer": "ipython3",
   "version": "3.7.4"
  }
 },
 "nbformat": 4,
 "nbformat_minor": 4
}
