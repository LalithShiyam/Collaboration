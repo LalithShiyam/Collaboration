{
 "cells": [
  {
   "cell_type": "code",
   "execution_count": 30,
   "metadata": {},
   "outputs": [],
   "source": [
    "# Include necessary libraries \n",
    "\n",
    "\n",
    "import SimpleITK as sitk\n",
    "import numpy as np\n",
    "%matplotlib widget\n",
    "import matplotlib.pyplot as plt\n",
    "from tqdm import tqdm\n",
    "import os \n",
    "import fnmatch\n",
    "from os import walk\n",
    "import glob as glob\n",
    "from natsort import natsorted\n",
    "import time as time\n",
    "from shutil import copyfile\n",
    "import shutil\n",
    "import numpy as np\n",
    "\n",
    "\n"
   ]
  },
  {
   "cell_type": "code",
   "execution_count": 41,
   "metadata": {},
   "outputs": [],
   "source": [
    "# Hard-coded variables \n",
    "\n",
    "time_points    =    [8,18,23,28,35,45,55,90,150,210,270,375,525,750,1050,1500,2100,2550,2850,3150,3450]\n",
    "data_path      =    '/Users/lalith/Downloads/Sent2Lalith/nifti/' \n",
    "inference_path =    '/Users/lalith/Downloads/Sent2Lalith/'\n",
    "indv_folders   =    glob.glob(os.path.join(data_path+'*'),recursive=True)\n",
    "indv_folders   =    natsorted(indv_folders)\n"
   ]
  },
  {
   "cell_type": "code",
   "execution_count": 32,
   "metadata": {},
   "outputs": [
    {
     "name": "stderr",
     "output_type": "stream",
     "text": [
      "  0%|          | 0/10 [00:00<?, ?it/s]\n",
      "100%|██████████| 21/21 [00:00<00:00, 5227.32it/s]\n",
      "\n",
      "100%|██████████| 21/21 [00:00<00:00, 4940.29it/s]\n",
      "\n",
      "100%|██████████| 21/21 [00:00<00:00, 2924.12it/s]\n",
      "\n",
      "100%|██████████| 21/21 [00:00<00:00, 3527.59it/s]\n",
      "\n",
      "100%|██████████| 21/21 [00:00<00:00, 3543.63it/s]\n",
      "\n",
      "100%|██████████| 21/21 [00:00<00:00, 3730.80it/s]\n",
      "\n",
      "100%|██████████| 21/21 [00:00<00:00, 3526.04it/s]\n",
      "\n",
      "100%|██████████| 21/21 [00:00<00:00, 3251.64it/s]\n",
      "\n",
      "100%|██████████| 21/21 [00:00<00:00, 4377.75it/s]\n",
      "\n",
      "100%|██████████| 21/21 [00:00<00:00, 5156.93it/s]\n",
      "100%|██████████| 10/10 [00:00<00:00, 89.46it/s]\n"
     ]
    }
   ],
   "source": [
    "# program start for attaching the time-stamps to the original file name\n",
    "\n",
    "for x in tqdm(range(0,len(indv_folders))):\n",
    "    os.chdir(indv_folders[x])\n",
    "    nifti_files   =   glob.glob('*f*nii')\n",
    "    nifti_files   =   natsorted(nifti_files)\n",
    "    for y in tqdm(range(0,len(nifti_files))):\n",
    "        new_file  =   str(time_points[y])+'_'+nifti_files[y];\n",
    "        shutil.move(nifti_files[y],new_file)\n"
   ]
  },
  {
   "cell_type": "code",
   "execution_count": 43,
   "metadata": {},
   "outputs": [
    {
     "name": "stderr",
     "output_type": "stream",
     "text": [
      "100%|██████████| 21/21 [00:00<00:00, 2102.31it/s]"
     ]
    },
    {
     "name": "stdout",
     "output_type": "stream",
     "text": [
      "Directory  inference  Created \n",
      "Directory 8 created\n",
      "Directory 18 created\n",
      "Directory 23 created\n",
      "Directory 28 created\n",
      "Directory 35 created\n",
      "Directory 45 created\n",
      "Directory 55 created\n",
      "Directory 90 created\n",
      "Directory 150 created\n",
      "Directory 210 created\n",
      "Directory 270 created\n",
      "Directory 375 created\n",
      "Directory 525 created\n",
      "Directory 750 created\n",
      "Directory 1050 created\n",
      "Directory 1500 created\n",
      "Directory 2100 created\n",
      "Directory 2550 created\n",
      "Directory 2850 created\n",
      "Directory 3150 created\n",
      "Directory 3450 created\n"
     ]
    },
    {
     "name": "stderr",
     "output_type": "stream",
     "text": [
      "\n"
     ]
    }
   ],
   "source": [
    "# Move the individual frames to individual folders for inference \n",
    "\n",
    "os.chdir(inference_path)\n",
    "if not os.path.exists(os.path.join(inference_path,'inference')):\n",
    "        os.mkdir(os.path.join(inference_path,'inference'))\n",
    "        print(\"Directory \" , 'inference' ,  \" Created \")\n",
    "else:    \n",
    "        print(\"Directory \" , 'inference' ,  \" already exists\") \n",
    "\n",
    "inference_path    =    os.path.join(inference_path,'inference')\n",
    "os.chdir(inference_path)\n",
    "\n",
    "for x in tqdm(range(0,len(time_points))):\n",
    "    if not os.path.exists(os.path.join(inference_path,str(time_points[x]))):\n",
    "        os.mkdir(os.path.join(inference_path,str(time_points[x])))\n",
    "        print(\"Directory\",str(time_points[x]),\"created\")\n",
    "    else:\n",
    "        print(\"Directory\",str(time_points[x]),\"already exists\")\n"
   ]
  },
  {
   "cell_type": "code",
   "execution_count": 39,
   "metadata": {},
   "outputs": [
    {
     "name": "stdout",
     "output_type": "stream",
     "text": [
      "/Users/lalith/Downloads/Sent2Lalith/inference\n"
     ]
    }
   ],
   "source": [
    "# move the unique frames of each subject to the inference folder \n",
    "\n",
    "for x in tqdm(range(0,len(indv_folders))):\n",
    "    os.chdir(indv_folders[x])\n",
    "    nifti_files   =   glob.glob('*f*nii')\n",
    "    nifti_files   =   natsorted(nifti_files)\n",
    "    for y in tqdm(range(0,len(nifti_files))):\n",
    "        shutil.copy(nifti_files[y],os.path.join(inference_path,str(time_points[y])))\n",
    "        \n",
    "\n"
   ]
  },
  {
   "cell_type": "code",
   "execution_count": null,
   "metadata": {},
   "outputs": [],
   "source": []
  }
 ],
 "metadata": {
  "kernelspec": {
   "display_name": "Python 3",
   "language": "python",
   "name": "python3"
  },
  "language_info": {
   "codemirror_mode": {
    "name": "ipython",
    "version": 3
   },
   "file_extension": ".py",
   "mimetype": "text/x-python",
   "name": "python",
   "nbconvert_exporter": "python",
   "pygments_lexer": "ipython3",
   "version": "3.7.4"
  }
 },
 "nbformat": 4,
 "nbformat_minor": 4
}
