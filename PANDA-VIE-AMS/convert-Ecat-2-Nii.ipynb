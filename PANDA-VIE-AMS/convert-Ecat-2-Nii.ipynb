{
 "cells": [
  {
   "cell_type": "code",
   "execution_count": 1,
   "metadata": {},
   "outputs": [],
   "source": [
    "# Import necessary libraries \n",
    "\n",
    "import SimpleITK as sitk\n",
    "import numpy as np\n",
    "import matplotlib.pyplot as plt\n",
    "from tqdm import tqdm\n",
    "import os \n",
    "import fnmatch\n",
    "from os import walk\n",
    "import glob as glob\n",
    "import natsort\n",
    "import time as time\n",
    "from shutil import copyfile\n",
    "import shutil"
   ]
  },
  {
   "cell_type": "code",
   "execution_count": 2,
   "metadata": {},
   "outputs": [],
   "source": [
    "# Hard-coded variables \n",
    "\n",
    "ecat_folder   =   '/Users/lalith/Downloads/Sent2Lalith/'\n",
    "ecat_files    =    glob.glob(os.path.join(ecat_folder,'*.v'))\n",
    "nifti_folder  =   'nifti'"
   ]
  },
  {
   "cell_type": "code",
   "execution_count": 3,
   "metadata": {},
   "outputs": [
    {
     "name": "stderr",
     "output_type": "stream",
     "text": [
      "100%|██████████| 10/10 [00:14<00:00,  1.48s/it]"
     ]
    },
    {
     "name": "stdout",
     "output_type": "stream",
     "text": [
      "Directory  nifti  Created \n",
      "/Users/lalith/Downloads/Sent2Lalith/m000-411-AV_FDGdyn_AC_ID_cleared.nii\n",
      "/Users/lalith/Downloads/Sent2Lalith/m000-104-AG_FDGdyn_AC_ID_cleared.nii\n",
      "/Users/lalith/Downloads/Sent2Lalith/m000-120-BT_CTAC_ID_cleared.nii\n",
      "/Users/lalith/Downloads/Sent2Lalith/m000-101AB_FDGdyn_AC_ID_cleared.nii\n",
      "/Users/lalith/Downloads/Sent2Lalith/m000-102AC_FDG_AC_ID_cleared.nii\n",
      "/Users/lalith/Downloads/Sent2Lalith/m000-403-AF_FDGdyn_AC_ID_cleared.nii\n",
      "/Users/lalith/Downloads/Sent2Lalith/m000-401AA_FDGdyn_AC_ID_cleared.nii\n",
      "/Users/lalith/Downloads/Sent2Lalith/m000-105-AH_FDGdyn_AC_ID_cleared.nii\n",
      "/Users/lalith/Downloads/Sent2Lalith/m000-406-AM_FDGdyn_AC_ID_cleared.nii\n",
      "/Users/lalith/Downloads/Sent2Lalith/m000-122-BW_FDG_CTAC_ID_cleared.nii\n"
     ]
    },
    {
     "name": "stderr",
     "output_type": "stream",
     "text": [
      "\n"
     ]
    }
   ],
   "source": [
    "# conversion of ECAT to Nifti\n",
    "\n",
    "# Create target Directory if don't exist\n",
    "\n",
    "os.chdir(ecat_folder)\n",
    "\n",
    "for x in tqdm(range(0,len(ecat_files))):\n",
    "    time.sleep(0.5)\n",
    "    ecat_file_to_conv   =   ecat_files[x];\n",
    "    cmd_to_run          =   'medcon -f '+ ecat_file_to_conv +' -c nifti'\n",
    "    os.system(cmd_to_run)\n",
    "\n",
    "# Create nifti Directory if don't exist and move the converted nifti files.\n",
    "\n",
    "if not os.path.exists(os.path.join(ecat_folder,nifti_folder)):\n",
    "    os.mkdir(os.path.join(ecat_folder,nifti_folder))\n",
    "    print(\"Directory \" , nifti_folder ,  \" Created \")\n",
    "else:    \n",
    "    print(\"Directory \" , nifti_folder ,  \" already exists\")    \n",
    "for file in glob.glob(os.path.join(ecat_folder,'*.nii')):\n",
    "    print(file)\n",
    "    shutil.move(file, os.path.join(ecat_folder,nifti_folder))\n"
   ]
  },
  {
   "cell_type": "code",
   "execution_count": 4,
   "metadata": {},
   "outputs": [
    {
     "name": "stderr",
     "output_type": "stream",
     "text": [
      "  0%|          | 0/10 [00:00<?, ?it/s]"
     ]
    },
    {
     "name": "stdout",
     "output_type": "stream",
     "text": [
      "Directory  m000-411-AV_FDGdyn_AC_ID_cleared  Created \n"
     ]
    },
    {
     "name": "stderr",
     "output_type": "stream",
     "text": [
      " 10%|█         | 1/10 [00:01<00:13,  1.53s/it]"
     ]
    },
    {
     "name": "stdout",
     "output_type": "stream",
     "text": [
      "Directory  m000-104-AG_FDGdyn_AC_ID_cleared  Created \n"
     ]
    },
    {
     "name": "stderr",
     "output_type": "stream",
     "text": [
      " 20%|██        | 2/10 [00:03<00:12,  1.52s/it]"
     ]
    },
    {
     "name": "stdout",
     "output_type": "stream",
     "text": [
      "Directory  m000-120-BT_CTAC_ID_cleared  Created \n"
     ]
    },
    {
     "name": "stderr",
     "output_type": "stream",
     "text": [
      " 30%|███       | 3/10 [00:04<00:10,  1.48s/it]"
     ]
    },
    {
     "name": "stdout",
     "output_type": "stream",
     "text": [
      "Directory  m000-101AB_FDGdyn_AC_ID_cleared  Created \n"
     ]
    },
    {
     "name": "stderr",
     "output_type": "stream",
     "text": [
      " 40%|████      | 4/10 [00:05<00:08,  1.47s/it]"
     ]
    },
    {
     "name": "stdout",
     "output_type": "stream",
     "text": [
      "Directory  m000-102AC_FDG_AC_ID_cleared  Created \n"
     ]
    },
    {
     "name": "stderr",
     "output_type": "stream",
     "text": [
      " 50%|█████     | 5/10 [00:07<00:07,  1.44s/it]"
     ]
    },
    {
     "name": "stdout",
     "output_type": "stream",
     "text": [
      "Directory  m000-403-AF_FDGdyn_AC_ID_cleared  Created \n"
     ]
    },
    {
     "name": "stderr",
     "output_type": "stream",
     "text": [
      " 60%|██████    | 6/10 [00:08<00:05,  1.43s/it]"
     ]
    },
    {
     "name": "stdout",
     "output_type": "stream",
     "text": [
      "Directory  m000-401AA_FDGdyn_AC_ID_cleared  Created \n"
     ]
    },
    {
     "name": "stderr",
     "output_type": "stream",
     "text": [
      " 70%|███████   | 7/10 [00:10<00:04,  1.44s/it]"
     ]
    },
    {
     "name": "stdout",
     "output_type": "stream",
     "text": [
      "Directory  m000-105-AH_FDGdyn_AC_ID_cleared  Created \n"
     ]
    },
    {
     "name": "stderr",
     "output_type": "stream",
     "text": [
      " 80%|████████  | 8/10 [00:11<00:02,  1.41s/it]"
     ]
    },
    {
     "name": "stdout",
     "output_type": "stream",
     "text": [
      "Directory  m000-406-AM_FDGdyn_AC_ID_cleared  Created \n"
     ]
    },
    {
     "name": "stderr",
     "output_type": "stream",
     "text": [
      " 90%|█████████ | 9/10 [00:12<00:01,  1.41s/it]"
     ]
    },
    {
     "name": "stdout",
     "output_type": "stream",
     "text": [
      "Directory  m000-122-BW_FDG_CTAC_ID_cleared  Created \n"
     ]
    },
    {
     "name": "stderr",
     "output_type": "stream",
     "text": [
      "100%|██████████| 10/10 [00:14<00:00,  1.42s/it]\n"
     ]
    }
   ],
   "source": [
    "# Split frames of the individual subject \n",
    "\n",
    "nifti_path   =   os.path.join(ecat_folder,nifti_folder);\n",
    "os.chdir(nifti_path)\n",
    "nifti_files  =   glob.glob(os.path.join('*.nii'))\n",
    "for x in tqdm(range(0,len(nifti_files))):\n",
    "    time.sleep(0.5)\n",
    "    os.chdir(nifti_path)\n",
    "    sub_folders  =   os.path.splitext(nifti_files[x])[0]\n",
    "    if not os.path.exists(os.path.join(nifti_path,sub_folders)):\n",
    "        os.mkdir(os.path.join(nifti_path,sub_folders))\n",
    "        print(\"Directory \" , sub_folders ,  \" Created \")\n",
    "    else:    \n",
    "        print(\"Directory \" , sub_folders ,  \" already exists\") \n",
    "    shutil.move(nifti_files[x],sub_folders)\n",
    "    sub_folder_path   =   os.path.join(nifti_path,sub_folders,nifti_files[x])\n",
    "    os.chdir(os.path.join(nifti_path,sub_folders))\n",
    "    cmd_to_run        =   'medcon -f '+ sub_folder_path +' -c nifti -split4d'\n",
    "    os.system(cmd_to_run)"
   ]
  },
  {
   "cell_type": "code",
   "execution_count": null,
   "metadata": {},
   "outputs": [],
   "source": []
  },
  {
   "cell_type": "code",
   "execution_count": null,
   "metadata": {},
   "outputs": [],
   "source": []
  }
 ],
 "metadata": {
  "kernelspec": {
   "display_name": "Python 3",
   "language": "python",
   "name": "python3"
  },
  "language_info": {
   "codemirror_mode": {
    "name": "ipython",
    "version": 3
   },
   "file_extension": ".py",
   "mimetype": "text/x-python",
   "name": "python",
   "nbconvert_exporter": "python",
   "pygments_lexer": "ipython3",
   "version": "3.7.4"
  }
 },
 "nbformat": 4,
 "nbformat_minor": 4
}
