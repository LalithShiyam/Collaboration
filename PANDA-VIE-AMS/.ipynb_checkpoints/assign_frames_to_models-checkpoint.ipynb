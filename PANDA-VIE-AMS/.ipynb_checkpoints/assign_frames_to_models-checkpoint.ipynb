{
 "cells": [
  {
   "cell_type": "code",
   "execution_count": 210,
   "metadata": {},
   "outputs": [],
   "source": [
    "# Include necessary libraries \n",
    "\n",
    "\n",
    "import SimpleITK as sitk\n",
    "import numpy as np\n",
    "%matplotlib widget\n",
    "import matplotlib.pyplot as plt\n",
    "from tqdm import tqdm\n",
    "import os \n",
    "import fnmatch\n",
    "from os import walk\n",
    "import glob as glob\n",
    "from natsort import natsorted\n",
    "import time as time\n",
    "from shutil import copyfile\n",
    "import shutil\n",
    "import numpy as np\n",
    "\n",
    "\n"
   ]
  },
  {
   "cell_type": "code",
   "execution_count": 211,
   "metadata": {},
   "outputs": [],
   "source": [
    "# Hard-coded variables \n",
    "\n",
    "time_points          =   [8,18,23,28,35,45,55,90,150,210,270,375,525,750,1050,1500,2100,2550,2850,3150,3450] # philips AMS framing mid-times\n",
    "data_path            =   '/Users/lalith/Downloads/Sent2Lalith/nifti/' \n",
    "inference_path       =   '/Users/lalith/Downloads/Sent2Lalith/'\n",
    "indv_folders         =   glob.glob(os.path.join(data_path+'*'),recursive=True)\n",
    "indv_folders         =   natsorted(indv_folders)\n",
    "model_path           =   '/Users/lalith/Downloads/Sent2Lalith/models'\n",
    "sms_mdl_timestamps   =   np.array([150, 240, 450, 750, 1050, 1350, 1650, 1950]) # all corresponding to seconds\n",
    "sms_mdl_numbers      =   np.array([25,26,27,28,29,30,31,32])   \n",
    "gen_keyword          =   'gen_weights_frame_'\n",
    "panda_suffix         =   'PANDA'\n",
    "panda_src_dir        =   '/Users/lalith/Documents/GitHub/QIMP-tools/PANDA/3D GAN/'\n"
   ]
  },
  {
   "cell_type": "code",
   "execution_count": 212,
   "metadata": {},
   "outputs": [
    {
     "name": "stderr",
     "output_type": "stream",
     "text": [
      "100%|██████████| 8/8 [00:00<00:00, 13957.75it/s]\n",
      "100%|██████████| 21/21 [00:00<00:00, 13879.67it/s]"
     ]
    },
    {
     "name": "stdout",
     "output_type": "stream",
     "text": [
      "0\n",
      "0\n",
      "0\n",
      "0\n",
      "0\n",
      "0\n",
      "0\n",
      "0\n",
      "0\n",
      "1\n",
      "1\n",
      "2\n",
      "2\n",
      "3\n",
      "4\n",
      "5\n",
      "7\n",
      "7\n",
      "7\n",
      "7\n",
      "7\n"
     ]
    },
    {
     "name": "stderr",
     "output_type": "stream",
     "text": [
      "\n"
     ]
    }
   ],
   "source": [
    "# Temporal match of siemens model with given time frames (in our case its philips).\n",
    "\n",
    "time_points          =   np.array(time_points)\n",
    "temporal_array       =   []\n",
    "\n",
    "\n",
    "for x in tqdm(range(0,len(sms_mdl_timestamps))):\n",
    "    difference       =   abs(time_points-sms_mdl_timestamps[x])\n",
    "    temporal_array.append(difference)\n",
    "\n",
    "temp_array           =   np.array(temporal_array)\n",
    "\n",
    "# Models correponding to the given time frames are identified here\n",
    "\n",
    "model_array          =   [];                  \n",
    "for x in tqdm(range(0,len(time_points))):\n",
    "    arr_int   = temp_array[:,x]\n",
    "    index_obj = np.where(arr_int == np.amin(arr_int))\n",
    "    min_index = index_obj[0]\n",
    "    print(min_index[0])\n",
    "    model_array.append(min_index[0])\n"
   ]
  },
  {
   "cell_type": "code",
   "execution_count": 214,
   "metadata": {},
   "outputs": [
    {
     "name": "stderr",
     "output_type": "stream",
     "text": [
      "  0%|          | 0/10 [00:00<?, ?it/s]\n",
      "100%|██████████| 21/21 [00:00<00:00, 4782.30it/s]\n",
      "\n",
      "  0%|          | 0/21 [00:00<?, ?it/s]\u001b[A"
     ]
    },
    {
     "name": "stdout",
     "output_type": "stream",
     "text": [
      "Directory  panda  already exists\n",
      "Traceback (most recent call last):\n",
      "  File \"predict_single_image.py\", line 7, in <module>\n",
      "    from networks.generator import *\n",
      "  File \"/Users/lalith/Documents/GitHub/QIMP-tools/PANDA/3D GAN/networks/generator.py\", line 1, in <module>\n",
      "    from keras.layers.merge import concatenate\n",
      "ModuleNotFoundError: No module named 'keras'\n"
     ]
    },
    {
     "name": "stderr",
     "output_type": "stream",
     "text": [
      "\n",
      "  5%|▍         | 1/21 [00:02<00:49,  2.46s/it]\u001b[A"
     ]
    },
    {
     "name": "stdout",
     "output_type": "stream",
     "text": [
      "Traceback (most recent call last):\n",
      "  File \"predict_single_image.py\", line 7, in <module>\n",
      "    from networks.generator import *\n",
      "  File \"/Users/lalith/Documents/GitHub/QIMP-tools/PANDA/3D GAN/networks/generator.py\", line 1, in <module>\n",
      "    from keras.layers.merge import concatenate\n",
      "ModuleNotFoundError: No module named 'keras'\n"
     ]
    },
    {
     "name": "stderr",
     "output_type": "stream",
     "text": [
      "\n",
      " 10%|▉         | 2/21 [00:03<00:40,  2.13s/it]\u001b[A"
     ]
    },
    {
     "name": "stdout",
     "output_type": "stream",
     "text": [
      "Traceback (most recent call last):\n",
      "  File \"predict_single_image.py\", line 7, in <module>\n",
      "    from networks.generator import *\n",
      "  File \"/Users/lalith/Documents/GitHub/QIMP-tools/PANDA/3D GAN/networks/generator.py\", line 1, in <module>\n",
      "    from keras.layers.merge import concatenate\n",
      "ModuleNotFoundError: No module named 'keras'\n"
     ]
    },
    {
     "name": "stderr",
     "output_type": "stream",
     "text": [
      "\n",
      " 14%|█▍        | 3/21 [00:05<00:33,  1.87s/it]\u001b[A"
     ]
    },
    {
     "name": "stdout",
     "output_type": "stream",
     "text": [
      "Traceback (most recent call last):\n",
      "  File \"predict_single_image.py\", line 7, in <module>\n",
      "    from networks.generator import *\n",
      "  File \"/Users/lalith/Documents/GitHub/QIMP-tools/PANDA/3D GAN/networks/generator.py\", line 1, in <module>\n",
      "    from keras.layers.merge import concatenate\n",
      "ModuleNotFoundError: No module named 'keras'\n"
     ]
    },
    {
     "name": "stderr",
     "output_type": "stream",
     "text": [
      "\n",
      " 19%|█▉        | 4/21 [00:06<00:29,  1.71s/it]\u001b[A"
     ]
    },
    {
     "name": "stdout",
     "output_type": "stream",
     "text": [
      "Traceback (most recent call last):\n",
      "  File \"predict_single_image.py\", line 7, in <module>\n",
      "    from networks.generator import *\n",
      "  File \"/Users/lalith/Documents/GitHub/QIMP-tools/PANDA/3D GAN/networks/generator.py\", line 1, in <module>\n",
      "    from keras.layers.merge import concatenate\n",
      "ModuleNotFoundError: No module named 'keras'\n"
     ]
    },
    {
     "name": "stderr",
     "output_type": "stream",
     "text": [
      "\n",
      " 24%|██▍       | 5/21 [00:07<00:25,  1.59s/it]\u001b[A"
     ]
    },
    {
     "name": "stdout",
     "output_type": "stream",
     "text": [
      "Traceback (most recent call last):\n",
      "  File \"predict_single_image.py\", line 7, in <module>\n",
      "    from networks.generator import *\n",
      "  File \"/Users/lalith/Documents/GitHub/QIMP-tools/PANDA/3D GAN/networks/generator.py\", line 1, in <module>\n",
      "    from keras.layers.merge import concatenate\n",
      "ModuleNotFoundError: No module named 'keras'\n"
     ]
    },
    {
     "name": "stderr",
     "output_type": "stream",
     "text": [
      "\n",
      " 29%|██▊       | 6/21 [00:09<00:22,  1.52s/it]\u001b[A"
     ]
    },
    {
     "name": "stdout",
     "output_type": "stream",
     "text": [
      "Traceback (most recent call last):\n",
      "  File \"predict_single_image.py\", line 7, in <module>\n",
      "    from networks.generator import *\n",
      "  File \"/Users/lalith/Documents/GitHub/QIMP-tools/PANDA/3D GAN/networks/generator.py\", line 1, in <module>\n",
      "    from keras.layers.merge import concatenate\n",
      "ModuleNotFoundError: No module named 'keras'\n"
     ]
    },
    {
     "name": "stderr",
     "output_type": "stream",
     "text": [
      "\n",
      " 33%|███▎      | 7/21 [00:10<00:20,  1.47s/it]\u001b[A"
     ]
    },
    {
     "name": "stdout",
     "output_type": "stream",
     "text": [
      "Traceback (most recent call last):\n",
      "  File \"predict_single_image.py\", line 7, in <module>\n",
      "    from networks.generator import *\n",
      "  File \"/Users/lalith/Documents/GitHub/QIMP-tools/PANDA/3D GAN/networks/generator.py\", line 1, in <module>\n",
      "    from keras.layers.merge import concatenate\n",
      "ModuleNotFoundError: No module named 'keras'\n"
     ]
    },
    {
     "name": "stderr",
     "output_type": "stream",
     "text": [
      "\n",
      " 38%|███▊      | 8/21 [00:11<00:18,  1.43s/it]\u001b[A"
     ]
    },
    {
     "name": "stdout",
     "output_type": "stream",
     "text": [
      "Traceback (most recent call last):\n",
      "  File \"predict_single_image.py\", line 7, in <module>\n",
      "    from networks.generator import *\n",
      "  File \"/Users/lalith/Documents/GitHub/QIMP-tools/PANDA/3D GAN/networks/generator.py\", line 1, in <module>\n",
      "    from keras.layers.merge import concatenate\n",
      "ModuleNotFoundError: No module named 'keras'\n"
     ]
    },
    {
     "name": "stderr",
     "output_type": "stream",
     "text": [
      "\n",
      " 43%|████▎     | 9/21 [00:13<00:16,  1.41s/it]\u001b[A"
     ]
    },
    {
     "name": "stdout",
     "output_type": "stream",
     "text": [
      "Traceback (most recent call last):\n",
      "  File \"predict_single_image.py\", line 7, in <module>\n",
      "    from networks.generator import *\n",
      "  File \"/Users/lalith/Documents/GitHub/QIMP-tools/PANDA/3D GAN/networks/generator.py\", line 1, in <module>\n",
      "    from keras.layers.merge import concatenate\n",
      "ModuleNotFoundError: No module named 'keras'\n"
     ]
    },
    {
     "name": "stderr",
     "output_type": "stream",
     "text": [
      "\n",
      " 48%|████▊     | 10/21 [00:14<00:15,  1.39s/it]\u001b[A"
     ]
    },
    {
     "ename": "IndexError",
     "evalue": "list index out of range",
     "output_type": "error",
     "traceback": [
      "\u001b[0;31m---------------------------------------------------------------------------\u001b[0m",
      "\u001b[0;31mIndexError\u001b[0m                                Traceback (most recent call last)",
      "\u001b[0;32m<ipython-input-214-0046c7d0d0ee>\u001b[0m in \u001b[0;36m<module>\u001b[0;34m\u001b[0m\n\u001b[1;32m     17\u001b[0m     \u001b[0mframes_to_infer\u001b[0m   \u001b[0;34m=\u001b[0m    \u001b[0mnatsorted\u001b[0m\u001b[0;34m(\u001b[0m\u001b[0mframes_to_infer\u001b[0m\u001b[0;34m)\u001b[0m\u001b[0;34m\u001b[0m\u001b[0;34m\u001b[0m\u001b[0m\n\u001b[1;32m     18\u001b[0m     \u001b[0;32mfor\u001b[0m \u001b[0my\u001b[0m \u001b[0;32min\u001b[0m \u001b[0mtqdm\u001b[0m\u001b[0;34m(\u001b[0m\u001b[0mrange\u001b[0m\u001b[0;34m(\u001b[0m\u001b[0;36m0\u001b[0m\u001b[0;34m,\u001b[0m\u001b[0mlen\u001b[0m\u001b[0;34m(\u001b[0m\u001b[0mframes_to_infer\u001b[0m\u001b[0;34m)\u001b[0m\u001b[0;34m)\u001b[0m\u001b[0;34m)\u001b[0m\u001b[0;34m:\u001b[0m\u001b[0;34m\u001b[0m\u001b[0;34m\u001b[0m\u001b[0m\n\u001b[0;32m---> 19\u001b[0;31m         \u001b[0minput_img_path\u001b[0m\u001b[0;34m=\u001b[0m    \u001b[0mstr\u001b[0m\u001b[0;34m(\u001b[0m\u001b[0mos\u001b[0m\u001b[0;34m.\u001b[0m\u001b[0mpath\u001b[0m\u001b[0;34m.\u001b[0m\u001b[0mjoin\u001b[0m\u001b[0;34m(\u001b[0m\u001b[0mindv_folders\u001b[0m\u001b[0;34m[\u001b[0m\u001b[0my\u001b[0m\u001b[0;34m]\u001b[0m\u001b[0;34m,\u001b[0m\u001b[0mframes_to_infer\u001b[0m\u001b[0;34m[\u001b[0m\u001b[0my\u001b[0m\u001b[0;34m]\u001b[0m\u001b[0;34m)\u001b[0m\u001b[0;34m)\u001b[0m\u001b[0;34m\u001b[0m\u001b[0;34m\u001b[0m\u001b[0m\n\u001b[0m\u001b[1;32m     20\u001b[0m         \u001b[0mmodel_name\u001b[0m    \u001b[0;34m=\u001b[0m    \u001b[0mgen_keyword\u001b[0m\u001b[0;34m+\u001b[0m\u001b[0mstr\u001b[0m\u001b[0;34m(\u001b[0m\u001b[0mmodel_array\u001b[0m\u001b[0;34m[\u001b[0m\u001b[0my\u001b[0m\u001b[0;34m]\u001b[0m\u001b[0;34m)\u001b[0m\u001b[0;34m+\u001b[0m\u001b[0;34m'.h5'\u001b[0m\u001b[0;34m\u001b[0m\u001b[0;34m\u001b[0m\u001b[0m\n\u001b[1;32m     21\u001b[0m         \u001b[0mind_model_path\u001b[0m\u001b[0;34m=\u001b[0m    \u001b[0mstr\u001b[0m\u001b[0;34m(\u001b[0m\u001b[0mos\u001b[0m\u001b[0;34m.\u001b[0m\u001b[0mpath\u001b[0m\u001b[0;34m.\u001b[0m\u001b[0mjoin\u001b[0m\u001b[0;34m(\u001b[0m\u001b[0mmodel_path\u001b[0m\u001b[0;34m,\u001b[0m\u001b[0mmodel_name\u001b[0m\u001b[0;34m)\u001b[0m\u001b[0;34m)\u001b[0m\u001b[0;34m\u001b[0m\u001b[0;34m\u001b[0m\u001b[0m\n",
      "\u001b[0;31mIndexError\u001b[0m: list index out of range"
     ]
    }
   ],
   "source": [
    "# program start for attaching the time-stamps to the original file name\n",
    "\n",
    "for x in tqdm(range(0,len(indv_folders))):\n",
    "    os.chdir(indv_folders[x])\n",
    "    if not os.path.exists(os.path.join(indv_folders[x],'panda')):\n",
    "        os.mkdir(os.path.join(indv_folders[x],'panda'))\n",
    "        print(\"Directory \" , 'panda' ,  \" Created \")\n",
    "    else:    \n",
    "        print(\"Directory \" , 'panda' ,  \" already exists\") \n",
    "    out_dir           =   os.path.join(indv_folders[x],'panda')\n",
    "    nifti_files       =   glob.glob('*f*nii')\n",
    "    nifti_files       =   natsorted(nifti_files)\n",
    "    for y in tqdm(range(0,len(nifti_files))):\n",
    "        new_file      =   str(time_points[y])+'_'+nifti_files[y];\n",
    "        shutil.move(nifti_files[y],new_file) # renaming the files\n",
    "    frames_to_infer   =    glob.glob('*f*nii')\n",
    "    frames_to_infer   =    natsorted(frames_to_infer)\n",
    "    for y in tqdm(range(0,len(frames_to_infer))):\n",
    "        input_img_path=    str(os.path.join(indv_folders[x],frames_to_infer[y]))\n",
    "        model_name    =    gen_keyword+str(model_array[y])+'.h5'\n",
    "        ind_model_path=    str(os.path.join(model_path,model_name))\n",
    "        panda_names   =    panda_suffix+'_'+frames_to_infer[y]\n",
    "        out_img_path  =    str(os.path.join(out_dir,panda_names))\n",
    "        os.chdir(panda_src_dir)\n",
    "        !python3 predict_single_image.py --image $input_img_path --result $out_img_path --gen_weights $ind_model_path\n",
    "\n",
    "\n"
   ]
  },
  {
   "cell_type": "code",
   "execution_count": 32,
   "metadata": {},
   "outputs": [
    {
     "name": "stderr",
     "output_type": "stream",
     "text": [
      "  0%|          | 0/10 [00:00<?, ?it/s]\n",
      "100%|██████████| 21/21 [00:00<00:00, 5227.32it/s]\n",
      "\n",
      "100%|██████████| 21/21 [00:00<00:00, 4940.29it/s]\n",
      "\n",
      "100%|██████████| 21/21 [00:00<00:00, 2924.12it/s]\n",
      "\n",
      "100%|██████████| 21/21 [00:00<00:00, 3527.59it/s]\n",
      "\n",
      "100%|██████████| 21/21 [00:00<00:00, 3543.63it/s]\n",
      "\n",
      "100%|██████████| 21/21 [00:00<00:00, 3730.80it/s]\n",
      "\n",
      "100%|██████████| 21/21 [00:00<00:00, 3526.04it/s]\n",
      "\n",
      "100%|██████████| 21/21 [00:00<00:00, 3251.64it/s]\n",
      "\n",
      "100%|██████████| 21/21 [00:00<00:00, 4377.75it/s]\n",
      "\n",
      "100%|██████████| 21/21 [00:00<00:00, 5156.93it/s]\n",
      "100%|██████████| 10/10 [00:00<00:00, 89.46it/s]\n"
     ]
    }
   ],
   "source": [
    "\n",
    "    "
   ]
  },
  {
   "cell_type": "code",
   "execution_count": 67,
   "metadata": {},
   "outputs": [
    {
     "name": "stderr",
     "output_type": "stream",
     "text": [
      "100%|██████████| 21/21 [00:00<00:00, 3613.26it/s]"
     ]
    },
    {
     "name": "stdout",
     "output_type": "stream",
     "text": [
      "Directory  inference  already exists\n",
      "Directory 8 already exists\n",
      "Directory 18 already exists\n",
      "Directory 23 already exists\n",
      "Directory 28 already exists\n",
      "Directory 35 already exists\n",
      "Directory 45 already exists\n",
      "Directory 55 already exists\n",
      "Directory 90 already exists\n",
      "Directory 150 already exists\n",
      "Directory 210 already exists\n",
      "Directory 270 already exists\n",
      "Directory 375 already exists\n",
      "Directory 525 already exists\n",
      "Directory 750 already exists\n",
      "Directory 1050 already exists\n",
      "Directory 1500 already exists\n",
      "Directory 2100 already exists\n",
      "Directory 2550 already exists\n",
      "Directory 2850 already exists\n",
      "Directory 3150 already exists\n",
      "Directory 3450 already exists\n"
     ]
    },
    {
     "name": "stderr",
     "output_type": "stream",
     "text": [
      "\n"
     ]
    }
   ],
   "source": [
    "# Move the individual frames to individual folders for inference \n",
    "\n",
    "os.chdir(inference_path)\n",
    "if not os.path.exists(os.path.join(inference_path,'inference')):\n",
    "        os.mkdir(os.path.join(inference_path,'inference'))\n",
    "        print(\"Directory \" , 'inference' ,  \" Created \")\n",
    "else:    \n",
    "        print(\"Directory \" , 'inference' ,  \" already exists\") \n",
    "\n",
    "inference_path    =    os.path.join(inference_path,'inference')\n",
    "os.chdir(inference_path)\n",
    "\n",
    "for x in tqdm(range(0,len(time_points))):\n",
    "    if not os.path.exists(os.path.join(inference_path,str(time_points[x]))):\n",
    "        os.mkdir(os.path.join(inference_path,str(time_points[x])))\n",
    "        print(\"Directory\",str(time_points[x]),\"created\")\n",
    "    else:\n",
    "        print(\"Directory\",str(time_points[x]),\"already exists\")\n"
   ]
  },
  {
   "cell_type": "code",
   "execution_count": 68,
   "metadata": {},
   "outputs": [
    {
     "name": "stderr",
     "output_type": "stream",
     "text": [
      "  0%|          | 0/10 [00:00<?, ?it/s]\n",
      "  0%|          | 0/21 [00:00<?, ?it/s]\u001b[A\n",
      " 38%|███▊      | 8/21 [00:00<00:00, 77.63it/s]\u001b[A\n",
      "100%|██████████| 21/21 [00:00<00:00, 76.80it/s]\u001b[A\n",
      " 10%|█         | 1/10 [00:00<00:02,  3.60it/s]\n",
      "  0%|          | 0/21 [00:00<?, ?it/s]\u001b[A\n",
      " 33%|███▎      | 7/21 [00:00<00:00, 66.45it/s]\u001b[A\n",
      " 62%|██████▏   | 13/21 [00:00<00:00, 61.81it/s]\u001b[A\n",
      "100%|██████████| 21/21 [00:00<00:00, 54.95it/s]\u001b[A\n",
      " 20%|██        | 2/10 [00:00<00:02,  3.22it/s]\n",
      "  0%|          | 0/21 [00:00<?, ?it/s]\u001b[A\n",
      " 29%|██▊       | 6/21 [00:00<00:00, 51.82it/s]\u001b[A\n",
      " 52%|█████▏    | 11/21 [00:00<00:00, 49.53it/s]\u001b[A\n",
      " 71%|███████▏  | 15/21 [00:00<00:00, 46.06it/s]\u001b[A\n",
      "100%|██████████| 21/21 [00:00<00:00, 45.19it/s]\u001b[A\n",
      " 30%|███       | 3/10 [00:01<00:02,  2.79it/s]\n",
      "  0%|          | 0/21 [00:00<?, ?it/s]\u001b[A\n",
      " 24%|██▍       | 5/21 [00:00<00:00, 41.22it/s]\u001b[A\n",
      " 52%|█████▏    | 11/21 [00:00<00:00, 43.75it/s]\u001b[A\n",
      " 76%|███████▌  | 16/21 [00:00<00:00, 42.33it/s]\u001b[A\n",
      "100%|██████████| 21/21 [00:00<00:00, 42.34it/s]\u001b[A\n",
      " 40%|████      | 4/10 [00:01<00:02,  2.50it/s]\n",
      "  0%|          | 0/21 [00:00<?, ?it/s]\u001b[A\n",
      " 24%|██▍       | 5/21 [00:00<00:00, 46.23it/s]\u001b[A\n",
      " 52%|█████▏    | 11/21 [00:00<00:00, 48.17it/s]\u001b[A\n",
      "100%|██████████| 21/21 [00:00<00:00, 49.77it/s]\u001b[A\n",
      " 50%|█████     | 5/10 [00:02<00:02,  2.45it/s]\n",
      "  0%|          | 0/21 [00:00<?, ?it/s]\u001b[A\n",
      " 29%|██▊       | 6/21 [00:00<00:00, 54.23it/s]\u001b[A\n",
      " 57%|█████▋    | 12/21 [00:00<00:00, 53.85it/s]\u001b[A\n",
      "100%|██████████| 21/21 [00:00<00:00, 53.37it/s]\u001b[A\n",
      " 60%|██████    | 6/10 [00:02<00:01,  2.47it/s]\n",
      "  0%|          | 0/21 [00:00<?, ?it/s]\u001b[A\n",
      " 24%|██▍       | 5/21 [00:00<00:00, 46.85it/s]\u001b[A\n",
      " 43%|████▎     | 9/21 [00:00<00:00, 42.69it/s]\u001b[A\n",
      " 62%|██████▏   | 13/21 [00:00<00:00, 41.25it/s]\u001b[A\n",
      "100%|██████████| 21/21 [00:00<00:00, 42.40it/s]\u001b[A\n",
      " 70%|███████   | 7/10 [00:02<00:01,  2.31it/s]\n",
      "  0%|          | 0/21 [00:00<?, ?it/s]\u001b[A\n",
      " 24%|██▍       | 5/21 [00:00<00:00, 42.78it/s]\u001b[A\n",
      " 43%|████▎     | 9/21 [00:00<00:00, 41.66it/s]\u001b[A\n",
      " 57%|█████▋    | 12/21 [00:00<00:00, 34.94it/s]\u001b[A\n",
      " 71%|███████▏  | 15/21 [00:00<00:00, 32.44it/s]\u001b[A\n",
      "100%|██████████| 21/21 [00:00<00:00, 28.99it/s]\u001b[A\n",
      " 80%|████████  | 8/10 [00:03<00:01,  1.92it/s]\n",
      "  0%|          | 0/21 [00:00<?, ?it/s]\u001b[A\n",
      " 48%|████▊     | 10/21 [00:00<00:00, 95.67it/s]\u001b[A\n",
      " 67%|██████▋   | 14/21 [00:00<00:00, 43.64it/s]\u001b[A\n",
      "100%|██████████| 21/21 [00:00<00:00, 43.56it/s]\u001b[A\n",
      " 90%|█████████ | 9/10 [00:04<00:00,  1.96it/s]\n",
      "  0%|          | 0/21 [00:00<?, ?it/s]\u001b[A\n",
      " 38%|███▊      | 8/21 [00:00<00:00, 79.01it/s]\u001b[A\n",
      "100%|██████████| 21/21 [00:00<00:00, 61.91it/s]\u001b[A\n",
      "100%|██████████| 10/10 [00:04<00:00,  2.21it/s]\n"
     ]
    }
   ],
   "source": [
    "# move the unique frames of each subject to the inference folder \n",
    "\n",
    "for x in tqdm(range(0,len(indv_folders))):\n",
    "    os.chdir(indv_folders[x])\n",
    "    nifti_files   =   glob.glob('*f*nii')\n",
    "    nifti_files   =   natsorted(nifti_files)\n",
    "    for y in tqdm(range(0,len(nifti_files))):\n",
    "        shutil.copy(nifti_files[y],os.path.join(inference_path,str(time_points[y])))\n",
    "        \n",
    "\n"
   ]
  },
  {
   "cell_type": "code",
   "execution_count": 186,
   "metadata": {},
   "outputs": [
    {
     "data": {
      "text/plain": [
       "(array([7]), array([0]))"
      ]
     },
     "execution_count": 186,
     "metadata": {},
     "output_type": "execute_result"
    }
   ],
   "source": [
    "\n",
    "np.where(temp_array == np.amin(temp_array))\n",
    "    "
   ]
  },
  {
   "cell_type": "code",
   "execution_count": null,
   "metadata": {},
   "outputs": [],
   "source": [
    "# Algorithm for temporal match and inference "
   ]
  },
  {
   "cell_type": "code",
   "execution_count": 184,
   "metadata": {},
   "outputs": [
    {
     "data": {
      "text/plain": [
       "array([3300, 3210, 3000, 2700, 2400, 2100, 1800, 1500])"
      ]
     },
     "execution_count": 184,
     "metadata": {},
     "output_type": "execute_result"
    }
   ],
   "source": [
    "abs(temp_array[:,20])"
   ]
  },
  {
   "cell_type": "code",
   "execution_count": 164,
   "metadata": {},
   "outputs": [
    {
     "data": {
      "text/plain": [
       "array([[ -142,  -132,  -127,  -122,  -115,  -105,   -95,   -60,     0,\n",
       "           60,   120,   225,   375,   600,   900,  1350,  1950,  2400,\n",
       "         2700,  3000,  3300],\n",
       "       [ -232,  -222,  -217,  -212,  -205,  -195,  -185,  -150,   -90,\n",
       "          -30,    30,   135,   285,   510,   810,  1260,  1860,  2310,\n",
       "         2610,  2910,  3210],\n",
       "       [ -442,  -432,  -427,  -422,  -415,  -405,  -395,  -360,  -300,\n",
       "         -240,  -180,   -75,    75,   300,   600,  1050,  1650,  2100,\n",
       "         2400,  2700,  3000],\n",
       "       [ -742,  -732,  -727,  -722,  -715,  -705,  -695,  -660,  -600,\n",
       "         -540,  -480,  -375,  -225,     0,   300,   750,  1350,  1800,\n",
       "         2100,  2400,  2700],\n",
       "       [-1042, -1032, -1027, -1022, -1015, -1005,  -995,  -960,  -900,\n",
       "         -840,  -780,  -675,  -525,  -300,     0,   450,  1050,  1500,\n",
       "         1800,  2100,  2400],\n",
       "       [-1342, -1332, -1327, -1322, -1315, -1305, -1295, -1260, -1200,\n",
       "        -1140, -1080,  -975,  -825,  -600,  -300,   150,   750,  1200,\n",
       "         1500,  1800,  2100],\n",
       "       [-1642, -1632, -1627, -1622, -1615, -1605, -1595, -1560, -1500,\n",
       "        -1440, -1380, -1275, -1125,  -900,  -600,  -150,   450,   900,\n",
       "         1200,  1500,  1800],\n",
       "       [-1942, -1932, -1927, -1922, -1915, -1905, -1895, -1860, -1800,\n",
       "        -1740, -1680, -1575, -1425, -1200,  -900,  -450,   150,   600,\n",
       "          900,  1200,  1500]])"
      ]
     },
     "execution_count": 164,
     "metadata": {},
     "output_type": "execute_result"
    }
   ],
   "source": [
    "temp_array"
   ]
  },
  {
   "cell_type": "code",
   "execution_count": 57,
   "metadata": {},
   "outputs": [
    {
     "data": {
      "text/plain": [
       "array([-232, -222, -217, -212, -205, -195, -185, -150,  -90,  -30,   30,\n",
       "        135,  285,  510,  810, 1260, 1860, 2310, 2610, 2910, 3210])"
      ]
     },
     "execution_count": 57,
     "metadata": {},
     "output_type": "execute_result"
    }
   ],
   "source": [
    "time_points-sms_mdl_timestamps[1]"
   ]
  },
  {
   "cell_type": "code",
   "execution_count": 58,
   "metadata": {},
   "outputs": [
    {
     "data": {
      "text/plain": [
       "array([-442, -432, -427, -422, -415, -405, -395, -360, -300, -240, -180,\n",
       "        -75,   75,  300,  600, 1050, 1650, 2100, 2400, 2700, 3000])"
      ]
     },
     "execution_count": 58,
     "metadata": {},
     "output_type": "execute_result"
    }
   ],
   "source": [
    "time_points-sms_mdl_timestamps[2]"
   ]
  },
  {
   "cell_type": "code",
   "execution_count": 59,
   "metadata": {},
   "outputs": [
    {
     "data": {
      "text/plain": [
       "array([-742, -732, -727, -722, -715, -705, -695, -660, -600, -540, -480,\n",
       "       -375, -225,    0,  300,  750, 1350, 1800, 2100, 2400, 2700])"
      ]
     },
     "execution_count": 59,
     "metadata": {},
     "output_type": "execute_result"
    }
   ],
   "source": [
    "time_points-sms_mdl_timestamps[3]"
   ]
  },
  {
   "cell_type": "code",
   "execution_count": 60,
   "metadata": {},
   "outputs": [
    {
     "data": {
      "text/plain": [
       "array([-1042, -1032, -1027, -1022, -1015, -1005,  -995,  -960,  -900,\n",
       "        -840,  -780,  -675,  -525,  -300,     0,   450,  1050,  1500,\n",
       "        1800,  2100,  2400])"
      ]
     },
     "execution_count": 60,
     "metadata": {},
     "output_type": "execute_result"
    }
   ],
   "source": [
    "time_points-sms_mdl_timestamps[4]"
   ]
  },
  {
   "cell_type": "code",
   "execution_count": 61,
   "metadata": {},
   "outputs": [
    {
     "data": {
      "text/plain": [
       "array([-1342, -1332, -1327, -1322, -1315, -1305, -1295, -1260, -1200,\n",
       "       -1140, -1080,  -975,  -825,  -600,  -300,   150,   750,  1200,\n",
       "        1500,  1800,  2100])"
      ]
     },
     "execution_count": 61,
     "metadata": {},
     "output_type": "execute_result"
    }
   ],
   "source": [
    "time_points-sms_mdl_timestamps[5]"
   ]
  },
  {
   "cell_type": "code",
   "execution_count": 62,
   "metadata": {},
   "outputs": [
    {
     "data": {
      "text/plain": [
       "array([-1642, -1632, -1627, -1622, -1615, -1605, -1595, -1560, -1500,\n",
       "       -1440, -1380, -1275, -1125,  -900,  -600,  -150,   450,   900,\n",
       "        1200,  1500,  1800])"
      ]
     },
     "execution_count": 62,
     "metadata": {},
     "output_type": "execute_result"
    }
   ],
   "source": [
    "time_points-sms_mdl_timestamps[6]"
   ]
  },
  {
   "cell_type": "code",
   "execution_count": 63,
   "metadata": {},
   "outputs": [
    {
     "data": {
      "text/plain": [
       "array([-1942, -1932, -1927, -1922, -1915, -1905, -1895, -1860, -1800,\n",
       "       -1740, -1680, -1575, -1425, -1200,  -900,  -450,   150,   600,\n",
       "         900,  1200,  1500])"
      ]
     },
     "execution_count": 63,
     "metadata": {},
     "output_type": "execute_result"
    }
   ],
   "source": [
    "time_points-sms_mdl_timestamps[7]"
   ]
  },
  {
   "cell_type": "code",
   "execution_count": 70,
   "metadata": {},
   "outputs": [
    {
     "ename": "TypeError",
     "evalue": "data type not understood",
     "output_type": "error",
     "traceback": [
      "\u001b[0;31m---------------------------------------------------------------------------\u001b[0m",
      "\u001b[0;31mTypeError\u001b[0m                                 Traceback (most recent call last)",
      "\u001b[0;32m<ipython-input-70-49fe19766958>\u001b[0m in \u001b[0;36m<module>\u001b[0;34m\u001b[0m\n\u001b[0;32m----> 1\u001b[0;31m \u001b[0mdifference\u001b[0m\u001b[0;34m=\u001b[0m\u001b[0mnp\u001b[0m\u001b[0;34m.\u001b[0m\u001b[0mzeros\u001b[0m\u001b[0;34m(\u001b[0m\u001b[0mnp\u001b[0m\u001b[0;34m.\u001b[0m\u001b[0malen\u001b[0m\u001b[0;34m(\u001b[0m\u001b[0mtime_points\u001b[0m\u001b[0;34m)\u001b[0m\u001b[0;34m,\u001b[0m\u001b[0mnp\u001b[0m\u001b[0;34m.\u001b[0m\u001b[0malen\u001b[0m\u001b[0;34m(\u001b[0m\u001b[0msms_mdl_timestamps\u001b[0m\u001b[0;34m)\u001b[0m\u001b[0;34m)\u001b[0m\u001b[0;34m\u001b[0m\u001b[0;34m\u001b[0m\u001b[0m\n\u001b[0m",
      "\u001b[0;31mTypeError\u001b[0m: data type not understood"
     ]
    }
   ],
   "source": [
    "difference=np.zeros(np.alen(time_points),np.alen(sms_mdl_timestamps))"
   ]
  },
  {
   "cell_type": "code",
   "execution_count": 183,
   "metadata": {},
   "outputs": [
    {
     "data": {
      "text/plain": [
       "array([[ -142,  -132,  -127,  -122,  -115,  -105,   -95,   -60,     0,\n",
       "           60,   120,   225,   375,   600,   900,  1350,  1950,  2400,\n",
       "         2700,  3000,  3300],\n",
       "       [ -232,  -222,  -217,  -212,  -205,  -195,  -185,  -150,   -90,\n",
       "          -30,    30,   135,   285,   510,   810,  1260,  1860,  2310,\n",
       "         2610,  2910,  3210],\n",
       "       [ -442,  -432,  -427,  -422,  -415,  -405,  -395,  -360,  -300,\n",
       "         -240,  -180,   -75,    75,   300,   600,  1050,  1650,  2100,\n",
       "         2400,  2700,  3000],\n",
       "       [ -742,  -732,  -727,  -722,  -715,  -705,  -695,  -660,  -600,\n",
       "         -540,  -480,  -375,  -225,     0,   300,   750,  1350,  1800,\n",
       "         2100,  2400,  2700],\n",
       "       [-1042, -1032, -1027, -1022, -1015, -1005,  -995,  -960,  -900,\n",
       "         -840,  -780,  -675,  -525,  -300,     0,   450,  1050,  1500,\n",
       "         1800,  2100,  2400],\n",
       "       [-1342, -1332, -1327, -1322, -1315, -1305, -1295, -1260, -1200,\n",
       "        -1140, -1080,  -975,  -825,  -600,  -300,   150,   750,  1200,\n",
       "         1500,  1800,  2100],\n",
       "       [-1642, -1632, -1627, -1622, -1615, -1605, -1595, -1560, -1500,\n",
       "        -1440, -1380, -1275, -1125,  -900,  -600,  -150,   450,   900,\n",
       "         1200,  1500,  1800],\n",
       "       [-1942, -1932, -1927, -1922, -1915, -1905, -1895, -1860, -1800,\n",
       "        -1740, -1680, -1575, -1425, -1200,  -900,  -450,   150,   600,\n",
       "          900,  1200,  1500]])"
      ]
     },
     "execution_count": 183,
     "metadata": {},
     "output_type": "execute_result"
    }
   ],
   "source": []
  },
  {
   "cell_type": "code",
   "execution_count": null,
   "metadata": {},
   "outputs": [],
   "source": []
  }
 ],
 "metadata": {
  "kernelspec": {
   "display_name": "Python 3",
   "language": "python",
   "name": "python3"
  },
  "language_info": {
   "codemirror_mode": {
    "name": "ipython",
    "version": 3
   },
   "file_extension": ".py",
   "mimetype": "text/x-python",
   "name": "python",
   "nbconvert_exporter": "python",
   "pygments_lexer": "ipython3",
   "version": "3.7.4"
  }
 },
 "nbformat": 4,
 "nbformat_minor": 4
}
